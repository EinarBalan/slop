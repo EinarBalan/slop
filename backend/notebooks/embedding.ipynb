{
 "cells": [
  {
   "cell_type": "code",
   "execution_count": null,
   "id": "ef58e1ca",
   "metadata": {},
   "outputs": [
    {
     "name": "stdout",
     "output_type": "stream",
     "text": [
      "Summary path: /Users/einar/Developer/Projects/Web/slop/backend/data/generated/experiment_ablation/google/gemma-3-27b-it/personal/summary.json\n",
      "Soft prompt path: /Users/einar/Developer/Projects/Web/slop/backend/data/generated/experiment_ablation/google/gemma-3-27b-it/personal/soft prompt.json\n",
      "Summary posts used: 50\n",
      "Soft prompt posts used: 50\n",
      "{'summary': {'R': 0.778335, 'angular_variance_resultant': 0.221665}, 'soft_prompt': {'R': 0.434592, 'angular_variance_resultant': 0.565408}, 'combined': {'R': 0.527274, 'angular_variance_resultant': 0.472726}}\n"
     ]
    }
   ],
   "source": [
    "# Angular variance resultant for generated posts\n",
    "from pathlib import Path\n",
    "import json\n",
    "from typing import List\n",
    "import math\n",
    "import torch\n",
    "from transformers import AutoTokenizer, AutoModel\n",
    "\n",
    "# Resolve paths relative to this notebook's directory\n",
    "notebooks_dir = Path.cwd()\n",
    "backend_dir = notebooks_dir.parent\n",
    "base = backend_dir / 'data' / 'generated' / 'experiment_ablation' / 'google' / 'gemma-3-27b-it' / 'personal'\n",
    "\n",
    "summary_path = base / 'summary.json'\n",
    "soft_candidates = ['soft prompt.json', 'softprompt.json', 'soft_prompt.json']\n",
    "soft_path = None\n",
    "for name in soft_candidates:\n",
    "    candidate = base / name\n",
    "    if candidate.exists():\n",
    "        soft_path = candidate\n",
    "        break\n",
    "\n",
    "print('Summary path:', summary_path)\n",
    "print('Soft prompt path:', soft_path)\n",
    "\n",
    "assert summary_path.exists(), f\"Missing file: {summary_path}\"\n",
    "assert soft_path and soft_path.exists(), \"Missing soft prompt file (tried: 'soft prompt.json', 'softprompt.json', 'soft_prompt.json')\"\n",
    "\n",
    "\n",
    "def load_posts(path: Path) -> List[dict]:\n",
    "    with path.open('r', encoding='utf-8') as f:\n",
    "        data = json.load(f)\n",
    "    if not isinstance(data, list):\n",
    "        return []\n",
    "    return [p for p in data if isinstance(p, dict)]\n",
    "\n",
    "\n",
    "def extract_texts(posts: List[dict]) -> List[str]:\n",
    "    texts: List[str] = []\n",
    "    for p in posts:  # align with UI cap\n",
    "        title = (p.get('title') or '').strip()\n",
    "        body = (p.get('self_text') or '').strip()\n",
    "        if title and body:\n",
    "            texts.append(f\"{title}\\n\\n{body}\")\n",
    "        else:\n",
    "            texts.append(title or body)\n",
    "    return [t for t in texts if t]\n",
    "\n",
    "\n",
    "@torch.inference_mode()\n",
    "def embed_texts(texts: List[str], model_name: str = 'sentence-transformers/all-MiniLM-L6-v2', batch_size: int = 32) -> torch.Tensor:\n",
    "    tokenizer = AutoTokenizer.from_pretrained(model_name)\n",
    "    model = AutoModel.from_pretrained(model_name)\n",
    "    model.eval()\n",
    "    device = torch.device('cuda' if torch.cuda.is_available() else 'cpu')\n",
    "    model.to(device)\n",
    "\n",
    "    def mean_pool(last_hidden_state: torch.Tensor, attention_mask: torch.Tensor) -> torch.Tensor:\n",
    "        mask = attention_mask.unsqueeze(-1).type_as(last_hidden_state)\n",
    "        summed = torch.sum(last_hidden_state * mask, dim=1)\n",
    "        counts = torch.clamp(mask.sum(dim=1), min=1e-6)\n",
    "        return summed / counts\n",
    "\n",
    "    all_embs: List[torch.Tensor] = []\n",
    "    for i in range(0, len(texts), batch_size):\n",
    "        batch = texts[i:i+batch_size]\n",
    "        enc = tokenizer(batch, padding=True, truncation=True, max_length=256, return_tensors='pt')\n",
    "        enc = {k: v.to(device) for k, v in enc.items()}\n",
    "        out = model(**enc)\n",
    "        pooled = mean_pool(out.last_hidden_state, enc['attention_mask'])\n",
    "        all_embs.append(pooled.cpu())\n",
    "    embs = torch.cat(all_embs, dim=0)\n",
    "    # L2 normalize (unit vectors)\n",
    "    embs = torch.nn.functional.normalize(embs, p=2, dim=1)\n",
    "    return embs\n",
    "\n",
    "\n",
    "def angular_resultant_and_variance(unit_vectors: torch.Tensor) -> tuple[float, float]:\n",
    "    # unit_vectors: [N, D], L2-normalized rows\n",
    "    mean_vec = unit_vectors.mean(dim=0)\n",
    "    R = float(torch.linalg.vector_norm(mean_vec))  # mean resultant length in [0,1]\n",
    "    V = 1.0 - R  # angular variance resultant\n",
    "    return R, V\n",
    "\n",
    "\n",
    "# Load\n",
    "summary_posts = load_posts(summary_path)\n",
    "soft_posts = load_posts(soft_path)\n",
    "\n",
    "summary_texts = extract_texts(summary_posts)\n",
    "soft_texts = extract_texts(soft_posts)\n",
    "\n",
    "print(f\"Summary posts used: {len(summary_texts)}\")\n",
    "print(f\"Soft prompt posts used: {len(soft_texts)}\")\n",
    "\n",
    "# Embed\n",
    "summary_embs = embed_texts(summary_texts)\n",
    "soft_embs = embed_texts(soft_texts)\n",
    "all_embs = torch.cat([summary_embs, soft_embs], dim=0) if len(soft_embs) else summary_embs\n",
    "\n",
    "# Compute metrics\n",
    "R_sum, V_sum = angular_resultant_and_variance(summary_embs)\n",
    "R_soft, V_soft = angular_resultant_and_variance(soft_embs)\n",
    "R_all, V_all = angular_resultant_and_variance(all_embs)\n",
    "\n",
    "print({\n",
    "    'summary': {'R': round(R_sum, 6), 'angular_variance_resultant': round(V_sum, 6)},\n",
    "    'soft_prompt': {'R': round(R_soft, 6), 'angular_variance_resultant': round(V_soft, 6)},\n",
    "    'combined': {'R': round(R_all, 6), 'angular_variance_resultant': round(V_all, 6)},\n",
    "})\n"
   ]
  },
  {
   "cell_type": "code",
   "execution_count": null,
   "id": "fdd230f9",
   "metadata": {},
   "outputs": [],
   "source": [
    "# test\n",
    "\n",
    "from openai import OpenAI\n",
    "import os, dotenv\n",
    "\n",
    "dotenv.load_dotenv()\n",
    "\n",
    "client = OpenAI()\n"
   ]
  },
  {
   "cell_type": "code",
   "execution_count": 9,
   "id": "95d4899b",
   "metadata": {},
   "outputs": [],
   "source": [
    "response = client.embeddings.create(\n",
    "    input=\"title: Is there a way/mod that would dissable military clothing ?\\n self_text: I am looking for a way/mod that would dissable military clothing a for rp so it would feel more authentic.\\n subreddit: projectzomboid<end_of_turn>\",\n",
    "    model=\"text-embedding-3-large\"\n",
    ")\n",
    "\n",
    "embedding1 = response.data[0].embedding\n",
    "\n",
    "response = client.embeddings.create(\n",
    "    input=\"Is anyone else experiencing extreme lag spikes in Warzone? self_text: Ever since the latest patch, I've been getting massive lag spikes every few minutes, even though my ping stays relatively stable. It's making the game nearly unplayable. I've tried restarting my router, verifying game files, and lowering my graphic settings, but nothing seems to fix it. Has anyone else encountered this issue, and if so, have you found a solution?\\n subreddit: Warzone<end_of_turn>\",\n",
    "    model=\"text-embedding-3-large\"\n",
    ")\n",
    "\n",
    "embedding2 = response.data[0].embedding\n",
    "\n",
    "response = client.embeddings.create(\n",
    "    input=\"title: Is it normal for my cat to knead my hair?\\n self_text: My cat loves to climb on my lap and knead, which is cute, but lately she’s been kneading *my hair* instead of a blanket or my clothes. It doesn’t hurt, but it’s…weird. Is this a common behavior? Should I discourage it?\\n subreddit: cats<end_of_turn>\",\n",
    "    model=\"text-embedding-3-large\"\n",
    ")\n",
    "\n",
    "embedding3 = response.data[0].embedding\n",
    "\n",
    "response = client.embeddings.create(\n",
    "    input=\"title: Dog keeps stealing socks\\n self_text: My golden retriever loves to steal socks, and then hides them all over the house. I’ve tried redirecting with toys, but he’s obsessed with socks. Any advice on how to stop this behavior?\\n subreddit: dogs<end_of_turn>\",\n",
    "    model=\"text-embedding-3-large\"\n",
    ")\n",
    "\n",
    "embedding4 = response.data[0].embedding\n"
   ]
  },
  {
   "cell_type": "code",
   "execution_count": 5,
   "id": "480cfdd2",
   "metadata": {},
   "outputs": [],
   "source": [
    "response = client.embeddings.create(\n",
    "    input=\"title: My partner keeps forgetting to reimburse me for shared expenses\\n self_text: Okay, so we’ve been together 2 years and live together. We don’t have joint finances – mostly because we both had messy situations before meeting and are hesitant to fully merge everything. But we *do* split bills pretty evenly. The problem is, I often end up fronting costs for things like groceries, household supplies, or even date nights, with the understanding he’ll Venmo me his half. And…he just doesn't. Not consistently, anyway. He’ll say he “forgot,” or that money is tight (even though he just bought a new video game). I've brought it up multiple times, trying to be calm and rational (\\\"Hey, could you send over $40 for groceries?\\\"), but it always feels like pulling teeth. Last week I covered almost all of our gas for a road trip and still haven’t seen a dime. It’s not huge amounts individually, but it adds up! And honestly, it feels disrespectful, like my time and effort aren't valued. Is it ridiculous to feel this way? Am I supposed to just constantly remind him? I'm starting to resent having to ask at all. AITA for expecting him to follow through when we agree on splitting costs? Any advice on how to handle this without blowing up at him?\\n subreddit: relationships<end_of_turn>\",\n",
    "    model=\"text-embedding-3-large\"\n",
    ")\n",
    "\n",
    "embedding5 = response.data[0].embedding\n",
    "response  = client.embeddings.create(\n",
    "    input=\" title: My (32F) partner (35M) keeps \\\"forgetting\\\" to reimburse me for shared expenses - am I being unreasonable to be frustrated?\\n self_text: Okay, so we’ve been together 3 years, living together for 1.5. We don’t have joint finances – both very independent people which was great at first. But lately, it feels like I’m constantly fronting costs for things *we* both benefit from (groceries, utilities, date nights, even pet supplies). He always says he’ll Venmo me, genuinely apologizes for forgetting, then…doesn’t. Or remembers weeks later after I’ve brought it up again. It’s not huge amounts each time ($20-$50 usually), but it adds up! And honestly, it feels disrespectful now. Like my time & money aren't valued. I’ve tried gently reminding him, then more directly asking, and even suggesting we alternate who pays for what each week. Nothing sticks. AITA for getting increasingly annoyed by this? Is there a way to address this without starting a massive fight? I just want a fair split and some acknowledgement that I’m contributing equally.\\n subreddit: relationships<end_of_turn>\",\n",
    "    model=\"text-embedding-3-large\"\n",
    ")\n",
    "\n",
    "embedding6 = response.data[0].embedding\n",
    "\n"
   ]
  },
  {
   "cell_type": "code",
   "execution_count": null,
   "id": "0cfa61ee",
   "metadata": {},
   "outputs": [
    {
     "name": "stdout",
     "output_type": "stream",
     "text": [
      "0.9295794081681001\n"
     ]
    }
   ],
   "source": [
    "import numpy as np\n",
    "\n",
    "# calculate cosine similarity between embedding1 and embedding2\n",
    "# cosine_similarity = np.dot(embedding1, embedding2) / (np.linalg.norm(embedding1) * np.linalg.norm(embedding2))\n",
    "# print(cosine_similarity)\n",
    "\n",
    "# # calculate cosine similarity between embedding1 and embedding3\n",
    "# cosine_similarity = np.dot(embedding1, embedding3) / (np.linalg.norm(embedding1) * np.linalg.norm(embedding3))\n",
    "# print(cosine_similarity)\n",
    "\n",
    "# # calculate cosine similarity between embedding3 and embedding4\n",
    "# cosine_similarity = np.dot(embedding3, embedding4) / (np.linalg.norm(embedding3) * np.linalg.norm(embedding4))\n",
    "# print(cosine_similarity)\n",
    "\n",
    "# calculate cosine similarity between embedding5 and embedding6\n",
    "cosine_similarity = np.dot(embedding5, embedding6) / (np.linalg.norm(embedding5) * np.linalg.norm(embedding6))\n",
    "print(cosine_similarity)\n",
    "\n",
    "\n",
    "\n",
    "\n"
   ]
  },
  {
   "cell_type": "code",
   "execution_count": null,
   "id": "4b4ae34f",
   "metadata": {},
   "outputs": [
    {
     "name": "stdout",
     "output_type": "stream",
     "text": [
      "0.34554694215198034\n"
     ]
    }
   ],
   "source": [
    "# Calculate variance across all embeddings\n",
    "embeddings = [embedding1, embedding2, embedding3, embedding4, embedding5, embedding6]\n",
    "\n",
    "def angular_variance_resultant(X):\n",
    "    \"\"\"\n",
    "    1 - resultant length for L2-normalized embeddings.\n",
    "    \"\"\"\n",
    "    X = np.asarray(X, dtype=float)\n",
    "    Y = X / np.clip(np.linalg.norm(X, axis=1, keepdims=True), 1e-12, None)\n",
    "    R = np.linalg.norm(Y.mean(axis=0))\n",
    "    return 1.0 - R\n",
    "\n",
    "variance = angular_variance_resultant(embeddings)\n",
    "print(variance)\n"
   ]
  },
  {
   "cell_type": "code",
   "execution_count": null,
   "id": "6e915db1",
   "metadata": {},
   "outputs": [],
   "source": [
    "%pip install umap-learn hdbscan matplotlib"
   ]
  },
  {
   "cell_type": "code",
   "execution_count": 25,
   "id": "ca8dc6a8",
   "metadata": {},
   "outputs": [
    {
     "name": "stderr",
     "output_type": "stream",
     "text": [
      "/Users/einar/miniconda3/envs/slop/lib/python3.13/site-packages/umap/umap_.py:1952: UserWarning: n_jobs value 1 overridden to 1 by setting random_state. Use no seed for parallelism.\n",
      "  warn(\n",
      "/Users/einar/miniconda3/envs/slop/lib/python3.13/site-packages/sklearn/utils/deprecation.py:132: FutureWarning: 'force_all_finite' was renamed to 'ensure_all_finite' in 1.6 and will be removed in 1.8.\n",
      "  warnings.warn(\n",
      "/Users/einar/miniconda3/envs/slop/lib/python3.13/site-packages/sklearn/utils/deprecation.py:132: FutureWarning: 'force_all_finite' was renamed to 'ensure_all_finite' in 1.6 and will be removed in 1.8.\n",
      "  warnings.warn(\n"
     ]
    },
    {
     "data": {
      "image/png": "[encoded data removed]",
      "text/plain": [
       "<Figure size 640x480 with 1 Axes>"
      ]
     },
     "metadata": {},
     "output_type": "display_data"
    },
    {
     "name": "stdout",
     "output_type": "stream",
     "text": [
      "0\n"
     ]
    },
    {
     "name": "stderr",
     "output_type": "stream",
     "text": [
      "/Users/einar/miniconda3/envs/slop/lib/python3.13/site-packages/umap/umap_.py:1952: UserWarning: n_jobs value 1 overridden to 1 by setting random_state. Use no seed for parallelism.\n",
      "  warn(\n",
      "/Users/einar/miniconda3/envs/slop/lib/python3.13/site-packages/sklearn/utils/deprecation.py:132: FutureWarning: 'force_all_finite' was renamed to 'ensure_all_finite' in 1.6 and will be removed in 1.8.\n",
      "  warnings.warn(\n",
      "/Users/einar/miniconda3/envs/slop/lib/python3.13/site-packages/sklearn/utils/deprecation.py:132: FutureWarning: 'force_all_finite' was renamed to 'ensure_all_finite' in 1.6 and will be removed in 1.8.\n",
      "  warnings.warn(\n"
     ]
    },
    {
     "data": {
      "image/png": "[encoded data removed]",
      "text/plain": [
       "<Figure size 640x480 with 1 Axes>"
      ]
     },
     "metadata": {},
     "output_type": "display_data"
    },
    {
     "name": "stdout",
     "output_type": "stream",
     "text": [
      "3\n"
     ]
    }
   ],
   "source": [
    "import numpy as np\n",
    "import umap.umap_ as umap\n",
    "import hdbscan\n",
    "import matplotlib.pyplot as plt\n",
    "\n",
    "def plot_embeddings(embeddings):        \n",
    "    # X = (n, d) embeddings, already normalized\n",
    "    reducer = umap.UMAP(n_neighbors=15, min_dist=0.1, random_state=42)\n",
    "    X_2d = reducer.fit_transform(embeddings)\n",
    "\n",
    "    # Cluster in high-d space\n",
    "    clusterer = hdbscan.HDBSCAN()\n",
    "    labels = clusterer.fit_predict(embeddings)\n",
    "\n",
    "    # Plot\n",
    "    plt.scatter(X_2d[:,0], X_2d[:,1], c=labels, cmap=\"tab20\", s=8)\n",
    "    # plt.colorbar()\n",
    "    plt.show()\n",
    "    \n",
    "    # Return number of clusters (excluding noise points labeled as -1)\n",
    "    n_clusters = len(set(labels)) - (1 if -1 in labels else 0)\n",
    "    return n_clusters\n",
    "    \n",
    "print(plot_embeddings(soft_embs))   \n",
    "print(plot_embeddings(summary_embs))\n"
   ]
  },
  {
   "cell_type": "markdown",
   "id": "c884b9cb",
   "metadata": {},
   "source": [
    "## Load judgements"
   ]
  },
  {
   "cell_type": "code",
   "execution_count": null,
   "id": "670b1772",
   "metadata": {},
   "outputs": [],
   "source": [
    "def load_posts(path: Path) -> List[dict]:\n",
    "    with path.open('r', encoding='utf-8') as f:\n",
    "        data = json.load(f)\n",
    "    if not isinstance(data, list):\n",
    "        return []\n",
    "    return [p for p in data if isinstance(p, dict)]\n",
    "\n",
    "\n",
    "def extract_texts(posts: List[dict]) -> List[str]:\n",
    "    texts: List[str] = []\n",
    "    for p in posts:  # align with UI cap\n",
    "        title = (p.get('title') or '').strip()\n",
    "        body = (p.get('self_text') or '').strip()\n",
    "        if title and body:\n",
    "            texts.append(f\"{title}\\n\\n{body}\")\n",
    "        else:\n",
    "            texts.append(title or body)\n",
    "    return [t for t in texts if t]"
   ]
  },
  {
   "cell_type": "code",
   "execution_count": null,
   "id": "7d66e2de",
   "metadata": {},
   "outputs": [],
   "source": [
    "# clean up json to add model, experiment, dataset fields based on file path"
   ]
  },
  {
   "cell_type": "markdown",
   "id": "5df97cac",
   "metadata": {},
   "source": [
    "## Calculate variances"
   ]
  },
  {
   "cell_type": "code",
   "execution_count": null,
   "id": "5e9a6660",
   "metadata": {},
   "outputs": [],
   "source": []
  },
  {
   "cell_type": "markdown",
   "id": "223415c3",
   "metadata": {},
   "source": [
    "## Clustering"
   ]
  },
  {
   "cell_type": "code",
   "execution_count": null,
   "id": "ff9d1133",
   "metadata": {},
   "outputs": [],
   "source": []
  }
 ],
 "metadata": {
  "kernelspec": {
   "display_name": "slop",
   "language": "python",
   "name": "python3"
  },
  "language_info": {
   "codemirror_mode": {
    "name": "ipython",
    "version": 3
   },
   "file_extension": ".py",
   "mimetype": "text/x-python",
   "name": "python",
   "nbconvert_exporter": "python",
   "pygments_lexer": "ipython3",
   "version": "3.13.2"
  }
 },
 "nbformat": 4,
 "nbformat_minor": 5
}
