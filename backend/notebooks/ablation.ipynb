{
 "cells": [
  {
   "cell_type": "markdown",
   "id": "dc8a0981",
   "metadata": {},
   "source": [
    "# Ablation Study Results\n",
    "\n",
    "Axes\n",
    "- model (gemma-3-4b-it, gemma-3-27b-it, gpt-5)\n",
    "- manual vs judge\n",
    "- experiment (base, subreddit, summary, liked posts list, fine tuned, soft prompt (100), soft prompt(500))\n",
    "- dataset (circlejerk, jokes + puns, gaming, animals, sports, etc.)\n",
    "\n",
    "Dataset selection:\n",
    "- small\n",
    "    - okbuddy\n",
    "    - boomerhumor\n",
    "    - animals\n",
    "    - creative\n",
    "    - food\n",
    "    - religion\n",
    "- medium\n",
    "    - finance\n",
    "    - school\n",
    "    - pop\n",
    "- varied but focused: \n",
    "    - nerdy\n",
    "    - personal\n",
    "    - ucla\n",
    "    - tech\n",
    "    - school\n",
    "    - ucla\n",
    "- ultra specific: \n",
    "    - minecraft\n",
    "    - nba\n",
    "- format specific:\n",
    "    - copypasta,\n",
    "    - no stupid questions\n",
    "    - am i the asshole\n",
    "- 3 test (unalike)\n",
    "    - pop\n",
    "    - religion\n",
    "    - tech\n",
    "- 3 test (alike)\n",
    "    - tech\n",
    "    - nerdy\n",
    "    - finance\n",
    "- college student\n",
    "    - ucla\n",
    "    - nerdy\n",
    "    - okbuddy\n",
    "    - copypasta\n",
    "    - pop\n",
    "    - food\n",
    "    - animals\n",
    "- new mother\n",
    "    - pregnancy\n",
    "    - parenting\n",
    "    - baby\n",
    "    - food\n",
    "    - am i the asshole\n",
    "    - pop\n",
    "    - boomerhumor\n",
    "- creative gen alpha\n",
    "    - minecraft\n",
    "    - creative\n",
    "    - food\n",
    "    - school\n",
    "    - nba\n",
    "\n",
    "### gemma-3-4b-it\n",
    "|                   | Self Defined | Summary | Like History | Fine Tune | Soft Prompt (100) | Soft Prompt (500) |\n",
    "|-------------------|-----------|---------|--------------|-----------|-------------------|-------------------|\n",
    "| Circlejerk        |           |         |              |           |                   |                   |\n",
    "| Jokes             |           |         |              |           |                   |                   |\n",
    "| Gaming            |           |         |              |           |                   |                   |\n",
    "| Animals           |           |         |              |           |                   |                   |\n",
    "| Personal          |           |         |              |           |                   |                   |\n",
    "| Personal + Gaming |           |         |              |           |                   |                   |\n",
    "\n",
    "### gemma-3-27b-it\n",
    "|                   | Self Defined | Summary | Like History | Fine Tune | Soft Prompt (100) | Soft Prompt (500) |\n",
    "|-------------------|-----------|---------|--------------|-----------|-------------------|-------------------|\n",
    "| Circlejerk        |           |         |              |           |                   |                   |\n",
    "| Jokes             |           |         |              |           |                   |                   |\n",
    "| Gaming            |           |         |              |           |                   |                   |\n",
    "| Animals           |           |         |              |           |                   |                   |\n",
    "| Personal          |           |         |              |           |                   |                   |\n",
    "| Personal + Gaming |           |         |              |           |                   |                   |\n",
    "\n",
    "### gpt-5\n",
    "|                   | Self Defined | Summary | Like History | Fine Tune | Soft Prompt (100) | Soft Prompt (500) |\n",
    "|-------------------|-----------|---------|--------------|-----------|-------------------|-------------------|\n",
    "| Circlejerk        |           |         |              |           |                   |                   |\n",
    "| Jokes             |           |         |              |           |                   |                   |\n",
    "| Gaming            |           |         |              |           |                   |                   |\n",
    "| Animals           |           |         |              |           |                   |                   |\n",
    "| Personal          |           |         |              |           |                   |                   |\n",
    "| Personal + Gaming |           |         |              |           |                   |                   |\n"
   ]
  },
  {
   "cell_type": "markdown",
   "id": "cfb2e1e5",
   "metadata": {},
   "source": [
    "## Notes during testing\n",
    "- very good alignment on tech (92)\n",
    "- very good alignment on personal (180)\n",
    "- very good alignment on nerdy (204)\n",
    "- very good alignmenton school (93)\n",
    "- bad alignment on interesting (35)\n",
    "- bad alignment on finance (57)\n",
    "- decent alignment on interesting + finance (on the finance side) (92)\n",
    "- for hyper targeted like minecraft, even 10 examples is good enough for alignment, but post topic variety goes down. ~100 is best to balance quality and training time\n",
    "- 50/50 minecraft + ucla works REALLY well\n",
    "\n",
    "it seems like ~100 samples is good enough for gemma 4b"
   ]
  },
  {
   "cell_type": "code",
   "execution_count": 19,
   "id": "cae67d34",
   "metadata": {},
   "outputs": [
    {
     "name": "stderr",
     "output_type": "stream",
     "text": [
      "huggingface/tokenizers: The current process just got forked, after parallelism has already been used. Disabling parallelism to avoid deadlocks...\n",
      "To disable this warning, you can either:\n",
      "\t- Avoid using `tokenizers` before the fork if possible\n",
      "\t- Explicitly set the environment variable TOKENIZERS_PARALLELISM=(true | false)\n"
     ]
    },
    {
     "name": "stdout",
     "output_type": "stream",
     "text": [
      "\u001b[33mWARNING: Running pip as the 'root' user can result in broken permissions and conflicting behaviour with the system package manager, possibly rendering your system unusable. It is recommended to use a virtual environment instead: https://pip.pypa.io/warnings/venv. Use the --root-user-action option if you know what you are doing and want to suppress this warning.\u001b[0m\u001b[33m\n",
      "\u001b[0m\n",
      "\u001b[1m[\u001b[0m\u001b[34;49mnotice\u001b[0m\u001b[1;39;49m]\u001b[0m\u001b[39;49m A new release of pip is available: \u001b[0m\u001b[31;49m25.0.1\u001b[0m\u001b[39;49m -> \u001b[0m\u001b[32;49m25.2\u001b[0m\n",
      "\u001b[1m[\u001b[0m\u001b[34;49mnotice\u001b[0m\u001b[1;39;49m]\u001b[0m\u001b[39;49m To update, run: \u001b[0m\u001b[32;49mpython -m pip install --upgrade pip\u001b[0m\n",
      "Note: you may need to restart the kernel to use updated packages.\n"
     ]
    }
   ],
   "source": [
    "%pip install -qU transformers peft accelerate datasets trl einops sentencepiece bitsandbytes jinja2>=3.1.0 dotenv"
   ]
  },
  {
   "cell_type": "code",
   "execution_count": 20,
   "id": "baf9bfc4",
   "metadata": {},
   "outputs": [],
   "source": [
    "MODELS = [\n",
    "    \"google/gemma-3-4b-it\",\n",
    "    \"google/gemma-3-27b-it\",\n",
    "    \"gpt-5\"\n",
    "]\n",
    "\n",
    "# Load dataset categories from JSON file\n",
    "DATASETS1 = [\n",
    "    {\n",
    "    \"minecraft\": 1,  \n",
    "    },\n",
    "    {\n",
    "    \"ucla\": 1,  \n",
    "    },\n",
    "    {\n",
    "    \"nostupidquestions\": 1,  \n",
    "    },\n",
    "    {\n",
    "    \"copypasta\": 1,  \n",
    "    },\n",
    "]\n",
    "\n",
    "DATASETS2 = [\n",
    "    {\n",
    "    \"nerdy\": 1,  \n",
    "    },\n",
    "    {\n",
    "    \"personal\": 1,  \n",
    "    },\n",
    "    { # unalike\n",
    "    \"pop\": 1,  \n",
    "    \"religion\": 1,\n",
    "    \"tech\": 1\n",
    "    },\n",
    "    { # alike\n",
    "        \"tech\": 1,\n",
    "        \"nerdy\": 1,\n",
    "        \"finance\": 1,\n",
    "    },\n",
    "    { # format specific\n",
    "        \"copypasta\": 1,\n",
    "        \"nostupidquestions\": 1,\n",
    "        \"amitheasshole\": 1,\n",
    "    },\n",
    "    { # college student\n",
    "        \"ucla\": 1,\n",
    "        \"nerdy\": 1,\n",
    "        \"okbuddy\": 1,\n",
    "        \"copypasta\": 1,\n",
    "        \"pop\": 1,\n",
    "        \"food\": 1,\n",
    "        \"animals\": 1,\n",
    "    },\n",
    "    { # new mother\n",
    "        \"pregnancy\": 1,\n",
    "        \"parenting\": 1,\n",
    "        \"baby\": 1,\n",
    "        \"food\": 1,\n",
    "        \"amitheasshole\": 1,\n",
    "        \"pop\": 1,\n",
    "        \"boomerhumor\": 1,\n",
    "    },\n",
    "]\n",
    "\n",
    "TRAIN_SIZES = [\n",
    "    10, 20, 50, 100, 250, 500, 1000, 2000\n",
    "]\n",
    "\n",
    "EXPERIMENTS = [\n",
    "    \"self defined\",\n",
    "    \"summary\",\n",
    "    \"like history\",\n",
    "    \"fine tune\",\n",
    "    \"soft prompt\",\n",
    "]\n",
    "\n",
    "PROMPT_TOKENS = 64\n",
    "MICRO_BATCH_SIZE = 1\n",
    "GRAD_ACCUM_STEPS = 1\n",
    "LEARNING_RATE = 0.2\n",
    "NUM_TRAIN_STEPS = 1000  \n",
    "MAX_SEQ_LEN = 2048\n",
    "\n",
    "MODEL_OUTPUT_DIR = \"models\"\n",
    "GENERATED_OUTPUT_DIR = \"generated\""
   ]
  },
  {
   "cell_type": "markdown",
   "id": "94dabf1f",
   "metadata": {},
   "source": [
    "## Dataset Loading"
   ]
  },
  {
   "cell_type": "code",
   "execution_count": 38,
   "id": "c1f1bc1a",
   "metadata": {},
   "outputs": [],
   "source": [
    "# write a generator to lazily load dataset from json file based on dataset argument\n",
    "\n",
    "\"\"\"\n",
    "choice for sample ablation:\n",
    "    - make sure to increase max number of training steps as you go\n",
    "    - do some testing beforehand for 1000, 5000 to find good number of steps\n",
    "    - 10, 20, 50, 100, 250, 500, 1000, 5000\n",
    "    - minecraft\n",
    "    - ucla\n",
    "    - nostupidquestions   \n",
    "    - copypasta\n",
    "    - 4 * 8 = 32 soft prompts\n",
    "    \n",
    "choice (for 100 samples, or optimal from above):\n",
    "    - nerdy\n",
    "    - personal \n",
    "    - alike 3\n",
    "    - unalike 3\n",
    "    - format specific\n",
    "    - college student \n",
    "    - new mother \n",
    "    - creative gen alpha \n",
    "\"\"\"\n",
    "\n",
    "from typing import List, Dict\n",
    "import json\n",
    "import re\n",
    "import random, math\n",
    "\n",
    "def load_datasets_proportional(datasets_dict: Dict[str, float], total_posts: int, prompt: str) -> List[dict]:\n",
    "    \"\"\"\n",
    "    Load datasets with proportional sampling.\n",
    "    \n",
    "    Args:\n",
    "        datasets_dict: Dictionary mapping dataset names to their proportions, e.g. {\"minecraft\": 1, \"ucla\": 1} will load half minecraft, half ucla\n",
    "        total_posts: Total number of posts desired across all datasets\n",
    "    \n",
    "    Returns:\n",
    "        List of examples in the format: {\"instruction\": PROMPT, \"output\": post}\n",
    "    \"\"\"\n",
    "    \n",
    "    examples: List[dict] = []\n",
    "    \n",
    "    # Get total of all values in datasets_dict\n",
    "    total_proportion = sum(datasets_dict.values())\n",
    "    for dataset_name, proportion in datasets_dict.items():\n",
    "        # Calculate number of posts for this dataset\n",
    "        factor = proportion / total_proportion\n",
    "        target_count = math.ceil(total_posts * factor)\n",
    "        print(f\"Loading {target_count} posts from {dataset_name} dataset ({factor*100:.1f}%)\")\n",
    "        \n",
    "        # Load sampled Reddit posts from JSON created by sample-posts.py\n",
    "        # Each item is a dict with keys: title, subreddit, self_text\n",
    "        try:\n",
    "            with open(f\"../../datasets/{dataset_name}.json\", \"r\", encoding=\"utf-8\") as f:\n",
    "                reddit_posts: List[dict] = json.load(f)\n",
    "        except FileNotFoundError:\n",
    "            print(f\"Warning: Could not find dataset file for {dataset_name}\")\n",
    "            continue\n",
    "        \n",
    "        # Filter valid posts (must have self_text and no image_url)\n",
    "        valid_posts = []\n",
    "        for p in reddit_posts:\n",
    "            title = p.get(\"title\", \"\")\n",
    "            self_text = p.get(\"self_text\", \"\")\n",
    "            image_url = p.get(\"image_url\", \"\")\n",
    "            \n",
    "            if self_text and not image_url:\n",
    "                subreddit = p.get(\"subreddit\", \"\")\n",
    "                subreddit = re.sub(r\"\\s*(/)?r/\", \"r/\", subreddit)\n",
    "                post = f\"title: {title}\\nself_text: {self_text}\\nsubreddit: {subreddit}\"\n",
    "                valid_posts.append({\"instruction\": prompt, \"output\": post})\n",
    "        \n",
    "        print(f\"Found {len(valid_posts)} valid posts in {dataset_name}\")\n",
    "        \n",
    "        # Sample the target number of posts\n",
    "        if len(valid_posts) >= target_count:\n",
    "            # Randomly sample target_count posts\n",
    "            sampled_posts = random.sample(valid_posts, target_count)\n",
    "        else:\n",
    "            # Use all available posts if we don't have enough\n",
    "            print(f\"Warning: Only {len(valid_posts)} posts available, using all\")\n",
    "            sampled_posts = valid_posts\n",
    "        \n",
    "        examples.extend(sampled_posts)\n",
    "    \n",
    "    # Shuffle the final dataset to mix posts from different datasets\n",
    "    random.shuffle(examples)\n",
    "    \n",
    "    print(f\"Loaded dataset {datasets_dict} with {total_posts} posts\")\n",
    "    return examples\n",
    "\n",
    "# Example usage - modify these values as needed\n",
    "# datasets_dict = {\n",
    "#     \"ucla\": 0.5,  # 100% minecraft posts\n",
    "#     \"minecraft\": 0.5,  \n",
    "# }\n",
    "# total_posts = 100  # Total number of posts desired\n",
    "\n",
    "# examples = load_datasets_proportional(datasets_dict, total_posts, \"prompt\")\n",
    "\n",
    "# print(f\"Total number of examples loaded: {len(examples)}\")\n",
    "# if examples:\n",
    "#     print(\"Sample example:\")\n",
    "#     print(examples[0])\n"
   ]
  },
  {
   "cell_type": "code",
   "execution_count": 22,
   "id": "e5b9c0e7",
   "metadata": {},
   "outputs": [],
   "source": [
    "# Preprocess instruction/output dataset\n",
    "from datasets import Dataset\n",
    "\n",
    "def preprocess_dataset(examples, tokenizer):\n",
    "    # Build HF dataset from examples [{\"instruction\", \"output\"}]\n",
    "    dataset = Dataset.from_list(examples)\n",
    "\n",
    "    # Tokenize instruction with chat template, and supervise only the output tokens\n",
    "    def tokenize_io(sample):\n",
    "        # Build chat prompt prefix for the user instruction\n",
    "        messages = [{\"role\": \"user\", \"content\": sample[\"instruction\"]}]\n",
    "        prompt_text = tokenizer.apply_chat_template(\n",
    "            messages,\n",
    "            tokenize=False,\n",
    "            add_generation_prompt=True,\n",
    "        )\n",
    "\n",
    "        prompt_ids = tokenizer(prompt_text, add_special_tokens=False)[\"input_ids\"]\n",
    "        output_ids = tokenizer(sample[\"output\"], add_special_tokens=False)[\"input_ids\"]\n",
    "        eos_id = tokenizer.eos_token_id\n",
    "\n",
    "        input_ids = prompt_ids + output_ids + ([eos_id] if eos_id is not None else [])\n",
    "        labels = ([-100] * len(prompt_ids)) + output_ids + ([eos_id] if eos_id is not None else [])\n",
    "        attention_mask = [1] * len(input_ids)\n",
    "\n",
    "        # Truncate from the left if too long, keeping alignment between inputs and labels\n",
    "        if len(input_ids) > MAX_SEQ_LEN:\n",
    "            input_ids = input_ids[-MAX_SEQ_LEN:]\n",
    "            labels = labels[-MAX_SEQ_LEN:]\n",
    "            attention_mask = attention_mask[-MAX_SEQ_LEN:]\n",
    "\n",
    "        return {\n",
    "            \"input_ids\": input_ids,\n",
    "            \"attention_mask\": attention_mask,\n",
    "            \"labels\": labels,\n",
    "        }\n",
    "\n",
    "    train_ds = dataset.map(tokenize_io, remove_columns=dataset.column_names)\n",
    "    print(\"Preprocessed dataset...\")\n",
    "    return train_ds\n"
   ]
  },
  {
   "cell_type": "markdown",
   "id": "30a47b18",
   "metadata": {},
   "source": [
    "## Model Loading"
   ]
  },
  {
   "cell_type": "code",
   "execution_count": 23,
   "id": "ef940c71",
   "metadata": {},
   "outputs": [],
   "source": [
    "from huggingface_hub import login as huggingface_login\n",
    "import torch\n",
    "from transformers import AutoTokenizer, AutoModelForCausalLM\n",
    "import dotenv, os\n",
    "from peft import PeftModel, PromptTuningConfig, PromptTuningInit, get_peft_model, TaskType\n",
    "\n",
    "def login():\n",
    "    dotenv.load_dotenv()\n",
    "    huggingface_login(token=os.getenv(\"HUGGING_FACE_HUB_TOKEN\"))\n",
    "\n",
    "def load_model(model_name: str):\n",
    "    bf16 = torch.cuda.is_available() and torch.cuda.get_device_capability(0)[0] >= 8\n",
    "    tokenizer = AutoTokenizer.from_pretrained(model_name, use_fast=True)\n",
    "    if tokenizer.pad_token is None:\n",
    "        tokenizer.pad_token = tokenizer.eos_token\n",
    "\n",
    "    model = AutoModelForCausalLM.from_pretrained(\n",
    "        model_name,\n",
    "        torch_dtype=torch.bfloat16 if bf16 else torch.float16,\n",
    "        device_map=\"auto\",\n",
    "        low_cpu_mem_usage=True,\n",
    "    )\n",
    "    \n",
    "    print(f\"Loaded {model_name} model and tokenizer\")\n",
    "    return model, tokenizer\n",
    "\n",
    "def init_peft_model(model, model_name: str):\n",
    "    config = PromptTuningConfig(\n",
    "        task_type=TaskType.CAUSAL_LM,\n",
    "        prompt_tuning_init=PromptTuningInit.TEXT,\n",
    "        num_virtual_tokens=PROMPT_TOKENS,\n",
    "        prompt_tuning_init_text=\"Generate a reddit post.\",\n",
    "        tokenizer_name_or_path=model_name,\n",
    "    )\n",
    "    return get_peft_model(model, config)\n",
    "\n",
    "def apply_peft_adapter(base_model, adapter_name: str):\n",
    "    model = PeftModel.from_pretrained(base_model, adapter_name)\n",
    "    model.eval()\n",
    "    return model\n",
    "\n"
   ]
  },
  {
   "cell_type": "markdown",
   "id": "79ad76af",
   "metadata": {},
   "source": [
    "## Soft Prompt Training"
   ]
  },
  {
   "cell_type": "code",
   "execution_count": 24,
   "id": "59fb50db",
   "metadata": {},
   "outputs": [],
   "source": [
    "# iterate through models, datasets, and dataset sizes to create soft prompt adapters for each \n",
    "# 4 * 8 = 32 soft prompts\n",
    "# 2 * 8 = 16 adapters\n",
    "# take note of training time, adapter size\n",
    "\n",
    "import math\n",
    "from torch.utils.data import DataLoader\n",
    "from transformers import get_linear_schedule_with_warmup\n",
    "from torch.optim import AdamW\n",
    "\n",
    "def train_soft_prompt(model, tokenizer, train_ds, train_steps, output_dir):\n",
    "    def collate_fn(features):\n",
    "        pad_id = tokenizer.pad_token_id\n",
    "        batch_size = len(features)\n",
    "        seq_lens = [len(f[\"input_ids\"]) for f in features]\n",
    "        max_len = max(seq_lens)\n",
    "\n",
    "        input_ids = torch.full((batch_size, max_len), pad_id, dtype=torch.long)\n",
    "        attention_mask = torch.zeros((batch_size, max_len), dtype=torch.long)\n",
    "        labels = torch.full((batch_size, max_len), -100, dtype=torch.long)\n",
    "\n",
    "        for i, f in enumerate(features):\n",
    "            ids = torch.tensor(f[\"input_ids\"], dtype=torch.long)\n",
    "            attn = torch.tensor(f[\"attention_mask\"], dtype=torch.long)\n",
    "            labs = torch.tensor(f[\"labels\"], dtype=torch.long)\n",
    "            L = ids.size(0)\n",
    "            input_ids[i, :L] = ids\n",
    "            attention_mask[i, :L] = attn\n",
    "            labels[i, :L] = labs\n",
    "\n",
    "        return {\"input_ids\": input_ids, \"attention_mask\": attention_mask, \"labels\": labels}\n",
    "\n",
    "\n",
    "    train_loader = DataLoader(\n",
    "        train_ds,\n",
    "        batch_size=MICRO_BATCH_SIZE,\n",
    "        shuffle=True,\n",
    "        collate_fn=collate_fn,\n",
    "    )\n",
    "\n",
    "    optimizer = AdamW(model.parameters(), lr=LEARNING_RATE)\n",
    "    # Total optimizer steps we intend to take\n",
    "    total_optim_steps = train_steps\n",
    "    num_warmup_steps = max(1, int(0.1 * total_optim_steps))\n",
    "    scheduler = get_linear_schedule_with_warmup(\n",
    "        optimizer,\n",
    "        num_warmup_steps=num_warmup_steps,\n",
    "        num_training_steps=total_optim_steps,\n",
    "    )\n",
    "\n",
    "    model.train()\n",
    "\n",
    "\n",
    "    device = torch.device(\"cuda:0\" if torch.cuda.is_available() else \"cpu\")\n",
    "    model = model.to(device)\n",
    "    model_device = device\n",
    "\n",
    "    print(f\"Training on device: {device}\")\n",
    "\n",
    "    optimizer.zero_grad()\n",
    "    optim_step = 0\n",
    "    accumulated = 0\n",
    "    running_loss = 0.0\n",
    "    for epoch in range(10):  # repeat over dataset until reaching desired steps\n",
    "        for batch in train_loader:\n",
    "            batch = {k: v.to(model_device) for k, v in batch.items()}\n",
    "            outputs = model(**batch)\n",
    "            loss = outputs.loss\n",
    "            (loss / GRAD_ACCUM_STEPS).backward()\n",
    "            running_loss += loss.item()\n",
    "            accumulated += 1\n",
    "            if accumulated % GRAD_ACCUM_STEPS == 0:\n",
    "                optimizer.step()\n",
    "                scheduler.step()\n",
    "                optimizer.zero_grad()\n",
    "                if optim_step % 10 == 0:\n",
    "                    print(f\"step {optim_step} loss {running_loss / GRAD_ACCUM_STEPS:.4f}\")\n",
    "                running_loss = 0.0\n",
    "                optim_step += 1\n",
    "                if optim_step >= total_optim_steps:\n",
    "                    break\n",
    "        if optim_step >= total_optim_steps:\n",
    "            break\n",
    "\n",
    "    model.save_pretrained(output_dir)\n",
    "    print(\"Saved prompt adapter to:\", output_dir)"
   ]
  },
  {
   "cell_type": "markdown",
   "id": "656d588b",
   "metadata": {},
   "source": [
    "## Fine Tuning"
   ]
  },
  {
   "cell_type": "code",
   "execution_count": 25,
   "id": "8bb228af",
   "metadata": {},
   "outputs": [],
   "source": [
    "# iterate through models, datasets \n",
    "# 2 * 8 = 16 LORA fine tuned models\n",
    "# take note of training time, model size\n",
    "\n",
    "def train_fine_tune_lora(model, tokenizer, train_ds, train_steps, output_dir):\n",
    "    pass\n"
   ]
  },
  {
   "cell_type": "markdown",
   "id": "eb66d8d1",
   "metadata": {},
   "source": [
    "## Generate posts"
   ]
  },
  {
   "cell_type": "code",
   "execution_count": 26,
   "id": "b2d20ea7",
   "metadata": {},
   "outputs": [],
   "source": [
    "# 100 posts per cell \n",
    "# look into inference parallelism\n",
    "# iterate through models, experiments, datasets\n",
    "# write each generated post to json file indicating model, experiment, dataset\n",
    "\n",
    "def generate_post(prompt, model, tokenizer):\n",
    "\n",
    "    messages = [\n",
    "        {\"role\": \"user\", \"content\": prompt},\n",
    "    ]\n",
    "\n",
    "    inputs = tokenizer.apply_chat_template(\n",
    "        messages,\n",
    "        add_generation_prompt=True,\n",
    "        tokenize=True,\n",
    "        return_tensors=\"pt\",\n",
    "        return_dict=True,\n",
    "    ).to(model.device)\n",
    "\n",
    "    with torch.no_grad():\n",
    "        outputs = model.generate(\n",
    "            **inputs,\n",
    "            max_new_tokens=MAX_SEQ_LEN,\n",
    "            temperature=0.7,\n",
    "            top_p=0.9,\n",
    "            do_sample=True,\n",
    "            repetition_penalty=1.1,\n",
    "        )\n",
    "    \n",
    "    # Extract the generated text and parse the post format\n",
    "    generated_text = tokenizer.decode(outputs[0][inputs[\"input_ids\"].shape[-1]:])\n",
    "    \n",
    "    # Initialize the post object\n",
    "    post_obj = {\n",
    "        \"title\": \"\",\n",
    "        \"self_text\": \"\",\n",
    "        \"subreddit\": \"\"\n",
    "    }\n",
    "    \n",
    "    # Split by lines and parse each field\n",
    "    lines = generated_text.strip().split('\\n')\n",
    "    \n",
    "    for line in lines:\n",
    "        line = line.strip()\n",
    "        if line.startswith(\"title: \"):\n",
    "            post_obj[\"title\"] = line[7:]  # Remove \"title: \" prefix\n",
    "        elif line.startswith(\"self_text: \"):\n",
    "            post_obj[\"self_text\"] = line[11:]  # Remove \"self_text: \" prefix\n",
    "        elif line.startswith(\"subreddit: \"):\n",
    "            post_obj[\"subreddit\"] = line[11:]  # Remove \"subreddit: \" prefix\n",
    "    \n",
    "    return post_obj\n"
   ]
  },
  {
   "cell_type": "markdown",
   "id": "f41960fb",
   "metadata": {},
   "source": [
    "## Judge LLM"
   ]
  },
  {
   "cell_type": "code",
   "execution_count": 27,
   "id": "d3ddc01a",
   "metadata": {},
   "outputs": [],
   "source": [
    "# judge whether each generated post adheres to dataset category, heuristic based on word content and llm judge\n",
    "\n",
    "def judge_post_gpt5(post, dataset):\n",
    "    JUDGE_PROMPTS = {\n",
    "        \"nerdy\": \"Please judge whether the following post is nerdy. \\n\\npost: {post}\\n\\n\",\n",
    "        \"personal\": \"Please judge whether the following post is personal. \\n\\npost: {post}\\n\\n\",\n",
    "        \"alike 3\": \"Please judge whether the following post is similar to the 3 posts below. \\n\\npost: {post}\\n\\n\",\n",
    "        \"unalike 3\": \"Please judge whether the following post is not similar to the 3 posts below. \\n\\npost: {post}\\n\\n\",\n",
    "        \"format specific\": \"Please judge whether the following post is formatted correctly. \\n\\npost: {post}\\n\\n\",\n",
    "        \"college student\": \"Please judge whether the following post is college student. \\n\\npost: {post}\\n\\n\",\n",
    "        \"new mother\": \"Please judge whether the following post is new mother. \\n\\npost: {post}\\n\\n\",\n",
    "        \"creative gen alpha\": \"Please judge whether the following post is creative gen alpha. \\n\\npost: {post}\\n\\n\",\n",
    "    }\n",
    "    \n",
    "\n",
    "def judge_post_heuristic(post, dataset):\n",
    "    KEYWORDS = {\n",
    "        \"nerdy\": [],\n",
    "        \"personal\": [],\n",
    "        \"alike 3\": [],\n",
    "        \"unalike 3\": [],\n",
    "        \"format specific\": [],\n",
    "        \"college student\": [],\n",
    "        \"new mother\": [],\n",
    "        \"creative gen alpha\": [],\n",
    "    }"
   ]
  },
  {
   "cell_type": "markdown",
   "id": "caad1c6b",
   "metadata": {},
   "source": [
    "## Run Pipeline"
   ]
  },
  {
   "cell_type": "code",
   "execution_count": 36,
   "id": "2d853c86",
   "metadata": {},
   "outputs": [],
   "source": [
    "# JSON output helpers\n",
    "from pathlib import Path\n",
    "import json\n",
    "import tqdm\n",
    "\n",
    "def ensure_parent_dir(path_str: str) -> Path:\n",
    "    path = Path(path_str)\n",
    "    path.parent.mkdir(parents=True, exist_ok=True)\n",
    "    return path\n",
    "\n",
    "def collect_posts(n: int, prompt: str, model, tokenizer) -> list:\n",
    "    posts = []\n",
    "    for i in tqdm(range(n), desc=\"Generating posts\"):\n",
    "        post = generate_post(prompt, model, tokenizer)\n",
    "        # print(f\"generated post {i}\")\n",
    "        posts.append(post)\n",
    "    return posts\n",
    "\n",
    "def write_posts_json(path_str: str, posts: list) -> None:\n",
    "    path = ensure_parent_dir(path_str)\n",
    "    with open(path, \"w\", encoding=\"utf-8\") as f:\n",
    "        json.dump(posts, f, ensure_ascii=False, indent=2)\n"
   ]
  },
  {
   "cell_type": "code",
   "execution_count": 29,
   "id": "fdddbe34",
   "metadata": {},
   "outputs": [],
   "source": [
    "MODELS = [\n",
    "    \"google/gemma-3-4b-it\",\n",
    "    \"google/gemma-3-27b-it\",\n",
    "    \"gpt-5\"\n",
    "]\n",
    "\n",
    "\n",
    "# Load dataset categories from JSON file\n",
    "DATASET1_NAMES = [\n",
    "    \"minecraft\",\n",
    "    \"ucla\",\n",
    "    \"nostupidquestions\",\n",
    "    \"copypasta\",\n",
    "    \"varietypack\",\n",
    "]\n",
    "DATASETS1 = [\n",
    "    {\n",
    "        \"minecraft\": 1,  \n",
    "    },\n",
    "    {\n",
    "        \"ucla\": 1,  \n",
    "    },\n",
    "    {\n",
    "        \"nostupidquestions\": 1,  \n",
    "    },\n",
    "    {\n",
    "        \"copypasta\": 1,  \n",
    "    },\n",
    "    {\n",
    "        \"nerdy\": 1,  \n",
    "        \"personal\": 1,\n",
    "        \"amitheasshole\": 1,\n",
    "        \"tech\": 1,\n",
    "        \"pop\": 1,\n",
    "        \"animals\": 1, \n",
    "        \"boomerhumor\": 1,\n",
    "        \"copypasta\": 1,\n",
    "        \"creative\": 1,\n",
    "        \"food\": 1,\n",
    "        \"nba\": 1,\n",
    "        \"religion\": 1,\n",
    "        \"school\": 1,\n",
    "        \"ucla\": 1,\n",
    "    },\n",
    "]\n",
    "\n",
    "DATASET2_NAMES = [\n",
    "    \"nerdy\",\n",
    "    \"personal\",\n",
    "    \"unalike\",\n",
    "    \"alike\",\n",
    "    \"formatspecific\",\n",
    "    \"college\",\n",
    "    \"newmother\",\n",
    "]\n",
    "DATASETS2 = [\n",
    "    {\n",
    "        \"nerdy\": 1,  \n",
    "    },\n",
    "    {\n",
    "        \"personal\": 1,  \n",
    "    },\n",
    "    { # unalike\n",
    "        \"pop\": 1,  \n",
    "        \"religion\": 1,\n",
    "        \"tech\": 1\n",
    "    },\n",
    "    { # alike\n",
    "        \"tech\": 1,\n",
    "        \"nerdy\": 1,\n",
    "        \"finance\": 1,\n",
    "    },\n",
    "    { # format specific\n",
    "        \"copypasta\": 1,\n",
    "        \"nostupidquestions\": 1,\n",
    "        \"amitheasshole\": 1,\n",
    "    },\n",
    "    { # college student\n",
    "        \"ucla\": 1,\n",
    "        \"nerdy\": 1,\n",
    "        \"okbuddy\": 1,\n",
    "        \"copypasta\": 1,\n",
    "        \"pop\": 1,\n",
    "        \"food\": 1,\n",
    "        \"animals\": 1,\n",
    "    },\n",
    "    { # new mother\n",
    "        \"pregnancy\": 1,\n",
    "        \"parenting\": 1,\n",
    "        \"baby\": 1,\n",
    "        \"food\": 1,\n",
    "        \"amitheasshole\": 1,\n",
    "        \"pop\": 1,\n",
    "        \"boomerhumor\": 1,\n",
    "    },\n",
    "]\n",
    "\n",
    "TRAIN_SIZES = [\n",
    "    10, 20, 50, 100, 250, 500, 1000,2000\n",
    "]\n",
    "\n",
    "EXPERIMENTS = [\n",
    "    \"self defined\",\n",
    "    \"summary\",\n",
    "    \"like history\",\n",
    "    \"fine tune\",\n",
    "    \"soft prompt\",\n",
    "]\n",
    "\n",
    "PROMPT_TOKENS = 64\n",
    "MICRO_BATCH_SIZE = 1\n",
    "GRAD_ACCUM_STEPS = 1\n",
    "LEARNING_RATE = 0.2\n",
    "NUM_TRAIN_STEPS = 1000  \n",
    "MAX_SEQ_LEN = 2048\n",
    "\n",
    "MODEL_OUTPUT_DIR = \"models\"\n",
    "GENERATED_OUTPUT_DIR = \"generated\""
   ]
  },
  {
   "cell_type": "code",
   "execution_count": 30,
   "id": "6006704d",
   "metadata": {},
   "outputs": [],
   "source": [
    "PROMPTS = {\n",
    "    \"self defined\": {\n",
    "        # user defines their own interests. e.g. a bio of interests\n",
    "        \"nerdy\": \"Please generate one reddit post. Use this format. \\n\\ntitle: {title}\\n self_text: {self_text}\\n subreddit: {subreddit}\\n\",\n",
    "        \"personal\": \"Please generate one reddit post. Use this format. \\n\\ntitle: {title}\\n self_text: {self_text}\\n subreddit: {subreddit}\\n\", \n",
    "        \"alike 3\": \"Please generate one reddit post. Use this format. \\n\\ntitle: {title}\\n self_text: {self_text}\\n subreddit: {subreddit}\\n\",\n",
    "        \"unalike 3\": \"Please generate one reddit post. Use this format. \\n\\ntitle: {title}\\n self_text: {self_text}\\n subreddit: {subreddit}\\n\",\n",
    "        \"format specific\": \"Please generate one reddit post. Use this format. \\n\\ntitle: {title}\\n self_text: {self_text}\\n subreddit: {subreddit}\\n\",\n",
    "        \"college student\": \"Please generate one reddit post. Use this format. \\n\\ntitle: {title}\\n self_text: {self_text}\\n subreddit: {subreddit}\\n\",\n",
    "        \"new mother\": \"Please generate one reddit post. Use this format. \\n\\ntitle: {title}\\n self_text: {self_text}\\n subreddit: {subreddit}\\n\",\n",
    "        \"creative gen alpha\": \"Please generate one reddit post. Use this format. \\n\\ntitle: {title}\\n self_text: {self_text}\\n subreddit: {subreddit}\\n\",\n",
    "    },\n",
    "    \"fine tune\": \"Please generate one reddit post. Use this format. \\n\\ntitle: {title}\\n self_text: {self_text}\\n subreddit: {subreddit}\\n\",\n",
    "    \"soft prompt\": \"Please generate one reddit post. Use this format. \\n\\ntitle: {title}\\n self_text: {self_text}\\n subreddit: {subreddit}\\n\",\n",
    "}"
   ]
  },
  {
   "cell_type": "code",
   "execution_count": 31,
   "id": "c396dbae",
   "metadata": {},
   "outputs": [],
   "source": [
    "def generate_summarized_prompt(dataset):\n",
    "    return \"\"\n",
    "\n",
    "def generate_like_history_prompt(dataset):\n",
    "    return \"\""
   ]
  },
  {
   "cell_type": "markdown",
   "id": "cf6f9a65",
   "metadata": {},
   "source": [
    "### testing..."
   ]
  },
  {
   "cell_type": "code",
   "execution_count": 32,
   "id": "7a9f9210",
   "metadata": {},
   "outputs": [],
   "source": [
    "# # single test\n",
    "\n",
    "# model_name = MODELS[0]\n",
    "# dataset_name = DATASET1_NAMES[0]\n",
    "# dataset_dict = DATASETS1[0]\n",
    "# train_size = TRAIN_SIZES[3]\n",
    "# print(model_name, dataset_name, train_size)\n",
    "\n",
    "# # load data + model\n",
    "# login()\n",
    "# model, tokenizer = load_model(model_name)\n",
    "# examples = load_datasets_proportional(dataset_dict, train_size, PROMPTS[\"soft prompt\"]) \n",
    "# train_ds = preprocess_dataset(examples, tokenizer)"
   ]
  },
  {
   "cell_type": "code",
   "execution_count": 33,
   "id": "90ef0daf",
   "metadata": {},
   "outputs": [],
   "source": [
    "# soft_output_dir = f\"{MODEL_OUTPUT_DIR}/soft_prompts/soft_prompt_{model_name}_{dataset_name}_{train_size}\" \n",
    "\n",
    "# # initialize peft model\n",
    "# peft_model = init_peft_model(model, model_name)\n",
    "\n",
    "# # train soft prompt\n",
    "# train_soft_prompt(peft_model, tokenizer, train_ds, NUM_TRAIN_STEPS, soft_output_dir)"
   ]
  },
  {
   "cell_type": "code",
   "execution_count": 34,
   "id": "c4e54cf6",
   "metadata": {},
   "outputs": [],
   "source": [
    "# # generate posts\n",
    "\n",
    "# from pathlib import Path\n",
    "\n",
    "# soft_output_dir = f\"{MODEL_OUTPUT_DIR}/soft_prompts/soft_prompt_{model_name}_{dataset_name}_{train_size}\" \n",
    "\n",
    "# # load peft model\n",
    "# peft_model = apply_peft_adapter(model, soft_output_dir)\n",
    "\n",
    "# out_path = Path(f\"{GENERATED_OUTPUT_DIR}/train_size_ablation/{model_name}_{dataset_name}_{train_size}.json\")\n",
    "# out_path.parent.mkdir(parents=True, exist_ok=True)\n",
    "\n",
    "# posts = collect_posts(5, PROMPTS[\"soft prompt\"], peft_model, tokenizer)\n",
    "# write_posts_json(out_path, posts)"
   ]
  },
  {
   "cell_type": "markdown",
   "id": "0f7c7088",
   "metadata": {},
   "source": [
    "### Pipelines"
   ]
  },
  {
   "cell_type": "code",
   "execution_count": 39,
   "id": "ffd32687",
   "metadata": {},
   "outputs": [
    {
     "name": "stderr",
     "output_type": "stream",
     "text": [
      "Note: Environment variable`HF_TOKEN` is set and is the current active token independently from the token you've just configured.\n"
     ]
    },
    {
     "data": {
      "application/vnd.jupyter.widget-view+json": {
       "model_id": "99ce1303bdfd4b3a924b8f34612f08b3",
       "version_major": 2,
       "version_minor": 0
      },
      "text/plain": [
       "Models:   0%|          | 0/3 [00:00<?, ?it/s]"
      ]
     },
     "metadata": {},
     "output_type": "display_data"
    },
    {
     "data": {
      "application/vnd.jupyter.widget-view+json": {
       "model_id": "cf4e1dd9e6bb4f3091b7c6210cc65785",
       "version_major": 2,
       "version_minor": 0
      },
      "text/plain": [
       "Loading checkpoint shards:   0%|          | 0/2 [00:00<?, ?it/s]"
      ]
     },
     "metadata": {},
     "output_type": "display_data"
    },
    {
     "name": "stdout",
     "output_type": "stream",
     "text": [
      "Loaded google/gemma-3-4b-it model and tokenizer\n"
     ]
    },
    {
     "data": {
      "application/vnd.jupyter.widget-view+json": {
       "model_id": "1d0a5be99ecf47c9bf4231f8eb6ad999",
       "version_major": 2,
       "version_minor": 0
      },
      "text/plain": [
       "Datasets1:   0%|          | 0/5 [00:00<?, ?it/s]"
      ]
     },
     "metadata": {},
     "output_type": "display_data"
    },
    {
     "data": {
      "application/vnd.jupyter.widget-view+json": {
       "model_id": "a39f4f7a08a54a4baf27e7692323c363",
       "version_major": 2,
       "version_minor": 0
      },
      "text/plain": [
       "Train sizes:   0%|          | 0/8 [00:00<?, ?it/s]"
      ]
     },
     "metadata": {},
     "output_type": "display_data"
    },
    {
     "name": "stdout",
     "output_type": "stream",
     "text": [
      "Soft prompt models/soft_prompts/google/gemma-3-4b-it/minecraft/10 exists, skipping training\n",
      "Output file generated/train_size_ablation/google/gemma-3-4b-it/minecraft/10.json already exists with posts, skipping generation\n",
      "Soft prompt models/soft_prompts/google/gemma-3-4b-it/minecraft/20 exists, skipping training\n",
      "Output file generated/train_size_ablation/google/gemma-3-4b-it/minecraft/20.json already exists with posts, skipping generation\n",
      "Soft prompt models/soft_prompts/google/gemma-3-4b-it/minecraft/50 exists, skipping training\n",
      "Output file generated/train_size_ablation/google/gemma-3-4b-it/minecraft/50.json already exists with posts, skipping generation\n",
      "Soft prompt models/soft_prompts/google/gemma-3-4b-it/minecraft/100 exists, skipping training\n",
      "Output file generated/train_size_ablation/google/gemma-3-4b-it/minecraft/100.json already exists with posts, skipping generation\n",
      "Soft prompt models/soft_prompts/google/gemma-3-4b-it/minecraft/250 exists, skipping training\n",
      "Output file generated/train_size_ablation/google/gemma-3-4b-it/minecraft/250.json already exists with posts, skipping generation\n",
      "Soft prompt models/soft_prompts/google/gemma-3-4b-it/minecraft/500 exists, skipping training\n",
      "Output file generated/train_size_ablation/google/gemma-3-4b-it/minecraft/500.json already exists with posts, skipping generation\n",
      "Soft prompt models/soft_prompts/google/gemma-3-4b-it/minecraft/1000 exists, skipping training\n",
      "Output file generated/train_size_ablation/google/gemma-3-4b-it/minecraft/1000.json already exists with posts, skipping generation\n",
      "Soft prompt models/soft_prompts/google/gemma-3-4b-it/minecraft/2000 exists, skipping training\n",
      "Output file generated/train_size_ablation/google/gemma-3-4b-it/minecraft/2000.json already exists with posts, skipping generation\n"
     ]
    },
    {
     "data": {
      "application/vnd.jupyter.widget-view+json": {
       "model_id": "f09929dac1eb45ea88ab9b6f67ea1191",
       "version_major": 2,
       "version_minor": 0
      },
      "text/plain": [
       "Train sizes:   0%|          | 0/8 [00:00<?, ?it/s]"
      ]
     },
     "metadata": {},
     "output_type": "display_data"
    },
    {
     "name": "stdout",
     "output_type": "stream",
     "text": [
      "Soft prompt models/soft_prompts/google/gemma-3-4b-it/ucla/10 exists, skipping training\n",
      "Output file generated/train_size_ablation/google/gemma-3-4b-it/ucla/10.json already exists with posts, skipping generation\n",
      "Soft prompt models/soft_prompts/google/gemma-3-4b-it/ucla/20 exists, skipping training\n",
      "Output file generated/train_size_ablation/google/gemma-3-4b-it/ucla/20.json already exists with posts, skipping generation\n",
      "Soft prompt models/soft_prompts/google/gemma-3-4b-it/ucla/50 exists, skipping training\n",
      "Output file generated/train_size_ablation/google/gemma-3-4b-it/ucla/50.json already exists with posts, skipping generation\n",
      "Soft prompt models/soft_prompts/google/gemma-3-4b-it/ucla/100 exists, skipping training\n",
      "Output file generated/train_size_ablation/google/gemma-3-4b-it/ucla/100.json already exists with posts, skipping generation\n",
      "Soft prompt models/soft_prompts/google/gemma-3-4b-it/ucla/250 exists, skipping training\n",
      "Output file generated/train_size_ablation/google/gemma-3-4b-it/ucla/250.json already exists with posts, skipping generation\n",
      "Soft prompt models/soft_prompts/google/gemma-3-4b-it/ucla/500 exists, skipping training\n",
      "Output file generated/train_size_ablation/google/gemma-3-4b-it/ucla/500.json already exists with posts, skipping generation\n",
      "Soft prompt models/soft_prompts/google/gemma-3-4b-it/ucla/1000 exists, skipping training\n",
      "Output file generated/train_size_ablation/google/gemma-3-4b-it/ucla/1000.json already exists with posts, skipping generation\n",
      "Soft prompt models/soft_prompts/google/gemma-3-4b-it/ucla/2000 exists, skipping training\n",
      "Output file generated/train_size_ablation/google/gemma-3-4b-it/ucla/2000.json already exists with posts, skipping generation\n"
     ]
    },
    {
     "data": {
      "application/vnd.jupyter.widget-view+json": {
       "model_id": "e2db9986c33740bb84727c58cfa18cb9",
       "version_major": 2,
       "version_minor": 0
      },
      "text/plain": [
       "Train sizes:   0%|          | 0/8 [00:00<?, ?it/s]"
      ]
     },
     "metadata": {},
     "output_type": "display_data"
    },
    {
     "name": "stdout",
     "output_type": "stream",
     "text": [
      "Soft prompt models/soft_prompts/google/gemma-3-4b-it/nostupidquestions/10 exists, skipping training\n",
      "Output file generated/train_size_ablation/google/gemma-3-4b-it/nostupidquestions/10.json already exists with posts, skipping generation\n",
      "Soft prompt models/soft_prompts/google/gemma-3-4b-it/nostupidquestions/20 exists, skipping training\n",
      "Output file generated/train_size_ablation/google/gemma-3-4b-it/nostupidquestions/20.json already exists with posts, skipping generation\n",
      "Soft prompt models/soft_prompts/google/gemma-3-4b-it/nostupidquestions/50 exists, skipping training\n",
      "Output file generated/train_size_ablation/google/gemma-3-4b-it/nostupidquestions/50.json already exists with posts, skipping generation\n",
      "Soft prompt models/soft_prompts/google/gemma-3-4b-it/nostupidquestions/100 exists, skipping training\n",
      "Output file generated/train_size_ablation/google/gemma-3-4b-it/nostupidquestions/100.json already exists with posts, skipping generation\n",
      "Soft prompt models/soft_prompts/google/gemma-3-4b-it/nostupidquestions/250 exists, skipping training\n",
      "Output file generated/train_size_ablation/google/gemma-3-4b-it/nostupidquestions/250.json already exists with posts, skipping generation\n",
      "Soft prompt models/soft_prompts/google/gemma-3-4b-it/nostupidquestions/500 exists, skipping training\n",
      "Output file generated/train_size_ablation/google/gemma-3-4b-it/nostupidquestions/500.json already exists with posts, skipping generation\n",
      "Soft prompt models/soft_prompts/google/gemma-3-4b-it/nostupidquestions/1000 exists, skipping training\n",
      "Output file generated/train_size_ablation/google/gemma-3-4b-it/nostupidquestions/1000.json already exists with posts, skipping generation\n",
      "Soft prompt models/soft_prompts/google/gemma-3-4b-it/nostupidquestions/2000 exists, skipping training\n",
      "Output file generated/train_size_ablation/google/gemma-3-4b-it/nostupidquestions/2000.json already exists with posts, skipping generation\n"
     ]
    },
    {
     "data": {
      "application/vnd.jupyter.widget-view+json": {
       "model_id": "de179599dfe64076a26cf7792e736c56",
       "version_major": 2,
       "version_minor": 0
      },
      "text/plain": [
       "Train sizes:   0%|          | 0/8 [00:00<?, ?it/s]"
      ]
     },
     "metadata": {},
     "output_type": "display_data"
    },
    {
     "name": "stdout",
     "output_type": "stream",
     "text": [
      "Soft prompt models/soft_prompts/google/gemma-3-4b-it/copypasta/10 exists, skipping training\n",
      "Output file generated/train_size_ablation/google/gemma-3-4b-it/copypasta/10.json already exists with posts, skipping generation\n",
      "Soft prompt models/soft_prompts/google/gemma-3-4b-it/copypasta/20 exists, skipping training\n",
      "Output file generated/train_size_ablation/google/gemma-3-4b-it/copypasta/20.json already exists with posts, skipping generation\n",
      "Soft prompt models/soft_prompts/google/gemma-3-4b-it/copypasta/50 exists, skipping training\n",
      "Output file generated/train_size_ablation/google/gemma-3-4b-it/copypasta/50.json already exists with posts, skipping generation\n",
      "Soft prompt models/soft_prompts/google/gemma-3-4b-it/copypasta/100 exists, skipping training\n",
      "Output file generated/train_size_ablation/google/gemma-3-4b-it/copypasta/100.json already exists with posts, skipping generation\n",
      "Soft prompt models/soft_prompts/google/gemma-3-4b-it/copypasta/250 exists, skipping training\n",
      "Output file generated/train_size_ablation/google/gemma-3-4b-it/copypasta/250.json already exists with posts, skipping generation\n",
      "Soft prompt models/soft_prompts/google/gemma-3-4b-it/copypasta/500 exists, skipping training\n",
      "Output file generated/train_size_ablation/google/gemma-3-4b-it/copypasta/500.json already exists with posts, skipping generation\n",
      "Soft prompt models/soft_prompts/google/gemma-3-4b-it/copypasta/1000 exists, skipping training\n",
      "Output file generated/train_size_ablation/google/gemma-3-4b-it/copypasta/1000.json already exists with posts, skipping generation\n",
      "Soft prompt models/soft_prompts/google/gemma-3-4b-it/copypasta/2000 exists, skipping training\n",
      "Output file generated/train_size_ablation/google/gemma-3-4b-it/copypasta/2000.json already exists with posts, skipping generation\n"
     ]
    },
    {
     "data": {
      "application/vnd.jupyter.widget-view+json": {
       "model_id": "6d0a0badfad949b3b19cd1397a7179ee",
       "version_major": 2,
       "version_minor": 0
      },
      "text/plain": [
       "Train sizes:   0%|          | 0/8 [00:00<?, ?it/s]"
      ]
     },
     "metadata": {},
     "output_type": "display_data"
    },
    {
     "name": "stdout",
     "output_type": "stream",
     "text": [
      "Loading 1 posts from nerdy dataset (7.1%)\n",
      "Found 271 valid posts in nerdy\n",
      "Loading 1 posts from personal dataset (7.1%)\n",
      "Found 251 valid posts in personal\n",
      "Loading 1 posts from amitheasshole dataset (7.1%)\n",
      "Found 2000 valid posts in amitheasshole\n",
      "Loading 1 posts from tech dataset (7.1%)\n",
      "Found 150 valid posts in tech\n",
      "Loading 1 posts from pop dataset (7.1%)\n",
      "Found 47 valid posts in pop\n",
      "Loading 1 posts from animals dataset (7.1%)\n",
      "Found 43 valid posts in animals\n",
      "Loading 1 posts from boomerhumor dataset (7.1%)\n",
      "Found 23 valid posts in boomerhumor\n",
      "Loading 1 posts from copypasta dataset (7.1%)\n",
      "Found 2000 valid posts in copypasta\n",
      "Loading 1 posts from creative dataset (7.1%)\n",
      "Found 28 valid posts in creative\n",
      "Loading 1 posts from food dataset (7.1%)\n",
      "Found 10 valid posts in food\n",
      "Loading 1 posts from nba dataset (7.1%)\n",
      "Found 500 valid posts in nba\n",
      "Loading 1 posts from religion dataset (7.1%)\n",
      "Found 28 valid posts in religion\n",
      "Loading 1 posts from school dataset (7.1%)\n",
      "Found 130 valid posts in school\n",
      "Loading 1 posts from ucla dataset (7.1%)\n",
      "Found 1516 valid posts in ucla\n",
      "Loaded dataset {'nerdy': 1, 'personal': 1, 'amitheasshole': 1, 'tech': 1, 'pop': 1, 'animals': 1, 'boomerhumor': 1, 'copypasta': 1, 'creative': 1, 'food': 1, 'nba': 1, 'religion': 1, 'school': 1, 'ucla': 1} with 10 posts\n"
     ]
    },
    {
     "data": {
      "application/vnd.jupyter.widget-view+json": {
       "model_id": "860a53b6845a4ad08c3a5ceced1e2020",
       "version_major": 2,
       "version_minor": 0
      },
      "text/plain": [
       "Map:   0%|          | 0/14 [00:00<?, ? examples/s]"
      ]
     },
     "metadata": {},
     "output_type": "display_data"
    },
    {
     "name": "stdout",
     "output_type": "stream",
     "text": [
      "Preprocessed dataset...\n",
      "Training on device: cuda:0\n",
      "step 0 loss 4.8724\n",
      "step 10 loss 6.7463\n",
      "step 20 loss 4.0314\n",
      "step 30 loss 3.3181\n",
      "step 40 loss 7.9971\n",
      "step 50 loss 2.8321\n",
      "step 60 loss 2.2097\n",
      "step 70 loss 3.4922\n",
      "step 80 loss 2.1884\n",
      "step 90 loss 2.9547\n",
      "step 100 loss 2.5471\n",
      "step 110 loss 1.7294\n",
      "step 120 loss 2.3689\n",
      "step 130 loss 3.2308\n",
      "Saved prompt adapter to: models/soft_prompts/google/gemma-3-4b-it/varietypack/10\n"
     ]
    },
    {
     "data": {
      "application/vnd.jupyter.widget-view+json": {
       "model_id": "3c0ef1ed3da04074aec2557248b2e0fa",
       "version_major": 2,
       "version_minor": 0
      },
      "text/plain": [
       "Generating posts:   0%|          | 0/100 [00:00<?, ?it/s]"
      ]
     },
     "metadata": {},
     "output_type": "display_data"
    },
    {
     "name": "stderr",
     "output_type": "stream",
     "text": [
      "/usr/local/lib/python3.11/dist-packages/peft/peft_model.py:2066: UserWarning: Position ids are not supported for parameter efficient tuning. Ignoring position ids.\n",
      "  warnings.warn(\"Position ids are not supported for parameter efficient tuning. Ignoring position ids.\")\n"
     ]
    },
    {
     "name": "stdout",
     "output_type": "stream",
     "text": [
      "Loading 2 posts from nerdy dataset (7.1%)\n",
      "Found 271 valid posts in nerdy\n",
      "Loading 2 posts from personal dataset (7.1%)\n",
      "Found 251 valid posts in personal\n",
      "Loading 2 posts from amitheasshole dataset (7.1%)\n",
      "Found 2000 valid posts in amitheasshole\n",
      "Loading 2 posts from tech dataset (7.1%)\n",
      "Found 150 valid posts in tech\n",
      "Loading 2 posts from pop dataset (7.1%)\n",
      "Found 47 valid posts in pop\n",
      "Loading 2 posts from animals dataset (7.1%)\n",
      "Found 43 valid posts in animals\n",
      "Loading 2 posts from boomerhumor dataset (7.1%)\n",
      "Found 23 valid posts in boomerhumor\n",
      "Loading 2 posts from copypasta dataset (7.1%)\n",
      "Found 2000 valid posts in copypasta\n",
      "Loading 2 posts from creative dataset (7.1%)\n",
      "Found 28 valid posts in creative\n",
      "Loading 2 posts from food dataset (7.1%)\n",
      "Found 10 valid posts in food\n",
      "Loading 2 posts from nba dataset (7.1%)\n",
      "Found 500 valid posts in nba\n",
      "Loading 2 posts from religion dataset (7.1%)\n",
      "Found 28 valid posts in religion\n",
      "Loading 2 posts from school dataset (7.1%)\n",
      "Found 130 valid posts in school\n",
      "Loading 2 posts from ucla dataset (7.1%)\n",
      "Found 1516 valid posts in ucla\n",
      "Loaded dataset {'nerdy': 1, 'personal': 1, 'amitheasshole': 1, 'tech': 1, 'pop': 1, 'animals': 1, 'boomerhumor': 1, 'copypasta': 1, 'creative': 1, 'food': 1, 'nba': 1, 'religion': 1, 'school': 1, 'ucla': 1} with 20 posts\n"
     ]
    },
    {
     "data": {
      "application/vnd.jupyter.widget-view+json": {
       "model_id": "f7c9b6552c224575963fb8f64cf98fd9",
       "version_major": 2,
       "version_minor": 0
      },
      "text/plain": [
       "Map:   0%|          | 0/28 [00:00<?, ? examples/s]"
      ]
     },
     "metadata": {},
     "output_type": "display_data"
    },
    {
     "name": "stdout",
     "output_type": "stream",
     "text": [
      "Preprocessed dataset...\n",
      "Training on device: cuda:0\n",
      "step 0 loss 4.4795\n",
      "step 10 loss 5.4702\n",
      "step 20 loss 3.3521\n",
      "step 30 loss 3.6304\n",
      "step 40 loss 3.0159\n",
      "step 50 loss 2.2234\n",
      "step 60 loss 3.0552\n",
      "step 70 loss 2.8651\n",
      "step 80 loss 3.1421\n",
      "step 90 loss 2.7302\n",
      "step 100 loss 2.2167\n",
      "step 110 loss 3.1722\n",
      "step 120 loss 3.1049\n",
      "step 130 loss 2.4443\n",
      "step 140 loss 2.6085\n",
      "step 150 loss 3.0715\n",
      "step 160 loss 2.2284\n",
      "step 170 loss 2.4652\n",
      "step 180 loss 2.4230\n",
      "step 190 loss 2.5377\n",
      "step 200 loss 2.8089\n",
      "step 210 loss 2.4797\n",
      "step 220 loss 2.2878\n",
      "step 230 loss 3.8456\n",
      "step 240 loss 3.1857\n",
      "step 250 loss 1.9879\n",
      "step 260 loss 2.3155\n",
      "step 270 loss 2.2284\n",
      "Saved prompt adapter to: models/soft_prompts/google/gemma-3-4b-it/varietypack/20\n"
     ]
    },
    {
     "data": {
      "application/vnd.jupyter.widget-view+json": {
       "model_id": "f6593fe55740487aa6eeb7505cf3c569",
       "version_major": 2,
       "version_minor": 0
      },
      "text/plain": [
       "Generating posts:   0%|          | 0/100 [00:00<?, ?it/s]"
      ]
     },
     "metadata": {},
     "output_type": "display_data"
    },
    {
     "name": "stdout",
     "output_type": "stream",
     "text": [
      "Loading 4 posts from nerdy dataset (7.1%)\n",
      "Found 271 valid posts in nerdy\n",
      "Loading 4 posts from personal dataset (7.1%)\n",
      "Found 251 valid posts in personal\n",
      "Loading 4 posts from amitheasshole dataset (7.1%)\n",
      "Found 2000 valid posts in amitheasshole\n",
      "Loading 4 posts from tech dataset (7.1%)\n",
      "Found 150 valid posts in tech\n",
      "Loading 4 posts from pop dataset (7.1%)\n",
      "Found 47 valid posts in pop\n",
      "Loading 4 posts from animals dataset (7.1%)\n",
      "Found 43 valid posts in animals\n",
      "Loading 4 posts from boomerhumor dataset (7.1%)\n",
      "Found 23 valid posts in boomerhumor\n",
      "Loading 4 posts from copypasta dataset (7.1%)\n",
      "Found 2000 valid posts in copypasta\n",
      "Loading 4 posts from creative dataset (7.1%)\n",
      "Found 28 valid posts in creative\n",
      "Loading 4 posts from food dataset (7.1%)\n",
      "Found 10 valid posts in food\n",
      "Loading 4 posts from nba dataset (7.1%)\n",
      "Found 500 valid posts in nba\n",
      "Loading 4 posts from religion dataset (7.1%)\n",
      "Found 28 valid posts in religion\n",
      "Loading 4 posts from school dataset (7.1%)\n",
      "Found 130 valid posts in school\n",
      "Loading 4 posts from ucla dataset (7.1%)\n",
      "Found 1516 valid posts in ucla\n",
      "Loaded dataset {'nerdy': 1, 'personal': 1, 'amitheasshole': 1, 'tech': 1, 'pop': 1, 'animals': 1, 'boomerhumor': 1, 'copypasta': 1, 'creative': 1, 'food': 1, 'nba': 1, 'religion': 1, 'school': 1, 'ucla': 1} with 50 posts\n"
     ]
    },
    {
     "data": {
      "application/vnd.jupyter.widget-view+json": {
       "model_id": "93116152ee434d048705d5e67f67e8bb",
       "version_major": 2,
       "version_minor": 0
      },
      "text/plain": [
       "Map:   0%|          | 0/56 [00:00<?, ? examples/s]"
      ]
     },
     "metadata": {},
     "output_type": "display_data"
    },
    {
     "name": "stdout",
     "output_type": "stream",
     "text": [
      "Preprocessed dataset...\n",
      "Training on device: cuda:0\n",
      "step 0 loss 6.1028\n",
      "step 10 loss 3.7534\n",
      "step 20 loss 3.7026\n",
      "step 30 loss 3.3363\n",
      "step 40 loss 3.6898\n",
      "step 50 loss 3.9056\n",
      "step 60 loss 3.2721\n",
      "step 70 loss 3.2618\n",
      "step 80 loss 2.7067\n",
      "step 90 loss 2.2165\n",
      "step 100 loss 3.1505\n",
      "step 110 loss 2.4752\n",
      "step 120 loss 2.7817\n",
      "step 130 loss 3.5595\n",
      "step 140 loss 3.0297\n",
      "step 150 loss 2.6494\n",
      "step 160 loss 2.9993\n",
      "step 170 loss 3.8087\n",
      "step 180 loss 2.9687\n",
      "step 190 loss 2.6107\n",
      "step 200 loss 2.2058\n",
      "step 210 loss 3.0033\n",
      "step 220 loss 1.8800\n",
      "step 230 loss 2.7934\n",
      "step 240 loss 2.5410\n",
      "step 250 loss 2.5387\n",
      "step 260 loss 3.6807\n",
      "step 270 loss 2.7306\n",
      "step 280 loss 1.8362\n",
      "step 290 loss 2.4964\n",
      "step 300 loss 3.3914\n",
      "step 310 loss 2.9482\n",
      "step 320 loss 3.3028\n",
      "step 330 loss 2.8462\n",
      "step 340 loss 2.5914\n",
      "step 350 loss 2.7479\n",
      "step 360 loss 2.5283\n",
      "step 370 loss 2.2541\n",
      "step 380 loss 2.6127\n",
      "step 390 loss 3.2627\n",
      "step 400 loss 2.2948\n",
      "step 410 loss 2.9044\n",
      "step 420 loss 2.1444\n",
      "step 430 loss 2.5139\n",
      "step 440 loss 2.2090\n",
      "step 450 loss 2.5459\n",
      "step 460 loss 2.2112\n",
      "step 470 loss 2.1769\n",
      "step 480 loss 2.3049\n",
      "step 490 loss 2.3903\n",
      "step 500 loss 2.3371\n",
      "step 510 loss 3.2568\n",
      "step 520 loss 2.5739\n",
      "step 530 loss 2.2618\n",
      "step 540 loss 2.4627\n",
      "step 550 loss 2.2480\n",
      "Saved prompt adapter to: models/soft_prompts/google/gemma-3-4b-it/varietypack/50\n"
     ]
    },
    {
     "data": {
      "application/vnd.jupyter.widget-view+json": {
       "model_id": "a7b330714ac64e72957d8e336b919433",
       "version_major": 2,
       "version_minor": 0
      },
      "text/plain": [
       "Generating posts:   0%|          | 0/100 [00:00<?, ?it/s]"
      ]
     },
     "metadata": {},
     "output_type": "display_data"
    },
    {
     "name": "stdout",
     "output_type": "stream",
     "text": [
      "Loading 8 posts from nerdy dataset (7.1%)\n",
      "Found 271 valid posts in nerdy\n",
      "Loading 8 posts from personal dataset (7.1%)\n",
      "Found 251 valid posts in personal\n",
      "Loading 8 posts from amitheasshole dataset (7.1%)\n",
      "Found 2000 valid posts in amitheasshole\n",
      "Loading 8 posts from tech dataset (7.1%)\n",
      "Found 150 valid posts in tech\n",
      "Loading 8 posts from pop dataset (7.1%)\n",
      "Found 47 valid posts in pop\n",
      "Loading 8 posts from animals dataset (7.1%)\n",
      "Found 43 valid posts in animals\n",
      "Loading 8 posts from boomerhumor dataset (7.1%)\n",
      "Found 23 valid posts in boomerhumor\n",
      "Loading 8 posts from copypasta dataset (7.1%)\n",
      "Found 2000 valid posts in copypasta\n",
      "Loading 8 posts from creative dataset (7.1%)\n",
      "Found 28 valid posts in creative\n",
      "Loading 8 posts from food dataset (7.1%)\n",
      "Found 10 valid posts in food\n",
      "Loading 8 posts from nba dataset (7.1%)\n",
      "Found 500 valid posts in nba\n",
      "Loading 8 posts from religion dataset (7.1%)\n",
      "Found 28 valid posts in religion\n",
      "Loading 8 posts from school dataset (7.1%)\n",
      "Found 130 valid posts in school\n",
      "Loading 8 posts from ucla dataset (7.1%)\n",
      "Found 1516 valid posts in ucla\n",
      "Loaded dataset {'nerdy': 1, 'personal': 1, 'amitheasshole': 1, 'tech': 1, 'pop': 1, 'animals': 1, 'boomerhumor': 1, 'copypasta': 1, 'creative': 1, 'food': 1, 'nba': 1, 'religion': 1, 'school': 1, 'ucla': 1} with 100 posts\n"
     ]
    },
    {
     "data": {
      "application/vnd.jupyter.widget-view+json": {
       "model_id": "e1f8e0ba854b4240b10041018c8fc649",
       "version_major": 2,
       "version_minor": 0
      },
      "text/plain": [
       "Map:   0%|          | 0/112 [00:00<?, ? examples/s]"
      ]
     },
     "metadata": {},
     "output_type": "display_data"
    },
    {
     "name": "stdout",
     "output_type": "stream",
     "text": [
      "Preprocessed dataset...\n",
      "Training on device: cuda:0\n",
      "step 0 loss 4.2039\n",
      "step 10 loss 8.0052\n",
      "step 20 loss 3.8158\n",
      "step 30 loss 4.1964\n",
      "step 40 loss 2.8321\n",
      "step 50 loss 3.2059\n",
      "step 60 loss 2.6705\n",
      "step 70 loss 2.6015\n",
      "step 80 loss 2.4688\n",
      "step 90 loss 2.6039\n",
      "step 100 loss 1.9726\n",
      "step 110 loss 2.2556\n",
      "step 120 loss 3.3796\n",
      "step 130 loss 3.0134\n",
      "step 140 loss 2.8104\n",
      "step 150 loss 2.6636\n",
      "step 160 loss 2.2359\n",
      "step 170 loss 2.4248\n",
      "step 180 loss 3.9980\n",
      "step 190 loss 3.4915\n",
      "step 200 loss 2.3649\n",
      "step 210 loss 2.2358\n",
      "step 220 loss 2.0610\n",
      "step 230 loss 3.7465\n",
      "step 240 loss 2.4224\n",
      "step 250 loss 3.3954\n",
      "step 260 loss 2.9197\n",
      "step 270 loss 3.0714\n",
      "step 280 loss 2.5848\n",
      "step 290 loss 2.2765\n",
      "step 300 loss 2.3057\n",
      "step 310 loss 2.3210\n",
      "step 320 loss 2.6614\n",
      "step 330 loss 2.5583\n",
      "step 340 loss 2.3463\n",
      "step 350 loss 2.1407\n",
      "step 360 loss 2.8663\n",
      "step 370 loss 2.7719\n",
      "step 380 loss 2.0606\n",
      "step 390 loss 3.1076\n",
      "step 400 loss 1.9903\n",
      "step 410 loss 3.2299\n",
      "step 420 loss 2.0453\n",
      "step 430 loss 2.5022\n",
      "step 440 loss 3.1375\n",
      "step 450 loss 2.8045\n",
      "step 460 loss 2.7176\n",
      "step 470 loss 3.6247\n",
      "step 480 loss 2.6208\n",
      "step 490 loss 2.6294\n",
      "step 500 loss 2.1130\n",
      "step 510 loss 2.4362\n",
      "step 520 loss 3.2317\n",
      "step 530 loss 2.6907\n",
      "step 540 loss 2.1691\n",
      "step 550 loss 2.0995\n",
      "step 560 loss 2.3522\n",
      "step 570 loss 3.1982\n",
      "step 580 loss 1.6991\n",
      "step 590 loss 1.9499\n",
      "step 600 loss 2.9151\n",
      "step 610 loss 2.6066\n",
      "step 620 loss 2.3691\n",
      "step 630 loss 2.3254\n",
      "step 640 loss 3.1573\n",
      "step 650 loss 3.6939\n",
      "step 660 loss 2.2142\n",
      "step 670 loss 2.4261\n",
      "step 680 loss 2.5668\n",
      "step 690 loss 2.2086\n",
      "step 700 loss 2.5061\n",
      "step 710 loss 3.0817\n",
      "step 720 loss 2.2301\n",
      "step 730 loss 3.1344\n",
      "step 740 loss 2.2609\n",
      "step 750 loss 2.4001\n",
      "step 760 loss 3.0449\n",
      "step 770 loss 2.3900\n",
      "step 780 loss 2.3389\n",
      "step 790 loss 2.2928\n",
      "step 800 loss 3.0918\n",
      "step 810 loss 1.9658\n",
      "step 820 loss 2.7920\n",
      "step 830 loss 1.2878\n",
      "step 840 loss 2.6301\n",
      "step 850 loss 1.9262\n",
      "step 860 loss 0.9304\n",
      "step 870 loss 2.3877\n",
      "step 880 loss 2.9105\n",
      "step 890 loss 1.6291\n",
      "step 900 loss 3.5381\n",
      "step 910 loss 2.5590\n",
      "step 920 loss 2.7986\n",
      "step 930 loss 1.0370\n",
      "step 940 loss 2.5218\n",
      "step 950 loss 2.3865\n",
      "step 960 loss 2.6383\n",
      "step 970 loss 2.7558\n",
      "step 980 loss 2.1876\n",
      "step 990 loss 3.3444\n",
      "Saved prompt adapter to: models/soft_prompts/google/gemma-3-4b-it/varietypack/100\n"
     ]
    },
    {
     "data": {
      "application/vnd.jupyter.widget-view+json": {
       "model_id": "cbf01c542a7a444fb9166c6dfdf0df03",
       "version_major": 2,
       "version_minor": 0
      },
      "text/plain": [
       "Generating posts:   0%|          | 0/100 [00:00<?, ?it/s]"
      ]
     },
     "metadata": {},
     "output_type": "display_data"
    },
    {
     "name": "stdout",
     "output_type": "stream",
     "text": [
      "Loading 18 posts from nerdy dataset (7.1%)\n",
      "Found 271 valid posts in nerdy\n",
      "Loading 18 posts from personal dataset (7.1%)\n",
      "Found 251 valid posts in personal\n",
      "Loading 18 posts from amitheasshole dataset (7.1%)\n",
      "Found 2000 valid posts in amitheasshole\n",
      "Loading 18 posts from tech dataset (7.1%)\n",
      "Found 150 valid posts in tech\n",
      "Loading 18 posts from pop dataset (7.1%)\n",
      "Found 47 valid posts in pop\n",
      "Loading 18 posts from animals dataset (7.1%)\n",
      "Found 43 valid posts in animals\n",
      "Loading 18 posts from boomerhumor dataset (7.1%)\n",
      "Found 23 valid posts in boomerhumor\n",
      "Loading 18 posts from copypasta dataset (7.1%)\n",
      "Found 2000 valid posts in copypasta\n",
      "Loading 18 posts from creative dataset (7.1%)\n",
      "Found 28 valid posts in creative\n",
      "Loading 18 posts from food dataset (7.1%)\n",
      "Found 10 valid posts in food\n",
      "Warning: Only 10 posts available, using all\n",
      "Loading 18 posts from nba dataset (7.1%)\n",
      "Found 500 valid posts in nba\n",
      "Loading 18 posts from religion dataset (7.1%)\n",
      "Found 28 valid posts in religion\n",
      "Loading 18 posts from school dataset (7.1%)\n",
      "Found 130 valid posts in school\n",
      "Loading 18 posts from ucla dataset (7.1%)\n",
      "Found 1516 valid posts in ucla\n",
      "Loaded dataset {'nerdy': 1, 'personal': 1, 'amitheasshole': 1, 'tech': 1, 'pop': 1, 'animals': 1, 'boomerhumor': 1, 'copypasta': 1, 'creative': 1, 'food': 1, 'nba': 1, 'religion': 1, 'school': 1, 'ucla': 1} with 250 posts\n"
     ]
    },
    {
     "data": {
      "application/vnd.jupyter.widget-view+json": {
       "model_id": "8a2fb9b982b347aa8261b858a11af9d9",
       "version_major": 2,
       "version_minor": 0
      },
      "text/plain": [
       "Map:   0%|          | 0/244 [00:00<?, ? examples/s]"
      ]
     },
     "metadata": {},
     "output_type": "display_data"
    },
    {
     "name": "stdout",
     "output_type": "stream",
     "text": [
      "Preprocessed dataset...\n",
      "Training on device: cuda:0\n",
      "step 0 loss 5.2751\n",
      "step 10 loss 4.7793\n",
      "step 20 loss 3.5308\n",
      "step 30 loss 2.8049\n",
      "step 40 loss 3.8289\n",
      "step 50 loss 2.2834\n",
      "step 60 loss 2.3759\n",
      "step 70 loss 3.2954\n",
      "step 80 loss 3.6268\n",
      "step 90 loss 2.2496\n",
      "step 100 loss 3.0001\n",
      "step 110 loss 2.9461\n",
      "step 120 loss 2.9795\n",
      "step 130 loss 2.4367\n",
      "step 140 loss 3.2026\n",
      "step 150 loss 2.9004\n",
      "step 160 loss 2.6714\n",
      "step 170 loss 2.8864\n",
      "step 180 loss 2.4660\n",
      "step 190 loss 2.7873\n",
      "step 200 loss 3.6716\n",
      "step 210 loss 2.6555\n",
      "step 220 loss 3.0156\n",
      "step 230 loss 2.8342\n",
      "step 240 loss 2.7227\n",
      "step 250 loss 3.6490\n",
      "step 260 loss 2.3558\n",
      "step 270 loss 2.4109\n",
      "step 280 loss 2.7401\n",
      "step 290 loss 3.3839\n",
      "step 300 loss 2.8076\n",
      "step 310 loss 2.6556\n",
      "step 320 loss 2.6375\n",
      "step 330 loss 2.5626\n",
      "step 340 loss 3.8611\n",
      "step 350 loss 2.8848\n",
      "step 360 loss 2.0670\n",
      "step 370 loss 2.4361\n",
      "step 380 loss 2.3842\n",
      "step 390 loss 3.5769\n",
      "step 400 loss 3.2533\n",
      "step 410 loss 2.8555\n",
      "step 420 loss 2.4987\n",
      "step 430 loss 2.4666\n",
      "step 440 loss 4.0549\n",
      "step 450 loss 2.5441\n",
      "step 460 loss 2.1195\n",
      "step 470 loss 2.2342\n",
      "step 480 loss 2.7226\n",
      "step 490 loss 1.8590\n",
      "step 500 loss 2.1179\n",
      "step 510 loss 1.7469\n",
      "step 520 loss 2.9089\n",
      "step 530 loss 3.0861\n",
      "step 540 loss 2.2938\n",
      "step 550 loss 2.3904\n",
      "step 560 loss 3.1551\n",
      "step 570 loss 2.9675\n",
      "step 580 loss 2.8891\n",
      "step 590 loss 2.4212\n",
      "step 600 loss 2.6125\n",
      "step 610 loss 4.1841\n",
      "step 620 loss 2.6009\n",
      "step 630 loss 2.9273\n",
      "step 640 loss 3.4467\n",
      "step 650 loss 3.0645\n",
      "step 660 loss 2.0109\n",
      "step 670 loss 3.3369\n",
      "step 680 loss 3.2876\n",
      "step 690 loss 2.6733\n",
      "step 700 loss 2.2193\n",
      "step 710 loss 2.4477\n",
      "step 720 loss 3.1145\n",
      "step 730 loss 2.9555\n",
      "step 740 loss 3.1598\n",
      "step 750 loss 2.7782\n",
      "step 760 loss 2.7576\n",
      "step 770 loss 2.2693\n",
      "step 780 loss 3.0652\n",
      "step 790 loss 2.5009\n",
      "step 800 loss 2.9177\n",
      "step 810 loss 2.6085\n",
      "step 820 loss 2.8027\n",
      "step 830 loss 2.7250\n",
      "step 840 loss 2.3254\n",
      "step 850 loss 3.0834\n",
      "step 860 loss 2.1560\n",
      "step 870 loss 2.8712\n",
      "step 880 loss 1.8767\n",
      "step 890 loss 2.0842\n",
      "step 900 loss 1.9942\n",
      "step 910 loss 2.7675\n",
      "step 920 loss 2.9499\n",
      "step 930 loss 2.9818\n",
      "step 940 loss 2.2872\n",
      "step 950 loss 2.7305\n",
      "step 960 loss 1.9191\n",
      "step 970 loss 2.9980\n",
      "step 980 loss 2.7055\n",
      "step 990 loss 2.4930\n",
      "Saved prompt adapter to: models/soft_prompts/google/gemma-3-4b-it/varietypack/250\n"
     ]
    },
    {
     "data": {
      "application/vnd.jupyter.widget-view+json": {
       "model_id": "90f23dc97bde47f5a7c75ada37bc533b",
       "version_major": 2,
       "version_minor": 0
      },
      "text/plain": [
       "Generating posts:   0%|          | 0/100 [00:00<?, ?it/s]"
      ]
     },
     "metadata": {},
     "output_type": "display_data"
    },
    {
     "name": "stdout",
     "output_type": "stream",
     "text": [
      "Loading 36 posts from nerdy dataset (7.1%)\n",
      "Found 271 valid posts in nerdy\n",
      "Loading 36 posts from personal dataset (7.1%)\n",
      "Found 251 valid posts in personal\n",
      "Loading 36 posts from amitheasshole dataset (7.1%)\n",
      "Found 2000 valid posts in amitheasshole\n",
      "Loading 36 posts from tech dataset (7.1%)\n",
      "Found 150 valid posts in tech\n",
      "Loading 36 posts from pop dataset (7.1%)\n",
      "Found 47 valid posts in pop\n",
      "Loading 36 posts from animals dataset (7.1%)\n",
      "Found 43 valid posts in animals\n",
      "Loading 36 posts from boomerhumor dataset (7.1%)\n",
      "Found 23 valid posts in boomerhumor\n",
      "Warning: Only 23 posts available, using all\n",
      "Loading 36 posts from copypasta dataset (7.1%)\n",
      "Found 2000 valid posts in copypasta\n",
      "Loading 36 posts from creative dataset (7.1%)\n",
      "Found 28 valid posts in creative\n",
      "Warning: Only 28 posts available, using all\n",
      "Loading 36 posts from food dataset (7.1%)\n",
      "Found 10 valid posts in food\n",
      "Warning: Only 10 posts available, using all\n",
      "Loading 36 posts from nba dataset (7.1%)\n",
      "Found 500 valid posts in nba\n",
      "Loading 36 posts from religion dataset (7.1%)\n",
      "Found 28 valid posts in religion\n",
      "Warning: Only 28 posts available, using all\n",
      "Loading 36 posts from school dataset (7.1%)\n",
      "Found 130 valid posts in school\n",
      "Loading 36 posts from ucla dataset (7.1%)\n",
      "Found 1516 valid posts in ucla\n",
      "Loaded dataset {'nerdy': 1, 'personal': 1, 'amitheasshole': 1, 'tech': 1, 'pop': 1, 'animals': 1, 'boomerhumor': 1, 'copypasta': 1, 'creative': 1, 'food': 1, 'nba': 1, 'religion': 1, 'school': 1, 'ucla': 1} with 500 posts\n"
     ]
    },
    {
     "data": {
      "application/vnd.jupyter.widget-view+json": {
       "model_id": "dbc7fea93d3e4537a3a1139fb770ac66",
       "version_major": 2,
       "version_minor": 0
      },
      "text/plain": [
       "Map:   0%|          | 0/449 [00:00<?, ? examples/s]"
      ]
     },
     "metadata": {},
     "output_type": "display_data"
    },
    {
     "name": "stdout",
     "output_type": "stream",
     "text": [
      "Preprocessed dataset...\n",
      "Training on device: cuda:0\n",
      "step 0 loss 4.5572\n",
      "step 10 loss 5.0897\n",
      "step 20 loss 2.9345\n",
      "step 30 loss 3.3801\n",
      "step 40 loss 2.7077\n",
      "step 50 loss 2.4202\n",
      "step 60 loss 3.9924\n",
      "step 70 loss 2.5648\n",
      "step 80 loss 2.6686\n",
      "step 90 loss 2.7289\n",
      "step 100 loss 3.1317\n",
      "step 110 loss 2.7517\n",
      "step 120 loss 2.6391\n",
      "step 130 loss 2.5802\n",
      "step 140 loss 2.7256\n",
      "step 150 loss 2.7958\n",
      "step 160 loss 2.9416\n",
      "step 170 loss 2.9763\n",
      "step 180 loss 3.2449\n",
      "step 190 loss 3.0467\n",
      "step 200 loss 2.2820\n",
      "step 210 loss 2.7441\n",
      "step 220 loss 2.8571\n",
      "step 230 loss 2.4938\n",
      "step 240 loss 3.2107\n",
      "step 250 loss 2.4991\n",
      "step 260 loss 2.4892\n",
      "step 270 loss 2.7966\n",
      "step 280 loss 2.7661\n",
      "step 290 loss 2.8442\n",
      "step 300 loss 2.5270\n",
      "step 310 loss 2.6485\n",
      "step 320 loss 2.3801\n",
      "step 330 loss 2.4584\n",
      "step 340 loss 3.1470\n",
      "step 350 loss 2.6964\n",
      "step 360 loss 2.7910\n",
      "step 370 loss 2.6869\n",
      "step 380 loss 3.6067\n",
      "step 390 loss 2.4611\n",
      "step 400 loss 2.2635\n",
      "step 410 loss 3.4319\n",
      "step 420 loss 2.4385\n",
      "step 430 loss 2.9208\n",
      "step 440 loss 2.6211\n",
      "step 450 loss 3.7456\n",
      "step 460 loss 2.3479\n",
      "step 470 loss 3.2741\n",
      "step 480 loss 2.9340\n",
      "step 490 loss 2.0880\n",
      "step 500 loss 2.0857\n",
      "step 510 loss 2.5795\n",
      "step 520 loss 2.4485\n",
      "step 530 loss 2.4417\n",
      "step 540 loss 2.6658\n",
      "step 550 loss 1.8739\n",
      "step 560 loss 4.0949\n",
      "step 570 loss 2.3428\n",
      "step 580 loss 2.5798\n",
      "step 590 loss 2.5470\n",
      "step 600 loss 2.0261\n",
      "step 610 loss 3.6775\n",
      "step 620 loss 2.8928\n",
      "step 630 loss 2.6841\n",
      "step 640 loss 2.9086\n",
      "step 650 loss 2.7866\n",
      "step 660 loss 2.1878\n",
      "step 670 loss 2.6517\n",
      "step 680 loss 2.8381\n",
      "step 690 loss 2.8342\n",
      "step 700 loss 1.8191\n",
      "step 710 loss 2.6803\n",
      "step 720 loss 2.9282\n",
      "step 730 loss 3.4021\n",
      "step 740 loss 2.3768\n",
      "step 750 loss 2.0313\n",
      "step 760 loss 1.9674\n",
      "step 770 loss 2.6466\n",
      "step 780 loss 2.7771\n",
      "step 790 loss 2.9541\n",
      "step 800 loss 2.6083\n",
      "step 810 loss 2.4855\n",
      "step 820 loss 2.8988\n",
      "step 830 loss 3.0518\n",
      "step 840 loss 2.3671\n",
      "step 850 loss 3.3198\n",
      "step 860 loss 2.3503\n",
      "step 870 loss 2.4681\n",
      "step 880 loss 2.4627\n",
      "step 890 loss 2.3805\n",
      "step 900 loss 2.9188\n",
      "step 910 loss 2.7958\n",
      "step 920 loss 2.8770\n",
      "step 930 loss 3.5866\n",
      "step 940 loss 2.0379\n",
      "step 950 loss 2.7200\n",
      "step 960 loss 2.0060\n",
      "step 970 loss 2.5541\n",
      "step 980 loss 2.1723\n",
      "step 990 loss 2.4232\n",
      "Saved prompt adapter to: models/soft_prompts/google/gemma-3-4b-it/varietypack/500\n"
     ]
    },
    {
     "data": {
      "application/vnd.jupyter.widget-view+json": {
       "model_id": "9487503cd77943788593a1d97a1c041a",
       "version_major": 2,
       "version_minor": 0
      },
      "text/plain": [
       "Generating posts:   0%|          | 0/100 [00:00<?, ?it/s]"
      ]
     },
     "metadata": {},
     "output_type": "display_data"
    },
    {
     "name": "stdout",
     "output_type": "stream",
     "text": [
      "Loading 72 posts from nerdy dataset (7.1%)\n",
      "Found 271 valid posts in nerdy\n",
      "Loading 72 posts from personal dataset (7.1%)\n",
      "Found 251 valid posts in personal\n",
      "Loading 72 posts from amitheasshole dataset (7.1%)\n",
      "Found 2000 valid posts in amitheasshole\n",
      "Loading 72 posts from tech dataset (7.1%)\n",
      "Found 150 valid posts in tech\n",
      "Loading 72 posts from pop dataset (7.1%)\n",
      "Found 47 valid posts in pop\n",
      "Warning: Only 47 posts available, using all\n",
      "Loading 72 posts from animals dataset (7.1%)\n",
      "Found 43 valid posts in animals\n",
      "Warning: Only 43 posts available, using all\n",
      "Loading 72 posts from boomerhumor dataset (7.1%)\n",
      "Found 23 valid posts in boomerhumor\n",
      "Warning: Only 23 posts available, using all\n",
      "Loading 72 posts from copypasta dataset (7.1%)\n",
      "Found 2000 valid posts in copypasta\n",
      "Loading 72 posts from creative dataset (7.1%)\n",
      "Found 28 valid posts in creative\n",
      "Warning: Only 28 posts available, using all\n",
      "Loading 72 posts from food dataset (7.1%)\n",
      "Found 10 valid posts in food\n",
      "Warning: Only 10 posts available, using all\n",
      "Loading 72 posts from nba dataset (7.1%)\n",
      "Found 500 valid posts in nba\n",
      "Loading 72 posts from religion dataset (7.1%)\n",
      "Found 28 valid posts in religion\n",
      "Warning: Only 28 posts available, using all\n",
      "Loading 72 posts from school dataset (7.1%)\n",
      "Found 130 valid posts in school\n",
      "Loading 72 posts from ucla dataset (7.1%)\n",
      "Found 1516 valid posts in ucla\n",
      "Loaded dataset {'nerdy': 1, 'personal': 1, 'amitheasshole': 1, 'tech': 1, 'pop': 1, 'animals': 1, 'boomerhumor': 1, 'copypasta': 1, 'creative': 1, 'food': 1, 'nba': 1, 'religion': 1, 'school': 1, 'ucla': 1} with 1000 posts\n"
     ]
    },
    {
     "data": {
      "application/vnd.jupyter.widget-view+json": {
       "model_id": "f9b4e40eabdb45fa9fb24737867ebff5",
       "version_major": 2,
       "version_minor": 0
      },
      "text/plain": [
       "Map:   0%|          | 0/755 [00:00<?, ? examples/s]"
      ]
     },
     "metadata": {},
     "output_type": "display_data"
    },
    {
     "name": "stdout",
     "output_type": "stream",
     "text": [
      "Preprocessed dataset...\n",
      "Training on device: cuda:0\n",
      "step 0 loss 4.8475\n",
      "step 10 loss 6.1659\n",
      "step 20 loss 4.5092\n",
      "step 30 loss 2.7876\n",
      "step 40 loss 2.7899\n",
      "step 50 loss 2.0251\n",
      "step 60 loss 2.2740\n",
      "step 70 loss 2.6847\n",
      "step 80 loss 3.1801\n",
      "step 90 loss 3.8542\n",
      "step 100 loss 3.2558\n",
      "step 110 loss 2.5173\n",
      "step 120 loss 2.1130\n",
      "step 130 loss 3.4579\n",
      "step 140 loss 3.2472\n",
      "step 150 loss 2.4482\n",
      "step 160 loss 3.0563\n",
      "step 170 loss 4.7148\n",
      "step 180 loss 2.5523\n",
      "step 190 loss 2.6472\n",
      "step 200 loss 2.4570\n",
      "step 210 loss 2.8619\n",
      "step 220 loss 2.8304\n",
      "step 230 loss 2.7366\n",
      "step 240 loss 2.6589\n",
      "step 250 loss 3.0513\n",
      "step 260 loss 3.5230\n",
      "step 270 loss 3.3881\n",
      "step 280 loss 2.1870\n",
      "step 290 loss 2.4752\n",
      "step 300 loss 2.7542\n",
      "step 310 loss 2.6194\n",
      "step 320 loss 2.2003\n",
      "step 330 loss 2.9428\n",
      "step 340 loss 2.7889\n",
      "step 350 loss 3.1050\n",
      "step 360 loss 2.7572\n",
      "step 370 loss 3.1002\n",
      "step 380 loss 3.6515\n",
      "step 390 loss 2.5601\n",
      "step 400 loss 3.2405\n",
      "step 410 loss 3.3282\n",
      "step 420 loss 2.2538\n",
      "step 430 loss 3.4126\n",
      "step 440 loss 2.8836\n",
      "step 450 loss 2.3681\n",
      "step 460 loss 2.7566\n",
      "step 470 loss 2.3412\n",
      "step 480 loss 2.8427\n",
      "step 490 loss 3.4410\n",
      "step 500 loss 2.9244\n",
      "step 510 loss 2.6803\n",
      "step 520 loss 3.8050\n",
      "step 530 loss 1.5073\n",
      "step 540 loss 2.0066\n",
      "step 550 loss 3.1547\n",
      "step 560 loss 2.4577\n",
      "step 570 loss 2.7953\n",
      "step 580 loss 2.3819\n",
      "step 590 loss 2.2577\n",
      "step 600 loss 2.8819\n",
      "step 610 loss 2.2078\n",
      "step 620 loss 2.7468\n",
      "step 630 loss 3.0558\n",
      "step 640 loss 1.8266\n",
      "step 650 loss 2.1574\n",
      "step 660 loss 2.1088\n",
      "step 670 loss 2.5376\n",
      "step 680 loss 2.7091\n",
      "step 690 loss 2.6655\n",
      "step 700 loss 2.2217\n",
      "step 710 loss 2.1193\n",
      "step 720 loss 2.4226\n",
      "step 730 loss 3.6135\n",
      "step 740 loss 2.0676\n",
      "step 750 loss 2.3486\n",
      "step 760 loss 2.3563\n",
      "step 770 loss 2.8385\n",
      "step 780 loss 2.5924\n",
      "step 790 loss 2.2650\n",
      "step 800 loss 3.4736\n",
      "step 810 loss 1.7133\n",
      "step 820 loss 2.1753\n",
      "step 830 loss 3.3156\n",
      "step 840 loss 2.0039\n",
      "step 850 loss 2.6737\n",
      "step 860 loss 2.1960\n",
      "step 870 loss 2.0725\n",
      "step 880 loss 2.3843\n",
      "step 890 loss 2.5503\n",
      "step 900 loss 2.3220\n",
      "step 910 loss 3.2142\n",
      "step 920 loss 2.6724\n",
      "step 930 loss 2.6381\n",
      "step 940 loss 3.3183\n",
      "step 950 loss 1.9796\n",
      "step 960 loss 3.2734\n",
      "step 970 loss 2.3852\n",
      "step 980 loss 3.3070\n",
      "step 990 loss 2.5696\n",
      "Saved prompt adapter to: models/soft_prompts/google/gemma-3-4b-it/varietypack/1000\n"
     ]
    },
    {
     "data": {
      "application/vnd.jupyter.widget-view+json": {
       "model_id": "4b1e794d27a74fac9a0eb408c424842e",
       "version_major": 2,
       "version_minor": 0
      },
      "text/plain": [
       "Generating posts:   0%|          | 0/100 [00:00<?, ?it/s]"
      ]
     },
     "metadata": {},
     "output_type": "display_data"
    },
    {
     "name": "stdout",
     "output_type": "stream",
     "text": [
      "Loading 143 posts from nerdy dataset (7.1%)\n",
      "Found 271 valid posts in nerdy\n",
      "Loading 143 posts from personal dataset (7.1%)\n",
      "Found 251 valid posts in personal\n",
      "Loading 143 posts from amitheasshole dataset (7.1%)\n",
      "Found 2000 valid posts in amitheasshole\n",
      "Loading 143 posts from tech dataset (7.1%)\n",
      "Found 150 valid posts in tech\n",
      "Loading 143 posts from pop dataset (7.1%)\n",
      "Found 47 valid posts in pop\n",
      "Warning: Only 47 posts available, using all\n",
      "Loading 143 posts from animals dataset (7.1%)\n",
      "Found 43 valid posts in animals\n",
      "Warning: Only 43 posts available, using all\n",
      "Loading 143 posts from boomerhumor dataset (7.1%)\n",
      "Found 23 valid posts in boomerhumor\n",
      "Warning: Only 23 posts available, using all\n",
      "Loading 143 posts from copypasta dataset (7.1%)\n",
      "Found 2000 valid posts in copypasta\n",
      "Loading 143 posts from creative dataset (7.1%)\n",
      "Found 28 valid posts in creative\n",
      "Warning: Only 28 posts available, using all\n",
      "Loading 143 posts from food dataset (7.1%)\n",
      "Found 10 valid posts in food\n",
      "Warning: Only 10 posts available, using all\n",
      "Loading 143 posts from nba dataset (7.1%)\n",
      "Found 500 valid posts in nba\n",
      "Loading 143 posts from religion dataset (7.1%)\n",
      "Found 28 valid posts in religion\n",
      "Warning: Only 28 posts available, using all\n",
      "Loading 143 posts from school dataset (7.1%)\n",
      "Found 130 valid posts in school\n",
      "Warning: Only 130 posts available, using all\n",
      "Loading 143 posts from ucla dataset (7.1%)\n",
      "Found 1516 valid posts in ucla\n",
      "Loaded dataset {'nerdy': 1, 'personal': 1, 'amitheasshole': 1, 'tech': 1, 'pop': 1, 'animals': 1, 'boomerhumor': 1, 'copypasta': 1, 'creative': 1, 'food': 1, 'nba': 1, 'religion': 1, 'school': 1, 'ucla': 1} with 2000 posts\n"
     ]
    },
    {
     "data": {
      "application/vnd.jupyter.widget-view+json": {
       "model_id": "13fa07cd86ee4a399fcde6f8639b9b3c",
       "version_major": 2,
       "version_minor": 0
      },
      "text/plain": [
       "Map:   0%|          | 0/1310 [00:00<?, ? examples/s]"
      ]
     },
     "metadata": {},
     "output_type": "display_data"
    },
    {
     "name": "stdout",
     "output_type": "stream",
     "text": [
      "Preprocessed dataset...\n",
      "Training on device: cuda:0\n",
      "step 0 loss 4.0391\n",
      "step 10 loss 6.6803\n",
      "step 20 loss 3.5812\n",
      "step 30 loss 3.8731\n",
      "step 40 loss 2.6956\n",
      "step 50 loss 2.9115\n",
      "step 60 loss 2.7969\n",
      "step 70 loss 2.4378\n",
      "step 80 loss 3.7846\n",
      "step 90 loss 2.0390\n",
      "step 100 loss 2.3164\n",
      "step 110 loss 2.6787\n",
      "step 120 loss 3.0923\n",
      "step 130 loss 2.7875\n",
      "step 140 loss 2.3021\n",
      "step 150 loss 2.6749\n",
      "step 160 loss 2.6337\n",
      "step 170 loss 2.5416\n",
      "step 180 loss 2.7224\n",
      "step 190 loss 2.2568\n",
      "step 200 loss 2.8948\n",
      "step 210 loss 2.4626\n",
      "step 220 loss 3.1761\n",
      "step 230 loss 2.1767\n",
      "step 240 loss 2.0793\n",
      "step 250 loss 3.5762\n",
      "step 260 loss 2.7719\n",
      "step 270 loss 3.3098\n",
      "step 280 loss 3.0018\n",
      "step 290 loss 2.8133\n",
      "step 300 loss 2.5632\n",
      "step 310 loss 2.8597\n",
      "step 320 loss 2.9813\n",
      "step 330 loss 3.0943\n",
      "step 340 loss 3.0555\n",
      "step 350 loss 2.5095\n",
      "step 360 loss 1.8692\n",
      "step 370 loss 3.1496\n",
      "step 380 loss 2.7566\n",
      "step 390 loss 2.5051\n",
      "step 400 loss 2.3854\n",
      "step 410 loss 2.5518\n",
      "step 420 loss 1.8249\n",
      "step 430 loss 2.3334\n",
      "step 440 loss 4.2741\n",
      "step 450 loss 1.9698\n",
      "step 460 loss 2.3630\n",
      "step 470 loss 2.7656\n",
      "step 480 loss 2.8301\n",
      "step 490 loss 2.9145\n",
      "step 500 loss 2.6523\n",
      "step 510 loss 2.3292\n",
      "step 520 loss 3.5514\n",
      "step 530 loss 2.7604\n",
      "step 540 loss 2.0527\n",
      "step 550 loss 2.5778\n",
      "step 560 loss 3.3534\n",
      "step 570 loss 2.7865\n",
      "step 580 loss 2.5425\n",
      "step 590 loss 3.1018\n",
      "step 600 loss 3.5697\n",
      "step 610 loss 2.4742\n",
      "step 620 loss 2.3513\n",
      "step 630 loss 2.7651\n",
      "step 640 loss 1.9700\n",
      "step 650 loss 2.4867\n",
      "step 660 loss 2.4061\n",
      "step 670 loss 2.7266\n",
      "step 680 loss 3.1277\n",
      "step 690 loss 2.7338\n",
      "step 700 loss 2.4243\n",
      "step 710 loss 2.2661\n",
      "step 720 loss 2.7979\n",
      "step 730 loss 2.8669\n",
      "step 740 loss 3.0772\n",
      "step 750 loss 2.7055\n",
      "step 760 loss 3.0335\n",
      "step 770 loss 2.7117\n",
      "step 780 loss 2.3149\n",
      "step 790 loss 2.4232\n",
      "step 800 loss 2.4767\n",
      "step 810 loss 3.1181\n",
      "step 820 loss 3.3061\n",
      "step 830 loss 1.7032\n",
      "step 840 loss 3.1013\n",
      "step 850 loss 3.5129\n",
      "step 860 loss 2.3544\n",
      "step 870 loss 2.4566\n",
      "step 880 loss 1.8083\n",
      "step 890 loss 2.9420\n",
      "step 900 loss 2.6773\n",
      "step 910 loss 3.1636\n",
      "step 920 loss 1.7338\n",
      "step 930 loss 3.2215\n",
      "step 940 loss 2.7207\n",
      "step 950 loss 2.8306\n",
      "step 960 loss 1.8614\n",
      "step 970 loss 3.3710\n",
      "step 980 loss 3.2520\n",
      "step 990 loss 2.8322\n",
      "Saved prompt adapter to: models/soft_prompts/google/gemma-3-4b-it/varietypack/2000\n"
     ]
    },
    {
     "data": {
      "application/vnd.jupyter.widget-view+json": {
       "model_id": "ef1c5efe4e9f4bc0a121b339c9824606",
       "version_major": 2,
       "version_minor": 0
      },
      "text/plain": [
       "Generating posts:   0%|          | 0/100 [00:00<?, ?it/s]"
      ]
     },
     "metadata": {},
     "output_type": "display_data"
    },
    {
     "data": {
      "application/vnd.jupyter.widget-view+json": {
       "model_id": "5eae48179cd04de28d566565c996fcc5",
       "version_major": 2,
       "version_minor": 0
      },
      "text/plain": [
       "tokenizer_config.json:   0%|          | 0.00/1.16M [00:00<?, ?B/s]"
      ]
     },
     "metadata": {},
     "output_type": "display_data"
    },
    {
     "data": {
      "application/vnd.jupyter.widget-view+json": {
       "model_id": "3c0f6c45eda2443f87a165cb7147edac",
       "version_major": 2,
       "version_minor": 0
      },
      "text/plain": [
       "tokenizer.model:   0%|          | 0.00/4.69M [00:00<?, ?B/s]"
      ]
     },
     "metadata": {},
     "output_type": "display_data"
    },
    {
     "data": {
      "application/vnd.jupyter.widget-view+json": {
       "model_id": "5dad51784dd24b24a181d8155e9e5a3a",
       "version_major": 2,
       "version_minor": 0
      },
      "text/plain": [
       "tokenizer.json:   0%|          | 0.00/33.4M [00:00<?, ?B/s]"
      ]
     },
     "metadata": {},
     "output_type": "display_data"
    },
    {
     "data": {
      "application/vnd.jupyter.widget-view+json": {
       "model_id": "bf5d03c84ea640cc88a662b03d27a90f",
       "version_major": 2,
       "version_minor": 0
      },
      "text/plain": [
       "added_tokens.json:   0%|          | 0.00/35.0 [00:00<?, ?B/s]"
      ]
     },
     "metadata": {},
     "output_type": "display_data"
    },
    {
     "data": {
      "application/vnd.jupyter.widget-view+json": {
       "model_id": "dfef8fab1aff46038c6d018a67eba803",
       "version_major": 2,
       "version_minor": 0
      },
      "text/plain": [
       "special_tokens_map.json:   0%|          | 0.00/662 [00:00<?, ?B/s]"
      ]
     },
     "metadata": {},
     "output_type": "display_data"
    },
    {
     "data": {
      "application/vnd.jupyter.widget-view+json": {
       "model_id": "d55bb2c0aa2d4bc088c7bb5024af3fab",
       "version_major": 2,
       "version_minor": 0
      },
      "text/plain": [
       "config.json:   0%|          | 0.00/972 [00:00<?, ?B/s]"
      ]
     },
     "metadata": {},
     "output_type": "display_data"
    },
    {
     "data": {
      "application/vnd.jupyter.widget-view+json": {
       "model_id": "0d9e587533044527a464cbae075a6ef4",
       "version_major": 2,
       "version_minor": 0
      },
      "text/plain": [
       "model.safetensors.index.json:   0%|          | 0.00/127k [00:00<?, ?B/s]"
      ]
     },
     "metadata": {},
     "output_type": "display_data"
    },
    {
     "data": {
      "application/vnd.jupyter.widget-view+json": {
       "model_id": "6a5c4d714005474ea8b77400804928bb",
       "version_major": 2,
       "version_minor": 0
      },
      "text/plain": [
       "Fetching 12 files:   0%|          | 0/12 [00:00<?, ?it/s]"
      ]
     },
     "metadata": {},
     "output_type": "display_data"
    },
    {
     "data": {
      "application/vnd.jupyter.widget-view+json": {
       "model_id": "3d87c8e4fac545f6a93936b1983f4d5a",
       "version_major": 2,
       "version_minor": 0
      },
      "text/plain": [
       "model-00006-of-00012.safetensors:   0%|          | 0.00/4.95G [00:00<?, ?B/s]"
      ]
     },
     "metadata": {},
     "output_type": "display_data"
    },
    {
     "data": {
      "application/vnd.jupyter.widget-view+json": {
       "model_id": "0dd9629b582c4251af5612f359200f07",
       "version_major": 2,
       "version_minor": 0
      },
      "text/plain": [
       "model-00002-of-00012.safetensors:   0%|          | 0.00/4.95G [00:00<?, ?B/s]"
      ]
     },
     "metadata": {},
     "output_type": "display_data"
    },
    {
     "data": {
      "application/vnd.jupyter.widget-view+json": {
       "model_id": "5850fceb0a74408594724fc594e62efc",
       "version_major": 2,
       "version_minor": 0
      },
      "text/plain": [
       "model-00004-of-00012.safetensors:   0%|          | 0.00/4.95G [00:00<?, ?B/s]"
      ]
     },
     "metadata": {},
     "output_type": "display_data"
    },
    {
     "data": {
      "application/vnd.jupyter.widget-view+json": {
       "model_id": "3db142b38b5c46369ed522205c7033b7",
       "version_major": 2,
       "version_minor": 0
      },
      "text/plain": [
       "model-00007-of-00012.safetensors:   0%|          | 0.00/4.95G [00:00<?, ?B/s]"
      ]
     },
     "metadata": {},
     "output_type": "display_data"
    },
    {
     "data": {
      "application/vnd.jupyter.widget-view+json": {
       "model_id": "0f58ab1427e9485bb04b4bae50548981",
       "version_major": 2,
       "version_minor": 0
      },
      "text/plain": [
       "model-00003-of-00012.safetensors:   0%|          | 0.00/4.95G [00:00<?, ?B/s]"
      ]
     },
     "metadata": {},
     "output_type": "display_data"
    },
    {
     "data": {
      "application/vnd.jupyter.widget-view+json": {
       "model_id": "6a9f53adfb34486889bc569e04e0f49f",
       "version_major": 2,
       "version_minor": 0
      },
      "text/plain": [
       "model-00008-of-00012.safetensors:   0%|          | 0.00/4.95G [00:00<?, ?B/s]"
      ]
     },
     "metadata": {},
     "output_type": "display_data"
    },
    {
     "data": {
      "application/vnd.jupyter.widget-view+json": {
       "model_id": "a4fd6f590b3f47099932d35257c34de6",
       "version_major": 2,
       "version_minor": 0
      },
      "text/plain": [
       "model-00005-of-00012.safetensors:   0%|          | 0.00/4.95G [00:00<?, ?B/s]"
      ]
     },
     "metadata": {},
     "output_type": "display_data"
    },
    {
     "data": {
      "application/vnd.jupyter.widget-view+json": {
       "model_id": "375b81e0b25444a9934b2a681ba5ca20",
       "version_major": 2,
       "version_minor": 0
      },
      "text/plain": [
       "model-00001-of-00012.safetensors:   0%|          | 0.00/4.85G [00:00<?, ?B/s]"
      ]
     },
     "metadata": {},
     "output_type": "display_data"
    },
    {
     "data": {
      "application/vnd.jupyter.widget-view+json": {
       "model_id": "41056cb7e9c94007b55096972760c93d",
       "version_major": 2,
       "version_minor": 0
      },
      "text/plain": [
       "model-00009-of-00012.safetensors:   0%|          | 0.00/4.95G [00:00<?, ?B/s]"
      ]
     },
     "metadata": {},
     "output_type": "display_data"
    },
    {
     "data": {
      "application/vnd.jupyter.widget-view+json": {
       "model_id": "a1b8e73c8bc0480ab9a43769557dfb14",
       "version_major": 2,
       "version_minor": 0
      },
      "text/plain": [
       "model-00010-of-00012.safetensors:   0%|          | 0.00/4.95G [00:00<?, ?B/s]"
      ]
     },
     "metadata": {},
     "output_type": "display_data"
    },
    {
     "data": {
      "application/vnd.jupyter.widget-view+json": {
       "model_id": "77fbf9906cf243f19add6913a20a8b21",
       "version_major": 2,
       "version_minor": 0
      },
      "text/plain": [
       "model-00011-of-00012.safetensors:   0%|          | 0.00/4.95G [00:00<?, ?B/s]"
      ]
     },
     "metadata": {},
     "output_type": "display_data"
    },
    {
     "data": {
      "application/vnd.jupyter.widget-view+json": {
       "model_id": "4908bb89d5ff4252913451f8f454876e",
       "version_major": 2,
       "version_minor": 0
      },
      "text/plain": [
       "model-00012-of-00012.safetensors:   0%|          | 0.00/462M [00:00<?, ?B/s]"
      ]
     },
     "metadata": {},
     "output_type": "display_data"
    },
    {
     "data": {
      "application/vnd.jupyter.widget-view+json": {
       "model_id": "c7862406ca054ae98ddd89f1234eb4c9",
       "version_major": 2,
       "version_minor": 0
      },
      "text/plain": [
       "Loading checkpoint shards:   0%|          | 0/12 [00:00<?, ?it/s]"
      ]
     },
     "metadata": {},
     "output_type": "display_data"
    },
    {
     "data": {
      "application/vnd.jupyter.widget-view+json": {
       "model_id": "d5b45a61e95d4af794b69802a0e4420d",
       "version_major": 2,
       "version_minor": 0
      },
      "text/plain": [
       "generation_config.json:   0%|          | 0.00/215 [00:00<?, ?B/s]"
      ]
     },
     "metadata": {},
     "output_type": "display_data"
    },
    {
     "name": "stdout",
     "output_type": "stream",
     "text": [
      "Loaded google/gemma-3-27b-it model and tokenizer\n"
     ]
    },
    {
     "data": {
      "application/vnd.jupyter.widget-view+json": {
       "model_id": "e3c286ac02e34f8fae866266b8fbfa7e",
       "version_major": 2,
       "version_minor": 0
      },
      "text/plain": [
       "Datasets1:   0%|          | 0/5 [00:00<?, ?it/s]"
      ]
     },
     "metadata": {},
     "output_type": "display_data"
    },
    {
     "data": {
      "application/vnd.jupyter.widget-view+json": {
       "model_id": "a0858f5780144cdcbf52b41ac258c4a3",
       "version_major": 2,
       "version_minor": 0
      },
      "text/plain": [
       "Train sizes:   0%|          | 0/8 [00:00<?, ?it/s]"
      ]
     },
     "metadata": {},
     "output_type": "display_data"
    },
    {
     "name": "stdout",
     "output_type": "stream",
     "text": [
      "Loading 10 posts from minecraft dataset (100.0%)\n",
      "Found 2000 valid posts in minecraft\n",
      "Loaded dataset {'minecraft': 1} with 10 posts\n"
     ]
    },
    {
     "data": {
      "application/vnd.jupyter.widget-view+json": {
       "model_id": "0a9aacd0963b4aeb83d02bd1b0092234",
       "version_major": 2,
       "version_minor": 0
      },
      "text/plain": [
       "Map:   0%|          | 0/10 [00:00<?, ? examples/s]"
      ]
     },
     "metadata": {},
     "output_type": "display_data"
    },
    {
     "name": "stdout",
     "output_type": "stream",
     "text": [
      "Preprocessed dataset...\n",
      "Training on device: cuda:0\n",
      "step 0 loss 6.8439\n",
      "step 10 loss 4.5646\n",
      "step 20 loss 5.4784\n",
      "step 30 loss 2.9644\n",
      "step 40 loss 3.5899\n",
      "step 50 loss 3.3290\n",
      "step 60 loss 3.2824\n",
      "step 70 loss 1.8265\n",
      "step 80 loss 2.4791\n",
      "step 90 loss 2.3981\n",
      "Saved prompt adapter to: models/soft_prompts/google/gemma-3-27b-it/minecraft/10\n"
     ]
    },
    {
     "data": {
      "application/vnd.jupyter.widget-view+json": {
       "model_id": "733c41a2d30f4936890ecd2542814a28",
       "version_major": 2,
       "version_minor": 0
      },
      "text/plain": [
       "Generating posts:   0%|          | 0/100 [00:00<?, ?it/s]"
      ]
     },
     "metadata": {},
     "output_type": "display_data"
    },
    {
     "name": "stdout",
     "output_type": "stream",
     "text": [
      "Loading 20 posts from minecraft dataset (100.0%)\n",
      "Found 2000 valid posts in minecraft\n",
      "Loaded dataset {'minecraft': 1} with 20 posts\n"
     ]
    },
    {
     "data": {
      "application/vnd.jupyter.widget-view+json": {
       "model_id": "6a26ed8bad7b47b68550680f713ff3d1",
       "version_major": 2,
       "version_minor": 0
      },
      "text/plain": [
       "Map:   0%|          | 0/20 [00:00<?, ? examples/s]"
      ]
     },
     "metadata": {},
     "output_type": "display_data"
    },
    {
     "name": "stdout",
     "output_type": "stream",
     "text": [
      "Preprocessed dataset...\n",
      "Training on device: cuda:0\n",
      "step 0 loss 9.4105\n",
      "step 10 loss 4.8091\n",
      "step 20 loss 3.1170\n",
      "step 30 loss 6.0860\n",
      "step 40 loss 4.1191\n",
      "step 50 loss 2.5564\n",
      "step 60 loss 2.9119\n",
      "step 70 loss 3.5006\n",
      "step 80 loss 2.6373\n",
      "step 90 loss 2.0565\n",
      "step 100 loss 2.6841\n",
      "step 110 loss 3.2026\n",
      "step 120 loss 1.8825\n",
      "step 130 loss 2.2271\n",
      "step 140 loss 1.9549\n",
      "step 150 loss 2.1519\n",
      "step 160 loss 2.1024\n",
      "step 170 loss 2.1342\n",
      "step 180 loss 2.7481\n",
      "step 190 loss 2.4582\n",
      "Saved prompt adapter to: models/soft_prompts/google/gemma-3-27b-it/minecraft/20\n"
     ]
    },
    {
     "data": {
      "application/vnd.jupyter.widget-view+json": {
       "model_id": "9a7ac7caad3f472091744c56c98f77e4",
       "version_major": 2,
       "version_minor": 0
      },
      "text/plain": [
       "Generating posts:   0%|          | 0/100 [00:00<?, ?it/s]"
      ]
     },
     "metadata": {},
     "output_type": "display_data"
    },
    {
     "name": "stdout",
     "output_type": "stream",
     "text": [
      "Loading 50 posts from minecraft dataset (100.0%)\n",
      "Found 2000 valid posts in minecraft\n",
      "Loaded dataset {'minecraft': 1} with 50 posts\n"
     ]
    },
    {
     "data": {
      "application/vnd.jupyter.widget-view+json": {
       "model_id": "2e1dfcc93fab4d7e908b5a1962e76243",
       "version_major": 2,
       "version_minor": 0
      },
      "text/plain": [
       "Map:   0%|          | 0/50 [00:00<?, ? examples/s]"
      ]
     },
     "metadata": {},
     "output_type": "display_data"
    },
    {
     "name": "stdout",
     "output_type": "stream",
     "text": [
      "Preprocessed dataset...\n",
      "Training on device: cuda:0\n",
      "step 0 loss 0.8754\n",
      "step 10 loss 3.0808\n",
      "step 20 loss 3.9837\n",
      "step 30 loss 4.0230\n",
      "step 40 loss 4.5148\n",
      "step 50 loss 2.9119\n",
      "step 60 loss 2.4091\n",
      "step 70 loss 3.1092\n",
      "step 80 loss 2.6685\n",
      "step 90 loss 2.5741\n",
      "step 100 loss 2.9419\n",
      "step 110 loss 2.3855\n",
      "step 120 loss 2.0958\n"
     ]
    },
    {
     "ename": "KeyboardInterrupt",
     "evalue": "",
     "output_type": "error",
     "traceback": [
      "\u001b[31m---------------------------------------------------------------------------\u001b[39m",
      "\u001b[31mKeyboardInterrupt\u001b[39m                         Traceback (most recent call last)",
      "\u001b[36mCell\u001b[39m\u001b[36m \u001b[39m\u001b[32mIn[39]\u001b[39m\u001b[32m, line 22\u001b[39m\n\u001b[32m     19\u001b[39m     train_ds = preprocess_dataset(examples, tokenizer)\n\u001b[32m     21\u001b[39m     peft_model = init_peft_model(model, model_name)\n\u001b[32m---> \u001b[39m\u001b[32m22\u001b[39m     \u001b[43mtrain_soft_prompt\u001b[49m\u001b[43m(\u001b[49m\u001b[43mpeft_model\u001b[49m\u001b[43m,\u001b[49m\u001b[43m \u001b[49m\u001b[43mtokenizer\u001b[49m\u001b[43m,\u001b[49m\u001b[43m \u001b[49m\u001b[43mtrain_ds\u001b[49m\u001b[43m,\u001b[49m\u001b[43m \u001b[49m\u001b[43mNUM_TRAIN_STEPS\u001b[49m\u001b[43m,\u001b[49m\u001b[43m \u001b[49m\u001b[43msoft_output_dir\u001b[49m\u001b[43m)\u001b[49m\n\u001b[32m     23\u001b[39m \u001b[38;5;28;01melse\u001b[39;00m:\n\u001b[32m     24\u001b[39m     \u001b[38;5;28mprint\u001b[39m(\u001b[33mf\u001b[39m\u001b[33m\"\u001b[39m\u001b[33mSoft prompt \u001b[39m\u001b[38;5;132;01m{\u001b[39;00msoft_output_dir\u001b[38;5;132;01m}\u001b[39;00m\u001b[33m exists, skipping training\u001b[39m\u001b[33m\"\u001b[39m)\n",
      "\u001b[36mCell\u001b[39m\u001b[36m \u001b[39m\u001b[32mIn[24]\u001b[39m\u001b[32m, line 67\u001b[39m, in \u001b[36mtrain_soft_prompt\u001b[39m\u001b[34m(model, tokenizer, train_ds, train_steps, output_dir)\u001b[39m\n\u001b[32m     65\u001b[39m \u001b[38;5;28;01mfor\u001b[39;00m batch \u001b[38;5;129;01min\u001b[39;00m train_loader:\n\u001b[32m     66\u001b[39m     batch = {k: v.to(model_device) \u001b[38;5;28;01mfor\u001b[39;00m k, v \u001b[38;5;129;01min\u001b[39;00m batch.items()}\n\u001b[32m---> \u001b[39m\u001b[32m67\u001b[39m     outputs = \u001b[43mmodel\u001b[49m\u001b[43m(\u001b[49m\u001b[43m*\u001b[49m\u001b[43m*\u001b[49m\u001b[43mbatch\u001b[49m\u001b[43m)\u001b[49m\n\u001b[32m     68\u001b[39m     loss = outputs.loss\n\u001b[32m     69\u001b[39m     (loss / GRAD_ACCUM_STEPS).backward()\n",
      "\u001b[36mFile \u001b[39m\u001b[32m/usr/local/lib/python3.11/dist-packages/torch/nn/modules/module.py:1751\u001b[39m, in \u001b[36mModule._wrapped_call_impl\u001b[39m\u001b[34m(self, *args, **kwargs)\u001b[39m\n\u001b[32m   1749\u001b[39m     \u001b[38;5;28;01mreturn\u001b[39;00m \u001b[38;5;28mself\u001b[39m._compiled_call_impl(*args, **kwargs)  \u001b[38;5;66;03m# type: ignore[misc]\u001b[39;00m\n\u001b[32m   1750\u001b[39m \u001b[38;5;28;01melse\u001b[39;00m:\n\u001b[32m-> \u001b[39m\u001b[32m1751\u001b[39m     \u001b[38;5;28;01mreturn\u001b[39;00m \u001b[38;5;28;43mself\u001b[39;49m\u001b[43m.\u001b[49m\u001b[43m_call_impl\u001b[49m\u001b[43m(\u001b[49m\u001b[43m*\u001b[49m\u001b[43margs\u001b[49m\u001b[43m,\u001b[49m\u001b[43m \u001b[49m\u001b[43m*\u001b[49m\u001b[43m*\u001b[49m\u001b[43mkwargs\u001b[49m\u001b[43m)\u001b[49m\n",
      "\u001b[36mFile \u001b[39m\u001b[32m/usr/local/lib/python3.11/dist-packages/torch/nn/modules/module.py:1762\u001b[39m, in \u001b[36mModule._call_impl\u001b[39m\u001b[34m(self, *args, **kwargs)\u001b[39m\n\u001b[32m   1757\u001b[39m \u001b[38;5;66;03m# If we don't have any hooks, we want to skip the rest of the logic in\u001b[39;00m\n\u001b[32m   1758\u001b[39m \u001b[38;5;66;03m# this function, and just call forward.\u001b[39;00m\n\u001b[32m   1759\u001b[39m \u001b[38;5;28;01mif\u001b[39;00m \u001b[38;5;129;01mnot\u001b[39;00m (\u001b[38;5;28mself\u001b[39m._backward_hooks \u001b[38;5;129;01mor\u001b[39;00m \u001b[38;5;28mself\u001b[39m._backward_pre_hooks \u001b[38;5;129;01mor\u001b[39;00m \u001b[38;5;28mself\u001b[39m._forward_hooks \u001b[38;5;129;01mor\u001b[39;00m \u001b[38;5;28mself\u001b[39m._forward_pre_hooks\n\u001b[32m   1760\u001b[39m         \u001b[38;5;129;01mor\u001b[39;00m _global_backward_pre_hooks \u001b[38;5;129;01mor\u001b[39;00m _global_backward_hooks\n\u001b[32m   1761\u001b[39m         \u001b[38;5;129;01mor\u001b[39;00m _global_forward_hooks \u001b[38;5;129;01mor\u001b[39;00m _global_forward_pre_hooks):\n\u001b[32m-> \u001b[39m\u001b[32m1762\u001b[39m     \u001b[38;5;28;01mreturn\u001b[39;00m \u001b[43mforward_call\u001b[49m\u001b[43m(\u001b[49m\u001b[43m*\u001b[49m\u001b[43margs\u001b[49m\u001b[43m,\u001b[49m\u001b[43m \u001b[49m\u001b[43m*\u001b[49m\u001b[43m*\u001b[49m\u001b[43mkwargs\u001b[49m\u001b[43m)\u001b[49m\n\u001b[32m   1764\u001b[39m result = \u001b[38;5;28;01mNone\u001b[39;00m\n\u001b[32m   1765\u001b[39m called_always_called_hooks = \u001b[38;5;28mset\u001b[39m()\n",
      "\u001b[36mFile \u001b[39m\u001b[32m/usr/local/lib/python3.11/dist-packages/peft/peft_model.py:1904\u001b[39m, in \u001b[36mPeftModelForCausalLM.forward\u001b[39m\u001b[34m(self, input_ids, attention_mask, inputs_embeds, labels, output_attentions, output_hidden_states, return_dict, task_ids, **kwargs)\u001b[39m\n\u001b[32m   1902\u001b[39m prompts = prompts.to(inputs_embeds.dtype)\n\u001b[32m   1903\u001b[39m inputs_embeds = torch.cat((prompts, inputs_embeds), dim=\u001b[32m1\u001b[39m)\n\u001b[32m-> \u001b[39m\u001b[32m1904\u001b[39m \u001b[38;5;28;01mreturn\u001b[39;00m \u001b[38;5;28;43mself\u001b[39;49m\u001b[43m.\u001b[49m\u001b[43mbase_model\u001b[49m\u001b[43m(\u001b[49m\u001b[43minputs_embeds\u001b[49m\u001b[43m=\u001b[49m\u001b[43minputs_embeds\u001b[49m\u001b[43m,\u001b[49m\u001b[43m \u001b[49m\u001b[43m*\u001b[49m\u001b[43m*\u001b[49m\u001b[43mkwargs\u001b[49m\u001b[43m)\u001b[49m\n",
      "\u001b[36mFile \u001b[39m\u001b[32m/usr/local/lib/python3.11/dist-packages/torch/nn/modules/module.py:1751\u001b[39m, in \u001b[36mModule._wrapped_call_impl\u001b[39m\u001b[34m(self, *args, **kwargs)\u001b[39m\n\u001b[32m   1749\u001b[39m     \u001b[38;5;28;01mreturn\u001b[39;00m \u001b[38;5;28mself\u001b[39m._compiled_call_impl(*args, **kwargs)  \u001b[38;5;66;03m# type: ignore[misc]\u001b[39;00m\n\u001b[32m   1750\u001b[39m \u001b[38;5;28;01melse\u001b[39;00m:\n\u001b[32m-> \u001b[39m\u001b[32m1751\u001b[39m     \u001b[38;5;28;01mreturn\u001b[39;00m \u001b[38;5;28;43mself\u001b[39;49m\u001b[43m.\u001b[49m\u001b[43m_call_impl\u001b[49m\u001b[43m(\u001b[49m\u001b[43m*\u001b[49m\u001b[43margs\u001b[49m\u001b[43m,\u001b[49m\u001b[43m \u001b[49m\u001b[43m*\u001b[49m\u001b[43m*\u001b[49m\u001b[43mkwargs\u001b[49m\u001b[43m)\u001b[49m\n",
      "\u001b[36mFile \u001b[39m\u001b[32m/usr/local/lib/python3.11/dist-packages/torch/nn/modules/module.py:1762\u001b[39m, in \u001b[36mModule._call_impl\u001b[39m\u001b[34m(self, *args, **kwargs)\u001b[39m\n\u001b[32m   1757\u001b[39m \u001b[38;5;66;03m# If we don't have any hooks, we want to skip the rest of the logic in\u001b[39;00m\n\u001b[32m   1758\u001b[39m \u001b[38;5;66;03m# this function, and just call forward.\u001b[39;00m\n\u001b[32m   1759\u001b[39m \u001b[38;5;28;01mif\u001b[39;00m \u001b[38;5;129;01mnot\u001b[39;00m (\u001b[38;5;28mself\u001b[39m._backward_hooks \u001b[38;5;129;01mor\u001b[39;00m \u001b[38;5;28mself\u001b[39m._backward_pre_hooks \u001b[38;5;129;01mor\u001b[39;00m \u001b[38;5;28mself\u001b[39m._forward_hooks \u001b[38;5;129;01mor\u001b[39;00m \u001b[38;5;28mself\u001b[39m._forward_pre_hooks\n\u001b[32m   1760\u001b[39m         \u001b[38;5;129;01mor\u001b[39;00m _global_backward_pre_hooks \u001b[38;5;129;01mor\u001b[39;00m _global_backward_hooks\n\u001b[32m   1761\u001b[39m         \u001b[38;5;129;01mor\u001b[39;00m _global_forward_hooks \u001b[38;5;129;01mor\u001b[39;00m _global_forward_pre_hooks):\n\u001b[32m-> \u001b[39m\u001b[32m1762\u001b[39m     \u001b[38;5;28;01mreturn\u001b[39;00m \u001b[43mforward_call\u001b[49m\u001b[43m(\u001b[49m\u001b[43m*\u001b[49m\u001b[43margs\u001b[49m\u001b[43m,\u001b[49m\u001b[43m \u001b[49m\u001b[43m*\u001b[49m\u001b[43m*\u001b[49m\u001b[43mkwargs\u001b[49m\u001b[43m)\u001b[49m\n\u001b[32m   1764\u001b[39m result = \u001b[38;5;28;01mNone\u001b[39;00m\n\u001b[32m   1765\u001b[39m called_always_called_hooks = \u001b[38;5;28mset\u001b[39m()\n",
      "\u001b[36mFile \u001b[39m\u001b[32m/usr/local/lib/python3.11/dist-packages/transformers/models/gemma3/modeling_gemma3.py:1077\u001b[39m, in \u001b[36mGemma3ForConditionalGeneration.forward\u001b[39m\u001b[34m(self, input_ids, pixel_values, attention_mask, position_ids, past_key_values, token_type_ids, cache_position, inputs_embeds, labels, use_cache, output_attentions, output_hidden_states, return_dict, logits_to_keep, **lm_kwargs)\u001b[39m\n\u001b[32m   1072\u001b[39m output_hidden_states = (\n\u001b[32m   1073\u001b[39m     output_hidden_states \u001b[38;5;28;01mif\u001b[39;00m output_hidden_states \u001b[38;5;129;01mis\u001b[39;00m \u001b[38;5;129;01mnot\u001b[39;00m \u001b[38;5;28;01mNone\u001b[39;00m \u001b[38;5;28;01melse\u001b[39;00m \u001b[38;5;28mself\u001b[39m.config.output_hidden_states\n\u001b[32m   1074\u001b[39m )\n\u001b[32m   1075\u001b[39m return_dict = return_dict \u001b[38;5;28;01mif\u001b[39;00m return_dict \u001b[38;5;129;01mis\u001b[39;00m \u001b[38;5;129;01mnot\u001b[39;00m \u001b[38;5;28;01mNone\u001b[39;00m \u001b[38;5;28;01melse\u001b[39;00m \u001b[38;5;28mself\u001b[39m.config.use_return_dict\n\u001b[32m-> \u001b[39m\u001b[32m1077\u001b[39m outputs = \u001b[38;5;28;43mself\u001b[39;49m\u001b[43m.\u001b[49m\u001b[43mmodel\u001b[49m\u001b[43m(\u001b[49m\n\u001b[32m   1078\u001b[39m \u001b[43m    \u001b[49m\u001b[43minput_ids\u001b[49m\u001b[43m=\u001b[49m\u001b[43minput_ids\u001b[49m\u001b[43m,\u001b[49m\n\u001b[32m   1079\u001b[39m \u001b[43m    \u001b[49m\u001b[43mpixel_values\u001b[49m\u001b[43m=\u001b[49m\u001b[43mpixel_values\u001b[49m\u001b[43m,\u001b[49m\n\u001b[32m   1080\u001b[39m \u001b[43m    \u001b[49m\u001b[43mtoken_type_ids\u001b[49m\u001b[43m=\u001b[49m\u001b[43mtoken_type_ids\u001b[49m\u001b[43m,\u001b[49m\n\u001b[32m   1081\u001b[39m \u001b[43m    \u001b[49m\u001b[43mattention_mask\u001b[49m\u001b[43m=\u001b[49m\u001b[43mattention_mask\u001b[49m\u001b[43m,\u001b[49m\n\u001b[32m   1082\u001b[39m \u001b[43m    \u001b[49m\u001b[43mposition_ids\u001b[49m\u001b[43m=\u001b[49m\u001b[43mposition_ids\u001b[49m\u001b[43m,\u001b[49m\n\u001b[32m   1083\u001b[39m \u001b[43m    \u001b[49m\u001b[43mpast_key_values\u001b[49m\u001b[43m=\u001b[49m\u001b[43mpast_key_values\u001b[49m\u001b[43m,\u001b[49m\n\u001b[32m   1084\u001b[39m \u001b[43m    \u001b[49m\u001b[43minputs_embeds\u001b[49m\u001b[43m=\u001b[49m\u001b[43minputs_embeds\u001b[49m\u001b[43m,\u001b[49m\n\u001b[32m   1085\u001b[39m \u001b[43m    \u001b[49m\u001b[43muse_cache\u001b[49m\u001b[43m=\u001b[49m\u001b[43muse_cache\u001b[49m\u001b[43m,\u001b[49m\n\u001b[32m   1086\u001b[39m \u001b[43m    \u001b[49m\u001b[43mlabels\u001b[49m\u001b[43m=\u001b[49m\u001b[43mlabels\u001b[49m\u001b[43m,\u001b[49m\n\u001b[32m   1087\u001b[39m \u001b[43m    \u001b[49m\u001b[43moutput_attentions\u001b[49m\u001b[43m=\u001b[49m\u001b[43moutput_attentions\u001b[49m\u001b[43m,\u001b[49m\n\u001b[32m   1088\u001b[39m \u001b[43m    \u001b[49m\u001b[43moutput_hidden_states\u001b[49m\u001b[43m=\u001b[49m\u001b[43moutput_hidden_states\u001b[49m\u001b[43m,\u001b[49m\n\u001b[32m   1089\u001b[39m \u001b[43m    \u001b[49m\u001b[43mreturn_dict\u001b[49m\u001b[43m=\u001b[49m\u001b[43mreturn_dict\u001b[49m\u001b[43m,\u001b[49m\n\u001b[32m   1090\u001b[39m \u001b[43m    \u001b[49m\u001b[43mcache_position\u001b[49m\u001b[43m=\u001b[49m\u001b[43mcache_position\u001b[49m\u001b[43m,\u001b[49m\n\u001b[32m   1091\u001b[39m \u001b[43m    \u001b[49m\u001b[43m*\u001b[49m\u001b[43m*\u001b[49m\u001b[43mlm_kwargs\u001b[49m\u001b[43m,\u001b[49m\n\u001b[32m   1092\u001b[39m \u001b[43m\u001b[49m\u001b[43m)\u001b[49m\n\u001b[32m   1094\u001b[39m hidden_states = outputs[\u001b[32m0\u001b[39m]\n\u001b[32m   1095\u001b[39m \u001b[38;5;66;03m# Only compute necessary logits, and do not upcast them to float if we are not computing the loss\u001b[39;00m\n",
      "\u001b[36mFile \u001b[39m\u001b[32m/usr/local/lib/python3.11/dist-packages/torch/nn/modules/module.py:1751\u001b[39m, in \u001b[36mModule._wrapped_call_impl\u001b[39m\u001b[34m(self, *args, **kwargs)\u001b[39m\n\u001b[32m   1749\u001b[39m     \u001b[38;5;28;01mreturn\u001b[39;00m \u001b[38;5;28mself\u001b[39m._compiled_call_impl(*args, **kwargs)  \u001b[38;5;66;03m# type: ignore[misc]\u001b[39;00m\n\u001b[32m   1750\u001b[39m \u001b[38;5;28;01melse\u001b[39;00m:\n\u001b[32m-> \u001b[39m\u001b[32m1751\u001b[39m     \u001b[38;5;28;01mreturn\u001b[39;00m \u001b[38;5;28;43mself\u001b[39;49m\u001b[43m.\u001b[49m\u001b[43m_call_impl\u001b[49m\u001b[43m(\u001b[49m\u001b[43m*\u001b[49m\u001b[43margs\u001b[49m\u001b[43m,\u001b[49m\u001b[43m \u001b[49m\u001b[43m*\u001b[49m\u001b[43m*\u001b[49m\u001b[43mkwargs\u001b[49m\u001b[43m)\u001b[49m\n",
      "\u001b[36mFile \u001b[39m\u001b[32m/usr/local/lib/python3.11/dist-packages/torch/nn/modules/module.py:1762\u001b[39m, in \u001b[36mModule._call_impl\u001b[39m\u001b[34m(self, *args, **kwargs)\u001b[39m\n\u001b[32m   1757\u001b[39m \u001b[38;5;66;03m# If we don't have any hooks, we want to skip the rest of the logic in\u001b[39;00m\n\u001b[32m   1758\u001b[39m \u001b[38;5;66;03m# this function, and just call forward.\u001b[39;00m\n\u001b[32m   1759\u001b[39m \u001b[38;5;28;01mif\u001b[39;00m \u001b[38;5;129;01mnot\u001b[39;00m (\u001b[38;5;28mself\u001b[39m._backward_hooks \u001b[38;5;129;01mor\u001b[39;00m \u001b[38;5;28mself\u001b[39m._backward_pre_hooks \u001b[38;5;129;01mor\u001b[39;00m \u001b[38;5;28mself\u001b[39m._forward_hooks \u001b[38;5;129;01mor\u001b[39;00m \u001b[38;5;28mself\u001b[39m._forward_pre_hooks\n\u001b[32m   1760\u001b[39m         \u001b[38;5;129;01mor\u001b[39;00m _global_backward_pre_hooks \u001b[38;5;129;01mor\u001b[39;00m _global_backward_hooks\n\u001b[32m   1761\u001b[39m         \u001b[38;5;129;01mor\u001b[39;00m _global_forward_hooks \u001b[38;5;129;01mor\u001b[39;00m _global_forward_pre_hooks):\n\u001b[32m-> \u001b[39m\u001b[32m1762\u001b[39m     \u001b[38;5;28;01mreturn\u001b[39;00m \u001b[43mforward_call\u001b[49m\u001b[43m(\u001b[49m\u001b[43m*\u001b[49m\u001b[43margs\u001b[49m\u001b[43m,\u001b[49m\u001b[43m \u001b[49m\u001b[43m*\u001b[49m\u001b[43m*\u001b[49m\u001b[43mkwargs\u001b[49m\u001b[43m)\u001b[49m\n\u001b[32m   1764\u001b[39m result = \u001b[38;5;28;01mNone\u001b[39;00m\n\u001b[32m   1765\u001b[39m called_always_called_hooks = \u001b[38;5;28mset\u001b[39m()\n",
      "\u001b[36mFile \u001b[39m\u001b[32m/usr/local/lib/python3.11/dist-packages/transformers/utils/generic.py:940\u001b[39m, in \u001b[36mcan_return_tuple.<locals>.wrapper\u001b[39m\u001b[34m(self, *args, **kwargs)\u001b[39m\n\u001b[32m    938\u001b[39m \u001b[38;5;28;01mif\u001b[39;00m return_dict_passed \u001b[38;5;129;01mis\u001b[39;00m \u001b[38;5;129;01mnot\u001b[39;00m \u001b[38;5;28;01mNone\u001b[39;00m:\n\u001b[32m    939\u001b[39m     return_dict = return_dict_passed\n\u001b[32m--> \u001b[39m\u001b[32m940\u001b[39m output = \u001b[43mfunc\u001b[49m\u001b[43m(\u001b[49m\u001b[38;5;28;43mself\u001b[39;49m\u001b[43m,\u001b[49m\u001b[43m \u001b[49m\u001b[43m*\u001b[49m\u001b[43margs\u001b[49m\u001b[43m,\u001b[49m\u001b[43m \u001b[49m\u001b[43m*\u001b[49m\u001b[43m*\u001b[49m\u001b[43mkwargs\u001b[49m\u001b[43m)\u001b[49m\n\u001b[32m    941\u001b[39m \u001b[38;5;28;01mif\u001b[39;00m \u001b[38;5;129;01mnot\u001b[39;00m return_dict \u001b[38;5;129;01mand\u001b[39;00m \u001b[38;5;129;01mnot\u001b[39;00m \u001b[38;5;28misinstance\u001b[39m(output, \u001b[38;5;28mtuple\u001b[39m):\n\u001b[32m    942\u001b[39m     output = output.to_tuple()\n",
      "\u001b[36mFile \u001b[39m\u001b[32m/usr/local/lib/python3.11/dist-packages/transformers/models/gemma3/modeling_gemma3.py:937\u001b[39m, in \u001b[36mGemma3Model.forward\u001b[39m\u001b[34m(self, input_ids, pixel_values, attention_mask, position_ids, past_key_values, token_type_ids, cache_position, inputs_embeds, labels, use_cache, output_attentions, output_hidden_states, return_dict, **lm_kwargs)\u001b[39m\n\u001b[32m    931\u001b[39m     \u001b[38;5;66;03m# Create the masks\u001b[39;00m\n\u001b[32m    932\u001b[39m     causal_mask_mapping = {\n\u001b[32m    933\u001b[39m         \u001b[33m\"\u001b[39m\u001b[33mfull_attention\u001b[39m\u001b[33m\"\u001b[39m: create_causal_mask(**mask_kwargs),\n\u001b[32m    934\u001b[39m         \u001b[33m\"\u001b[39m\u001b[33msliding_attention\u001b[39m\u001b[33m\"\u001b[39m: create_sliding_window_causal_mask(**mask_kwargs),\n\u001b[32m    935\u001b[39m     }\n\u001b[32m--> \u001b[39m\u001b[32m937\u001b[39m outputs = \u001b[38;5;28;43mself\u001b[39;49m\u001b[43m.\u001b[49m\u001b[43mlanguage_model\u001b[49m\u001b[43m(\u001b[49m\n\u001b[32m    938\u001b[39m \u001b[43m    \u001b[49m\u001b[43mattention_mask\u001b[49m\u001b[43m=\u001b[49m\u001b[43mcausal_mask_mapping\u001b[49m\u001b[43m,\u001b[49m\n\u001b[32m    939\u001b[39m \u001b[43m    \u001b[49m\u001b[43mposition_ids\u001b[49m\u001b[43m=\u001b[49m\u001b[43mposition_ids\u001b[49m\u001b[43m,\u001b[49m\n\u001b[32m    940\u001b[39m \u001b[43m    \u001b[49m\u001b[43mpast_key_values\u001b[49m\u001b[43m=\u001b[49m\u001b[43mpast_key_values\u001b[49m\u001b[43m,\u001b[49m\n\u001b[32m    941\u001b[39m \u001b[43m    \u001b[49m\u001b[43minputs_embeds\u001b[49m\u001b[43m=\u001b[49m\u001b[43minputs_embeds\u001b[49m\u001b[43m,\u001b[49m\n\u001b[32m    942\u001b[39m \u001b[43m    \u001b[49m\u001b[43muse_cache\u001b[49m\u001b[43m=\u001b[49m\u001b[43muse_cache\u001b[49m\u001b[43m,\u001b[49m\n\u001b[32m    943\u001b[39m \u001b[43m    \u001b[49m\u001b[43moutput_attentions\u001b[49m\u001b[43m=\u001b[49m\u001b[43moutput_attentions\u001b[49m\u001b[43m,\u001b[49m\n\u001b[32m    944\u001b[39m \u001b[43m    \u001b[49m\u001b[43moutput_hidden_states\u001b[49m\u001b[43m=\u001b[49m\u001b[43moutput_hidden_states\u001b[49m\u001b[43m,\u001b[49m\n\u001b[32m    945\u001b[39m \u001b[43m    \u001b[49m\u001b[43mreturn_dict\u001b[49m\u001b[43m=\u001b[49m\u001b[38;5;28;43;01mTrue\u001b[39;49;00m\u001b[43m,\u001b[49m\n\u001b[32m    946\u001b[39m \u001b[43m    \u001b[49m\u001b[43mcache_position\u001b[49m\u001b[43m=\u001b[49m\u001b[43mcache_position\u001b[49m\u001b[43m,\u001b[49m\n\u001b[32m    947\u001b[39m \u001b[43m    \u001b[49m\u001b[43m*\u001b[49m\u001b[43m*\u001b[49m\u001b[43mlm_kwargs\u001b[49m\u001b[43m,\u001b[49m\n\u001b[32m    948\u001b[39m \u001b[43m\u001b[49m\u001b[43m)\u001b[49m\n\u001b[32m    950\u001b[39m \u001b[38;5;28;01mreturn\u001b[39;00m Gemma3ModelOutputWithPast(\n\u001b[32m    951\u001b[39m     last_hidden_state=outputs.last_hidden_state,\n\u001b[32m    952\u001b[39m     past_key_values=outputs.past_key_values \u001b[38;5;28;01mif\u001b[39;00m use_cache \u001b[38;5;28;01melse\u001b[39;00m \u001b[38;5;28;01mNone\u001b[39;00m,\n\u001b[32m   (...)\u001b[39m\u001b[32m    955\u001b[39m     image_hidden_states=image_features \u001b[38;5;28;01mif\u001b[39;00m pixel_values \u001b[38;5;129;01mis\u001b[39;00m \u001b[38;5;129;01mnot\u001b[39;00m \u001b[38;5;28;01mNone\u001b[39;00m \u001b[38;5;28;01melse\u001b[39;00m \u001b[38;5;28;01mNone\u001b[39;00m,\n\u001b[32m    956\u001b[39m )\n",
      "\u001b[36mFile \u001b[39m\u001b[32m/usr/local/lib/python3.11/dist-packages/torch/nn/modules/module.py:1751\u001b[39m, in \u001b[36mModule._wrapped_call_impl\u001b[39m\u001b[34m(self, *args, **kwargs)\u001b[39m\n\u001b[32m   1749\u001b[39m     \u001b[38;5;28;01mreturn\u001b[39;00m \u001b[38;5;28mself\u001b[39m._compiled_call_impl(*args, **kwargs)  \u001b[38;5;66;03m# type: ignore[misc]\u001b[39;00m\n\u001b[32m   1750\u001b[39m \u001b[38;5;28;01melse\u001b[39;00m:\n\u001b[32m-> \u001b[39m\u001b[32m1751\u001b[39m     \u001b[38;5;28;01mreturn\u001b[39;00m \u001b[38;5;28;43mself\u001b[39;49m\u001b[43m.\u001b[49m\u001b[43m_call_impl\u001b[49m\u001b[43m(\u001b[49m\u001b[43m*\u001b[49m\u001b[43margs\u001b[49m\u001b[43m,\u001b[49m\u001b[43m \u001b[49m\u001b[43m*\u001b[49m\u001b[43m*\u001b[49m\u001b[43mkwargs\u001b[49m\u001b[43m)\u001b[49m\n",
      "\u001b[36mFile \u001b[39m\u001b[32m/usr/local/lib/python3.11/dist-packages/torch/nn/modules/module.py:1762\u001b[39m, in \u001b[36mModule._call_impl\u001b[39m\u001b[34m(self, *args, **kwargs)\u001b[39m\n\u001b[32m   1757\u001b[39m \u001b[38;5;66;03m# If we don't have any hooks, we want to skip the rest of the logic in\u001b[39;00m\n\u001b[32m   1758\u001b[39m \u001b[38;5;66;03m# this function, and just call forward.\u001b[39;00m\n\u001b[32m   1759\u001b[39m \u001b[38;5;28;01mif\u001b[39;00m \u001b[38;5;129;01mnot\u001b[39;00m (\u001b[38;5;28mself\u001b[39m._backward_hooks \u001b[38;5;129;01mor\u001b[39;00m \u001b[38;5;28mself\u001b[39m._backward_pre_hooks \u001b[38;5;129;01mor\u001b[39;00m \u001b[38;5;28mself\u001b[39m._forward_hooks \u001b[38;5;129;01mor\u001b[39;00m \u001b[38;5;28mself\u001b[39m._forward_pre_hooks\n\u001b[32m   1760\u001b[39m         \u001b[38;5;129;01mor\u001b[39;00m _global_backward_pre_hooks \u001b[38;5;129;01mor\u001b[39;00m _global_backward_hooks\n\u001b[32m   1761\u001b[39m         \u001b[38;5;129;01mor\u001b[39;00m _global_forward_hooks \u001b[38;5;129;01mor\u001b[39;00m _global_forward_pre_hooks):\n\u001b[32m-> \u001b[39m\u001b[32m1762\u001b[39m     \u001b[38;5;28;01mreturn\u001b[39;00m \u001b[43mforward_call\u001b[49m\u001b[43m(\u001b[49m\u001b[43m*\u001b[49m\u001b[43margs\u001b[49m\u001b[43m,\u001b[49m\u001b[43m \u001b[49m\u001b[43m*\u001b[49m\u001b[43m*\u001b[49m\u001b[43mkwargs\u001b[49m\u001b[43m)\u001b[49m\n\u001b[32m   1764\u001b[39m result = \u001b[38;5;28;01mNone\u001b[39;00m\n\u001b[32m   1765\u001b[39m called_always_called_hooks = \u001b[38;5;28mset\u001b[39m()\n",
      "\u001b[36mFile \u001b[39m\u001b[32m/usr/local/lib/python3.11/dist-packages/transformers/utils/generic.py:1064\u001b[39m, in \u001b[36mcheck_model_inputs.<locals>.wrapper\u001b[39m\u001b[34m(self, *args, **kwargs)\u001b[39m\n\u001b[32m   1061\u001b[39m                 module.forward = make_capture_wrapper(module, original_forward, key, specs.index)\n\u001b[32m   1062\u001b[39m                 monkey_patched_layers.append((module, original_forward))\n\u001b[32m-> \u001b[39m\u001b[32m1064\u001b[39m outputs = \u001b[43mfunc\u001b[49m\u001b[43m(\u001b[49m\u001b[38;5;28;43mself\u001b[39;49m\u001b[43m,\u001b[49m\u001b[43m \u001b[49m\u001b[43m*\u001b[49m\u001b[43margs\u001b[49m\u001b[43m,\u001b[49m\u001b[43m \u001b[49m\u001b[43m*\u001b[49m\u001b[43m*\u001b[49m\u001b[43mkwargs\u001b[49m\u001b[43m)\u001b[49m\n\u001b[32m   1065\u001b[39m \u001b[38;5;66;03m# Restore original forward methods\u001b[39;00m\n\u001b[32m   1066\u001b[39m \u001b[38;5;28;01mfor\u001b[39;00m module, original_forward \u001b[38;5;129;01min\u001b[39;00m monkey_patched_layers:\n",
      "\u001b[36mFile \u001b[39m\u001b[32m/usr/local/lib/python3.11/dist-packages/transformers/models/gemma3/modeling_gemma3.py:555\u001b[39m, in \u001b[36mGemma3TextModel.forward\u001b[39m\u001b[34m(self, input_ids, attention_mask, position_ids, past_key_values, inputs_embeds, use_cache, output_attentions, output_hidden_states, cache_position, **kwargs)\u001b[39m\n\u001b[32m    552\u001b[39m \u001b[38;5;28;01mif\u001b[39;00m output_hidden_states:\n\u001b[32m    553\u001b[39m     all_hidden_states += (hidden_states,)\n\u001b[32m--> \u001b[39m\u001b[32m555\u001b[39m layer_outputs = \u001b[43mdecoder_layer\u001b[49m\u001b[43m(\u001b[49m\n\u001b[32m    556\u001b[39m \u001b[43m    \u001b[49m\u001b[43mhidden_states\u001b[49m\u001b[43m,\u001b[49m\n\u001b[32m    557\u001b[39m \u001b[43m    \u001b[49m\u001b[43mposition_embeddings_global\u001b[49m\u001b[43m=\u001b[49m\u001b[43mposition_embeddings_global\u001b[49m\u001b[43m,\u001b[49m\n\u001b[32m    558\u001b[39m \u001b[43m    \u001b[49m\u001b[43mposition_embeddings_local\u001b[49m\u001b[43m=\u001b[49m\u001b[43mposition_embeddings_local\u001b[49m\u001b[43m,\u001b[49m\n\u001b[32m    559\u001b[39m \u001b[43m    \u001b[49m\u001b[43mattention_mask\u001b[49m\u001b[43m=\u001b[49m\u001b[43mcausal_mask_mapping\u001b[49m\u001b[43m[\u001b[49m\u001b[43mdecoder_layer\u001b[49m\u001b[43m.\u001b[49m\u001b[43mattention_type\u001b[49m\u001b[43m]\u001b[49m\u001b[43m,\u001b[49m\n\u001b[32m    560\u001b[39m \u001b[43m    \u001b[49m\u001b[43mposition_ids\u001b[49m\u001b[43m=\u001b[49m\u001b[43mposition_ids\u001b[49m\u001b[43m,\u001b[49m\n\u001b[32m    561\u001b[39m \u001b[43m    \u001b[49m\u001b[43mpast_key_values\u001b[49m\u001b[43m=\u001b[49m\u001b[43mpast_key_values\u001b[49m\u001b[43m,\u001b[49m\n\u001b[32m    562\u001b[39m \u001b[43m    \u001b[49m\u001b[43moutput_attentions\u001b[49m\u001b[43m=\u001b[49m\u001b[43moutput_attentions\u001b[49m\u001b[43m,\u001b[49m\n\u001b[32m    563\u001b[39m \u001b[43m    \u001b[49m\u001b[43muse_cache\u001b[49m\u001b[43m=\u001b[49m\u001b[43muse_cache\u001b[49m\u001b[43m,\u001b[49m\n\u001b[32m    564\u001b[39m \u001b[43m    \u001b[49m\u001b[43mcache_position\u001b[49m\u001b[43m=\u001b[49m\u001b[43mcache_position\u001b[49m\u001b[43m,\u001b[49m\n\u001b[32m    565\u001b[39m \u001b[43m    \u001b[49m\u001b[43m*\u001b[49m\u001b[43m*\u001b[49m\u001b[43mkwargs\u001b[49m\u001b[43m,\u001b[49m\n\u001b[32m    566\u001b[39m \u001b[43m\u001b[49m\u001b[43m)\u001b[49m\n\u001b[32m    568\u001b[39m hidden_states = layer_outputs[\u001b[32m0\u001b[39m]\n\u001b[32m    570\u001b[39m \u001b[38;5;28;01mif\u001b[39;00m output_attentions:\n",
      "\u001b[36mFile \u001b[39m\u001b[32m/usr/local/lib/python3.11/dist-packages/transformers/modeling_layers.py:94\u001b[39m, in \u001b[36mGradientCheckpointingLayer.__call__\u001b[39m\u001b[34m(self, *args, **kwargs)\u001b[39m\n\u001b[32m     91\u001b[39m         logger.warning_once(message)\n\u001b[32m     93\u001b[39m     \u001b[38;5;28;01mreturn\u001b[39;00m \u001b[38;5;28mself\u001b[39m._gradient_checkpointing_func(partial(\u001b[38;5;28msuper\u001b[39m().\u001b[34m__call__\u001b[39m, **kwargs), *args)\n\u001b[32m---> \u001b[39m\u001b[32m94\u001b[39m \u001b[38;5;28;01mreturn\u001b[39;00m \u001b[38;5;28;43msuper\u001b[39;49m\u001b[43m(\u001b[49m\u001b[43m)\u001b[49m\u001b[43m.\u001b[49m\u001b[34;43m__call__\u001b[39;49m\u001b[43m(\u001b[49m\u001b[43m*\u001b[49m\u001b[43margs\u001b[49m\u001b[43m,\u001b[49m\u001b[43m \u001b[49m\u001b[43m*\u001b[49m\u001b[43m*\u001b[49m\u001b[43mkwargs\u001b[49m\u001b[43m)\u001b[49m\n",
      "\u001b[36mFile \u001b[39m\u001b[32m/usr/local/lib/python3.11/dist-packages/torch/nn/modules/module.py:1751\u001b[39m, in \u001b[36mModule._wrapped_call_impl\u001b[39m\u001b[34m(self, *args, **kwargs)\u001b[39m\n\u001b[32m   1749\u001b[39m     \u001b[38;5;28;01mreturn\u001b[39;00m \u001b[38;5;28mself\u001b[39m._compiled_call_impl(*args, **kwargs)  \u001b[38;5;66;03m# type: ignore[misc]\u001b[39;00m\n\u001b[32m   1750\u001b[39m \u001b[38;5;28;01melse\u001b[39;00m:\n\u001b[32m-> \u001b[39m\u001b[32m1751\u001b[39m     \u001b[38;5;28;01mreturn\u001b[39;00m \u001b[38;5;28;43mself\u001b[39;49m\u001b[43m.\u001b[49m\u001b[43m_call_impl\u001b[49m\u001b[43m(\u001b[49m\u001b[43m*\u001b[49m\u001b[43margs\u001b[49m\u001b[43m,\u001b[49m\u001b[43m \u001b[49m\u001b[43m*\u001b[49m\u001b[43m*\u001b[49m\u001b[43mkwargs\u001b[49m\u001b[43m)\u001b[49m\n",
      "\u001b[36mFile \u001b[39m\u001b[32m/usr/local/lib/python3.11/dist-packages/torch/nn/modules/module.py:1762\u001b[39m, in \u001b[36mModule._call_impl\u001b[39m\u001b[34m(self, *args, **kwargs)\u001b[39m\n\u001b[32m   1757\u001b[39m \u001b[38;5;66;03m# If we don't have any hooks, we want to skip the rest of the logic in\u001b[39;00m\n\u001b[32m   1758\u001b[39m \u001b[38;5;66;03m# this function, and just call forward.\u001b[39;00m\n\u001b[32m   1759\u001b[39m \u001b[38;5;28;01mif\u001b[39;00m \u001b[38;5;129;01mnot\u001b[39;00m (\u001b[38;5;28mself\u001b[39m._backward_hooks \u001b[38;5;129;01mor\u001b[39;00m \u001b[38;5;28mself\u001b[39m._backward_pre_hooks \u001b[38;5;129;01mor\u001b[39;00m \u001b[38;5;28mself\u001b[39m._forward_hooks \u001b[38;5;129;01mor\u001b[39;00m \u001b[38;5;28mself\u001b[39m._forward_pre_hooks\n\u001b[32m   1760\u001b[39m         \u001b[38;5;129;01mor\u001b[39;00m _global_backward_pre_hooks \u001b[38;5;129;01mor\u001b[39;00m _global_backward_hooks\n\u001b[32m   1761\u001b[39m         \u001b[38;5;129;01mor\u001b[39;00m _global_forward_hooks \u001b[38;5;129;01mor\u001b[39;00m _global_forward_pre_hooks):\n\u001b[32m-> \u001b[39m\u001b[32m1762\u001b[39m     \u001b[38;5;28;01mreturn\u001b[39;00m \u001b[43mforward_call\u001b[49m\u001b[43m(\u001b[49m\u001b[43m*\u001b[49m\u001b[43margs\u001b[49m\u001b[43m,\u001b[49m\u001b[43m \u001b[49m\u001b[43m*\u001b[49m\u001b[43m*\u001b[49m\u001b[43mkwargs\u001b[49m\u001b[43m)\u001b[49m\n\u001b[32m   1764\u001b[39m result = \u001b[38;5;28;01mNone\u001b[39;00m\n\u001b[32m   1765\u001b[39m called_always_called_hooks = \u001b[38;5;28mset\u001b[39m()\n",
      "\u001b[36mFile \u001b[39m\u001b[32m/usr/local/lib/python3.11/dist-packages/transformers/utils/deprecation.py:172\u001b[39m, in \u001b[36mdeprecate_kwarg.<locals>.wrapper.<locals>.wrapped_func\u001b[39m\u001b[34m(*args, **kwargs)\u001b[39m\n\u001b[32m    168\u001b[39m \u001b[38;5;28;01melif\u001b[39;00m minimum_action \u001b[38;5;129;01min\u001b[39;00m (Action.NOTIFY, Action.NOTIFY_ALWAYS) \u001b[38;5;129;01mand\u001b[39;00m \u001b[38;5;129;01mnot\u001b[39;00m is_torchdynamo_compiling():\n\u001b[32m    169\u001b[39m     \u001b[38;5;66;03m# DeprecationWarning is ignored by default, so we use FutureWarning instead\u001b[39;00m\n\u001b[32m    170\u001b[39m     warnings.warn(message, \u001b[38;5;167;01mFutureWarning\u001b[39;00m, stacklevel=\u001b[32m2\u001b[39m)\n\u001b[32m--> \u001b[39m\u001b[32m172\u001b[39m \u001b[38;5;28;01mreturn\u001b[39;00m \u001b[43mfunc\u001b[49m\u001b[43m(\u001b[49m\u001b[43m*\u001b[49m\u001b[43margs\u001b[49m\u001b[43m,\u001b[49m\u001b[43m \u001b[49m\u001b[43m*\u001b[49m\u001b[43m*\u001b[49m\u001b[43mkwargs\u001b[49m\u001b[43m)\u001b[49m\n",
      "\u001b[36mFile \u001b[39m\u001b[32m/usr/local/lib/python3.11/dist-packages/transformers/models/gemma3/modeling_gemma3.py:389\u001b[39m, in \u001b[36mGemma3DecoderLayer.forward\u001b[39m\u001b[34m(self, hidden_states, position_embeddings_global, position_embeddings_local, attention_mask, position_ids, past_key_values, output_attentions, use_cache, cache_position, **kwargs)\u001b[39m\n\u001b[32m    386\u001b[39m \u001b[38;5;28;01melse\u001b[39;00m:\n\u001b[32m    387\u001b[39m     position_embeddings = position_embeddings_global\n\u001b[32m--> \u001b[39m\u001b[32m389\u001b[39m hidden_states, self_attn_weights = \u001b[38;5;28;43mself\u001b[39;49m\u001b[43m.\u001b[49m\u001b[43mself_attn\u001b[49m\u001b[43m(\u001b[49m\n\u001b[32m    390\u001b[39m \u001b[43m    \u001b[49m\u001b[43mhidden_states\u001b[49m\u001b[43m=\u001b[49m\u001b[43mhidden_states\u001b[49m\u001b[43m,\u001b[49m\n\u001b[32m    391\u001b[39m \u001b[43m    \u001b[49m\u001b[43mposition_embeddings\u001b[49m\u001b[43m=\u001b[49m\u001b[43mposition_embeddings\u001b[49m\u001b[43m,\u001b[49m\n\u001b[32m    392\u001b[39m \u001b[43m    \u001b[49m\u001b[43mattention_mask\u001b[49m\u001b[43m=\u001b[49m\u001b[43mattention_mask\u001b[49m\u001b[43m,\u001b[49m\n\u001b[32m    393\u001b[39m \u001b[43m    \u001b[49m\u001b[43mposition_ids\u001b[49m\u001b[43m=\u001b[49m\u001b[43mposition_ids\u001b[49m\u001b[43m,\u001b[49m\n\u001b[32m    394\u001b[39m \u001b[43m    \u001b[49m\u001b[43mpast_key_values\u001b[49m\u001b[43m=\u001b[49m\u001b[43mpast_key_values\u001b[49m\u001b[43m,\u001b[49m\n\u001b[32m    395\u001b[39m \u001b[43m    \u001b[49m\u001b[43moutput_attentions\u001b[49m\u001b[43m=\u001b[49m\u001b[43moutput_attentions\u001b[49m\u001b[43m,\u001b[49m\n\u001b[32m    396\u001b[39m \u001b[43m    \u001b[49m\u001b[43muse_cache\u001b[49m\u001b[43m=\u001b[49m\u001b[43muse_cache\u001b[49m\u001b[43m,\u001b[49m\n\u001b[32m    397\u001b[39m \u001b[43m    \u001b[49m\u001b[43mcache_position\u001b[49m\u001b[43m=\u001b[49m\u001b[43mcache_position\u001b[49m\u001b[43m,\u001b[49m\n\u001b[32m    398\u001b[39m \u001b[43m    \u001b[49m\u001b[43m*\u001b[49m\u001b[43m*\u001b[49m\u001b[43mkwargs\u001b[49m\u001b[43m,\u001b[49m\n\u001b[32m    399\u001b[39m \u001b[43m\u001b[49m\u001b[43m)\u001b[49m\n\u001b[32m    400\u001b[39m hidden_states = \u001b[38;5;28mself\u001b[39m.post_attention_layernorm(hidden_states)\n\u001b[32m    401\u001b[39m hidden_states = residual + hidden_states\n",
      "\u001b[36mFile \u001b[39m\u001b[32m/usr/local/lib/python3.11/dist-packages/torch/nn/modules/module.py:1751\u001b[39m, in \u001b[36mModule._wrapped_call_impl\u001b[39m\u001b[34m(self, *args, **kwargs)\u001b[39m\n\u001b[32m   1749\u001b[39m     \u001b[38;5;28;01mreturn\u001b[39;00m \u001b[38;5;28mself\u001b[39m._compiled_call_impl(*args, **kwargs)  \u001b[38;5;66;03m# type: ignore[misc]\u001b[39;00m\n\u001b[32m   1750\u001b[39m \u001b[38;5;28;01melse\u001b[39;00m:\n\u001b[32m-> \u001b[39m\u001b[32m1751\u001b[39m     \u001b[38;5;28;01mreturn\u001b[39;00m \u001b[38;5;28;43mself\u001b[39;49m\u001b[43m.\u001b[49m\u001b[43m_call_impl\u001b[49m\u001b[43m(\u001b[49m\u001b[43m*\u001b[49m\u001b[43margs\u001b[49m\u001b[43m,\u001b[49m\u001b[43m \u001b[49m\u001b[43m*\u001b[49m\u001b[43m*\u001b[49m\u001b[43mkwargs\u001b[49m\u001b[43m)\u001b[49m\n",
      "\u001b[36mFile \u001b[39m\u001b[32m/usr/local/lib/python3.11/dist-packages/torch/nn/modules/module.py:1762\u001b[39m, in \u001b[36mModule._call_impl\u001b[39m\u001b[34m(self, *args, **kwargs)\u001b[39m\n\u001b[32m   1757\u001b[39m \u001b[38;5;66;03m# If we don't have any hooks, we want to skip the rest of the logic in\u001b[39;00m\n\u001b[32m   1758\u001b[39m \u001b[38;5;66;03m# this function, and just call forward.\u001b[39;00m\n\u001b[32m   1759\u001b[39m \u001b[38;5;28;01mif\u001b[39;00m \u001b[38;5;129;01mnot\u001b[39;00m (\u001b[38;5;28mself\u001b[39m._backward_hooks \u001b[38;5;129;01mor\u001b[39;00m \u001b[38;5;28mself\u001b[39m._backward_pre_hooks \u001b[38;5;129;01mor\u001b[39;00m \u001b[38;5;28mself\u001b[39m._forward_hooks \u001b[38;5;129;01mor\u001b[39;00m \u001b[38;5;28mself\u001b[39m._forward_pre_hooks\n\u001b[32m   1760\u001b[39m         \u001b[38;5;129;01mor\u001b[39;00m _global_backward_pre_hooks \u001b[38;5;129;01mor\u001b[39;00m _global_backward_hooks\n\u001b[32m   1761\u001b[39m         \u001b[38;5;129;01mor\u001b[39;00m _global_forward_hooks \u001b[38;5;129;01mor\u001b[39;00m _global_forward_pre_hooks):\n\u001b[32m-> \u001b[39m\u001b[32m1762\u001b[39m     \u001b[38;5;28;01mreturn\u001b[39;00m \u001b[43mforward_call\u001b[49m\u001b[43m(\u001b[49m\u001b[43m*\u001b[49m\u001b[43margs\u001b[49m\u001b[43m,\u001b[49m\u001b[43m \u001b[49m\u001b[43m*\u001b[49m\u001b[43m*\u001b[49m\u001b[43mkwargs\u001b[49m\u001b[43m)\u001b[49m\n\u001b[32m   1764\u001b[39m result = \u001b[38;5;28;01mNone\u001b[39;00m\n\u001b[32m   1765\u001b[39m called_always_called_hooks = \u001b[38;5;28mset\u001b[39m()\n",
      "\u001b[36mFile \u001b[39m\u001b[32m/usr/local/lib/python3.11/dist-packages/transformers/utils/deprecation.py:172\u001b[39m, in \u001b[36mdeprecate_kwarg.<locals>.wrapper.<locals>.wrapped_func\u001b[39m\u001b[34m(*args, **kwargs)\u001b[39m\n\u001b[32m    168\u001b[39m \u001b[38;5;28;01melif\u001b[39;00m minimum_action \u001b[38;5;129;01min\u001b[39;00m (Action.NOTIFY, Action.NOTIFY_ALWAYS) \u001b[38;5;129;01mand\u001b[39;00m \u001b[38;5;129;01mnot\u001b[39;00m is_torchdynamo_compiling():\n\u001b[32m    169\u001b[39m     \u001b[38;5;66;03m# DeprecationWarning is ignored by default, so we use FutureWarning instead\u001b[39;00m\n\u001b[32m    170\u001b[39m     warnings.warn(message, \u001b[38;5;167;01mFutureWarning\u001b[39;00m, stacklevel=\u001b[32m2\u001b[39m)\n\u001b[32m--> \u001b[39m\u001b[32m172\u001b[39m \u001b[38;5;28;01mreturn\u001b[39;00m \u001b[43mfunc\u001b[49m\u001b[43m(\u001b[49m\u001b[43m*\u001b[49m\u001b[43margs\u001b[49m\u001b[43m,\u001b[49m\u001b[43m \u001b[49m\u001b[43m*\u001b[49m\u001b[43m*\u001b[49m\u001b[43mkwargs\u001b[49m\u001b[43m)\u001b[49m\n",
      "\u001b[36mFile \u001b[39m\u001b[32m/usr/local/lib/python3.11/dist-packages/transformers/models/gemma3/modeling_gemma3.py:316\u001b[39m, in \u001b[36mGemma3Attention.forward\u001b[39m\u001b[34m(self, hidden_states, position_embeddings, attention_mask, past_key_values, cache_position, **kwargs)\u001b[39m\n\u001b[32m    313\u001b[39m hidden_shape = (*input_shape, -\u001b[32m1\u001b[39m, \u001b[38;5;28mself\u001b[39m.head_dim)\n\u001b[32m    315\u001b[39m query_states = \u001b[38;5;28mself\u001b[39m.q_proj(hidden_states).view(hidden_shape).transpose(\u001b[32m1\u001b[39m, \u001b[32m2\u001b[39m)\n\u001b[32m--> \u001b[39m\u001b[32m316\u001b[39m key_states = \u001b[38;5;28;43mself\u001b[39;49m\u001b[43m.\u001b[49m\u001b[43mk_proj\u001b[49m\u001b[43m(\u001b[49m\u001b[43mhidden_states\u001b[49m\u001b[43m)\u001b[49m.view(hidden_shape).transpose(\u001b[32m1\u001b[39m, \u001b[32m2\u001b[39m)\n\u001b[32m    317\u001b[39m value_states = \u001b[38;5;28mself\u001b[39m.v_proj(hidden_states).view(hidden_shape).transpose(\u001b[32m1\u001b[39m, \u001b[32m2\u001b[39m)\n\u001b[32m    319\u001b[39m query_states = \u001b[38;5;28mself\u001b[39m.q_norm(query_states)\n",
      "\u001b[36mFile \u001b[39m\u001b[32m/usr/local/lib/python3.11/dist-packages/torch/nn/modules/module.py:1751\u001b[39m, in \u001b[36mModule._wrapped_call_impl\u001b[39m\u001b[34m(self, *args, **kwargs)\u001b[39m\n\u001b[32m   1749\u001b[39m     \u001b[38;5;28;01mreturn\u001b[39;00m \u001b[38;5;28mself\u001b[39m._compiled_call_impl(*args, **kwargs)  \u001b[38;5;66;03m# type: ignore[misc]\u001b[39;00m\n\u001b[32m   1750\u001b[39m \u001b[38;5;28;01melse\u001b[39;00m:\n\u001b[32m-> \u001b[39m\u001b[32m1751\u001b[39m     \u001b[38;5;28;01mreturn\u001b[39;00m \u001b[38;5;28;43mself\u001b[39;49m\u001b[43m.\u001b[49m\u001b[43m_call_impl\u001b[49m\u001b[43m(\u001b[49m\u001b[43m*\u001b[49m\u001b[43margs\u001b[49m\u001b[43m,\u001b[49m\u001b[43m \u001b[49m\u001b[43m*\u001b[49m\u001b[43m*\u001b[49m\u001b[43mkwargs\u001b[49m\u001b[43m)\u001b[49m\n",
      "\u001b[36mFile \u001b[39m\u001b[32m/usr/local/lib/python3.11/dist-packages/torch/nn/modules/module.py:1762\u001b[39m, in \u001b[36mModule._call_impl\u001b[39m\u001b[34m(self, *args, **kwargs)\u001b[39m\n\u001b[32m   1757\u001b[39m \u001b[38;5;66;03m# If we don't have any hooks, we want to skip the rest of the logic in\u001b[39;00m\n\u001b[32m   1758\u001b[39m \u001b[38;5;66;03m# this function, and just call forward.\u001b[39;00m\n\u001b[32m   1759\u001b[39m \u001b[38;5;28;01mif\u001b[39;00m \u001b[38;5;129;01mnot\u001b[39;00m (\u001b[38;5;28mself\u001b[39m._backward_hooks \u001b[38;5;129;01mor\u001b[39;00m \u001b[38;5;28mself\u001b[39m._backward_pre_hooks \u001b[38;5;129;01mor\u001b[39;00m \u001b[38;5;28mself\u001b[39m._forward_hooks \u001b[38;5;129;01mor\u001b[39;00m \u001b[38;5;28mself\u001b[39m._forward_pre_hooks\n\u001b[32m   1760\u001b[39m         \u001b[38;5;129;01mor\u001b[39;00m _global_backward_pre_hooks \u001b[38;5;129;01mor\u001b[39;00m _global_backward_hooks\n\u001b[32m   1761\u001b[39m         \u001b[38;5;129;01mor\u001b[39;00m _global_forward_hooks \u001b[38;5;129;01mor\u001b[39;00m _global_forward_pre_hooks):\n\u001b[32m-> \u001b[39m\u001b[32m1762\u001b[39m     \u001b[38;5;28;01mreturn\u001b[39;00m \u001b[43mforward_call\u001b[49m\u001b[43m(\u001b[49m\u001b[43m*\u001b[49m\u001b[43margs\u001b[49m\u001b[43m,\u001b[49m\u001b[43m \u001b[49m\u001b[43m*\u001b[49m\u001b[43m*\u001b[49m\u001b[43mkwargs\u001b[49m\u001b[43m)\u001b[49m\n\u001b[32m   1764\u001b[39m result = \u001b[38;5;28;01mNone\u001b[39;00m\n\u001b[32m   1765\u001b[39m called_always_called_hooks = \u001b[38;5;28mset\u001b[39m()\n",
      "\u001b[36mFile \u001b[39m\u001b[32m/usr/local/lib/python3.11/dist-packages/torch/nn/modules/linear.py:125\u001b[39m, in \u001b[36mLinear.forward\u001b[39m\u001b[34m(self, input)\u001b[39m\n\u001b[32m    124\u001b[39m \u001b[38;5;28;01mdef\u001b[39;00m\u001b[38;5;250m \u001b[39m\u001b[34mforward\u001b[39m(\u001b[38;5;28mself\u001b[39m, \u001b[38;5;28minput\u001b[39m: Tensor) -> Tensor:\n\u001b[32m--> \u001b[39m\u001b[32m125\u001b[39m     \u001b[38;5;28;01mreturn\u001b[39;00m \u001b[43mF\u001b[49m\u001b[43m.\u001b[49m\u001b[43mlinear\u001b[49m\u001b[43m(\u001b[49m\u001b[38;5;28;43minput\u001b[39;49m\u001b[43m,\u001b[49m\u001b[43m \u001b[49m\u001b[38;5;28;43mself\u001b[39;49m\u001b[43m.\u001b[49m\u001b[43mweight\u001b[49m\u001b[43m,\u001b[49m\u001b[43m \u001b[49m\u001b[38;5;28;43mself\u001b[39;49m\u001b[43m.\u001b[49m\u001b[43mbias\u001b[49m\u001b[43m)\u001b[49m\n",
      "\u001b[31mKeyboardInterrupt\u001b[39m: "
     ]
    }
   ],
   "source": [
    "from tqdm.auto import tqdm\n",
    "\n",
    "login()\n",
    "\n",
    "# training size ablation\n",
    "for model_name in tqdm(MODELS, desc=\"Models\"):\n",
    "    if model_name == \"gpt-5\":\n",
    "        continue\n",
    "\n",
    "    model, tokenizer = load_model(model_name)\n",
    "\n",
    "    for dataset_name, dataset_dict in tqdm(zip(DATASET1_NAMES, DATASETS1), total=len(DATASETS1), desc=\"Datasets1\"):\n",
    "        for train_size in tqdm(TRAIN_SIZES, desc=\"Train sizes\"):\n",
    "            soft_output_dir = f\"{MODEL_OUTPUT_DIR}/soft_prompts/{model_name}/{dataset_name}/{train_size}\"\n",
    "            \n",
    "            # check if soft prompt exists\n",
    "            if not os.path.exists(soft_output_dir):\n",
    "                examples = load_datasets_proportional(dataset_dict, train_size, PROMPTS[\"soft prompt\"])\n",
    "                train_ds = preprocess_dataset(examples, tokenizer)\n",
    "                \n",
    "                peft_model = init_peft_model(model, model_name)\n",
    "                train_soft_prompt(peft_model, tokenizer, train_ds, NUM_TRAIN_STEPS, soft_output_dir)\n",
    "            else:\n",
    "                print(f\"Soft prompt {soft_output_dir} exists, skipping training\")\n",
    "\n",
    "            # apply soft prompt to model\n",
    "            peft_model = apply_peft_adapter(model, soft_output_dir)\n",
    "            \n",
    "            # generate posts\n",
    "            out_path = f\"{GENERATED_OUTPUT_DIR}/train_size_ablation/{model_name}/{dataset_name}/{train_size}.json\"\n",
    "            \n",
    "            # Check if output file already exists and has posts\n",
    "            out_path_obj = Path(out_path)\n",
    "            out_path_obj.parent.mkdir(parents=True, exist_ok=True)\n",
    "            \n",
    "            if out_path_obj.exists():\n",
    "                try:\n",
    "                    with open(out_path_obj, 'r') as f:\n",
    "                        existing_posts = json.load(f)\n",
    "                    if existing_posts:  # Skip if file has posts\n",
    "                        print(f\"Output file {out_path} already exists with posts, skipping generation\")\n",
    "                        continue\n",
    "                except (json.JSONDecodeError, Exception):\n",
    "                    print(f\"Could not read existing file {out_path}, regenerating\")\n",
    "            \n",
    "            posts = collect_posts(100, PROMPTS[\"soft prompt\"], peft_model, tokenizer)\n",
    "            write_posts_json(out_path_obj, posts)\n",
    "    \n",
    "    # unload model\n",
    "    del model\n",
    "    del tokenizer\n",
    "    torch.cuda.empty_cache()\n"
   ]
  },
  {
   "cell_type": "code",
   "execution_count": null,
   "id": "76ac63a7",
   "metadata": {},
   "outputs": [],
   "source": [
    "from tqdm.auto import tqdm\n",
    "\n",
    "login()\n",
    "\n",
    "# experiment ablation\n",
    "for model_name in tqdm(MODELS, desc=\"Models\"):\n",
    "    if model_name == \"gpt-5\":\n",
    "        continue\n",
    "    model, tokenizer = load_model(model_name)\n",
    "    for dataset_name, dataset_dict in tqdm(zip(DATASET2_NAMES, DATASETS2), total=len(DATASETS2), desc=\"Datasets2\"):\n",
    "        for experiment in tqdm(EXPERIMENTS, desc=\"Experiments\"):\n",
    "            prompt = PROMPTS[experiment]\n",
    "            examples = load_datasets_proportional(dataset_dict, 100, prompt)\n",
    "            train_ds = preprocess_dataset(examples, tokenizer)\n",
    "\n",
    "            if experiment == \"soft prompt\":\n",
    "                soft_output_dir = f\"{MODEL_OUTPUT_DIR}/soft_prompts/soft_prompt_{model_name}_{dataset_name}_exp\"\n",
    "                \n",
    "                # check if soft prompt exists\n",
    "                if not os.path.exists(soft_output_dir):\n",
    "                    peft_model = init_peft_model(model, model_name)\n",
    "                    train_soft_prompt(peft_model, tokenizer, train_ds, NUM_TRAIN_STEPS, soft_output_dir)\n",
    "                else:\n",
    "                    print(f\"Soft prompt {soft_output_dir} exists, skipping training\")\n",
    "                model = apply_peft_adapter(model, soft_output_dir)\n",
    "            elif experiment == \"fine tune\":\n",
    "                break  # skip fine tuning\n",
    "            elif experiment == \"summary\":\n",
    "                prompt = PROMPTS[1]\n",
    "            elif experiment == \"like history\":\n",
    "                prompt = PROMPTS[2]\n",
    "            elif experiment == \"self defined\":\n",
    "                prompt = PROMPTS[3]\n",
    "\n",
    "            out_path = f\"{GENERATED_OUTPUT_DIR}/experiment_ablation/{model_name}_{dataset_name}_{experiment}.json\"\n",
    "            with open(out_path, \"w\") as f:\n",
    "                for _ in tqdm(range(100), desc=f\"Generate {dataset_name} {experiment}\"):\n",
    "                    post = generate_post(prompt, model, tokenizer)\n",
    "                    f.write(post + \"\\n\")\n",
    "                    \n",
    "    # unload model\n",
    "    del model\n",
    "    del tokenizer\n",
    "    torch.cuda.empty_cache()\n"
   ]
  },
  {
   "cell_type": "code",
   "execution_count": null,
   "id": "aecc4b43",
   "metadata": {},
   "outputs": [],
   "source": [
    "from tqdm.auto import tqdm\n",
    "\n",
    "# judging \n",
    "for model_name in tqdm(MODELS, desc=\"Models\"):\n",
    "    for dataset in tqdm(DATASETS1, desc=\"Datasets1\"):\n",
    "        for train_size in tqdm(TRAIN_SIZES, desc=\"Train sizes\"):\n",
    "            with open(f\"{GENERATED_OUTPUT_DIR}/train_size_ablation/{model_name}_{dataset}_{train_size}.json\", \"r\") as f:\n",
    "                lines = f.readlines()\n",
    "                for i in tqdm(range(0, len(lines), 3), desc=\"Posts\"):\n",
    "                    post_lines = lines[i:i+3]\n",
    "                    post = ''.join(line.strip() for line in post_lines)\n",
    "                    if post:\n",
    "                        gpt_judgement = judge_post_gpt5(post, dataset)\n",
    "                        heuristic_judgement = judge_post_heuristic(post, dataset)\n",
    "                        print(post)\n",
    "                        break\n"
   ]
  },
  {
   "cell_type": "code",
   "execution_count": null,
   "id": "d0ae4c5f",
   "metadata": {},
   "outputs": [],
   "source": [
    "from tqdm.auto import tqdm\n",
    "\n",
    "# judging \n",
    "for model_name in tqdm(MODELS, desc=\"Models\"):   \n",
    "    for dataset in tqdm(DATASETS2, desc=\"Datasets2\"):\n",
    "        for experiment in tqdm(EXPERIMENTS, desc=\"Experiments\"):\n",
    "            with open(f\"{GENERATED_OUTPUT_DIR}/experiment_ablation/{model_name}_{dataset}_{experiment}.json\", \"r\") as f:\n",
    "                lines = f.readlines()\n",
    "                for i in tqdm(range(0, len(lines), 3), desc=\"Posts\"):\n",
    "                    post_lines = lines[i:i+3]\n",
    "                    post = ''.join(line.strip() for line in post_lines)\n",
    "                    if post:\n",
    "                        gpt_judgement = judge_post_gpt5(post, dataset)\n",
    "                        heuristic_judgement = judge_post_heuristic(post, dataset)\n",
    "                        print(post)\n",
    "                        break\n"
   ]
  }
 ],
 "metadata": {
  "kernelspec": {
   "display_name": "Python 3",
   "language": "python",
   "name": "python3"
  },
  "language_info": {
   "codemirror_mode": {
    "name": "ipython",
    "version": 3
   },
   "file_extension": ".py",
   "mimetype": "text/x-python",
   "name": "python",
   "nbconvert_exporter": "python",
   "pygments_lexer": "ipython3",
   "version": "3.11.11"
  }
 },
 "nbformat": 4,
 "nbformat_minor": 5
}
