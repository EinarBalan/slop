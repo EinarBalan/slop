{
 "cells": [
  {
   "cell_type": "markdown",
   "id": "dc8a0981",
   "metadata": {},
   "source": [
    "# Ablation Study Results\n",
    "\n",
    "Axes\n",
    "- model (gemma-3-4b-it, gemma-3-27b-it, gpt-5)\n",
    "- manual vs judge\n",
    "- experiment (base, subreddit, summary, liked posts list, fine tuned, soft prompt (100), soft prompt(500))\n",
    "- dataset (circlejerk, jokes + puns, gaming, animals, sports, etc.)\n",
    "\n",
    "Dataset selection:\n",
    "- small\n",
    "    - okbuddy\n",
    "    - boomerhumor\n",
    "    - animals\n",
    "    - creative\n",
    "    - food\n",
    "    - religion\n",
    "- medium\n",
    "    - finance\n",
    "    - school\n",
    "    - pop\n",
    "- varied but focused: \n",
    "    - nerdy\n",
    "    - personal\n",
    "    - ucla\n",
    "    - tech\n",
    "    - school\n",
    "    - ucla\n",
    "- ultra specific: \n",
    "    - minecraft\n",
    "    - nba\n",
    "- format specific:\n",
    "    - copypasta,\n",
    "    - no stupid questions\n",
    "    - am i the asshole\n",
    "- 3 test (unalike)\n",
    "    - pop\n",
    "    - religion\n",
    "    - tech\n",
    "- 3 test (alike)\n",
    "    - tech\n",
    "    - nerdy\n",
    "    - finance\n",
    "- college student\n",
    "    - ucla\n",
    "    - nerdy\n",
    "    - okbuddy\n",
    "    - copypasta\n",
    "    - pop\n",
    "    - food\n",
    "    - animals\n",
    "- new mother\n",
    "    - pregnancy\n",
    "    - parenting\n",
    "    - baby\n",
    "    - food\n",
    "    - am i the asshole\n",
    "    - pop\n",
    "    - boomerhumor\n",
    "- creative gen alpha\n",
    "    - minecraft\n",
    "    - creative\n",
    "    - food\n",
    "    - school\n",
    "    - nba\n",
    "\n",
    "### gemma-3-4b-it\n",
    "|                   | Self Defined | Summary | Like History | Fine Tune | Soft Prompt (100) | Soft Prompt (500) |\n",
    "|-------------------|-----------|---------|--------------|-----------|-------------------|-------------------|\n",
    "| Circlejerk        |           |         |              |           |                   |                   |\n",
    "| Jokes             |           |         |              |           |                   |                   |\n",
    "| Gaming            |           |         |              |           |                   |                   |\n",
    "| Animals           |           |         |              |           |                   |                   |\n",
    "| Personal          |           |         |              |           |                   |                   |\n",
    "| Personal + Gaming |           |         |              |           |                   |                   |\n",
    "\n",
    "### gemma-3-27b-it\n",
    "|                   | Self Defined | Summary | Like History | Fine Tune | Soft Prompt (100) | Soft Prompt (500) |\n",
    "|-------------------|-----------|---------|--------------|-----------|-------------------|-------------------|\n",
    "| Circlejerk        |           |         |              |           |                   |                   |\n",
    "| Jokes             |           |         |              |           |                   |                   |\n",
    "| Gaming            |           |         |              |           |                   |                   |\n",
    "| Animals           |           |         |              |           |                   |                   |\n",
    "| Personal          |           |         |              |           |                   |                   |\n",
    "| Personal + Gaming |           |         |              |           |                   |                   |\n",
    "\n",
    "### gpt-5\n",
    "|                   | Self Defined | Summary | Like History | Fine Tune | Soft Prompt (100) | Soft Prompt (500) |\n",
    "|-------------------|-----------|---------|--------------|-----------|-------------------|-------------------|\n",
    "| Circlejerk        |           |         |              |           |                   |                   |\n",
    "| Jokes             |           |         |              |           |                   |                   |\n",
    "| Gaming            |           |         |              |           |                   |                   |\n",
    "| Animals           |           |         |              |           |                   |                   |\n",
    "| Personal          |           |         |              |           |                   |                   |\n",
    "| Personal + Gaming |           |         |              |           |                   |                   |\n"
   ]
  },
  {
   "cell_type": "markdown",
   "id": "cfb2e1e5",
   "metadata": {},
   "source": [
    "## Notes during testing\n",
    "- very good alignment on tech (92)\n",
    "- very good alignment on personal (180)\n",
    "- very good alignment on nerdy (204)\n",
    "- very good alignmenton school (93)\n",
    "- bad alignment on interesting (35)\n",
    "- bad alignment on finance (57)\n",
    "- decent alignment on interesting + finance (on the finance side) (92)\n",
    "- for hyper targeted like minecraft, even 10 examples is good enough for alignment, but post topic variety goes down. ~100 is best to balance quality and training time\n",
    "- 50/50 minecraft + ucla works REALLY well\n",
    "\n",
    "it seems like ~100 samples is good enough for gemma 4b"
   ]
  },
  {
   "cell_type": "code",
   "execution_count": 1,
   "id": "cae67d34",
   "metadata": {},
   "outputs": [
    {
     "name": "stdout",
     "output_type": "stream",
     "text": [
      "\u001b[33mWARNING: Running pip as the 'root' user can result in broken permissions and conflicting behaviour with the system package manager, possibly rendering your system unusable. It is recommended to use a virtual environment instead: https://pip.pypa.io/warnings/venv. Use the --root-user-action option if you know what you are doing and want to suppress this warning.\u001b[0m\u001b[33m\n",
      "\u001b[0m\n",
      "\u001b[1m[\u001b[0m\u001b[34;49mnotice\u001b[0m\u001b[1;39;49m]\u001b[0m\u001b[39;49m A new release of pip is available: \u001b[0m\u001b[31;49m25.0.1\u001b[0m\u001b[39;49m -> \u001b[0m\u001b[32;49m25.2\u001b[0m\n",
      "\u001b[1m[\u001b[0m\u001b[34;49mnotice\u001b[0m\u001b[1;39;49m]\u001b[0m\u001b[39;49m To update, run: \u001b[0m\u001b[32;49mpython -m pip install --upgrade pip\u001b[0m\n",
      "Note: you may need to restart the kernel to use updated packages.\n"
     ]
    }
   ],
   "source": [
    "%pip install -qU transformers peft accelerate datasets trl einops sentencepiece bitsandbytes jinja2>=3.1.0 dotenv"
   ]
  },
  {
   "cell_type": "code",
   "execution_count": 2,
   "id": "baf9bfc4",
   "metadata": {},
   "outputs": [],
   "source": [
    "MODELS = [\n",
    "    \"google/gemma-3-4b-it\",\n",
    "    \"google/gemma-3-27b-it\",\n",
    "    \"gpt-5\"\n",
    "]\n",
    "\n",
    "# Load dataset categories from JSON file\n",
    "DATASETS1 = [\n",
    "    {\n",
    "    \"minecraft\": 1,  \n",
    "    },\n",
    "    {\n",
    "    \"ucla\": 1,  \n",
    "    },\n",
    "    {\n",
    "    \"nostupidquestions\": 1,  \n",
    "    },\n",
    "    {\n",
    "    \"copypasta\": 1,  \n",
    "    },\n",
    "]\n",
    "\n",
    "DATASETS2 = [\n",
    "    {\n",
    "    \"nerdy\": 1,  \n",
    "    },\n",
    "    {\n",
    "    \"personal\": 1,  \n",
    "    },\n",
    "    { # unalike\n",
    "    \"pop\": 1,  \n",
    "    \"religion\": 1,\n",
    "    \"tech\": 1\n",
    "    },\n",
    "    { # alike\n",
    "        \"tech\": 1,\n",
    "        \"nerdy\": 1,\n",
    "        \"finance\": 1,\n",
    "    },\n",
    "    { # format specific\n",
    "        \"copypasta\": 1,\n",
    "        \"nostupidquestions\": 1,\n",
    "        \"amitheasshole\": 1,\n",
    "    },\n",
    "    { # college student\n",
    "        \"ucla\": 1,\n",
    "        \"nerdy\": 1,\n",
    "        \"okbuddy\": 1,\n",
    "        \"copypasta\": 1,\n",
    "        \"pop\": 1,\n",
    "        \"food\": 1,\n",
    "        \"animals\": 1,\n",
    "    },\n",
    "    { # new mother\n",
    "        \"pregnancy\": 1,\n",
    "        \"parenting\": 1,\n",
    "        \"baby\": 1,\n",
    "        \"food\": 1,\n",
    "        \"amitheasshole\": 1,\n",
    "        \"pop\": 1,\n",
    "        \"boomerhumor\": 1,\n",
    "    },\n",
    "]\n",
    "\n",
    "TRAIN_SIZES = [\n",
    "    10, 20, 50, 100, 250, 500, 1000, 2000\n",
    "]\n",
    "\n",
    "EXPERIMENTS = [\n",
    "    \"self defined\",\n",
    "    \"summary\",\n",
    "    \"like history\",\n",
    "    \"fine tune\",\n",
    "    \"soft prompt\",\n",
    "]\n",
    "\n",
    "PROMPT_TOKENS = 64\n",
    "MICRO_BATCH_SIZE = 1\n",
    "GRAD_ACCUM_STEPS = 1\n",
    "LEARNING_RATE = 0.2\n",
    "NUM_TRAIN_STEPS = 1000  \n",
    "MAX_SEQ_LEN = 2048\n",
    "\n",
    "MODEL_OUTPUT_DIR = \"models\"\n",
    "GENERATED_OUTPUT_DIR = \"generated\""
   ]
  },
  {
   "cell_type": "markdown",
   "id": "94dabf1f",
   "metadata": {},
   "source": [
    "## Dataset Loading"
   ]
  },
  {
   "cell_type": "code",
   "execution_count": 3,
   "id": "c1f1bc1a",
   "metadata": {},
   "outputs": [],
   "source": [
    "# write a generator to lazily load dataset from json file based on dataset argument\n",
    "\n",
    "\"\"\"\n",
    "choice for sample ablation:\n",
    "    - make sure to increase max number of training steps as you go\n",
    "    - do some testing beforehand for 1000, 5000 to find good number of steps\n",
    "    - 10, 20, 50, 100, 250, 500, 1000, 5000\n",
    "    - minecraft\n",
    "    - ucla\n",
    "    - nostupidquestions   \n",
    "    - copypasta\n",
    "    - 4 * 8 = 32 soft prompts\n",
    "    \n",
    "choice (for 100 samples, or optimal from above):\n",
    "    - nerdy\n",
    "    - personal \n",
    "    - alike 3\n",
    "    - unalike 3\n",
    "    - format specific\n",
    "    - college student \n",
    "    - new mother \n",
    "    - creative gen alpha \n",
    "\"\"\"\n",
    "\n",
    "from typing import List, Dict\n",
    "import json\n",
    "import re\n",
    "import random, math\n",
    "\n",
    "def load_datasets_proportional(datasets_dict: Dict[str, float], total_posts: int, prompt: str) -> List[dict]:\n",
    "    \"\"\"\n",
    "    Load datasets with proportional sampling.\n",
    "    \n",
    "    Args:\n",
    "        datasets_dict: Dictionary mapping dataset names to their proportions, e.g. {\"minecraft\": 1, \"ucla\": 1} will load half minecraft, half ucla\n",
    "        total_posts: Total number of posts desired across all datasets\n",
    "    \n",
    "    Returns:\n",
    "        List of examples in the format: {\"instruction\": PROMPT, \"output\": post}\n",
    "    \"\"\"\n",
    "    \n",
    "    examples: List[dict] = []\n",
    "    \n",
    "    # Get total of all values in datasets_dict\n",
    "    total_proportion = sum(datasets_dict.values())\n",
    "    for dataset_name, proportion in datasets_dict.items():\n",
    "        # Calculate number of posts for this dataset\n",
    "        factor = proportion / total_proportion\n",
    "        target_count = math.ceil(total_posts * factor)\n",
    "        print(f\"Loading {target_count} posts from {dataset_name} dataset ({factor*100:.1f}%)\")\n",
    "        \n",
    "        # Load sampled Reddit posts from JSON created by sample-posts.py\n",
    "        # Each item is a dict with keys: title, subreddit, self_text\n",
    "        try:\n",
    "            with open(f\"../../datasets/{dataset_name}.json\", \"r\", encoding=\"utf-8\") as f:\n",
    "                reddit_posts: List[dict] = json.load(f)\n",
    "        except FileNotFoundError:\n",
    "            print(f\"Warning: Could not find dataset file for {dataset_name}\")\n",
    "            continue\n",
    "        \n",
    "        # Filter valid posts (must have self_text and no image_url)\n",
    "        valid_posts = []\n",
    "        for p in reddit_posts:\n",
    "            title = p.get(\"title\", \"\")\n",
    "            self_text = p.get(\"self_text\", \"\")\n",
    "            image_url = p.get(\"image_url\", \"\")\n",
    "            \n",
    "            if self_text and not image_url:\n",
    "                subreddit = p.get(\"subreddit\", \"\")\n",
    "                subreddit = re.sub(r\"\\s*(/)?r/\", \"r/\", subreddit)\n",
    "                post = f\"title: {title}\\nself_text: {self_text}\\nsubreddit: {subreddit}\"\n",
    "                valid_posts.append({\"instruction\": prompt, \"output\": post})\n",
    "        \n",
    "        print(f\"Found {len(valid_posts)} valid posts in {dataset_name}\")\n",
    "        \n",
    "        # Sample the target number of posts\n",
    "        if len(valid_posts) >= target_count:\n",
    "            # Randomly sample target_count posts\n",
    "            sampled_posts = random.sample(valid_posts, target_count)\n",
    "        else:\n",
    "            # Use all available posts if we don't have enough\n",
    "            print(f\"Warning: Only {len(valid_posts)} posts available, using all\")\n",
    "            sampled_posts = valid_posts\n",
    "        \n",
    "        examples.extend(sampled_posts)\n",
    "    \n",
    "    # Shuffle the final dataset to mix posts from different datasets\n",
    "    random.shuffle(examples)\n",
    "    \n",
    "    print(f\"Loaded dataset {datasets_dict} with {total_posts} posts\")\n",
    "    return examples\n",
    "\n",
    "# Example usage - modify these values as needed\n",
    "# datasets_dict = {\n",
    "#     \"ucla\": 0.5,  # 100% minecraft posts\n",
    "#     \"minecraft\": 0.5,  \n",
    "# }\n",
    "# total_posts = 100  # Total number of posts desired\n",
    "\n",
    "# examples = load_datasets_proportional(datasets_dict, total_posts, \"prompt\")\n",
    "\n",
    "# print(f\"Total number of examples loaded: {len(examples)}\")\n",
    "# if examples:\n",
    "#     print(\"Sample example:\")\n",
    "#     print(examples[0])\n"
   ]
  },
  {
   "cell_type": "code",
   "execution_count": 4,
   "id": "e5b9c0e7",
   "metadata": {},
   "outputs": [],
   "source": [
    "# Preprocess instruction/output dataset\n",
    "from datasets import Dataset\n",
    "\n",
    "def preprocess_dataset(examples, tokenizer):\n",
    "    # Build HF dataset from examples [{\"instruction\", \"output\"}]\n",
    "    dataset = Dataset.from_list(examples)\n",
    "\n",
    "    # Tokenize instruction with chat template, and supervise only the output tokens\n",
    "    def tokenize_io(sample):\n",
    "        # Build chat prompt prefix for the user instruction\n",
    "        messages = [{\"role\": \"user\", \"content\": sample[\"instruction\"]}]\n",
    "        prompt_text = tokenizer.apply_chat_template(\n",
    "            messages,\n",
    "            tokenize=False,\n",
    "            add_generation_prompt=True,\n",
    "        )\n",
    "\n",
    "        prompt_ids = tokenizer(prompt_text, add_special_tokens=False)[\"input_ids\"]\n",
    "        output_ids = tokenizer(sample[\"output\"], add_special_tokens=False)[\"input_ids\"]\n",
    "        eos_id = tokenizer.eos_token_id\n",
    "\n",
    "        input_ids = prompt_ids + output_ids + ([eos_id] if eos_id is not None else [])\n",
    "        labels = ([-100] * len(prompt_ids)) + output_ids + ([eos_id] if eos_id is not None else [])\n",
    "        attention_mask = [1] * len(input_ids)\n",
    "\n",
    "        # Truncate from the left if too long, keeping alignment between inputs and labels\n",
    "        if len(input_ids) > MAX_SEQ_LEN:\n",
    "            input_ids = input_ids[-MAX_SEQ_LEN:]\n",
    "            labels = labels[-MAX_SEQ_LEN:]\n",
    "            attention_mask = attention_mask[-MAX_SEQ_LEN:]\n",
    "\n",
    "        return {\n",
    "            \"input_ids\": input_ids,\n",
    "            \"attention_mask\": attention_mask,\n",
    "            \"labels\": labels,\n",
    "        }\n",
    "\n",
    "    train_ds = dataset.map(tokenize_io, remove_columns=dataset.column_names)\n",
    "    print(\"Preprocessed dataset...\")\n",
    "    return train_ds\n"
   ]
  },
  {
   "cell_type": "markdown",
   "id": "30a47b18",
   "metadata": {},
   "source": [
    "## Model Loading"
   ]
  },
  {
   "cell_type": "code",
   "execution_count": 5,
   "id": "ef940c71",
   "metadata": {},
   "outputs": [],
   "source": [
    "from huggingface_hub import login as huggingface_login\n",
    "import torch\n",
    "from transformers import AutoTokenizer, AutoModelForCausalLM\n",
    "import dotenv, os\n",
    "from peft import PeftModel, PromptTuningConfig, PromptTuningInit, get_peft_model, TaskType\n",
    "\n",
    "def login():\n",
    "    dotenv.load_dotenv()\n",
    "    huggingface_login(token=os.getenv(\"HUGGING_FACE_HUB_TOKEN\"))\n",
    "\n",
    "def load_model(model_name: str):\n",
    "    bf16 = torch.cuda.is_available() and torch.cuda.get_device_capability(0)[0] >= 8\n",
    "    tokenizer = AutoTokenizer.from_pretrained(model_name, use_fast=True)\n",
    "    if tokenizer.pad_token is None:\n",
    "        tokenizer.pad_token = tokenizer.eos_token\n",
    "\n",
    "    model = AutoModelForCausalLM.from_pretrained(\n",
    "        model_name,\n",
    "        torch_dtype=torch.bfloat16 if bf16 else torch.float16,\n",
    "        device_map=\"auto\",\n",
    "        low_cpu_mem_usage=True,\n",
    "    )\n",
    "    \n",
    "    print(f\"Loaded {model_name} model and tokenizer\")\n",
    "    return model, tokenizer\n",
    "\n",
    "def init_peft_model(model, model_name: str):\n",
    "    config = PromptTuningConfig(\n",
    "        task_type=TaskType.CAUSAL_LM,\n",
    "        prompt_tuning_init=PromptTuningInit.TEXT,\n",
    "        num_virtual_tokens=PROMPT_TOKENS,\n",
    "        prompt_tuning_init_text=\"Generate a reddit post.\",\n",
    "        tokenizer_name_or_path=model_name,\n",
    "    )\n",
    "    return get_peft_model(model, config)\n",
    "\n",
    "def apply_peft_adapter(base_model, adapter_name: str):\n",
    "    model = PeftModel.from_pretrained(base_model, adapter_name)\n",
    "    model.eval()\n",
    "    return model\n",
    "\n"
   ]
  },
  {
   "cell_type": "markdown",
   "id": "79ad76af",
   "metadata": {},
   "source": [
    "## Soft Prompt Training"
   ]
  },
  {
   "cell_type": "code",
   "execution_count": 6,
   "id": "59fb50db",
   "metadata": {},
   "outputs": [],
   "source": [
    "# iterate through models, datasets, and dataset sizes to create soft prompt adapters for each \n",
    "# 4 * 8 = 32 soft prompts\n",
    "# 2 * 8 = 16 adapters\n",
    "# take note of training time, adapter size\n",
    "\n",
    "import math\n",
    "from torch.utils.data import DataLoader\n",
    "from transformers import get_linear_schedule_with_warmup\n",
    "from torch.optim import AdamW\n",
    "\n",
    "def train_soft_prompt(model, tokenizer, train_ds, train_steps, output_dir):\n",
    "    def collate_fn(features):\n",
    "        pad_id = tokenizer.pad_token_id\n",
    "        batch_size = len(features)\n",
    "        seq_lens = [len(f[\"input_ids\"]) for f in features]\n",
    "        max_len = max(seq_lens)\n",
    "\n",
    "        input_ids = torch.full((batch_size, max_len), pad_id, dtype=torch.long)\n",
    "        attention_mask = torch.zeros((batch_size, max_len), dtype=torch.long)\n",
    "        labels = torch.full((batch_size, max_len), -100, dtype=torch.long)\n",
    "\n",
    "        for i, f in enumerate(features):\n",
    "            ids = torch.tensor(f[\"input_ids\"], dtype=torch.long)\n",
    "            attn = torch.tensor(f[\"attention_mask\"], dtype=torch.long)\n",
    "            labs = torch.tensor(f[\"labels\"], dtype=torch.long)\n",
    "            L = ids.size(0)\n",
    "            input_ids[i, :L] = ids\n",
    "            attention_mask[i, :L] = attn\n",
    "            labels[i, :L] = labs\n",
    "\n",
    "        return {\"input_ids\": input_ids, \"attention_mask\": attention_mask, \"labels\": labels}\n",
    "\n",
    "\n",
    "    train_loader = DataLoader(\n",
    "        train_ds,\n",
    "        batch_size=MICRO_BATCH_SIZE,\n",
    "        shuffle=True,\n",
    "        collate_fn=collate_fn,\n",
    "    )\n",
    "\n",
    "    optimizer = AdamW(model.parameters(), lr=LEARNING_RATE)\n",
    "    # Total optimizer steps we intend to take\n",
    "    total_optim_steps = train_steps\n",
    "    num_warmup_steps = max(1, int(0.1 * total_optim_steps))\n",
    "    scheduler = get_linear_schedule_with_warmup(\n",
    "        optimizer,\n",
    "        num_warmup_steps=num_warmup_steps,\n",
    "        num_training_steps=total_optim_steps,\n",
    "    )\n",
    "\n",
    "    model.train()\n",
    "\n",
    "\n",
    "    device = torch.device(\"cuda:0\" if torch.cuda.is_available() else \"cpu\")\n",
    "    model = model.to(device)\n",
    "    model_device = device\n",
    "\n",
    "    print(f\"Training on device: {device}\")\n",
    "\n",
    "    optimizer.zero_grad()\n",
    "    optim_step = 0\n",
    "    accumulated = 0\n",
    "    running_loss = 0.0\n",
    "    for epoch in range(10):  # repeat over dataset until reaching desired steps\n",
    "        for batch in train_loader:\n",
    "            batch = {k: v.to(model_device) for k, v in batch.items()}\n",
    "            outputs = model(**batch)\n",
    "            loss = outputs.loss\n",
    "            (loss / GRAD_ACCUM_STEPS).backward()\n",
    "            running_loss += loss.item()\n",
    "            accumulated += 1\n",
    "            if accumulated % GRAD_ACCUM_STEPS == 0:\n",
    "                optimizer.step()\n",
    "                scheduler.step()\n",
    "                optimizer.zero_grad()\n",
    "                if optim_step % 10 == 0:\n",
    "                    print(f\"step {optim_step} loss {running_loss / GRAD_ACCUM_STEPS:.4f}\")\n",
    "                running_loss = 0.0\n",
    "                optim_step += 1\n",
    "                if optim_step >= total_optim_steps:\n",
    "                    break\n",
    "        if optim_step >= total_optim_steps:\n",
    "            break\n",
    "\n",
    "    model.save_pretrained(output_dir)\n",
    "    print(\"Saved prompt adapter to:\", output_dir)"
   ]
  },
  {
   "cell_type": "markdown",
   "id": "656d588b",
   "metadata": {},
   "source": [
    "## Fine Tuning"
   ]
  },
  {
   "cell_type": "code",
   "execution_count": 7,
   "id": "8bb228af",
   "metadata": {},
   "outputs": [],
   "source": [
    "# iterate through models, datasets \n",
    "# 2 * 8 = 16 LORA fine tuned models\n",
    "# take note of training time, model size\n",
    "\n",
    "def train_fine_tune_lora(model, tokenizer, train_ds, train_steps, output_dir):\n",
    "    pass\n"
   ]
  },
  {
   "cell_type": "markdown",
   "id": "eb66d8d1",
   "metadata": {},
   "source": [
    "## Generate posts"
   ]
  },
  {
   "cell_type": "code",
   "execution_count": 8,
   "id": "b2d20ea7",
   "metadata": {},
   "outputs": [],
   "source": [
    "# 100 posts per cell \n",
    "# look into inference parallelism\n",
    "# iterate through models, experiments, datasets\n",
    "# write each generated post to json file indicating model, experiment, dataset\n",
    "\n",
    "def generate_post(prompt, model, tokenizer):\n",
    "\n",
    "    messages = [\n",
    "        {\"role\": \"user\", \"content\": prompt},\n",
    "    ]\n",
    "\n",
    "    inputs = tokenizer.apply_chat_template(\n",
    "        messages,\n",
    "        add_generation_prompt=True,\n",
    "        tokenize=True,\n",
    "        return_tensors=\"pt\",\n",
    "        return_dict=True,\n",
    "    ).to(model.device)\n",
    "\n",
    "    with torch.no_grad():\n",
    "        outputs = model.generate(\n",
    "            **inputs,\n",
    "            max_new_tokens=MAX_SEQ_LEN,\n",
    "            temperature=0.7,\n",
    "            top_p=0.9,\n",
    "            do_sample=True,\n",
    "            repetition_penalty=1.1,\n",
    "        )\n",
    "    \n",
    "    # Extract the generated text and parse the post format\n",
    "    generated_text = tokenizer.decode(outputs[0][inputs[\"input_ids\"].shape[-1]:])\n",
    "    \n",
    "    # Initialize the post object\n",
    "    post_obj = {\n",
    "        \"title\": \"\",\n",
    "        \"self_text\": \"\",\n",
    "        \"subreddit\": \"\"\n",
    "    }\n",
    "    \n",
    "    # Split by lines and parse each field\n",
    "    lines = generated_text.strip().split('\\n')\n",
    "    \n",
    "    for line in lines:\n",
    "        line = line.strip()\n",
    "        if line.startswith(\"title: \"):\n",
    "            post_obj[\"title\"] = line[7:]  # Remove \"title: \" prefix\n",
    "        elif line.startswith(\"self_text: \"):\n",
    "            post_obj[\"self_text\"] = line[11:]  # Remove \"self_text: \" prefix\n",
    "        elif line.startswith(\"subreddit: \"):\n",
    "            post_obj[\"subreddit\"] = line[11:]  # Remove \"subreddit: \" prefix\n",
    "    \n",
    "    return post_obj\n"
   ]
  },
  {
   "cell_type": "markdown",
   "id": "f41960fb",
   "metadata": {},
   "source": [
    "## Judge LLM"
   ]
  },
  {
   "cell_type": "code",
   "execution_count": 9,
   "id": "d3ddc01a",
   "metadata": {},
   "outputs": [],
   "source": [
    "# judge whether each generated post adheres to dataset category, heuristic based on word content and llm judge\n",
    "\n",
    "def judge_post_gpt5(post, dataset):\n",
    "    JUDGE_PROMPTS = {\n",
    "        \"nerdy\": \"Please judge whether the following post is nerdy. \\n\\npost: {post}\\n\\n\",\n",
    "        \"personal\": \"Please judge whether the following post is personal. \\n\\npost: {post}\\n\\n\",\n",
    "        \"alike 3\": \"Please judge whether the following post is similar to the 3 posts below. \\n\\npost: {post}\\n\\n\",\n",
    "        \"unalike 3\": \"Please judge whether the following post is not similar to the 3 posts below. \\n\\npost: {post}\\n\\n\",\n",
    "        \"format specific\": \"Please judge whether the following post is formatted correctly. \\n\\npost: {post}\\n\\n\",\n",
    "        \"college student\": \"Please judge whether the following post is college student. \\n\\npost: {post}\\n\\n\",\n",
    "        \"new mother\": \"Please judge whether the following post is new mother. \\n\\npost: {post}\\n\\n\",\n",
    "        \"creative gen alpha\": \"Please judge whether the following post is creative gen alpha. \\n\\npost: {post}\\n\\n\",\n",
    "    }\n",
    "    \n",
    "\n",
    "def judge_post_heuristic(post, dataset):\n",
    "    KEYWORDS = {\n",
    "        \"nerdy\": [],\n",
    "        \"personal\": [],\n",
    "        \"alike 3\": [],\n",
    "        \"unalike 3\": [],\n",
    "        \"format specific\": [],\n",
    "        \"college student\": [],\n",
    "        \"new mother\": [],\n",
    "        \"creative gen alpha\": [],\n",
    "    }"
   ]
  },
  {
   "cell_type": "markdown",
   "id": "caad1c6b",
   "metadata": {},
   "source": [
    "## Run Pipeline"
   ]
  },
  {
   "cell_type": "code",
   "execution_count": 10,
   "id": "2d853c86",
   "metadata": {},
   "outputs": [],
   "source": [
    "# JSON output helpers\n",
    "from pathlib import Path\n",
    "import json\n",
    "import tqdm\n",
    "\n",
    "def ensure_parent_dir(path_str: str) -> Path:\n",
    "    path = Path(path_str)\n",
    "    path.parent.mkdir(parents=True, exist_ok=True)\n",
    "    return path\n",
    "\n",
    "def collect_posts(n: int, prompt: str, model, tokenizer) -> list:\n",
    "    posts = []\n",
    "    for i in tqdm(range(n), desc=\"Generating posts\"):\n",
    "        post = generate_post(prompt, model, tokenizer)\n",
    "        # print(f\"generated post {i}\")\n",
    "        posts.append(post)\n",
    "    return posts\n",
    "\n",
    "def write_posts_json(path_str: str, posts: list) -> None:\n",
    "    path = ensure_parent_dir(path_str)\n",
    "    with open(path, \"w\", encoding=\"utf-8\") as f:\n",
    "        json.dump(posts, f, ensure_ascii=False, indent=2)\n"
   ]
  },
  {
   "cell_type": "code",
   "execution_count": 11,
   "id": "fdddbe34",
   "metadata": {},
   "outputs": [],
   "source": [
    "MODELS = [\n",
    "    \"google/gemma-3-4b-it\",\n",
    "    \"google/gemma-3-27b-it\",\n",
    "    \"gpt-5\"\n",
    "]\n",
    "\n",
    "\n",
    "# Load dataset categories from JSON file\n",
    "DATASET1_NAMES = [\n",
    "    \"minecraft\",\n",
    "    \"ucla\",\n",
    "    \"nostupidquestions\",\n",
    "    \"copypasta\",\n",
    "    \"varietypack\",\n",
    "]\n",
    "DATASETS1 = [\n",
    "    {\n",
    "        \"minecraft\": 1,  \n",
    "    },\n",
    "    {\n",
    "        \"ucla\": 1,  \n",
    "    },\n",
    "    {\n",
    "        \"nostupidquestions\": 1,  \n",
    "    },\n",
    "    {\n",
    "        \"copypasta\": 1,  \n",
    "    },\n",
    "    {\n",
    "        \"nerdy\": 1,  \n",
    "        \"personal\": 1,\n",
    "        \"amitheasshole\": 1,\n",
    "        \"tech\": 1,\n",
    "        \"pop\": 1,\n",
    "        \"animals\": 1, \n",
    "        \"boomerhumor\": 1,\n",
    "        \"copypasta\": 1,\n",
    "        \"creative\": 1,\n",
    "        \"food\": 1,\n",
    "        \"nba\": 1,\n",
    "        \"religion\": 1,\n",
    "        \"school\": 1,\n",
    "        \"ucla\": 1,\n",
    "    },\n",
    "]\n",
    "\n",
    "DATASET2_NAMES = [\n",
    "    \"nerdy\",\n",
    "    \"personal\",\n",
    "    \"unalike\",\n",
    "    \"alike\",\n",
    "    \"formatspecific\",\n",
    "    \"college\",\n",
    "    \"newmother\",\n",
    "]\n",
    "DATASETS2 = [\n",
    "    {\n",
    "        \"nerdy\": 1,  \n",
    "    },\n",
    "    {\n",
    "        \"personal\": 1,  \n",
    "    },\n",
    "    { # unalike\n",
    "        \"pop\": 1,  \n",
    "        \"religion\": 1,\n",
    "        \"tech\": 1\n",
    "    },\n",
    "    { # alike\n",
    "        \"tech\": 1,\n",
    "        \"nerdy\": 1,\n",
    "        \"finance\": 1,\n",
    "    },\n",
    "    { # format specific\n",
    "        \"copypasta\": 1,\n",
    "        \"nostupidquestions\": 1,\n",
    "        \"amitheasshole\": 1,\n",
    "    },\n",
    "    { # college student\n",
    "        \"ucla\": 1,\n",
    "        \"nerdy\": 1,\n",
    "        \"okbuddy\": 1,\n",
    "        \"copypasta\": 1,\n",
    "        \"pop\": 1,\n",
    "        \"food\": 1,\n",
    "        \"animals\": 1,\n",
    "    },\n",
    "    { # new mother\n",
    "        \"pregnancy\": 1,\n",
    "        \"parenting\": 1,\n",
    "        \"baby\": 1,\n",
    "        \"food\": 1,\n",
    "        \"amitheasshole\": 1,\n",
    "        \"pop\": 1,\n",
    "        \"boomerhumor\": 1,\n",
    "    },\n",
    "]\n",
    "\n",
    "TRAIN_SIZES = [\n",
    "    10, 20, 50, 100, 250, 500, 1000,2000\n",
    "]\n",
    "\n",
    "EXPERIMENTS = [\n",
    "    \"self defined\",\n",
    "    \"summary\",\n",
    "    \"like history\",\n",
    "    \"fine tune\",\n",
    "    \"soft prompt\",\n",
    "]\n",
    "\n",
    "PROMPT_TOKENS = 64\n",
    "MICRO_BATCH_SIZE = 1\n",
    "GRAD_ACCUM_STEPS = 1\n",
    "LEARNING_RATE = 0.2\n",
    "NUM_TRAIN_STEPS = 1000  \n",
    "MAX_SEQ_LEN = 2048\n",
    "\n",
    "MODEL_OUTPUT_DIR = \"models\"\n",
    "GENERATED_OUTPUT_DIR = \"generated\""
   ]
  },
  {
   "cell_type": "code",
   "execution_count": 12,
   "id": "6006704d",
   "metadata": {},
   "outputs": [],
   "source": [
    "PROMPTS = {\n",
    "    \"self defined\": {\n",
    "        # user defines their own interests. e.g. a bio of interests\n",
    "        \"nerdy\": \"Please generate one reddit post. Use this format. \\n\\ntitle: {title}\\n self_text: {self_text}\\n subreddit: {subreddit}\\n\",\n",
    "        \"personal\": \"Please generate one reddit post. Use this format. \\n\\ntitle: {title}\\n self_text: {self_text}\\n subreddit: {subreddit}\\n\", \n",
    "        \"alike 3\": \"Please generate one reddit post. Use this format. \\n\\ntitle: {title}\\n self_text: {self_text}\\n subreddit: {subreddit}\\n\",\n",
    "        \"unalike 3\": \"Please generate one reddit post. Use this format. \\n\\ntitle: {title}\\n self_text: {self_text}\\n subreddit: {subreddit}\\n\",\n",
    "        \"format specific\": \"Please generate one reddit post. Use this format. \\n\\ntitle: {title}\\n self_text: {self_text}\\n subreddit: {subreddit}\\n\",\n",
    "        \"college student\": \"Please generate one reddit post. Use this format. \\n\\ntitle: {title}\\n self_text: {self_text}\\n subreddit: {subreddit}\\n\",\n",
    "        \"new mother\": \"Please generate one reddit post. Use this format. \\n\\ntitle: {title}\\n self_text: {self_text}\\n subreddit: {subreddit}\\n\",\n",
    "        \"creative gen alpha\": \"Please generate one reddit post. Use this format. \\n\\ntitle: {title}\\n self_text: {self_text}\\n subreddit: {subreddit}\\n\",\n",
    "    },\n",
    "    \"fine tune\": \"Please generate one reddit post. Use this format. \\n\\ntitle: {title}\\n self_text: {self_text}\\n subreddit: {subreddit}\\n\",\n",
    "    \"soft prompt\": \"Please generate one reddit post. Use this format. \\n\\ntitle: {title}\\n self_text: {self_text}\\n subreddit: {subreddit}\\n\",\n",
    "}"
   ]
  },
  {
   "cell_type": "code",
   "execution_count": 13,
   "id": "c396dbae",
   "metadata": {},
   "outputs": [],
   "source": [
    "def generate_summarized_prompt(dataset):\n",
    "    return \"\"\n",
    "\n",
    "def generate_like_history_prompt(dataset):\n",
    "    return \"\""
   ]
  },
  {
   "cell_type": "markdown",
   "id": "cf6f9a65",
   "metadata": {},
   "source": [
    "### testing..."
   ]
  },
  {
   "cell_type": "code",
   "execution_count": 14,
   "id": "7a9f9210",
   "metadata": {},
   "outputs": [],
   "source": [
    "# # single test\n",
    "\n",
    "# model_name = MODELS[0]\n",
    "# dataset_name = DATASET1_NAMES[0]\n",
    "# dataset_dict = DATASETS1[0]\n",
    "# train_size = TRAIN_SIZES[3]\n",
    "# print(model_name, dataset_name, train_size)\n",
    "\n",
    "# # load data + model\n",
    "# login()\n",
    "# model, tokenizer = load_model(model_name)\n",
    "# examples = load_datasets_proportional(dataset_dict, train_size, PROMPTS[\"soft prompt\"]) \n",
    "# train_ds = preprocess_dataset(examples, tokenizer)"
   ]
  },
  {
   "cell_type": "code",
   "execution_count": 15,
   "id": "90ef0daf",
   "metadata": {},
   "outputs": [],
   "source": [
    "# soft_output_dir = f\"{MODEL_OUTPUT_DIR}/soft_prompts/soft_prompt_{model_name}_{dataset_name}_{train_size}\" \n",
    "\n",
    "# # initialize peft model\n",
    "# peft_model = init_peft_model(model, model_name)\n",
    "\n",
    "# # train soft prompt\n",
    "# train_soft_prompt(peft_model, tokenizer, train_ds, NUM_TRAIN_STEPS, soft_output_dir)"
   ]
  },
  {
   "cell_type": "code",
   "execution_count": 16,
   "id": "c4e54cf6",
   "metadata": {},
   "outputs": [],
   "source": [
    "# # generate posts\n",
    "\n",
    "# from pathlib import Path\n",
    "\n",
    "# soft_output_dir = f\"{MODEL_OUTPUT_DIR}/soft_prompts/soft_prompt_{model_name}_{dataset_name}_{train_size}\" \n",
    "\n",
    "# # load peft model\n",
    "# peft_model = apply_peft_adapter(model, soft_output_dir)\n",
    "\n",
    "# out_path = Path(f\"{GENERATED_OUTPUT_DIR}/train_size_ablation/{model_name}_{dataset_name}_{train_size}.json\")\n",
    "# out_path.parent.mkdir(parents=True, exist_ok=True)\n",
    "\n",
    "# posts = collect_posts(5, PROMPTS[\"soft prompt\"], peft_model, tokenizer)\n",
    "# write_posts_json(out_path, posts)"
   ]
  },
  {
   "cell_type": "markdown",
   "id": "0f7c7088",
   "metadata": {},
   "source": [
    "### Pipelines"
   ]
  },
  {
   "cell_type": "code",
   "execution_count": 17,
   "id": "ffd32687",
   "metadata": {},
   "outputs": [
    {
     "name": "stderr",
     "output_type": "stream",
     "text": [
      "Note: Environment variable`HF_TOKEN` is set and is the current active token independently from the token you've just configured.\n"
     ]
    },
    {
     "data": {
      "application/vnd.jupyter.widget-view+json": {
       "model_id": "576318059d0045dca1ec9520528c093b",
       "version_major": 2,
       "version_minor": 0
      },
      "text/plain": [
       "Models:   0%|          | 0/3 [00:00<?, ?it/s]"
      ]
     },
     "metadata": {},
     "output_type": "display_data"
    },
    {
     "data": {
      "application/vnd.jupyter.widget-view+json": {
       "model_id": "3fc1066ed1ce4d9fa8d8959a5e1ad69c",
       "version_major": 2,
       "version_minor": 0
      },
      "text/plain": [
       "tokenizer_config.json:   0%|          | 0.00/1.16M [00:00<?, ?B/s]"
      ]
     },
     "metadata": {},
     "output_type": "display_data"
    },
    {
     "data": {
      "application/vnd.jupyter.widget-view+json": {
       "model_id": "1bd35d1932754a96901549bece1caba8",
       "version_major": 2,
       "version_minor": 0
      },
      "text/plain": [
       "tokenizer.model:   0%|          | 0.00/4.69M [00:00<?, ?B/s]"
      ]
     },
     "metadata": {},
     "output_type": "display_data"
    },
    {
     "data": {
      "application/vnd.jupyter.widget-view+json": {
       "model_id": "1373036b724449eaa82b5e7c48f7a361",
       "version_major": 2,
       "version_minor": 0
      },
      "text/plain": [
       "tokenizer.json:   0%|          | 0.00/33.4M [00:00<?, ?B/s]"
      ]
     },
     "metadata": {},
     "output_type": "display_data"
    },
    {
     "data": {
      "application/vnd.jupyter.widget-view+json": {
       "model_id": "d25f5f8cb29f463b940bee175e1dda62",
       "version_major": 2,
       "version_minor": 0
      },
      "text/plain": [
       "added_tokens.json:   0%|          | 0.00/35.0 [00:00<?, ?B/s]"
      ]
     },
     "metadata": {},
     "output_type": "display_data"
    },
    {
     "data": {
      "application/vnd.jupyter.widget-view+json": {
       "model_id": "3c086f2de5444336a5309128bdf3a6df",
       "version_major": 2,
       "version_minor": 0
      },
      "text/plain": [
       "special_tokens_map.json:   0%|          | 0.00/662 [00:00<?, ?B/s]"
      ]
     },
     "metadata": {},
     "output_type": "display_data"
    },
    {
     "data": {
      "application/vnd.jupyter.widget-view+json": {
       "model_id": "1039b4911a4a4c698751bc069cd49b71",
       "version_major": 2,
       "version_minor": 0
      },
      "text/plain": [
       "config.json:   0%|          | 0.00/855 [00:00<?, ?B/s]"
      ]
     },
     "metadata": {},
     "output_type": "display_data"
    },
    {
     "name": "stderr",
     "output_type": "stream",
     "text": [
      "`torch_dtype` is deprecated! Use `dtype` instead!\n"
     ]
    },
    {
     "data": {
      "application/vnd.jupyter.widget-view+json": {
       "model_id": "8c01e8d4965d4003b7d103a47e586542",
       "version_major": 2,
       "version_minor": 0
      },
      "text/plain": [
       "model.safetensors.index.json:   0%|          | 0.00/90.6k [00:00<?, ?B/s]"
      ]
     },
     "metadata": {},
     "output_type": "display_data"
    },
    {
     "data": {
      "application/vnd.jupyter.widget-view+json": {
       "model_id": "deb747cb40d44ca389c4de8475981783",
       "version_major": 2,
       "version_minor": 0
      },
      "text/plain": [
       "Fetching 2 files:   0%|          | 0/2 [00:00<?, ?it/s]"
      ]
     },
     "metadata": {},
     "output_type": "display_data"
    },
    {
     "data": {
      "application/vnd.jupyter.widget-view+json": {
       "model_id": "bd990bad29894e6296f5a1b66366b1ea",
       "version_major": 2,
       "version_minor": 0
      },
      "text/plain": [
       "model-00002-of-00002.safetensors:   0%|          | 0.00/3.64G [00:00<?, ?B/s]"
      ]
     },
     "metadata": {},
     "output_type": "display_data"
    },
    {
     "data": {
      "application/vnd.jupyter.widget-view+json": {
       "model_id": "bf39d9a6476746a5a16a861a3faae392",
       "version_major": 2,
       "version_minor": 0
      },
      "text/plain": [
       "model-00001-of-00002.safetensors:   0%|          | 0.00/4.96G [00:00<?, ?B/s]"
      ]
     },
     "metadata": {},
     "output_type": "display_data"
    },
    {
     "data": {
      "application/vnd.jupyter.widget-view+json": {
       "model_id": "ece4447cc7984e099275fe035a531adc",
       "version_major": 2,
       "version_minor": 0
      },
      "text/plain": [
       "Loading checkpoint shards:   0%|          | 0/2 [00:00<?, ?it/s]"
      ]
     },
     "metadata": {},
     "output_type": "display_data"
    },
    {
     "data": {
      "application/vnd.jupyter.widget-view+json": {
       "model_id": "e9975399c6334c2b9a423507de7ff170",
       "version_major": 2,
       "version_minor": 0
      },
      "text/plain": [
       "generation_config.json:   0%|          | 0.00/215 [00:00<?, ?B/s]"
      ]
     },
     "metadata": {},
     "output_type": "display_data"
    },
    {
     "name": "stdout",
     "output_type": "stream",
     "text": [
      "Loaded google/gemma-3-4b-it model and tokenizer\n"
     ]
    },
    {
     "data": {
      "application/vnd.jupyter.widget-view+json": {
       "model_id": "3e1d5b6fd6734b789425c70cc83824e2",
       "version_major": 2,
       "version_minor": 0
      },
      "text/plain": [
       "Datasets1:   0%|          | 0/5 [00:00<?, ?it/s]"
      ]
     },
     "metadata": {},
     "output_type": "display_data"
    },
    {
     "data": {
      "application/vnd.jupyter.widget-view+json": {
       "model_id": "b1ea6f08f6354faaa406db8f9bd5d938",
       "version_major": 2,
       "version_minor": 0
      },
      "text/plain": [
       "Train sizes:   0%|          | 0/8 [00:00<?, ?it/s]"
      ]
     },
     "metadata": {},
     "output_type": "display_data"
    },
    {
     "name": "stdout",
     "output_type": "stream",
     "text": [
      "Soft prompt models/soft_prompts/google/gemma-3-4b-it/minecraft/10 exists, skipping training\n",
      "Output file generated/train_size_ablation/google/gemma-3-4b-it/minecraft/10.json already exists with posts, skipping generation\n",
      "Soft prompt models/soft_prompts/google/gemma-3-4b-it/minecraft/20 exists, skipping training\n",
      "Output file generated/train_size_ablation/google/gemma-3-4b-it/minecraft/20.json already exists with posts, skipping generation\n",
      "Soft prompt models/soft_prompts/google/gemma-3-4b-it/minecraft/50 exists, skipping training\n",
      "Output file generated/train_size_ablation/google/gemma-3-4b-it/minecraft/50.json already exists with posts, skipping generation\n",
      "Soft prompt models/soft_prompts/google/gemma-3-4b-it/minecraft/100 exists, skipping training\n",
      "Output file generated/train_size_ablation/google/gemma-3-4b-it/minecraft/100.json already exists with posts, skipping generation\n",
      "Soft prompt models/soft_prompts/google/gemma-3-4b-it/minecraft/250 exists, skipping training\n",
      "Output file generated/train_size_ablation/google/gemma-3-4b-it/minecraft/250.json already exists with posts, skipping generation\n",
      "Soft prompt models/soft_prompts/google/gemma-3-4b-it/minecraft/500 exists, skipping training\n",
      "Output file generated/train_size_ablation/google/gemma-3-4b-it/minecraft/500.json already exists with posts, skipping generation\n",
      "Soft prompt models/soft_prompts/google/gemma-3-4b-it/minecraft/1000 exists, skipping training\n",
      "Output file generated/train_size_ablation/google/gemma-3-4b-it/minecraft/1000.json already exists with posts, skipping generation\n",
      "Soft prompt models/soft_prompts/google/gemma-3-4b-it/minecraft/2000 exists, skipping training\n",
      "Output file generated/train_size_ablation/google/gemma-3-4b-it/minecraft/2000.json already exists with posts, skipping generation\n"
     ]
    },
    {
     "data": {
      "application/vnd.jupyter.widget-view+json": {
       "model_id": "fa0b2f37b3b947729296471c6afad2d1",
       "version_major": 2,
       "version_minor": 0
      },
      "text/plain": [
       "Train sizes:   0%|          | 0/8 [00:00<?, ?it/s]"
      ]
     },
     "metadata": {},
     "output_type": "display_data"
    },
    {
     "name": "stdout",
     "output_type": "stream",
     "text": [
      "Soft prompt models/soft_prompts/google/gemma-3-4b-it/ucla/10 exists, skipping training\n",
      "Output file generated/train_size_ablation/google/gemma-3-4b-it/ucla/10.json already exists with posts, skipping generation\n",
      "Soft prompt models/soft_prompts/google/gemma-3-4b-it/ucla/20 exists, skipping training\n",
      "Output file generated/train_size_ablation/google/gemma-3-4b-it/ucla/20.json already exists with posts, skipping generation\n",
      "Soft prompt models/soft_prompts/google/gemma-3-4b-it/ucla/50 exists, skipping training\n",
      "Output file generated/train_size_ablation/google/gemma-3-4b-it/ucla/50.json already exists with posts, skipping generation\n",
      "Soft prompt models/soft_prompts/google/gemma-3-4b-it/ucla/100 exists, skipping training\n",
      "Output file generated/train_size_ablation/google/gemma-3-4b-it/ucla/100.json already exists with posts, skipping generation\n",
      "Soft prompt models/soft_prompts/google/gemma-3-4b-it/ucla/250 exists, skipping training\n",
      "Output file generated/train_size_ablation/google/gemma-3-4b-it/ucla/250.json already exists with posts, skipping generation\n",
      "Soft prompt models/soft_prompts/google/gemma-3-4b-it/ucla/500 exists, skipping training\n",
      "Output file generated/train_size_ablation/google/gemma-3-4b-it/ucla/500.json already exists with posts, skipping generation\n",
      "Soft prompt models/soft_prompts/google/gemma-3-4b-it/ucla/1000 exists, skipping training\n",
      "Output file generated/train_size_ablation/google/gemma-3-4b-it/ucla/1000.json already exists with posts, skipping generation\n",
      "Soft prompt models/soft_prompts/google/gemma-3-4b-it/ucla/2000 exists, skipping training\n",
      "Output file generated/train_size_ablation/google/gemma-3-4b-it/ucla/2000.json already exists with posts, skipping generation\n"
     ]
    },
    {
     "data": {
      "application/vnd.jupyter.widget-view+json": {
       "model_id": "d609cad5928b4a7180a0588730a6ddc3",
       "version_major": 2,
       "version_minor": 0
      },
      "text/plain": [
       "Train sizes:   0%|          | 0/8 [00:00<?, ?it/s]"
      ]
     },
     "metadata": {},
     "output_type": "display_data"
    },
    {
     "name": "stdout",
     "output_type": "stream",
     "text": [
      "Soft prompt models/soft_prompts/google/gemma-3-4b-it/nostupidquestions/10 exists, skipping training\n",
      "Output file generated/train_size_ablation/google/gemma-3-4b-it/nostupidquestions/10.json already exists with posts, skipping generation\n",
      "Soft prompt models/soft_prompts/google/gemma-3-4b-it/nostupidquestions/20 exists, skipping training\n",
      "Output file generated/train_size_ablation/google/gemma-3-4b-it/nostupidquestions/20.json already exists with posts, skipping generation\n",
      "Soft prompt models/soft_prompts/google/gemma-3-4b-it/nostupidquestions/50 exists, skipping training\n",
      "Output file generated/train_size_ablation/google/gemma-3-4b-it/nostupidquestions/50.json already exists with posts, skipping generation\n",
      "Soft prompt models/soft_prompts/google/gemma-3-4b-it/nostupidquestions/100 exists, skipping training\n",
      "Output file generated/train_size_ablation/google/gemma-3-4b-it/nostupidquestions/100.json already exists with posts, skipping generation\n",
      "Soft prompt models/soft_prompts/google/gemma-3-4b-it/nostupidquestions/250 exists, skipping training\n",
      "Output file generated/train_size_ablation/google/gemma-3-4b-it/nostupidquestions/250.json already exists with posts, skipping generation\n",
      "Soft prompt models/soft_prompts/google/gemma-3-4b-it/nostupidquestions/500 exists, skipping training\n",
      "Output file generated/train_size_ablation/google/gemma-3-4b-it/nostupidquestions/500.json already exists with posts, skipping generation\n",
      "Soft prompt models/soft_prompts/google/gemma-3-4b-it/nostupidquestions/1000 exists, skipping training\n",
      "Output file generated/train_size_ablation/google/gemma-3-4b-it/nostupidquestions/1000.json already exists with posts, skipping generation\n",
      "Soft prompt models/soft_prompts/google/gemma-3-4b-it/nostupidquestions/2000 exists, skipping training\n",
      "Output file generated/train_size_ablation/google/gemma-3-4b-it/nostupidquestions/2000.json already exists with posts, skipping generation\n"
     ]
    },
    {
     "data": {
      "application/vnd.jupyter.widget-view+json": {
       "model_id": "fd77f32630eb46d8bf23ee86e43183b9",
       "version_major": 2,
       "version_minor": 0
      },
      "text/plain": [
       "Train sizes:   0%|          | 0/8 [00:00<?, ?it/s]"
      ]
     },
     "metadata": {},
     "output_type": "display_data"
    },
    {
     "name": "stdout",
     "output_type": "stream",
     "text": [
      "Soft prompt models/soft_prompts/google/gemma-3-4b-it/copypasta/10 exists, skipping training\n",
      "Output file generated/train_size_ablation/google/gemma-3-4b-it/copypasta/10.json already exists with posts, skipping generation\n",
      "Soft prompt models/soft_prompts/google/gemma-3-4b-it/copypasta/20 exists, skipping training\n",
      "Output file generated/train_size_ablation/google/gemma-3-4b-it/copypasta/20.json already exists with posts, skipping generation\n",
      "Soft prompt models/soft_prompts/google/gemma-3-4b-it/copypasta/50 exists, skipping training\n",
      "Output file generated/train_size_ablation/google/gemma-3-4b-it/copypasta/50.json already exists with posts, skipping generation\n",
      "Soft prompt models/soft_prompts/google/gemma-3-4b-it/copypasta/100 exists, skipping training\n",
      "Output file generated/train_size_ablation/google/gemma-3-4b-it/copypasta/100.json already exists with posts, skipping generation\n",
      "Soft prompt models/soft_prompts/google/gemma-3-4b-it/copypasta/250 exists, skipping training\n",
      "Output file generated/train_size_ablation/google/gemma-3-4b-it/copypasta/250.json already exists with posts, skipping generation\n",
      "Soft prompt models/soft_prompts/google/gemma-3-4b-it/copypasta/500 exists, skipping training\n",
      "Output file generated/train_size_ablation/google/gemma-3-4b-it/copypasta/500.json already exists with posts, skipping generation\n",
      "Soft prompt models/soft_prompts/google/gemma-3-4b-it/copypasta/1000 exists, skipping training\n",
      "Output file generated/train_size_ablation/google/gemma-3-4b-it/copypasta/1000.json already exists with posts, skipping generation\n",
      "Soft prompt models/soft_prompts/google/gemma-3-4b-it/copypasta/2000 exists, skipping training\n",
      "Output file generated/train_size_ablation/google/gemma-3-4b-it/copypasta/2000.json already exists with posts, skipping generation\n"
     ]
    },
    {
     "data": {
      "application/vnd.jupyter.widget-view+json": {
       "model_id": "b1e631a2a24449eda85a6b287a6eba6c",
       "version_major": 2,
       "version_minor": 0
      },
      "text/plain": [
       "Train sizes:   0%|          | 0/8 [00:00<?, ?it/s]"
      ]
     },
     "metadata": {},
     "output_type": "display_data"
    },
    {
     "name": "stdout",
     "output_type": "stream",
     "text": [
      "Soft prompt models/soft_prompts/google/gemma-3-4b-it/varietypack/10 exists, skipping training\n",
      "Output file generated/train_size_ablation/google/gemma-3-4b-it/varietypack/10.json already exists with posts, skipping generation\n",
      "Soft prompt models/soft_prompts/google/gemma-3-4b-it/varietypack/20 exists, skipping training\n",
      "Output file generated/train_size_ablation/google/gemma-3-4b-it/varietypack/20.json already exists with posts, skipping generation\n",
      "Soft prompt models/soft_prompts/google/gemma-3-4b-it/varietypack/50 exists, skipping training\n",
      "Output file generated/train_size_ablation/google/gemma-3-4b-it/varietypack/50.json already exists with posts, skipping generation\n",
      "Soft prompt models/soft_prompts/google/gemma-3-4b-it/varietypack/100 exists, skipping training\n",
      "Output file generated/train_size_ablation/google/gemma-3-4b-it/varietypack/100.json already exists with posts, skipping generation\n",
      "Soft prompt models/soft_prompts/google/gemma-3-4b-it/varietypack/250 exists, skipping training\n",
      "Output file generated/train_size_ablation/google/gemma-3-4b-it/varietypack/250.json already exists with posts, skipping generation\n",
      "Soft prompt models/soft_prompts/google/gemma-3-4b-it/varietypack/500 exists, skipping training\n",
      "Output file generated/train_size_ablation/google/gemma-3-4b-it/varietypack/500.json already exists with posts, skipping generation\n",
      "Soft prompt models/soft_prompts/google/gemma-3-4b-it/varietypack/1000 exists, skipping training\n",
      "Output file generated/train_size_ablation/google/gemma-3-4b-it/varietypack/1000.json already exists with posts, skipping generation\n",
      "Soft prompt models/soft_prompts/google/gemma-3-4b-it/varietypack/2000 exists, skipping training\n",
      "Output file generated/train_size_ablation/google/gemma-3-4b-it/varietypack/2000.json already exists with posts, skipping generation\n"
     ]
    },
    {
     "data": {
      "application/vnd.jupyter.widget-view+json": {
       "model_id": "fa1d1fb574ca40d7b5972b7ac65f5303",
       "version_major": 2,
       "version_minor": 0
      },
      "text/plain": [
       "tokenizer_config.json:   0%|          | 0.00/1.16M [00:00<?, ?B/s]"
      ]
     },
     "metadata": {},
     "output_type": "display_data"
    },
    {
     "data": {
      "application/vnd.jupyter.widget-view+json": {
       "model_id": "ca8d06bcd6344640a5b0e5e566ccba6b",
       "version_major": 2,
       "version_minor": 0
      },
      "text/plain": [
       "tokenizer.model:   0%|          | 0.00/4.69M [00:00<?, ?B/s]"
      ]
     },
     "metadata": {},
     "output_type": "display_data"
    },
    {
     "data": {
      "application/vnd.jupyter.widget-view+json": {
       "model_id": "ec25fdc627dc4682b1387c12d34080de",
       "version_major": 2,
       "version_minor": 0
      },
      "text/plain": [
       "tokenizer.json:   0%|          | 0.00/33.4M [00:00<?, ?B/s]"
      ]
     },
     "metadata": {},
     "output_type": "display_data"
    },
    {
     "data": {
      "application/vnd.jupyter.widget-view+json": {
       "model_id": "a0f2513646864b3e9eed34357453c8fd",
       "version_major": 2,
       "version_minor": 0
      },
      "text/plain": [
       "added_tokens.json:   0%|          | 0.00/35.0 [00:00<?, ?B/s]"
      ]
     },
     "metadata": {},
     "output_type": "display_data"
    },
    {
     "data": {
      "application/vnd.jupyter.widget-view+json": {
       "model_id": "02e8c44270c84232b6b705d9fc7c8df9",
       "version_major": 2,
       "version_minor": 0
      },
      "text/plain": [
       "special_tokens_map.json:   0%|          | 0.00/662 [00:00<?, ?B/s]"
      ]
     },
     "metadata": {},
     "output_type": "display_data"
    },
    {
     "data": {
      "application/vnd.jupyter.widget-view+json": {
       "model_id": "0077a7c78d324c9f96e47e7fd889e346",
       "version_major": 2,
       "version_minor": 0
      },
      "text/plain": [
       "config.json:   0%|          | 0.00/972 [00:00<?, ?B/s]"
      ]
     },
     "metadata": {},
     "output_type": "display_data"
    },
    {
     "data": {
      "application/vnd.jupyter.widget-view+json": {
       "model_id": "021879f0489646caba91a45dcdc332eb",
       "version_major": 2,
       "version_minor": 0
      },
      "text/plain": [
       "model.safetensors.index.json:   0%|          | 0.00/127k [00:00<?, ?B/s]"
      ]
     },
     "metadata": {},
     "output_type": "display_data"
    },
    {
     "data": {
      "application/vnd.jupyter.widget-view+json": {
       "model_id": "9f28dc83b0e24ed4af6557b20fc25a4b",
       "version_major": 2,
       "version_minor": 0
      },
      "text/plain": [
       "Fetching 12 files:   0%|          | 0/12 [00:00<?, ?it/s]"
      ]
     },
     "metadata": {},
     "output_type": "display_data"
    },
    {
     "data": {
      "application/vnd.jupyter.widget-view+json": {
       "model_id": "6c59dd5fbf974a88a5d0699eae0ccb39",
       "version_major": 2,
       "version_minor": 0
      },
      "text/plain": [
       "model-00001-of-00012.safetensors:   0%|          | 0.00/4.85G [00:00<?, ?B/s]"
      ]
     },
     "metadata": {},
     "output_type": "display_data"
    },
    {
     "data": {
      "application/vnd.jupyter.widget-view+json": {
       "model_id": "425d55d0f95d4a519e9c14d99712917b",
       "version_major": 2,
       "version_minor": 0
      },
      "text/plain": [
       "model-00004-of-00012.safetensors:   0%|          | 0.00/4.95G [00:00<?, ?B/s]"
      ]
     },
     "metadata": {},
     "output_type": "display_data"
    },
    {
     "data": {
      "application/vnd.jupyter.widget-view+json": {
       "model_id": "e7b292f2ffec494c972a19d0cf77f69d",
       "version_major": 2,
       "version_minor": 0
      },
      "text/plain": [
       "model-00008-of-00012.safetensors:   0%|          | 0.00/4.95G [00:00<?, ?B/s]"
      ]
     },
     "metadata": {},
     "output_type": "display_data"
    },
    {
     "data": {
      "application/vnd.jupyter.widget-view+json": {
       "model_id": "9748e29d0dc44e05b42e1d4b2140b6e8",
       "version_major": 2,
       "version_minor": 0
      },
      "text/plain": [
       "model-00002-of-00012.safetensors:   0%|          | 0.00/4.95G [00:00<?, ?B/s]"
      ]
     },
     "metadata": {},
     "output_type": "display_data"
    },
    {
     "data": {
      "application/vnd.jupyter.widget-view+json": {
       "model_id": "1293817acdae41af9623e24ea352e958",
       "version_major": 2,
       "version_minor": 0
      },
      "text/plain": [
       "model-00005-of-00012.safetensors:   0%|          | 0.00/4.95G [00:00<?, ?B/s]"
      ]
     },
     "metadata": {},
     "output_type": "display_data"
    },
    {
     "data": {
      "application/vnd.jupyter.widget-view+json": {
       "model_id": "0f81699311bf4cf2b6951ee54c2bf5c0",
       "version_major": 2,
       "version_minor": 0
      },
      "text/plain": [
       "model-00007-of-00012.safetensors:   0%|          | 0.00/4.95G [00:00<?, ?B/s]"
      ]
     },
     "metadata": {},
     "output_type": "display_data"
    },
    {
     "data": {
      "application/vnd.jupyter.widget-view+json": {
       "model_id": "8d0aa1674aaf43139645b790975d7907",
       "version_major": 2,
       "version_minor": 0
      },
      "text/plain": [
       "model-00006-of-00012.safetensors:   0%|          | 0.00/4.95G [00:00<?, ?B/s]"
      ]
     },
     "metadata": {},
     "output_type": "display_data"
    },
    {
     "data": {
      "application/vnd.jupyter.widget-view+json": {
       "model_id": "8e7885d517624c9db7bdba990c58f06c",
       "version_major": 2,
       "version_minor": 0
      },
      "text/plain": [
       "model-00003-of-00012.safetensors:   0%|          | 0.00/4.95G [00:00<?, ?B/s]"
      ]
     },
     "metadata": {},
     "output_type": "display_data"
    },
    {
     "data": {
      "application/vnd.jupyter.widget-view+json": {
       "model_id": "4e8180c0c7824701a71006403f09bca1",
       "version_major": 2,
       "version_minor": 0
      },
      "text/plain": [
       "model-00009-of-00012.safetensors:   0%|          | 0.00/4.95G [00:00<?, ?B/s]"
      ]
     },
     "metadata": {},
     "output_type": "display_data"
    },
    {
     "data": {
      "application/vnd.jupyter.widget-view+json": {
       "model_id": "9aeeab7c37184592945e97df737ec70a",
       "version_major": 2,
       "version_minor": 0
      },
      "text/plain": [
       "model-00010-of-00012.safetensors:   0%|          | 0.00/4.95G [00:00<?, ?B/s]"
      ]
     },
     "metadata": {},
     "output_type": "display_data"
    },
    {
     "data": {
      "application/vnd.jupyter.widget-view+json": {
       "model_id": "6ff34e841c684f6bb6c8906d616bb733",
       "version_major": 2,
       "version_minor": 0
      },
      "text/plain": [
       "model-00011-of-00012.safetensors:   0%|          | 0.00/4.95G [00:00<?, ?B/s]"
      ]
     },
     "metadata": {},
     "output_type": "display_data"
    },
    {
     "data": {
      "application/vnd.jupyter.widget-view+json": {
       "model_id": "66900ffa7be94024b0fd478971c66b18",
       "version_major": 2,
       "version_minor": 0
      },
      "text/plain": [
       "model-00012-of-00012.safetensors:   0%|          | 0.00/462M [00:00<?, ?B/s]"
      ]
     },
     "metadata": {},
     "output_type": "display_data"
    },
    {
     "data": {
      "application/vnd.jupyter.widget-view+json": {
       "model_id": "6e509dea313e43dda86fc3609a2278b3",
       "version_major": 2,
       "version_minor": 0
      },
      "text/plain": [
       "Loading checkpoint shards:   0%|          | 0/12 [00:00<?, ?it/s]"
      ]
     },
     "metadata": {},
     "output_type": "display_data"
    },
    {
     "data": {
      "application/vnd.jupyter.widget-view+json": {
       "model_id": "97b0e69a32634d698a30676420a4551b",
       "version_major": 2,
       "version_minor": 0
      },
      "text/plain": [
       "generation_config.json:   0%|          | 0.00/215 [00:00<?, ?B/s]"
      ]
     },
     "metadata": {},
     "output_type": "display_data"
    },
    {
     "name": "stdout",
     "output_type": "stream",
     "text": [
      "Loaded google/gemma-3-27b-it model and tokenizer\n"
     ]
    },
    {
     "data": {
      "application/vnd.jupyter.widget-view+json": {
       "model_id": "3c6cb5d4815b4e13a2bd8794bd3cb7ff",
       "version_major": 2,
       "version_minor": 0
      },
      "text/plain": [
       "Datasets1:   0%|          | 0/5 [00:00<?, ?it/s]"
      ]
     },
     "metadata": {},
     "output_type": "display_data"
    },
    {
     "data": {
      "application/vnd.jupyter.widget-view+json": {
       "model_id": "878afc1c2d094cf89958dc1f59955230",
       "version_major": 2,
       "version_minor": 0
      },
      "text/plain": [
       "Train sizes:   0%|          | 0/8 [00:00<?, ?it/s]"
      ]
     },
     "metadata": {},
     "output_type": "display_data"
    },
    {
     "name": "stdout",
     "output_type": "stream",
     "text": [
      "Soft prompt models/soft_prompts/google/gemma-3-27b-it/minecraft/10 exists, skipping training\n",
      "Output file generated/train_size_ablation/google/gemma-3-27b-it/minecraft/10.json already exists with posts, skipping generation\n",
      "Soft prompt models/soft_prompts/google/gemma-3-27b-it/minecraft/20 exists, skipping training\n",
      "Output file generated/train_size_ablation/google/gemma-3-27b-it/minecraft/20.json already exists with posts, skipping generation\n",
      "Soft prompt models/soft_prompts/google/gemma-3-27b-it/minecraft/50 exists, skipping training\n",
      "Output file generated/train_size_ablation/google/gemma-3-27b-it/minecraft/50.json already exists with posts, skipping generation\n",
      "Soft prompt models/soft_prompts/google/gemma-3-27b-it/minecraft/100 exists, skipping training\n",
      "Output file generated/train_size_ablation/google/gemma-3-27b-it/minecraft/100.json already exists with posts, skipping generation\n",
      "Soft prompt models/soft_prompts/google/gemma-3-27b-it/minecraft/250 exists, skipping training\n",
      "Output file generated/train_size_ablation/google/gemma-3-27b-it/minecraft/250.json already exists with posts, skipping generation\n",
      "Soft prompt models/soft_prompts/google/gemma-3-27b-it/minecraft/500 exists, skipping training\n",
      "Output file generated/train_size_ablation/google/gemma-3-27b-it/minecraft/500.json already exists with posts, skipping generation\n",
      "Soft prompt models/soft_prompts/google/gemma-3-27b-it/minecraft/1000 exists, skipping training\n",
      "Output file generated/train_size_ablation/google/gemma-3-27b-it/minecraft/1000.json already exists with posts, skipping generation\n",
      "Soft prompt models/soft_prompts/google/gemma-3-27b-it/minecraft/2000 exists, skipping training\n",
      "Output file generated/train_size_ablation/google/gemma-3-27b-it/minecraft/2000.json already exists with posts, skipping generation\n"
     ]
    },
    {
     "data": {
      "application/vnd.jupyter.widget-view+json": {
       "model_id": "44d9f7b74b304a209e4ebef87e3ef06d",
       "version_major": 2,
       "version_minor": 0
      },
      "text/plain": [
       "Train sizes:   0%|          | 0/8 [00:00<?, ?it/s]"
      ]
     },
     "metadata": {},
     "output_type": "display_data"
    },
    {
     "name": "stdout",
     "output_type": "stream",
     "text": [
      "Soft prompt models/soft_prompts/google/gemma-3-27b-it/ucla/10 exists, skipping training\n",
      "Output file generated/train_size_ablation/google/gemma-3-27b-it/ucla/10.json already exists with posts, skipping generation\n",
      "Soft prompt models/soft_prompts/google/gemma-3-27b-it/ucla/20 exists, skipping training\n",
      "Output file generated/train_size_ablation/google/gemma-3-27b-it/ucla/20.json already exists with posts, skipping generation\n",
      "Soft prompt models/soft_prompts/google/gemma-3-27b-it/ucla/50 exists, skipping training\n",
      "Output file generated/train_size_ablation/google/gemma-3-27b-it/ucla/50.json already exists with posts, skipping generation\n",
      "Soft prompt models/soft_prompts/google/gemma-3-27b-it/ucla/100 exists, skipping training\n",
      "Output file generated/train_size_ablation/google/gemma-3-27b-it/ucla/100.json already exists with posts, skipping generation\n",
      "Soft prompt models/soft_prompts/google/gemma-3-27b-it/ucla/250 exists, skipping training\n",
      "Output file generated/train_size_ablation/google/gemma-3-27b-it/ucla/250.json already exists with posts, skipping generation\n",
      "Soft prompt models/soft_prompts/google/gemma-3-27b-it/ucla/500 exists, skipping training\n",
      "Output file generated/train_size_ablation/google/gemma-3-27b-it/ucla/500.json already exists with posts, skipping generation\n",
      "Soft prompt models/soft_prompts/google/gemma-3-27b-it/ucla/1000 exists, skipping training\n",
      "Output file generated/train_size_ablation/google/gemma-3-27b-it/ucla/1000.json already exists with posts, skipping generation\n",
      "Soft prompt models/soft_prompts/google/gemma-3-27b-it/ucla/2000 exists, skipping training\n",
      "Output file generated/train_size_ablation/google/gemma-3-27b-it/ucla/2000.json already exists with posts, skipping generation\n"
     ]
    },
    {
     "data": {
      "application/vnd.jupyter.widget-view+json": {
       "model_id": "51daa80921ac4ba495a04bb22c4c43fe",
       "version_major": 2,
       "version_minor": 0
      },
      "text/plain": [
       "Train sizes:   0%|          | 0/8 [00:00<?, ?it/s]"
      ]
     },
     "metadata": {},
     "output_type": "display_data"
    },
    {
     "name": "stdout",
     "output_type": "stream",
     "text": [
      "Soft prompt models/soft_prompts/google/gemma-3-27b-it/nostupidquestions/10 exists, skipping training\n",
      "Output file generated/train_size_ablation/google/gemma-3-27b-it/nostupidquestions/10.json already exists with posts, skipping generation\n",
      "Soft prompt models/soft_prompts/google/gemma-3-27b-it/nostupidquestions/20 exists, skipping training\n",
      "Output file generated/train_size_ablation/google/gemma-3-27b-it/nostupidquestions/20.json already exists with posts, skipping generation\n",
      "Soft prompt models/soft_prompts/google/gemma-3-27b-it/nostupidquestions/50 exists, skipping training\n",
      "Output file generated/train_size_ablation/google/gemma-3-27b-it/nostupidquestions/50.json already exists with posts, skipping generation\n",
      "Soft prompt models/soft_prompts/google/gemma-3-27b-it/nostupidquestions/100 exists, skipping training\n",
      "Output file generated/train_size_ablation/google/gemma-3-27b-it/nostupidquestions/100.json already exists with posts, skipping generation\n",
      "Soft prompt models/soft_prompts/google/gemma-3-27b-it/nostupidquestions/250 exists, skipping training\n",
      "Output file generated/train_size_ablation/google/gemma-3-27b-it/nostupidquestions/250.json already exists with posts, skipping generation\n",
      "Soft prompt models/soft_prompts/google/gemma-3-27b-it/nostupidquestions/500 exists, skipping training\n",
      "Output file generated/train_size_ablation/google/gemma-3-27b-it/nostupidquestions/500.json already exists with posts, skipping generation\n",
      "Soft prompt models/soft_prompts/google/gemma-3-27b-it/nostupidquestions/1000 exists, skipping training\n",
      "Output file generated/train_size_ablation/google/gemma-3-27b-it/nostupidquestions/1000.json already exists with posts, skipping generation\n",
      "Soft prompt models/soft_prompts/google/gemma-3-27b-it/nostupidquestions/2000 exists, skipping training\n",
      "Output file generated/train_size_ablation/google/gemma-3-27b-it/nostupidquestions/2000.json already exists with posts, skipping generation\n"
     ]
    },
    {
     "data": {
      "application/vnd.jupyter.widget-view+json": {
       "model_id": "ce77ffa88356456ba3ca202a90969bdb",
       "version_major": 2,
       "version_minor": 0
      },
      "text/plain": [
       "Train sizes:   0%|          | 0/8 [00:00<?, ?it/s]"
      ]
     },
     "metadata": {},
     "output_type": "display_data"
    },
    {
     "name": "stdout",
     "output_type": "stream",
     "text": [
      "Soft prompt models/soft_prompts/google/gemma-3-27b-it/copypasta/10 exists, skipping training\n",
      "Output file generated/train_size_ablation/google/gemma-3-27b-it/copypasta/10.json already exists with posts, skipping generation\n",
      "Soft prompt models/soft_prompts/google/gemma-3-27b-it/copypasta/20 exists, skipping training\n",
      "Output file generated/train_size_ablation/google/gemma-3-27b-it/copypasta/20.json already exists with posts, skipping generation\n",
      "Soft prompt models/soft_prompts/google/gemma-3-27b-it/copypasta/50 exists, skipping training\n",
      "Output file generated/train_size_ablation/google/gemma-3-27b-it/copypasta/50.json already exists with posts, skipping generation\n",
      "Soft prompt models/soft_prompts/google/gemma-3-27b-it/copypasta/100 exists, skipping training\n",
      "Output file generated/train_size_ablation/google/gemma-3-27b-it/copypasta/100.json already exists with posts, skipping generation\n",
      "Soft prompt models/soft_prompts/google/gemma-3-27b-it/copypasta/250 exists, skipping training\n",
      "Output file generated/train_size_ablation/google/gemma-3-27b-it/copypasta/250.json already exists with posts, skipping generation\n",
      "Soft prompt models/soft_prompts/google/gemma-3-27b-it/copypasta/500 exists, skipping training\n",
      "Output file generated/train_size_ablation/google/gemma-3-27b-it/copypasta/500.json already exists with posts, skipping generation\n",
      "Soft prompt models/soft_prompts/google/gemma-3-27b-it/copypasta/1000 exists, skipping training\n",
      "Output file generated/train_size_ablation/google/gemma-3-27b-it/copypasta/1000.json already exists with posts, skipping generation\n",
      "Soft prompt models/soft_prompts/google/gemma-3-27b-it/copypasta/2000 exists, skipping training\n",
      "Output file generated/train_size_ablation/google/gemma-3-27b-it/copypasta/2000.json already exists with posts, skipping generation\n"
     ]
    },
    {
     "data": {
      "application/vnd.jupyter.widget-view+json": {
       "model_id": "5235d2bf742e4e3595f66b039d56219e",
       "version_major": 2,
       "version_minor": 0
      },
      "text/plain": [
       "Train sizes:   0%|          | 0/8 [00:00<?, ?it/s]"
      ]
     },
     "metadata": {},
     "output_type": "display_data"
    },
    {
     "name": "stdout",
     "output_type": "stream",
     "text": [
      "Loading 1 posts from nerdy dataset (7.1%)\n",
      "Found 271 valid posts in nerdy\n",
      "Loading 1 posts from personal dataset (7.1%)\n",
      "Found 251 valid posts in personal\n",
      "Loading 1 posts from amitheasshole dataset (7.1%)\n",
      "Found 2000 valid posts in amitheasshole\n",
      "Loading 1 posts from tech dataset (7.1%)\n",
      "Found 150 valid posts in tech\n",
      "Loading 1 posts from pop dataset (7.1%)\n",
      "Found 47 valid posts in pop\n",
      "Loading 1 posts from animals dataset (7.1%)\n",
      "Found 43 valid posts in animals\n",
      "Loading 1 posts from boomerhumor dataset (7.1%)\n",
      "Found 23 valid posts in boomerhumor\n",
      "Loading 1 posts from copypasta dataset (7.1%)\n",
      "Found 2000 valid posts in copypasta\n",
      "Loading 1 posts from creative dataset (7.1%)\n",
      "Found 28 valid posts in creative\n",
      "Loading 1 posts from food dataset (7.1%)\n",
      "Found 10 valid posts in food\n",
      "Loading 1 posts from nba dataset (7.1%)\n",
      "Found 500 valid posts in nba\n",
      "Loading 1 posts from religion dataset (7.1%)\n",
      "Found 28 valid posts in religion\n",
      "Loading 1 posts from school dataset (7.1%)\n",
      "Found 130 valid posts in school\n",
      "Loading 1 posts from ucla dataset (7.1%)\n",
      "Found 1516 valid posts in ucla\n",
      "Loaded dataset {'nerdy': 1, 'personal': 1, 'amitheasshole': 1, 'tech': 1, 'pop': 1, 'animals': 1, 'boomerhumor': 1, 'copypasta': 1, 'creative': 1, 'food': 1, 'nba': 1, 'religion': 1, 'school': 1, 'ucla': 1} with 10 posts\n"
     ]
    },
    {
     "data": {
      "application/vnd.jupyter.widget-view+json": {
       "model_id": "135d850500d4460e84361b0ed6074fed",
       "version_major": 2,
       "version_minor": 0
      },
      "text/plain": [
       "Map:   0%|          | 0/14 [00:00<?, ? examples/s]"
      ]
     },
     "metadata": {},
     "output_type": "display_data"
    },
    {
     "name": "stdout",
     "output_type": "stream",
     "text": [
      "Preprocessed dataset...\n",
      "Training on device: cuda:0\n",
      "step 0 loss 5.3980\n",
      "step 10 loss 2.7468\n",
      "step 20 loss 6.9412\n",
      "step 30 loss 3.5129\n",
      "step 40 loss 3.5217\n",
      "step 50 loss 3.4177\n",
      "step 60 loss 2.3762\n",
      "step 70 loss 2.0326\n",
      "step 80 loss 3.8705\n",
      "step 90 loss 1.9360\n",
      "step 100 loss 3.6398\n",
      "step 110 loss 0.8315\n",
      "step 120 loss 2.3790\n",
      "step 130 loss 3.4987\n",
      "Saved prompt adapter to: models/soft_prompts/google/gemma-3-27b-it/varietypack/10\n"
     ]
    },
    {
     "data": {
      "application/vnd.jupyter.widget-view+json": {
       "model_id": "1beec354729b4e9c89ba90b6d85e8da8",
       "version_major": 2,
       "version_minor": 0
      },
      "text/plain": [
       "Generating posts:   0%|          | 0/100 [00:00<?, ?it/s]"
      ]
     },
     "metadata": {},
     "output_type": "display_data"
    },
    {
     "name": "stderr",
     "output_type": "stream",
     "text": [
      "/usr/local/lib/python3.11/dist-packages/peft/peft_model.py:2066: UserWarning: Position ids are not supported for parameter efficient tuning. Ignoring position ids.\n",
      "  warnings.warn(\"Position ids are not supported for parameter efficient tuning. Ignoring position ids.\")\n"
     ]
    },
    {
     "name": "stdout",
     "output_type": "stream",
     "text": [
      "Loading 2 posts from nerdy dataset (7.1%)\n",
      "Found 271 valid posts in nerdy\n",
      "Loading 2 posts from personal dataset (7.1%)\n",
      "Found 251 valid posts in personal\n",
      "Loading 2 posts from amitheasshole dataset (7.1%)\n",
      "Found 2000 valid posts in amitheasshole\n",
      "Loading 2 posts from tech dataset (7.1%)\n",
      "Found 150 valid posts in tech\n",
      "Loading 2 posts from pop dataset (7.1%)\n",
      "Found 47 valid posts in pop\n",
      "Loading 2 posts from animals dataset (7.1%)\n",
      "Found 43 valid posts in animals\n",
      "Loading 2 posts from boomerhumor dataset (7.1%)\n",
      "Found 23 valid posts in boomerhumor\n",
      "Loading 2 posts from copypasta dataset (7.1%)\n",
      "Found 2000 valid posts in copypasta\n",
      "Loading 2 posts from creative dataset (7.1%)\n",
      "Found 28 valid posts in creative\n",
      "Loading 2 posts from food dataset (7.1%)\n",
      "Found 10 valid posts in food\n",
      "Loading 2 posts from nba dataset (7.1%)\n",
      "Found 500 valid posts in nba\n",
      "Loading 2 posts from religion dataset (7.1%)\n",
      "Found 28 valid posts in religion\n",
      "Loading 2 posts from school dataset (7.1%)\n",
      "Found 130 valid posts in school\n",
      "Loading 2 posts from ucla dataset (7.1%)\n",
      "Found 1516 valid posts in ucla\n",
      "Loaded dataset {'nerdy': 1, 'personal': 1, 'amitheasshole': 1, 'tech': 1, 'pop': 1, 'animals': 1, 'boomerhumor': 1, 'copypasta': 1, 'creative': 1, 'food': 1, 'nba': 1, 'religion': 1, 'school': 1, 'ucla': 1} with 20 posts\n"
     ]
    },
    {
     "data": {
      "application/vnd.jupyter.widget-view+json": {
       "model_id": "05d15cfb2aa54983aaf7811f7453755a",
       "version_major": 2,
       "version_minor": 0
      },
      "text/plain": [
       "Map:   0%|          | 0/28 [00:00<?, ? examples/s]"
      ]
     },
     "metadata": {},
     "output_type": "display_data"
    },
    {
     "name": "stdout",
     "output_type": "stream",
     "text": [
      "Preprocessed dataset...\n",
      "Training on device: cuda:0\n",
      "step 0 loss 5.9827\n",
      "step 10 loss 6.8508\n",
      "step 20 loss 7.0942\n",
      "step 30 loss 4.3931\n",
      "step 40 loss 3.6064\n",
      "step 50 loss 2.5823\n",
      "step 60 loss 3.3004\n",
      "step 70 loss 2.6575\n",
      "step 80 loss 2.2487\n",
      "step 90 loss 2.6193\n",
      "step 100 loss 2.3169\n",
      "step 110 loss 3.1468\n",
      "step 120 loss 2.6169\n",
      "step 130 loss 2.5109\n",
      "step 140 loss 2.3657\n",
      "step 150 loss 2.9949\n",
      "step 160 loss 2.5090\n",
      "step 170 loss 2.6657\n",
      "step 180 loss 3.2712\n",
      "step 190 loss 2.5121\n",
      "step 200 loss 2.0682\n",
      "step 210 loss 3.2598\n",
      "step 220 loss 2.3877\n",
      "step 230 loss 2.3095\n",
      "step 240 loss 2.4815\n",
      "step 250 loss 2.2052\n",
      "step 260 loss 2.0573\n",
      "step 270 loss 3.4044\n",
      "Saved prompt adapter to: models/soft_prompts/google/gemma-3-27b-it/varietypack/20\n"
     ]
    },
    {
     "data": {
      "application/vnd.jupyter.widget-view+json": {
       "model_id": "e784f88ec336404897f805293aa0ceee",
       "version_major": 2,
       "version_minor": 0
      },
      "text/plain": [
       "Generating posts:   0%|          | 0/100 [00:00<?, ?it/s]"
      ]
     },
     "metadata": {},
     "output_type": "display_data"
    },
    {
     "name": "stdout",
     "output_type": "stream",
     "text": [
      "Loading 4 posts from nerdy dataset (7.1%)\n",
      "Found 271 valid posts in nerdy\n",
      "Loading 4 posts from personal dataset (7.1%)\n",
      "Found 251 valid posts in personal\n",
      "Loading 4 posts from amitheasshole dataset (7.1%)\n",
      "Found 2000 valid posts in amitheasshole\n",
      "Loading 4 posts from tech dataset (7.1%)\n",
      "Found 150 valid posts in tech\n",
      "Loading 4 posts from pop dataset (7.1%)\n",
      "Found 47 valid posts in pop\n",
      "Loading 4 posts from animals dataset (7.1%)\n",
      "Found 43 valid posts in animals\n",
      "Loading 4 posts from boomerhumor dataset (7.1%)\n",
      "Found 23 valid posts in boomerhumor\n",
      "Loading 4 posts from copypasta dataset (7.1%)\n",
      "Found 2000 valid posts in copypasta\n",
      "Loading 4 posts from creative dataset (7.1%)\n",
      "Found 28 valid posts in creative\n",
      "Loading 4 posts from food dataset (7.1%)\n",
      "Found 10 valid posts in food\n",
      "Loading 4 posts from nba dataset (7.1%)\n",
      "Found 500 valid posts in nba\n",
      "Loading 4 posts from religion dataset (7.1%)\n",
      "Found 28 valid posts in religion\n",
      "Loading 4 posts from school dataset (7.1%)\n",
      "Found 130 valid posts in school\n",
      "Loading 4 posts from ucla dataset (7.1%)\n",
      "Found 1516 valid posts in ucla\n",
      "Loaded dataset {'nerdy': 1, 'personal': 1, 'amitheasshole': 1, 'tech': 1, 'pop': 1, 'animals': 1, 'boomerhumor': 1, 'copypasta': 1, 'creative': 1, 'food': 1, 'nba': 1, 'religion': 1, 'school': 1, 'ucla': 1} with 50 posts\n"
     ]
    },
    {
     "data": {
      "application/vnd.jupyter.widget-view+json": {
       "model_id": "0ef87ab519cf4159b23b4b7ecc24fe0a",
       "version_major": 2,
       "version_minor": 0
      },
      "text/plain": [
       "Map:   0%|          | 0/56 [00:00<?, ? examples/s]"
      ]
     },
     "metadata": {},
     "output_type": "display_data"
    },
    {
     "name": "stdout",
     "output_type": "stream",
     "text": [
      "Preprocessed dataset...\n",
      "Training on device: cuda:0\n",
      "step 0 loss 4.7950\n",
      "step 10 loss 3.8257\n",
      "step 20 loss 6.7521\n",
      "step 30 loss 3.6813\n",
      "step 40 loss 3.4275\n",
      "step 50 loss 3.1817\n",
      "step 60 loss 1.6956\n",
      "step 70 loss 3.6237\n",
      "step 80 loss 2.3648\n",
      "step 90 loss 3.1041\n",
      "step 100 loss 2.7273\n",
      "step 110 loss 2.0138\n",
      "step 120 loss 2.3881\n",
      "step 130 loss 3.6493\n",
      "step 140 loss 2.6881\n",
      "step 150 loss 1.9036\n",
      "step 160 loss 3.6133\n",
      "step 170 loss 2.5889\n",
      "step 180 loss 1.9905\n",
      "step 190 loss 2.2812\n",
      "step 200 loss 2.7578\n",
      "step 210 loss 2.4994\n",
      "step 220 loss 3.3556\n",
      "step 230 loss 2.4414\n",
      "step 240 loss 2.3540\n",
      "step 250 loss 2.5997\n",
      "step 260 loss 1.4806\n",
      "step 270 loss 1.9148\n",
      "step 280 loss 2.6714\n",
      "step 290 loss 1.4871\n",
      "step 300 loss 1.7421\n",
      "step 310 loss 2.3885\n",
      "step 320 loss 2.1882\n",
      "step 330 loss 1.7902\n",
      "step 340 loss 2.2646\n",
      "step 350 loss 2.3590\n",
      "step 360 loss 1.8110\n",
      "step 370 loss 1.7845\n",
      "step 380 loss 2.5680\n",
      "step 390 loss 2.2933\n",
      "step 400 loss 2.0680\n",
      "step 410 loss 2.5083\n",
      "step 420 loss 2.4235\n",
      "step 430 loss 2.0717\n",
      "step 440 loss 2.2390\n",
      "step 450 loss 2.0733\n",
      "step 460 loss 2.9422\n",
      "step 470 loss 2.5376\n",
      "step 480 loss 2.8237\n",
      "step 490 loss 2.2979\n",
      "step 500 loss 2.8208\n",
      "step 510 loss 2.3776\n",
      "step 520 loss 1.1811\n",
      "step 530 loss 2.1790\n",
      "step 540 loss 3.0680\n",
      "step 550 loss 2.2998\n",
      "Saved prompt adapter to: models/soft_prompts/google/gemma-3-27b-it/varietypack/50\n"
     ]
    },
    {
     "data": {
      "application/vnd.jupyter.widget-view+json": {
       "model_id": "e9c6967361d54b86b7fe468c938c83a5",
       "version_major": 2,
       "version_minor": 0
      },
      "text/plain": [
       "Generating posts:   0%|          | 0/100 [00:00<?, ?it/s]"
      ]
     },
     "metadata": {},
     "output_type": "display_data"
    },
    {
     "name": "stdout",
     "output_type": "stream",
     "text": [
      "Loading 8 posts from nerdy dataset (7.1%)\n",
      "Found 271 valid posts in nerdy\n",
      "Loading 8 posts from personal dataset (7.1%)\n",
      "Found 251 valid posts in personal\n",
      "Loading 8 posts from amitheasshole dataset (7.1%)\n",
      "Found 2000 valid posts in amitheasshole\n",
      "Loading 8 posts from tech dataset (7.1%)\n",
      "Found 150 valid posts in tech\n",
      "Loading 8 posts from pop dataset (7.1%)\n",
      "Found 47 valid posts in pop\n",
      "Loading 8 posts from animals dataset (7.1%)\n",
      "Found 43 valid posts in animals\n",
      "Loading 8 posts from boomerhumor dataset (7.1%)\n",
      "Found 23 valid posts in boomerhumor\n",
      "Loading 8 posts from copypasta dataset (7.1%)\n",
      "Found 2000 valid posts in copypasta\n",
      "Loading 8 posts from creative dataset (7.1%)\n",
      "Found 28 valid posts in creative\n",
      "Loading 8 posts from food dataset (7.1%)\n",
      "Found 10 valid posts in food\n",
      "Loading 8 posts from nba dataset (7.1%)\n",
      "Found 500 valid posts in nba\n",
      "Loading 8 posts from religion dataset (7.1%)\n",
      "Found 28 valid posts in religion\n",
      "Loading 8 posts from school dataset (7.1%)\n",
      "Found 130 valid posts in school\n",
      "Loading 8 posts from ucla dataset (7.1%)\n",
      "Found 1516 valid posts in ucla\n",
      "Loaded dataset {'nerdy': 1, 'personal': 1, 'amitheasshole': 1, 'tech': 1, 'pop': 1, 'animals': 1, 'boomerhumor': 1, 'copypasta': 1, 'creative': 1, 'food': 1, 'nba': 1, 'religion': 1, 'school': 1, 'ucla': 1} with 100 posts\n"
     ]
    },
    {
     "data": {
      "application/vnd.jupyter.widget-view+json": {
       "model_id": "d8da4b79d18547fb9e14994818b21aa8",
       "version_major": 2,
       "version_minor": 0
      },
      "text/plain": [
       "Map:   0%|          | 0/112 [00:00<?, ? examples/s]"
      ]
     },
     "metadata": {},
     "output_type": "display_data"
    },
    {
     "name": "stdout",
     "output_type": "stream",
     "text": [
      "Preprocessed dataset...\n",
      "Training on device: cuda:0\n",
      "step 0 loss 4.4364\n",
      "step 10 loss 5.3979\n",
      "step 20 loss 3.8650\n",
      "step 30 loss 6.2854\n",
      "step 40 loss 4.1930\n",
      "step 50 loss 2.8390\n",
      "step 60 loss 2.0686\n",
      "step 70 loss 2.8387\n",
      "step 80 loss 2.7342\n",
      "step 90 loss 2.0283\n",
      "step 100 loss 2.2618\n",
      "step 110 loss 3.2151\n",
      "step 120 loss 2.7564\n",
      "step 130 loss 1.7695\n",
      "step 140 loss 2.2005\n",
      "step 150 loss 2.5001\n",
      "step 160 loss 2.8123\n",
      "step 170 loss 2.4895\n",
      "step 180 loss 2.8976\n",
      "step 190 loss 2.6056\n",
      "step 200 loss 1.6562\n",
      "step 210 loss 2.0706\n",
      "step 220 loss 2.8523\n",
      "step 230 loss 2.7043\n",
      "step 240 loss 2.7789\n",
      "step 250 loss 2.5135\n",
      "step 260 loss 3.7504\n",
      "step 270 loss 1.9565\n",
      "step 280 loss 1.8502\n",
      "step 290 loss 2.4879\n",
      "step 300 loss 3.1129\n",
      "step 310 loss 1.8589\n",
      "step 320 loss 2.7922\n",
      "step 330 loss 2.0142\n",
      "step 340 loss 2.0589\n",
      "step 350 loss 3.5951\n",
      "step 360 loss 2.2137\n",
      "step 370 loss 2.1427\n",
      "step 380 loss 2.0528\n",
      "step 390 loss 2.2212\n",
      "step 400 loss 1.7914\n",
      "step 410 loss 3.4058\n",
      "step 420 loss 2.0234\n",
      "step 430 loss 2.1981\n",
      "step 440 loss 2.4576\n",
      "step 450 loss 2.0345\n",
      "step 460 loss 2.8764\n",
      "step 470 loss 3.2156\n",
      "step 480 loss 2.1882\n",
      "step 490 loss 2.6259\n",
      "step 500 loss 2.3924\n",
      "step 510 loss 1.7202\n",
      "step 520 loss 2.5071\n",
      "step 530 loss 2.1093\n",
      "step 540 loss 2.7561\n",
      "step 550 loss 1.5729\n",
      "step 560 loss 2.5539\n",
      "step 570 loss 2.2725\n",
      "step 580 loss 2.0352\n",
      "step 590 loss 2.3921\n",
      "step 600 loss 2.6188\n",
      "step 610 loss 1.9999\n",
      "step 620 loss 2.7333\n",
      "step 630 loss 2.4046\n",
      "step 640 loss 2.5715\n",
      "step 650 loss 3.4594\n",
      "step 660 loss 2.0647\n",
      "step 670 loss 2.1619\n",
      "step 680 loss 1.7653\n",
      "step 690 loss 2.1338\n",
      "step 700 loss 2.3721\n",
      "step 710 loss 2.7188\n",
      "step 720 loss 3.5406\n",
      "step 730 loss 2.0708\n",
      "step 740 loss 1.5033\n",
      "step 750 loss 2.5159\n",
      "step 760 loss 1.4156\n",
      "step 770 loss 1.7919\n",
      "step 780 loss 2.5309\n",
      "step 790 loss 2.0973\n",
      "step 800 loss 2.6312\n",
      "step 810 loss 2.6261\n",
      "step 820 loss 1.7621\n",
      "step 830 loss 2.6003\n",
      "step 840 loss 1.7478\n",
      "step 850 loss 3.5288\n",
      "step 860 loss 1.4304\n",
      "step 870 loss 1.5270\n",
      "step 880 loss 1.5739\n",
      "step 890 loss 2.6319\n",
      "step 900 loss 1.7343\n",
      "step 910 loss 2.0092\n",
      "step 920 loss 2.6435\n",
      "step 930 loss 4.1624\n",
      "step 940 loss 3.1599\n",
      "step 950 loss 2.2730\n",
      "step 960 loss 1.6882\n",
      "step 970 loss 2.2821\n",
      "step 980 loss 2.6463\n",
      "step 990 loss 2.0110\n",
      "Saved prompt adapter to: models/soft_prompts/google/gemma-3-27b-it/varietypack/100\n"
     ]
    },
    {
     "data": {
      "application/vnd.jupyter.widget-view+json": {
       "model_id": "acd0c6b8dffd4281a57d61cdd8eca48a",
       "version_major": 2,
       "version_minor": 0
      },
      "text/plain": [
       "Generating posts:   0%|          | 0/100 [00:00<?, ?it/s]"
      ]
     },
     "metadata": {},
     "output_type": "display_data"
    },
    {
     "name": "stdout",
     "output_type": "stream",
     "text": [
      "Loading 18 posts from nerdy dataset (7.1%)\n",
      "Found 271 valid posts in nerdy\n",
      "Loading 18 posts from personal dataset (7.1%)\n",
      "Found 251 valid posts in personal\n",
      "Loading 18 posts from amitheasshole dataset (7.1%)\n",
      "Found 2000 valid posts in amitheasshole\n",
      "Loading 18 posts from tech dataset (7.1%)\n",
      "Found 150 valid posts in tech\n",
      "Loading 18 posts from pop dataset (7.1%)\n",
      "Found 47 valid posts in pop\n",
      "Loading 18 posts from animals dataset (7.1%)\n",
      "Found 43 valid posts in animals\n",
      "Loading 18 posts from boomerhumor dataset (7.1%)\n",
      "Found 23 valid posts in boomerhumor\n",
      "Loading 18 posts from copypasta dataset (7.1%)\n",
      "Found 2000 valid posts in copypasta\n",
      "Loading 18 posts from creative dataset (7.1%)\n",
      "Found 28 valid posts in creative\n",
      "Loading 18 posts from food dataset (7.1%)\n",
      "Found 10 valid posts in food\n",
      "Warning: Only 10 posts available, using all\n",
      "Loading 18 posts from nba dataset (7.1%)\n",
      "Found 500 valid posts in nba\n",
      "Loading 18 posts from religion dataset (7.1%)\n",
      "Found 28 valid posts in religion\n",
      "Loading 18 posts from school dataset (7.1%)\n",
      "Found 130 valid posts in school\n",
      "Loading 18 posts from ucla dataset (7.1%)\n",
      "Found 1516 valid posts in ucla\n",
      "Loaded dataset {'nerdy': 1, 'personal': 1, 'amitheasshole': 1, 'tech': 1, 'pop': 1, 'animals': 1, 'boomerhumor': 1, 'copypasta': 1, 'creative': 1, 'food': 1, 'nba': 1, 'religion': 1, 'school': 1, 'ucla': 1} with 250 posts\n"
     ]
    },
    {
     "data": {
      "application/vnd.jupyter.widget-view+json": {
       "model_id": "52fad16edbff46a2935ef6fc9f9d43ac",
       "version_major": 2,
       "version_minor": 0
      },
      "text/plain": [
       "Map:   0%|          | 0/244 [00:00<?, ? examples/s]"
      ]
     },
     "metadata": {},
     "output_type": "display_data"
    },
    {
     "name": "stdout",
     "output_type": "stream",
     "text": [
      "Preprocessed dataset...\n",
      "Training on device: cuda:0\n",
      "step 0 loss 8.1740\n",
      "step 10 loss 6.8773\n",
      "step 20 loss 5.1754\n",
      "step 30 loss 2.9678\n",
      "step 40 loss 2.6520\n",
      "step 50 loss 2.7900\n",
      "step 60 loss 2.4094\n",
      "step 70 loss 3.4170\n",
      "step 80 loss 3.6198\n",
      "step 90 loss 2.7354\n",
      "step 100 loss 2.4989\n",
      "step 110 loss 2.3764\n",
      "step 120 loss 3.1136\n",
      "step 130 loss 1.8983\n",
      "step 140 loss 2.8197\n",
      "step 150 loss 2.3531\n",
      "step 160 loss 2.3921\n",
      "step 170 loss 2.5924\n",
      "step 180 loss 3.2365\n",
      "step 190 loss 2.1398\n",
      "step 200 loss 2.3722\n",
      "step 210 loss 2.1534\n",
      "step 220 loss 2.1521\n",
      "step 230 loss 3.1888\n",
      "step 240 loss 2.8654\n",
      "step 250 loss 2.2876\n",
      "step 260 loss 2.5685\n",
      "step 270 loss 2.6219\n",
      "step 280 loss 2.4773\n",
      "step 290 loss 2.8154\n",
      "step 300 loss 3.0795\n",
      "step 310 loss 2.0150\n",
      "step 320 loss 2.4709\n",
      "step 330 loss 2.5636\n",
      "step 340 loss 1.5455\n",
      "step 350 loss 2.7627\n",
      "step 360 loss 2.0988\n",
      "step 370 loss 3.1162\n",
      "step 380 loss 3.0982\n",
      "step 390 loss 2.0029\n",
      "step 400 loss 2.4810\n",
      "step 410 loss 3.0691\n",
      "step 420 loss 3.6186\n",
      "step 430 loss 2.8997\n",
      "step 440 loss 2.7128\n",
      "step 450 loss 2.2708\n",
      "step 460 loss 2.8769\n",
      "step 470 loss 2.5877\n",
      "step 480 loss 3.0424\n",
      "step 490 loss 1.9900\n",
      "step 500 loss 2.3968\n",
      "step 510 loss 2.5119\n",
      "step 520 loss 2.7640\n",
      "step 530 loss 2.2861\n",
      "step 540 loss 4.0026\n",
      "step 550 loss 3.4634\n",
      "step 560 loss 1.7313\n",
      "step 570 loss 2.3543\n",
      "step 580 loss 2.8265\n",
      "step 590 loss 1.6610\n",
      "step 600 loss 2.9596\n",
      "step 610 loss 2.2442\n",
      "step 620 loss 2.2484\n",
      "step 630 loss 2.9097\n",
      "step 640 loss 2.7274\n",
      "step 650 loss 2.1125\n",
      "step 660 loss 1.4889\n",
      "step 670 loss 1.7676\n",
      "step 680 loss 3.1088\n",
      "step 690 loss 2.6284\n",
      "step 700 loss 2.6610\n",
      "step 710 loss 2.2036\n",
      "step 720 loss 2.0442\n",
      "step 730 loss 1.5140\n",
      "step 740 loss 2.4294\n",
      "step 750 loss 2.0924\n",
      "step 760 loss 2.1827\n",
      "step 770 loss 2.2299\n",
      "step 780 loss 2.2676\n",
      "step 790 loss 2.6449\n",
      "step 800 loss 1.9638\n",
      "step 810 loss 1.7786\n",
      "step 820 loss 2.0146\n",
      "step 830 loss 2.5467\n",
      "step 840 loss 2.2451\n",
      "step 850 loss 2.3540\n",
      "step 860 loss 2.7913\n",
      "step 870 loss 2.1549\n",
      "step 880 loss 2.1988\n",
      "step 890 loss 2.0649\n",
      "step 900 loss 2.4483\n",
      "step 910 loss 2.1306\n",
      "step 920 loss 2.2924\n",
      "step 930 loss 1.8230\n",
      "step 940 loss 3.4058\n",
      "step 950 loss 2.7260\n",
      "step 960 loss 1.6854\n",
      "step 970 loss 1.8344\n",
      "step 980 loss 2.7065\n",
      "step 990 loss 2.2806\n",
      "Saved prompt adapter to: models/soft_prompts/google/gemma-3-27b-it/varietypack/250\n"
     ]
    },
    {
     "data": {
      "application/vnd.jupyter.widget-view+json": {
       "model_id": "454d14fd7797472c98e1966dd99f86ea",
       "version_major": 2,
       "version_minor": 0
      },
      "text/plain": [
       "Generating posts:   0%|          | 0/100 [00:00<?, ?it/s]"
      ]
     },
     "metadata": {},
     "output_type": "display_data"
    },
    {
     "name": "stdout",
     "output_type": "stream",
     "text": [
      "Loading 36 posts from nerdy dataset (7.1%)\n",
      "Found 271 valid posts in nerdy\n",
      "Loading 36 posts from personal dataset (7.1%)\n",
      "Found 251 valid posts in personal\n",
      "Loading 36 posts from amitheasshole dataset (7.1%)\n",
      "Found 2000 valid posts in amitheasshole\n",
      "Loading 36 posts from tech dataset (7.1%)\n",
      "Found 150 valid posts in tech\n",
      "Loading 36 posts from pop dataset (7.1%)\n",
      "Found 47 valid posts in pop\n",
      "Loading 36 posts from animals dataset (7.1%)\n",
      "Found 43 valid posts in animals\n",
      "Loading 36 posts from boomerhumor dataset (7.1%)\n",
      "Found 23 valid posts in boomerhumor\n",
      "Warning: Only 23 posts available, using all\n",
      "Loading 36 posts from copypasta dataset (7.1%)\n",
      "Found 2000 valid posts in copypasta\n",
      "Loading 36 posts from creative dataset (7.1%)\n",
      "Found 28 valid posts in creative\n",
      "Warning: Only 28 posts available, using all\n",
      "Loading 36 posts from food dataset (7.1%)\n",
      "Found 10 valid posts in food\n",
      "Warning: Only 10 posts available, using all\n",
      "Loading 36 posts from nba dataset (7.1%)\n",
      "Found 500 valid posts in nba\n",
      "Loading 36 posts from religion dataset (7.1%)\n",
      "Found 28 valid posts in religion\n",
      "Warning: Only 28 posts available, using all\n",
      "Loading 36 posts from school dataset (7.1%)\n",
      "Found 130 valid posts in school\n",
      "Loading 36 posts from ucla dataset (7.1%)\n",
      "Found 1516 valid posts in ucla\n",
      "Loaded dataset {'nerdy': 1, 'personal': 1, 'amitheasshole': 1, 'tech': 1, 'pop': 1, 'animals': 1, 'boomerhumor': 1, 'copypasta': 1, 'creative': 1, 'food': 1, 'nba': 1, 'religion': 1, 'school': 1, 'ucla': 1} with 500 posts\n"
     ]
    },
    {
     "data": {
      "application/vnd.jupyter.widget-view+json": {
       "model_id": "b339e5be60e4439f9b238021ff4056fe",
       "version_major": 2,
       "version_minor": 0
      },
      "text/plain": [
       "Map:   0%|          | 0/449 [00:00<?, ? examples/s]"
      ]
     },
     "metadata": {},
     "output_type": "display_data"
    },
    {
     "name": "stdout",
     "output_type": "stream",
     "text": [
      "Preprocessed dataset...\n",
      "Training on device: cuda:0\n",
      "step 0 loss 3.3958\n",
      "step 10 loss 9.8179\n",
      "step 20 loss 5.1228\n",
      "step 30 loss 3.1091\n",
      "step 40 loss 4.3095\n",
      "step 50 loss 2.6995\n",
      "step 60 loss 3.0940\n",
      "step 70 loss 2.3370\n",
      "step 80 loss 2.9912\n",
      "step 90 loss 3.2774\n",
      "step 100 loss 3.3414\n",
      "step 110 loss 3.2066\n",
      "step 120 loss 1.9478\n",
      "step 130 loss 2.4047\n",
      "step 140 loss 2.8119\n",
      "step 150 loss 3.0736\n",
      "step 160 loss 2.7421\n",
      "step 170 loss 2.5643\n",
      "step 180 loss 2.7803\n",
      "step 190 loss 2.0166\n",
      "step 200 loss 2.4739\n",
      "step 210 loss 2.8028\n",
      "step 220 loss 2.4857\n",
      "step 230 loss 2.5600\n",
      "step 240 loss 2.1568\n",
      "step 250 loss 2.6498\n",
      "step 260 loss 2.3705\n",
      "step 270 loss 2.4244\n",
      "step 280 loss 2.7618\n",
      "step 290 loss 2.8554\n",
      "step 300 loss 2.1671\n",
      "step 310 loss 3.3449\n",
      "step 320 loss 2.6184\n",
      "step 330 loss 2.7166\n",
      "step 340 loss 3.1724\n",
      "step 350 loss 1.8288\n",
      "step 360 loss 2.4815\n",
      "step 370 loss 2.5477\n",
      "step 380 loss 2.2336\n",
      "step 390 loss 2.9474\n",
      "step 400 loss 2.3285\n",
      "step 410 loss 2.1460\n",
      "step 420 loss 2.0126\n",
      "step 430 loss 2.2337\n",
      "step 440 loss 2.1027\n",
      "step 450 loss 3.5652\n",
      "step 460 loss 3.2082\n",
      "step 470 loss 3.3597\n",
      "step 480 loss 3.3399\n",
      "step 490 loss 2.5630\n",
      "step 500 loss 2.2882\n",
      "step 510 loss 2.5941\n",
      "step 520 loss 2.0250\n",
      "step 530 loss 2.5561\n",
      "step 540 loss 2.5219\n",
      "step 550 loss 2.4662\n",
      "step 560 loss 2.6246\n",
      "step 570 loss 2.2081\n",
      "step 580 loss 2.2335\n",
      "step 590 loss 2.1321\n",
      "step 600 loss 2.7533\n",
      "step 610 loss 2.5390\n",
      "step 620 loss 2.9039\n",
      "step 630 loss 2.3833\n",
      "step 640 loss 1.9668\n",
      "step 650 loss 3.2586\n",
      "step 660 loss 2.4409\n",
      "step 670 loss 1.9596\n",
      "step 680 loss 2.2199\n",
      "step 690 loss 2.5626\n",
      "step 700 loss 2.4590\n",
      "step 710 loss 2.0399\n",
      "step 720 loss 3.7160\n",
      "step 730 loss 2.2991\n",
      "step 740 loss 3.7869\n",
      "step 750 loss 2.4193\n",
      "step 760 loss 2.9895\n",
      "step 770 loss 2.4237\n",
      "step 780 loss 1.7724\n",
      "step 790 loss 2.4026\n",
      "step 800 loss 1.7778\n",
      "step 810 loss 2.6209\n",
      "step 820 loss 1.2597\n",
      "step 830 loss 2.0327\n",
      "step 840 loss 2.1093\n",
      "step 850 loss 2.7066\n",
      "step 860 loss 2.4515\n",
      "step 870 loss 2.0968\n",
      "step 880 loss 2.9203\n",
      "step 890 loss 2.6516\n",
      "step 900 loss 2.1550\n",
      "step 910 loss 1.8173\n",
      "step 920 loss 2.3960\n",
      "step 930 loss 2.4882\n",
      "step 940 loss 2.0921\n",
      "step 950 loss 2.6966\n",
      "step 960 loss 2.6509\n",
      "step 970 loss 2.2420\n",
      "step 980 loss 2.7866\n",
      "step 990 loss 2.3777\n",
      "Saved prompt adapter to: models/soft_prompts/google/gemma-3-27b-it/varietypack/500\n"
     ]
    },
    {
     "data": {
      "application/vnd.jupyter.widget-view+json": {
       "model_id": "e3919efa1c6141a78bcf1391790f022d",
       "version_major": 2,
       "version_minor": 0
      },
      "text/plain": [
       "Generating posts:   0%|          | 0/100 [00:00<?, ?it/s]"
      ]
     },
     "metadata": {},
     "output_type": "display_data"
    },
    {
     "name": "stdout",
     "output_type": "stream",
     "text": [
      "Loading 72 posts from nerdy dataset (7.1%)\n",
      "Found 271 valid posts in nerdy\n",
      "Loading 72 posts from personal dataset (7.1%)\n",
      "Found 251 valid posts in personal\n",
      "Loading 72 posts from amitheasshole dataset (7.1%)\n",
      "Found 2000 valid posts in amitheasshole\n",
      "Loading 72 posts from tech dataset (7.1%)\n",
      "Found 150 valid posts in tech\n",
      "Loading 72 posts from pop dataset (7.1%)\n",
      "Found 47 valid posts in pop\n",
      "Warning: Only 47 posts available, using all\n",
      "Loading 72 posts from animals dataset (7.1%)\n",
      "Found 43 valid posts in animals\n",
      "Warning: Only 43 posts available, using all\n",
      "Loading 72 posts from boomerhumor dataset (7.1%)\n",
      "Found 23 valid posts in boomerhumor\n",
      "Warning: Only 23 posts available, using all\n",
      "Loading 72 posts from copypasta dataset (7.1%)\n",
      "Found 2000 valid posts in copypasta\n",
      "Loading 72 posts from creative dataset (7.1%)\n",
      "Found 28 valid posts in creative\n",
      "Warning: Only 28 posts available, using all\n",
      "Loading 72 posts from food dataset (7.1%)\n",
      "Found 10 valid posts in food\n",
      "Warning: Only 10 posts available, using all\n",
      "Loading 72 posts from nba dataset (7.1%)\n",
      "Found 500 valid posts in nba\n",
      "Loading 72 posts from religion dataset (7.1%)\n",
      "Found 28 valid posts in religion\n",
      "Warning: Only 28 posts available, using all\n",
      "Loading 72 posts from school dataset (7.1%)\n",
      "Found 130 valid posts in school\n",
      "Loading 72 posts from ucla dataset (7.1%)\n",
      "Found 1516 valid posts in ucla\n",
      "Loaded dataset {'nerdy': 1, 'personal': 1, 'amitheasshole': 1, 'tech': 1, 'pop': 1, 'animals': 1, 'boomerhumor': 1, 'copypasta': 1, 'creative': 1, 'food': 1, 'nba': 1, 'religion': 1, 'school': 1, 'ucla': 1} with 1000 posts\n"
     ]
    },
    {
     "data": {
      "application/vnd.jupyter.widget-view+json": {
       "model_id": "921ab84307cc4f2493709a49b1cff347",
       "version_major": 2,
       "version_minor": 0
      },
      "text/plain": [
       "Map:   0%|          | 0/755 [00:00<?, ? examples/s]"
      ]
     },
     "metadata": {},
     "output_type": "display_data"
    },
    {
     "name": "stdout",
     "output_type": "stream",
     "text": [
      "Preprocessed dataset...\n",
      "Training on device: cuda:0\n",
      "step 0 loss 8.4345\n",
      "step 10 loss 5.4032\n",
      "step 20 loss 2.9730\n",
      "step 30 loss 3.0121\n",
      "step 40 loss 3.2736\n",
      "step 50 loss 2.2849\n",
      "step 60 loss 2.5934\n",
      "step 70 loss 2.1361\n",
      "step 80 loss 2.9193\n",
      "step 90 loss 2.8577\n",
      "step 100 loss 3.3638\n",
      "step 110 loss 2.4224\n",
      "step 120 loss 2.4949\n",
      "step 130 loss 2.5192\n",
      "step 140 loss 2.4778\n",
      "step 150 loss 2.5284\n",
      "step 160 loss 2.7040\n",
      "step 170 loss 1.7903\n",
      "step 180 loss 2.4256\n",
      "step 190 loss 2.3042\n",
      "step 200 loss 2.1185\n",
      "step 210 loss 2.0312\n",
      "step 220 loss 2.7971\n",
      "step 230 loss 2.2749\n",
      "step 240 loss 2.1798\n",
      "step 250 loss 2.3623\n",
      "step 260 loss 2.4580\n",
      "step 270 loss 2.5888\n",
      "step 280 loss 2.3874\n",
      "step 290 loss 1.6273\n",
      "step 300 loss 2.7347\n",
      "step 310 loss 2.2159\n",
      "step 320 loss 2.5473\n",
      "step 330 loss 2.9389\n",
      "step 340 loss 2.6461\n",
      "step 350 loss 2.0021\n",
      "step 360 loss 2.0129\n",
      "step 370 loss 2.0109\n",
      "step 380 loss 2.5814\n",
      "step 390 loss 3.1530\n",
      "step 400 loss 3.0333\n",
      "step 410 loss 2.1316\n",
      "step 420 loss 3.0412\n",
      "step 430 loss 2.2175\n",
      "step 440 loss 2.7823\n",
      "step 450 loss 2.1423\n",
      "step 460 loss 3.1464\n",
      "step 470 loss 1.9751\n",
      "step 480 loss 1.9230\n",
      "step 490 loss 2.2984\n",
      "step 500 loss 2.3062\n",
      "step 510 loss 2.8283\n",
      "step 520 loss 3.0886\n",
      "step 530 loss 2.1402\n",
      "step 540 loss 1.8407\n",
      "step 550 loss 2.0043\n",
      "step 560 loss 2.0006\n",
      "step 570 loss 2.0556\n",
      "step 580 loss 2.0735\n",
      "step 590 loss 1.9789\n",
      "step 600 loss 1.8371\n",
      "step 610 loss 2.3986\n",
      "step 620 loss 2.0514\n",
      "step 630 loss 2.3166\n",
      "step 640 loss 2.7492\n",
      "step 650 loss 2.4407\n",
      "step 660 loss 2.9485\n",
      "step 670 loss 2.3122\n",
      "step 680 loss 3.0861\n",
      "step 690 loss 2.0165\n",
      "step 700 loss 2.1527\n",
      "step 710 loss 2.3752\n",
      "step 720 loss 2.0666\n",
      "step 730 loss 2.3596\n",
      "step 740 loss 2.4759\n",
      "step 750 loss 2.1907\n",
      "step 760 loss 2.8253\n",
      "step 770 loss 2.7882\n",
      "step 780 loss 3.0262\n",
      "step 790 loss 1.7799\n",
      "step 800 loss 2.7586\n",
      "step 810 loss 2.0512\n",
      "step 820 loss 2.7827\n",
      "step 830 loss 3.2790\n",
      "step 840 loss 1.7524\n",
      "step 850 loss 2.2753\n",
      "step 860 loss 1.8100\n",
      "step 870 loss 2.2070\n",
      "step 880 loss 1.7451\n",
      "step 890 loss 1.8758\n",
      "step 900 loss 2.4226\n",
      "step 910 loss 2.6234\n",
      "step 920 loss 2.5166\n",
      "step 930 loss 0.6636\n",
      "step 940 loss 2.7091\n",
      "step 950 loss 2.3336\n",
      "step 960 loss 2.0508\n",
      "step 970 loss 2.1333\n",
      "step 980 loss 1.8208\n",
      "step 990 loss 2.2067\n",
      "Saved prompt adapter to: models/soft_prompts/google/gemma-3-27b-it/varietypack/1000\n"
     ]
    },
    {
     "data": {
      "application/vnd.jupyter.widget-view+json": {
       "model_id": "bdc623f050e647a78b45dadf204e9258",
       "version_major": 2,
       "version_minor": 0
      },
      "text/plain": [
       "Generating posts:   0%|          | 0/100 [00:00<?, ?it/s]"
      ]
     },
     "metadata": {},
     "output_type": "display_data"
    },
    {
     "name": "stdout",
     "output_type": "stream",
     "text": [
      "Loading 143 posts from nerdy dataset (7.1%)\n",
      "Found 271 valid posts in nerdy\n",
      "Loading 143 posts from personal dataset (7.1%)\n",
      "Found 251 valid posts in personal\n",
      "Loading 143 posts from amitheasshole dataset (7.1%)\n",
      "Found 2000 valid posts in amitheasshole\n",
      "Loading 143 posts from tech dataset (7.1%)\n",
      "Found 150 valid posts in tech\n",
      "Loading 143 posts from pop dataset (7.1%)\n",
      "Found 47 valid posts in pop\n",
      "Warning: Only 47 posts available, using all\n",
      "Loading 143 posts from animals dataset (7.1%)\n",
      "Found 43 valid posts in animals\n",
      "Warning: Only 43 posts available, using all\n",
      "Loading 143 posts from boomerhumor dataset (7.1%)\n",
      "Found 23 valid posts in boomerhumor\n",
      "Warning: Only 23 posts available, using all\n",
      "Loading 143 posts from copypasta dataset (7.1%)\n",
      "Found 2000 valid posts in copypasta\n",
      "Loading 143 posts from creative dataset (7.1%)\n",
      "Found 28 valid posts in creative\n",
      "Warning: Only 28 posts available, using all\n",
      "Loading 143 posts from food dataset (7.1%)\n",
      "Found 10 valid posts in food\n",
      "Warning: Only 10 posts available, using all\n",
      "Loading 143 posts from nba dataset (7.1%)\n",
      "Found 500 valid posts in nba\n",
      "Loading 143 posts from religion dataset (7.1%)\n",
      "Found 28 valid posts in religion\n",
      "Warning: Only 28 posts available, using all\n",
      "Loading 143 posts from school dataset (7.1%)\n",
      "Found 130 valid posts in school\n",
      "Warning: Only 130 posts available, using all\n",
      "Loading 143 posts from ucla dataset (7.1%)\n",
      "Found 1516 valid posts in ucla\n",
      "Loaded dataset {'nerdy': 1, 'personal': 1, 'amitheasshole': 1, 'tech': 1, 'pop': 1, 'animals': 1, 'boomerhumor': 1, 'copypasta': 1, 'creative': 1, 'food': 1, 'nba': 1, 'religion': 1, 'school': 1, 'ucla': 1} with 2000 posts\n"
     ]
    },
    {
     "data": {
      "application/vnd.jupyter.widget-view+json": {
       "model_id": "eb7c7885bfe4402e86278d4566658e2a",
       "version_major": 2,
       "version_minor": 0
      },
      "text/plain": [
       "Map:   0%|          | 0/1310 [00:00<?, ? examples/s]"
      ]
     },
     "metadata": {},
     "output_type": "display_data"
    },
    {
     "name": "stdout",
     "output_type": "stream",
     "text": [
      "Preprocessed dataset...\n",
      "Training on device: cuda:0\n",
      "step 0 loss 4.6463\n",
      "step 10 loss 6.0780\n",
      "step 20 loss 6.8838\n",
      "step 30 loss 4.4005\n",
      "step 40 loss 3.7209\n",
      "step 50 loss 3.0305\n",
      "step 60 loss 2.3345\n",
      "step 70 loss 2.5891\n",
      "step 80 loss 3.0145\n",
      "step 90 loss 2.9062\n",
      "step 100 loss 1.2372\n",
      "step 110 loss 2.5996\n",
      "step 120 loss 2.5390\n",
      "step 130 loss 1.7723\n",
      "step 140 loss 2.1041\n",
      "step 150 loss 2.8102\n",
      "step 160 loss 2.2248\n",
      "step 170 loss 2.4548\n",
      "step 180 loss 1.9933\n",
      "step 190 loss 2.7925\n",
      "step 200 loss 3.5623\n",
      "step 210 loss 2.8944\n",
      "step 220 loss 2.6364\n",
      "step 230 loss 2.5623\n",
      "step 240 loss 2.8590\n",
      "step 250 loss 1.4462\n",
      "step 260 loss 1.8778\n",
      "step 270 loss 3.2515\n",
      "step 280 loss 3.1238\n",
      "step 290 loss 2.1260\n",
      "step 300 loss 2.8405\n",
      "step 310 loss 2.5764\n",
      "step 320 loss 1.6104\n",
      "step 330 loss 2.9940\n",
      "step 340 loss 2.2133\n",
      "step 350 loss 2.3233\n",
      "step 360 loss 2.8080\n",
      "step 370 loss 2.8452\n",
      "step 380 loss 2.6428\n",
      "step 390 loss 2.4491\n",
      "step 400 loss 2.4210\n",
      "step 410 loss 2.1423\n",
      "step 420 loss 2.0759\n",
      "step 430 loss 1.7940\n",
      "step 440 loss 2.3936\n",
      "step 450 loss 2.1687\n",
      "step 460 loss 2.8183\n",
      "step 470 loss 1.8683\n",
      "step 480 loss 2.1592\n",
      "step 490 loss 1.8719\n",
      "step 500 loss 2.8433\n",
      "step 510 loss 2.2871\n",
      "step 520 loss 2.2179\n",
      "step 530 loss 2.0196\n",
      "step 540 loss 2.2273\n",
      "step 550 loss 3.3672\n",
      "step 560 loss 1.8731\n",
      "step 570 loss 2.2570\n",
      "step 580 loss 2.2648\n",
      "step 590 loss 2.4201\n",
      "step 600 loss 2.1114\n",
      "step 610 loss 2.4551\n",
      "step 620 loss 2.1874\n",
      "step 630 loss 2.6093\n",
      "step 640 loss 2.5039\n",
      "step 650 loss 2.3519\n",
      "step 660 loss 2.2503\n",
      "step 670 loss 2.1333\n",
      "step 680 loss 1.9513\n",
      "step 690 loss 2.8057\n",
      "step 700 loss 2.6231\n",
      "step 710 loss 1.6665\n",
      "step 720 loss 2.0855\n",
      "step 730 loss 2.2495\n",
      "step 740 loss 2.4120\n",
      "step 750 loss 2.0991\n",
      "step 760 loss 2.6103\n",
      "step 770 loss 3.1184\n",
      "step 780 loss 1.9805\n",
      "step 790 loss 2.3483\n",
      "step 800 loss 2.9257\n",
      "step 810 loss 2.2151\n",
      "step 820 loss 2.2105\n",
      "step 830 loss 2.4982\n",
      "step 840 loss 3.0166\n",
      "step 850 loss 3.4871\n",
      "step 860 loss 2.1316\n",
      "step 870 loss 2.2787\n",
      "step 880 loss 2.7040\n",
      "step 890 loss 2.8288\n",
      "step 900 loss 2.5647\n",
      "step 910 loss 1.9932\n",
      "step 920 loss 1.9849\n",
      "step 930 loss 1.6535\n",
      "step 940 loss 2.1160\n",
      "step 950 loss 2.3016\n",
      "step 960 loss 3.0851\n",
      "step 970 loss 3.0984\n",
      "step 980 loss 1.8996\n",
      "step 990 loss 2.6660\n",
      "Saved prompt adapter to: models/soft_prompts/google/gemma-3-27b-it/varietypack/2000\n"
     ]
    },
    {
     "data": {
      "application/vnd.jupyter.widget-view+json": {
       "model_id": "2bfb2447d6cb4cdb9faba67f308f3d1f",
       "version_major": 2,
       "version_minor": 0
      },
      "text/plain": [
       "Generating posts:   0%|          | 0/100 [00:00<?, ?it/s]"
      ]
     },
     "metadata": {},
     "output_type": "display_data"
    }
   ],
   "source": [
    "from tqdm.auto import tqdm\n",
    "\n",
    "login()\n",
    "\n",
    "# training size ablation\n",
    "for model_name in tqdm(MODELS, desc=\"Models\"):\n",
    "    if model_name == \"gpt-5\":\n",
    "        continue\n",
    "\n",
    "    model, tokenizer = load_model(model_name)\n",
    "\n",
    "    for dataset_name, dataset_dict in tqdm(zip(DATASET1_NAMES, DATASETS1), total=len(DATASETS1), desc=\"Datasets1\"):\n",
    "        for train_size in tqdm(TRAIN_SIZES, desc=\"Train sizes\"):\n",
    "            soft_output_dir = f\"{MODEL_OUTPUT_DIR}/soft_prompts/{model_name}/{dataset_name}/{train_size}\"\n",
    "            \n",
    "            # check if soft prompt exists\n",
    "            if not os.path.exists(soft_output_dir):\n",
    "                examples = load_datasets_proportional(dataset_dict, train_size, PROMPTS[\"soft prompt\"])\n",
    "                train_ds = preprocess_dataset(examples, tokenizer)\n",
    "                \n",
    "                peft_model = init_peft_model(model, model_name)\n",
    "                train_soft_prompt(peft_model, tokenizer, train_ds, NUM_TRAIN_STEPS, soft_output_dir)\n",
    "            else:\n",
    "                print(f\"Soft prompt {soft_output_dir} exists, skipping training\")\n",
    "\n",
    "            # apply soft prompt to model\n",
    "            peft_model = apply_peft_adapter(model, soft_output_dir)\n",
    "            \n",
    "            # generate posts\n",
    "            out_path = f\"{GENERATED_OUTPUT_DIR}/train_size_ablation/{model_name}/{dataset_name}/{train_size}.json\"\n",
    "            \n",
    "            # Check if output file already exists and has posts\n",
    "            out_path_obj = Path(out_path)\n",
    "            out_path_obj.parent.mkdir(parents=True, exist_ok=True)\n",
    "            \n",
    "            if out_path_obj.exists():\n",
    "                try:\n",
    "                    with open(out_path_obj, 'r') as f:\n",
    "                        existing_posts = json.load(f)\n",
    "                    if existing_posts:  # Skip if file has posts\n",
    "                        print(f\"Output file {out_path} already exists with posts, skipping generation\")\n",
    "                        continue\n",
    "                except (json.JSONDecodeError, Exception):\n",
    "                    print(f\"Could not read existing file {out_path}, regenerating\")\n",
    "            \n",
    "            posts = collect_posts(100, PROMPTS[\"soft prompt\"], peft_model, tokenizer)\n",
    "            write_posts_json(out_path_obj, posts)\n",
    "    \n",
    "    # unload model\n",
    "    del model\n",
    "    del tokenizer\n",
    "    torch.cuda.empty_cache()\n"
   ]
  },
  {
   "cell_type": "code",
   "execution_count": null,
   "id": "76ac63a7",
   "metadata": {},
   "outputs": [],
   "source": [
    "from tqdm.auto import tqdm\n",
    "\n",
    "login()\n",
    "\n",
    "# experiment ablation\n",
    "for model_name in tqdm(MODELS, desc=\"Models\"):\n",
    "    if model_name == \"gpt-5\":\n",
    "        continue\n",
    "    model, tokenizer = load_model(model_name)\n",
    "    for dataset_name, dataset_dict in tqdm(zip(DATASET2_NAMES, DATASETS2), total=len(DATASETS2), desc=\"Datasets2\"):\n",
    "        for experiment in tqdm(EXPERIMENTS, desc=\"Experiments\"):\n",
    "            prompt = PROMPTS[experiment]\n",
    "            examples = load_datasets_proportional(dataset_dict, 100, prompt)\n",
    "            train_ds = preprocess_dataset(examples, tokenizer)\n",
    "\n",
    "            if experiment == \"soft prompt\":\n",
    "                soft_output_dir = f\"{MODEL_OUTPUT_DIR}/soft_prompts/soft_prompt_{model_name}_{dataset_name}_exp\"\n",
    "                \n",
    "                # check if soft prompt exists\n",
    "                if not os.path.exists(soft_output_dir):\n",
    "                    peft_model = init_peft_model(model, model_name)\n",
    "                    train_soft_prompt(peft_model, tokenizer, train_ds, NUM_TRAIN_STEPS, soft_output_dir)\n",
    "                else:\n",
    "                    print(f\"Soft prompt {soft_output_dir} exists, skipping training\")\n",
    "                model = apply_peft_adapter(model, soft_output_dir)\n",
    "            elif experiment == \"fine tune\":\n",
    "                break  # skip fine tuning\n",
    "            elif experiment == \"summary\":\n",
    "                prompt = PROMPTS[1]\n",
    "            elif experiment == \"like history\":\n",
    "                prompt = PROMPTS[2]\n",
    "            elif experiment == \"self defined\":\n",
    "                prompt = PROMPTS[3]\n",
    "\n",
    "            out_path = f\"{GENERATED_OUTPUT_DIR}/experiment_ablation/{model_name}_{dataset_name}_{experiment}.json\"\n",
    "            with open(out_path, \"w\") as f:\n",
    "                for _ in tqdm(range(100), desc=f\"Generate {dataset_name} {experiment}\"):\n",
    "                    post = generate_post(prompt, model, tokenizer)\n",
    "                    f.write(post + \"\\n\")\n",
    "                    \n",
    "    # unload model\n",
    "    del model\n",
    "    del tokenizer\n",
    "    torch.cuda.empty_cache()\n"
   ]
  },
  {
   "cell_type": "code",
   "execution_count": null,
   "id": "aecc4b43",
   "metadata": {},
   "outputs": [],
   "source": [
    "from tqdm.auto import tqdm\n",
    "\n",
    "# judging \n",
    "for model_name in tqdm(MODELS, desc=\"Models\"):\n",
    "    for dataset in tqdm(DATASETS1, desc=\"Datasets1\"):\n",
    "        for train_size in tqdm(TRAIN_SIZES, desc=\"Train sizes\"):\n",
    "            with open(f\"{GENERATED_OUTPUT_DIR}/train_size_ablation/{model_name}_{dataset}_{train_size}.json\", \"r\") as f:\n",
    "                lines = f.readlines()\n",
    "                for i in tqdm(range(0, len(lines), 3), desc=\"Posts\"):\n",
    "                    post_lines = lines[i:i+3]\n",
    "                    post = ''.join(line.strip() for line in post_lines)\n",
    "                    if post:\n",
    "                        gpt_judgement = judge_post_gpt5(post, dataset)\n",
    "                        heuristic_judgement = judge_post_heuristic(post, dataset)\n",
    "                        print(post)\n",
    "                        break\n"
   ]
  },
  {
   "cell_type": "code",
   "execution_count": null,
   "id": "d0ae4c5f",
   "metadata": {},
   "outputs": [],
   "source": [
    "from tqdm.auto import tqdm\n",
    "\n",
    "# judging \n",
    "for model_name in tqdm(MODELS, desc=\"Models\"):   \n",
    "    for dataset in tqdm(DATASETS2, desc=\"Datasets2\"):\n",
    "        for experiment in tqdm(EXPERIMENTS, desc=\"Experiments\"):\n",
    "            with open(f\"{GENERATED_OUTPUT_DIR}/experiment_ablation/{model_name}_{dataset}_{experiment}.json\", \"r\") as f:\n",
    "                lines = f.readlines()\n",
    "                for i in tqdm(range(0, len(lines), 3), desc=\"Posts\"):\n",
    "                    post_lines = lines[i:i+3]\n",
    "                    post = ''.join(line.strip() for line in post_lines)\n",
    "                    if post:\n",
    "                        gpt_judgement = judge_post_gpt5(post, dataset)\n",
    "                        heuristic_judgement = judge_post_heuristic(post, dataset)\n",
    "                        print(post)\n",
    "                        break\n"
   ]
  }
 ],
 "metadata": {
  "kernelspec": {
   "display_name": "slop",
   "language": "python",
   "name": "python3"
  },
  "language_info": {
   "codemirror_mode": {
    "name": "ipython",
    "version": 3
   },
   "file_extension": ".py",
   "mimetype": "text/x-python",
   "name": "python",
   "nbconvert_exporter": "python",
   "pygments_lexer": "ipython3",
   "version": "3.13.2"
  }
 },
 "nbformat": 4,
 "nbformat_minor": 5
}
