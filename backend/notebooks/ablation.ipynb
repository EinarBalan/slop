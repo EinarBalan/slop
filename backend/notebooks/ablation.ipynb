{
 "cells": [
  {
   "cell_type": "code",
   "execution_count": 1,
   "id": "cb8f03ea",
   "metadata": {},
   "outputs": [],
   "source": [
    "# test unload \n",
    "# Correct way to remove a PEFT soft prompt adapter and use base model\n",
    "# If you want to keep using the PEFT-wrapped object without the adapter:\n",
    "# peft_model.disable_adapter()  # temporarily disable active adapter\n",
    "# peft_model.set_adapter(None)  # clear active adapter selection\n",
    "\n",
    "# If you want the underlying base model (non-PEFT) back:\n",
    "# model = peft_model.unload()\n",
    "# posts = collect_posts(1, PROMPTS[\"soft prompt\"], model, tokenizer)\n",
    "# print(posts)\n",
    "\n"
   ]
  },
  {
   "cell_type": "markdown",
   "id": "dc8a0981",
   "metadata": {},
   "source": [
    "# Ablation Study Results\n",
    "\n",
    "Axes\n",
    "- model (gemma-3-4b-it, gemma-3-27b-it, gpt-5)\n",
    "- manual vs judge\n",
    "- experiment (base, subreddit, summary, liked posts list, fine tuned, soft prompt (100), soft prompt(500))\n",
    "- dataset (circlejerk, jokes + puns, gaming, animals, sports, etc.)\n",
    "\n",
    "Dataset selection:\n",
    "- small\n",
    "    - okbuddy\n",
    "    - boomerhumor\n",
    "    - animals\n",
    "    - creative\n",
    "    - food\n",
    "    - religion\n",
    "- medium\n",
    "    - finance\n",
    "    - school\n",
    "    - pop\n",
    "- varied but focused: \n",
    "    - nerdy\n",
    "    - personal\n",
    "    - ucla\n",
    "    - tech\n",
    "    - school\n",
    "    - ucla\n",
    "- ultra specific: \n",
    "    - minecraft\n",
    "    - nba\n",
    "- format specific:\n",
    "    - copypasta,\n",
    "    - no stupid questions\n",
    "    - am i the asshole\n",
    "- 3 test (unalike)\n",
    "    - pop\n",
    "    - religion\n",
    "    - tech\n",
    "- 3 test (alike)\n",
    "    - tech\n",
    "    - nerdy\n",
    "    - finance\n",
    "- college student\n",
    "    - ucla\n",
    "    - nerdy\n",
    "    - okbuddy\n",
    "    - copypasta\n",
    "    - pop\n",
    "    - food\n",
    "    - animals\n",
    "- new mother\n",
    "    - pregnancy\n",
    "    - parenting\n",
    "    - baby\n",
    "    - food\n",
    "    - am i the asshole\n",
    "    - pop\n",
    "    - boomerhumor\n",
    "- creative gen alpha\n",
    "    - minecraft\n",
    "    - creative\n",
    "    - food\n",
    "    - school\n",
    "    - nba\n",
    "\n",
    "### gemma-3-4b-it\n",
    "|                   | Self Defined | Summary | Like History | Fine Tune | Soft Prompt (100) | Soft Prompt (500) |\n",
    "|-------------------|-----------|---------|--------------|-----------|-------------------|-------------------|\n",
    "| Circlejerk        |           |         |              |           |                   |                   |\n",
    "| Jokes             |           |         |              |           |                   |                   |\n",
    "| Gaming            |           |         |              |           |                   |                   |\n",
    "| Animals           |           |         |              |           |                   |                   |\n",
    "| Personal          |           |         |              |           |                   |                   |\n",
    "| Personal + Gaming |           |         |              |           |                   |                   |\n",
    "\n",
    "### gemma-3-27b-it\n",
    "|                   | Self Defined | Summary | Like History | Fine Tune | Soft Prompt (100) | Soft Prompt (500) |\n",
    "|-------------------|-----------|---------|--------------|-----------|-------------------|-------------------|\n",
    "| Circlejerk        |           |         |              |           |                   |                   |\n",
    "| Jokes             |           |         |              |           |                   |                   |\n",
    "| Gaming            |           |         |              |           |                   |                   |\n",
    "| Animals           |           |         |              |           |                   |                   |\n",
    "| Personal          |           |         |              |           |                   |                   |\n",
    "| Personal + Gaming |           |         |              |           |                   |                   |\n",
    "\n",
    "### gpt-5\n",
    "|                   | Self Defined | Summary | Like History | Fine Tune | Soft Prompt (100) | Soft Prompt (500) |\n",
    "|-------------------|-----------|---------|--------------|-----------|-------------------|-------------------|\n",
    "| Circlejerk        |           |         |              |           |                   |                   |\n",
    "| Jokes             |           |         |              |           |                   |                   |\n",
    "| Gaming            |           |         |              |           |                   |                   |\n",
    "| Animals           |           |         |              |           |                   |                   |\n",
    "| Personal          |           |         |              |           |                   |                   |\n",
    "| Personal + Gaming |           |         |              |           |                   |                   |\n"
   ]
  },
  {
   "cell_type": "markdown",
   "id": "cfb2e1e5",
   "metadata": {},
   "source": [
    "## Notes during testing\n",
    "- very good alignment on tech (92)\n",
    "- very good alignment on personal (180)\n",
    "- very good alignment on nerdy (204)\n",
    "- very good alignmenton school (93)\n",
    "- bad alignment on interesting (35)\n",
    "- bad alignment on finance (57)\n",
    "- decent alignment on interesting + finance (on the finance side) (92)\n",
    "- for hyper targeted like minecraft, even 10 examples is good enough for alignment, but post topic variety goes down. ~100 is best to balance quality and training time\n",
    "- 50/50 minecraft + ucla works REALLY well\n",
    "\n",
    "it seems like ~100 samples is good enough for gemma 4b\n",
    "\n",
    "\n",
    "- 100 liked post history is much slower at inference time compared to soft prompt w/ comparable or even worse quality"
   ]
  },
  {
   "cell_type": "code",
   "execution_count": 2,
   "id": "cae67d34",
   "metadata": {},
   "outputs": [
    {
     "name": "stdout",
     "output_type": "stream",
     "text": [
      "\u001b[33mWARNING: Running pip as the 'root' user can result in broken permissions and conflicting behaviour with the system package manager, possibly rendering your system unusable. It is recommended to use a virtual environment instead: https://pip.pypa.io/warnings/venv. Use the --root-user-action option if you know what you are doing and want to suppress this warning.\u001b[0m\u001b[33m\n",
      "\u001b[0m\n",
      "\u001b[1m[\u001b[0m\u001b[34;49mnotice\u001b[0m\u001b[1;39;49m]\u001b[0m\u001b[39;49m A new release of pip is available: \u001b[0m\u001b[31;49m25.0.1\u001b[0m\u001b[39;49m -> \u001b[0m\u001b[32;49m25.2\u001b[0m\n",
      "\u001b[1m[\u001b[0m\u001b[34;49mnotice\u001b[0m\u001b[1;39;49m]\u001b[0m\u001b[39;49m To update, run: \u001b[0m\u001b[32;49mpython -m pip install --upgrade pip\u001b[0m\n",
      "Note: you may need to restart the kernel to use updated packages.\n"
     ]
    }
   ],
   "source": [
    "%pip install -qU transformers peft accelerate datasets trl einops sentencepiece bitsandbytes jinja2>=3.1.0 dotenv openai"
   ]
  },
  {
   "cell_type": "code",
   "execution_count": 3,
   "id": "baf9bfc4",
   "metadata": {},
   "outputs": [],
   "source": [
    "MODELS = [\n",
    "    \"google/gemma-3-4b-it\",\n",
    "    \"google/gemma-3-27b-it\",\n",
    "    \"gpt-5\"\n",
    "]\n",
    "\n",
    "# Load dataset categories from JSON file\n",
    "DATASETS1 = [\n",
    "    {\n",
    "    \"minecraft\": 1,  \n",
    "    },\n",
    "    {\n",
    "    \"ucla\": 1,  \n",
    "    },\n",
    "    {\n",
    "    \"nostupidquestions\": 1,  \n",
    "    },\n",
    "    {\n",
    "    \"copypasta\": 1,  \n",
    "    },\n",
    "]\n",
    "\n",
    "DATASETS2 = [\n",
    "    {\n",
    "    \"nerdy\": 1,  \n",
    "    },\n",
    "    {\n",
    "    \"personal\": 1,  \n",
    "    },\n",
    "    { # unalike\n",
    "    \"pop\": 1,  \n",
    "    \"religion\": 1,\n",
    "    \"tech\": 1\n",
    "    },\n",
    "    { # alike\n",
    "        \"tech\": 1,\n",
    "        \"nerdy\": 1,\n",
    "        \"finance\": 1,\n",
    "    },\n",
    "    { # format specific\n",
    "        \"copypasta\": 1,\n",
    "        \"nostupidquestions\": 1,\n",
    "        \"amitheasshole\": 1,\n",
    "    },\n",
    "    { # college student\n",
    "        \"ucla\": 1,\n",
    "        \"nerdy\": 1,\n",
    "        \"okbuddy\": 1,\n",
    "        \"copypasta\": 1,\n",
    "        \"pop\": 1,\n",
    "        \"food\": 1,\n",
    "        \"animals\": 1,\n",
    "    },\n",
    "    { # new mother\n",
    "        \"pregnancy\": 1,\n",
    "        \"parenting\": 1,\n",
    "        \"baby\": 1,\n",
    "        \"food\": 1,\n",
    "        \"amitheasshole\": 1,\n",
    "        \"pop\": 1,\n",
    "        \"boomerhumor\": 1,\n",
    "    },\n",
    "]\n",
    "\n",
    "TRAIN_SIZES = [\n",
    "    10, 20, 50, 100, 250, 500, 1000, 2000\n",
    "]\n",
    "\n",
    "EXPERIMENTS = [\n",
    "    \"self defined\",\n",
    "    \"summary\",\n",
    "    \"like history\",\n",
    "    \"fine tune\",\n",
    "    \"soft prompt\",\n",
    "]\n",
    "\n",
    "PROMPT_TOKENS = 64\n",
    "MICRO_BATCH_SIZE = 1\n",
    "GRAD_ACCUM_STEPS = 1\n",
    "LEARNING_RATE = 0.2\n",
    "NUM_TRAIN_STEPS = 1000  \n",
    "MAX_SEQ_LEN = 2048\n",
    "\n",
    "MODEL_OUTPUT_DIR = \"models\"\n",
    "GENERATED_OUTPUT_DIR = \"generated\""
   ]
  },
  {
   "cell_type": "markdown",
   "id": "94dabf1f",
   "metadata": {},
   "source": [
    "## Dataset Loading"
   ]
  },
  {
   "cell_type": "code",
   "execution_count": 4,
   "id": "c1f1bc1a",
   "metadata": {},
   "outputs": [],
   "source": [
    "# write a generator to lazily load dataset from json file based on dataset argument\n",
    "\n",
    "\"\"\"\n",
    "choice for sample ablation:\n",
    "    - make sure to increase max number of training steps as you go\n",
    "    - do some testing beforehand for 1000, 5000 to find good number of steps\n",
    "    - 10, 20, 50, 100, 250, 500, 1000, 5000\n",
    "    - minecraft\n",
    "    - ucla\n",
    "    - nostupidquestions   \n",
    "    - copypasta\n",
    "    - 4 * 8 = 32 soft prompts\n",
    "    \n",
    "choice (for 100 samples, or optimal from above):\n",
    "    - nerdy\n",
    "    - personal \n",
    "    - alike 3\n",
    "    - unalike 3\n",
    "    - format specific\n",
    "    - college student \n",
    "    - new mother \n",
    "    - creative gen alpha \n",
    "\"\"\"\n",
    "\n",
    "from typing import List, Dict\n",
    "import json\n",
    "import re\n",
    "import random, math\n",
    "\n",
    "def load_datasets_proportional_objects(datasets_dict: Dict[str, float], total_posts: int) -> List[dict]:\n",
    "    examples: List[dict] = []\n",
    "    \n",
    "    # Get total of all values in datasets_dict\n",
    "    total_proportion = sum(datasets_dict.values())\n",
    "    for dataset_name, proportion in datasets_dict.items():\n",
    "        # Calculate number of posts for this dataset\n",
    "        factor = proportion / total_proportion\n",
    "        target_count = math.ceil(total_posts * factor)\n",
    "        print(f\"Loading {target_count} posts from {dataset_name} dataset ({factor*100:.1f}%)\")\n",
    "        \n",
    "        # Load sampled Reddit posts from JSON created by sample-posts.py\n",
    "        # Each item is a dict with keys: title, subreddit, self_text\n",
    "        try:\n",
    "            with open(f\"../../datasets/{dataset_name}.json\", \"r\", encoding=\"utf-8\") as f:\n",
    "                reddit_posts: List[dict] = json.load(f)\n",
    "        except FileNotFoundError:\n",
    "            print(f\"Warning: Could not find dataset file for {dataset_name}\")\n",
    "            continue\n",
    "        \n",
    "        # Filter valid posts (must have self_text and no image_url)\n",
    "        valid_posts = []\n",
    "        for p in reddit_posts:\n",
    "            title = p.get(\"title\", \"\")\n",
    "            self_text = p.get(\"self_text\", \"\")\n",
    "            image_url = p.get(\"image_url\", \"\")\n",
    "            \n",
    "            if self_text and not image_url:\n",
    "                valid_posts.append(p)\n",
    "        \n",
    "        print(f\"Found {len(valid_posts)} valid posts in {dataset_name}\")\n",
    "        \n",
    "        # Sample the target number of posts\n",
    "        if len(valid_posts) >= target_count:\n",
    "            # Randomly sample target_count posts\n",
    "            sampled_posts = random.sample(valid_posts, target_count)\n",
    "        else:\n",
    "            # Use all available posts if we don't have enough\n",
    "            print(f\"Warning: Only {len(valid_posts)} posts available, using all\")\n",
    "            sampled_posts = valid_posts\n",
    "        \n",
    "        examples.extend(sampled_posts)\n",
    "    \n",
    "    # Shuffle the final dataset to mix posts from different datasets\n",
    "    random.shuffle(examples)\n",
    "    \n",
    "    print(f\"Loaded dataset {datasets_dict} with {total_posts} posts\")\n",
    "    return examples\n",
    "\n",
    "def load_datasets_proportional(datasets_dict: Dict[str, float], total_posts: int, prompt: str) -> List[dict]:\n",
    "    \"\"\"\n",
    "    Load datasets with proportional sampling.\n",
    "    \n",
    "    Args:\n",
    "        datasets_dict: Dictionary mapping dataset names to their proportions, e.g. {\"minecraft\": 1, \"ucla\": 1} will load half minecraft, half ucla\n",
    "        total_posts: Total number of posts desired across all datasets\n",
    "    \n",
    "    Returns:\n",
    "        List of examples in the format: {\"instruction\": PROMPT, \"output\": post}\n",
    "    \"\"\"\n",
    "    \n",
    "    examples: List[dict] = []\n",
    "    \n",
    "    # Get total of all values in datasets_dict\n",
    "    total_proportion = sum(datasets_dict.values())\n",
    "    for dataset_name, proportion in datasets_dict.items():\n",
    "        # Calculate number of posts for this dataset\n",
    "        factor = proportion / total_proportion\n",
    "        target_count = math.ceil(total_posts * factor)\n",
    "        print(f\"Loading {target_count} posts from {dataset_name} dataset ({factor*100:.1f}%)\")\n",
    "        \n",
    "        # Load sampled Reddit posts from JSON created by sample-posts.py\n",
    "        # Each item is a dict with keys: title, subreddit, self_text\n",
    "        try:\n",
    "            with open(f\"../../datasets/{dataset_name}.json\", \"r\", encoding=\"utf-8\") as f:\n",
    "                reddit_posts: List[dict] = json.load(f)\n",
    "        except FileNotFoundError:\n",
    "            print(f\"Warning: Could not find dataset file for {dataset_name}\")\n",
    "            continue\n",
    "        \n",
    "        # Filter valid posts (must have self_text and no image_url)\n",
    "        valid_posts = []\n",
    "        for p in reddit_posts:\n",
    "            title = p.get(\"title\", \"\")\n",
    "            self_text = p.get(\"self_text\", \"\")\n",
    "            image_url = p.get(\"image_url\", \"\")\n",
    "            \n",
    "            if self_text and not image_url:\n",
    "                subreddit = p.get(\"subreddit\", \"\")\n",
    "                subreddit = re.sub(r\"\\s*(/)?r/\", \"r/\", subreddit)\n",
    "                post = f\"title: {title}\\nself_text: {self_text}\\nsubreddit: {subreddit}\"\n",
    "                valid_posts.append({\"instruction\": prompt, \"output\": post})\n",
    "        \n",
    "        print(f\"Found {len(valid_posts)} valid posts in {dataset_name}\")\n",
    "        \n",
    "        # Sample the target number of posts\n",
    "        if len(valid_posts) >= target_count:\n",
    "            # Randomly sample target_count posts\n",
    "            sampled_posts = random.sample(valid_posts, target_count)\n",
    "        else:\n",
    "            # Use all available posts if we don't have enough\n",
    "            print(f\"Warning: Only {len(valid_posts)} posts available, using all\")\n",
    "            sampled_posts = valid_posts\n",
    "        \n",
    "        examples.extend(sampled_posts)\n",
    "    \n",
    "    # Shuffle the final dataset to mix posts from different datasets\n",
    "    random.shuffle(examples)\n",
    "    \n",
    "    print(f\"Loaded dataset {datasets_dict} with {total_posts} posts\")\n",
    "    return examples\n",
    "\n",
    "# Example usage - modify these values as needed\n",
    "# datasets_dict = {\n",
    "#     \"ucla\": 0.5,  # 100% minecraft posts\n",
    "#     \"minecraft\": 0.5,  \n",
    "# }\n",
    "# total_posts = 100  # Total number of posts desired\n",
    "\n",
    "# examples = load_datasets_proportional(datasets_dict, total_posts, \"prompt\")\n",
    "\n",
    "# print(f\"Total number of examples loaded: {len(examples)}\")\n",
    "# if examples:\n",
    "#     print(\"Sample example:\")\n",
    "#     print(examples[0])\n"
   ]
  },
  {
   "cell_type": "code",
   "execution_count": 5,
   "id": "e5b9c0e7",
   "metadata": {},
   "outputs": [],
   "source": [
    "# Preprocess instruction/output dataset\n",
    "from datasets import Dataset\n",
    "\n",
    "def preprocess_dataset(examples, tokenizer):\n",
    "    # Build HF dataset from examples [{\"instruction\", \"output\"}]\n",
    "    dataset = Dataset.from_list(examples)\n",
    "\n",
    "    # Tokenize instruction with chat template, and supervise only the output tokens\n",
    "    def tokenize_io(sample):\n",
    "        # Build chat prompt prefix for the user instruction\n",
    "        messages = [{\"role\": \"user\", \"content\": sample[\"instruction\"]}]\n",
    "        prompt_text = tokenizer.apply_chat_template(\n",
    "            messages,\n",
    "            tokenize=False,\n",
    "            add_generation_prompt=True,\n",
    "        )\n",
    "\n",
    "        prompt_ids = tokenizer(prompt_text, add_special_tokens=False)[\"input_ids\"]\n",
    "        output_ids = tokenizer(sample[\"output\"], add_special_tokens=False)[\"input_ids\"]\n",
    "        eos_id = tokenizer.eos_token_id\n",
    "\n",
    "        input_ids = prompt_ids + output_ids + ([eos_id] if eos_id is not None else [])\n",
    "        labels = ([-100] * len(prompt_ids)) + output_ids + ([eos_id] if eos_id is not None else [])\n",
    "        attention_mask = [1] * len(input_ids)\n",
    "\n",
    "        # Truncate from the left if too long, keeping alignment between inputs and labels\n",
    "        if len(input_ids) > MAX_SEQ_LEN:\n",
    "            input_ids = input_ids[-MAX_SEQ_LEN:]\n",
    "            labels = labels[-MAX_SEQ_LEN:]\n",
    "            attention_mask = attention_mask[-MAX_SEQ_LEN:]\n",
    "\n",
    "        return {\n",
    "            \"input_ids\": input_ids,\n",
    "            \"attention_mask\": attention_mask,\n",
    "            \"labels\": labels,\n",
    "        }\n",
    "\n",
    "    train_ds = dataset.map(tokenize_io, remove_columns=dataset.column_names)\n",
    "    print(\"Preprocessed dataset...\")\n",
    "    return train_ds\n"
   ]
  },
  {
   "cell_type": "markdown",
   "id": "30a47b18",
   "metadata": {},
   "source": [
    "## Model Loading"
   ]
  },
  {
   "cell_type": "code",
   "execution_count": 6,
   "id": "ef940c71",
   "metadata": {},
   "outputs": [],
   "source": [
    "from huggingface_hub import login as huggingface_login\n",
    "import torch\n",
    "from transformers import AutoTokenizer, AutoModelForCausalLM\n",
    "import dotenv, os\n",
    "from peft import PeftModel, PromptTuningConfig, PromptTuningInit, get_peft_model, TaskType\n",
    "\n",
    "def login():\n",
    "    dotenv.load_dotenv()\n",
    "    huggingface_login(token=os.getenv(\"HUGGING_FACE_HUB_TOKEN\"))\n",
    "\n",
    "def load_model(model_name: str):\n",
    "    bf16 = torch.cuda.is_available() and torch.cuda.get_device_capability(0)[0] >= 8\n",
    "    tokenizer = AutoTokenizer.from_pretrained(model_name, use_fast=True)\n",
    "    if tokenizer.pad_token is None:\n",
    "        tokenizer.pad_token = tokenizer.eos_token\n",
    "\n",
    "    model = AutoModelForCausalLM.from_pretrained(\n",
    "        model_name,\n",
    "        torch_dtype=torch.bfloat16 if bf16 else torch.float16,\n",
    "        device_map=\"auto\",\n",
    "        low_cpu_mem_usage=True,\n",
    "    )\n",
    "    \n",
    "    print(f\"Loaded {model_name} model and tokenizer\")\n",
    "    return model, tokenizer\n",
    "\n",
    "def init_peft_model(model, model_name: str):\n",
    "    config = PromptTuningConfig(\n",
    "        task_type=TaskType.CAUSAL_LM,\n",
    "        prompt_tuning_init=PromptTuningInit.TEXT,\n",
    "        num_virtual_tokens=PROMPT_TOKENS,\n",
    "        prompt_tuning_init_text=\"Generate a reddit post.\",\n",
    "        tokenizer_name_or_path=model_name,\n",
    "    )\n",
    "    return get_peft_model(model, config)\n",
    "\n",
    "def apply_peft_adapter(base_model, adapter_name: str):\n",
    "    model = PeftModel.from_pretrained(base_model, adapter_name)\n",
    "    model.eval()\n",
    "    return model\n",
    "\n"
   ]
  },
  {
   "cell_type": "markdown",
   "id": "79ad76af",
   "metadata": {},
   "source": [
    "## Soft Prompt Training"
   ]
  },
  {
   "cell_type": "code",
   "execution_count": 7,
   "id": "59fb50db",
   "metadata": {},
   "outputs": [],
   "source": [
    "# iterate through models, datasets, and dataset sizes to create soft prompt adapters for each \n",
    "# 4 * 8 = 32 soft prompts\n",
    "# 2 * 8 = 16 adapters\n",
    "# take note of training time, adapter size\n",
    "\n",
    "import math\n",
    "from torch.utils.data import DataLoader\n",
    "from transformers import get_linear_schedule_with_warmup\n",
    "from torch.optim import AdamW\n",
    "\n",
    "def train_soft_prompt(model, tokenizer, train_ds, train_steps, output_dir):\n",
    "    def collate_fn(features):\n",
    "        pad_id = tokenizer.pad_token_id\n",
    "        batch_size = len(features)\n",
    "        seq_lens = [len(f[\"input_ids\"]) for f in features]\n",
    "        max_len = max(seq_lens)\n",
    "\n",
    "        input_ids = torch.full((batch_size, max_len), pad_id, dtype=torch.long)\n",
    "        attention_mask = torch.zeros((batch_size, max_len), dtype=torch.long)\n",
    "        labels = torch.full((batch_size, max_len), -100, dtype=torch.long)\n",
    "\n",
    "        for i, f in enumerate(features):\n",
    "            ids = torch.tensor(f[\"input_ids\"], dtype=torch.long)\n",
    "            attn = torch.tensor(f[\"attention_mask\"], dtype=torch.long)\n",
    "            labs = torch.tensor(f[\"labels\"], dtype=torch.long)\n",
    "            L = ids.size(0)\n",
    "            input_ids[i, :L] = ids\n",
    "            attention_mask[i, :L] = attn\n",
    "            labels[i, :L] = labs\n",
    "\n",
    "        return {\"input_ids\": input_ids, \"attention_mask\": attention_mask, \"labels\": labels}\n",
    "\n",
    "\n",
    "    train_loader = DataLoader(\n",
    "        train_ds,\n",
    "        batch_size=MICRO_BATCH_SIZE,\n",
    "        shuffle=True,\n",
    "        collate_fn=collate_fn,\n",
    "    )\n",
    "\n",
    "    optimizer = AdamW(model.parameters(), lr=LEARNING_RATE)\n",
    "    # Total optimizer steps we intend to take\n",
    "    total_optim_steps = train_steps\n",
    "    num_warmup_steps = max(1, int(0.1 * total_optim_steps))\n",
    "    scheduler = get_linear_schedule_with_warmup(\n",
    "        optimizer,\n",
    "        num_warmup_steps=num_warmup_steps,\n",
    "        num_training_steps=total_optim_steps,\n",
    "    )\n",
    "\n",
    "    model.train()\n",
    "\n",
    "\n",
    "    device = torch.device(\"cuda:0\" if torch.cuda.is_available() else \"cpu\")\n",
    "    model = model.to(device)\n",
    "    model_device = device\n",
    "\n",
    "    print(f\"Training on device: {device}\")\n",
    "\n",
    "    optimizer.zero_grad()\n",
    "    optim_step = 0\n",
    "    accumulated = 0\n",
    "    running_loss = 0.0\n",
    "    for epoch in range(10):  # repeat over dataset until reaching desired steps\n",
    "        for batch in train_loader:\n",
    "            batch = {k: v.to(model_device) for k, v in batch.items()}\n",
    "            outputs = model(**batch)\n",
    "            loss = outputs.loss\n",
    "            (loss / GRAD_ACCUM_STEPS).backward()\n",
    "            running_loss += loss.item()\n",
    "            accumulated += 1\n",
    "            if accumulated % GRAD_ACCUM_STEPS == 0:\n",
    "                optimizer.step()\n",
    "                scheduler.step()\n",
    "                optimizer.zero_grad()\n",
    "                if optim_step % 10 == 0:\n",
    "                    print(f\"step {optim_step} loss {running_loss / GRAD_ACCUM_STEPS:.4f}\")\n",
    "                running_loss = 0.0\n",
    "                optim_step += 1\n",
    "                if optim_step >= total_optim_steps:\n",
    "                    break\n",
    "        if optim_step >= total_optim_steps:\n",
    "            break\n",
    "\n",
    "    model.save_pretrained(output_dir)\n",
    "    print(\"Saved prompt adapter to:\", output_dir)"
   ]
  },
  {
   "cell_type": "markdown",
   "id": "656d588b",
   "metadata": {},
   "source": [
    "## Fine Tuning"
   ]
  },
  {
   "cell_type": "code",
   "execution_count": 8,
   "id": "8bb228af",
   "metadata": {},
   "outputs": [],
   "source": [
    "# iterate through models, datasets \n",
    "# 2 * 8 = 16 LORA fine tuned models\n",
    "# take note of training time, model size\n",
    "\n",
    "def train_fine_tune_lora(model, tokenizer, train_ds, train_steps, output_dir):\n",
    "    pass\n"
   ]
  },
  {
   "cell_type": "markdown",
   "id": "eb66d8d1",
   "metadata": {},
   "source": [
    "## Generate posts"
   ]
  },
  {
   "cell_type": "code",
   "execution_count": 9,
   "id": "b2d20ea7",
   "metadata": {},
   "outputs": [],
   "source": [
    "# 100 posts per cell \n",
    "# look into inference parallelism\n",
    "# iterate through models, experiments, datasets\n",
    "# write each generated post to json file indicating model, experiment, dataset\n",
    "from openai import OpenAI\n",
    "\n",
    "def generate_post(prompt, model, tokenizer):\n",
    "    if isinstance(model, OpenAI):\n",
    "        response = model.responses.create(\n",
    "            model=\"gpt-5\",\n",
    "            input=prompt\n",
    "        )\n",
    "        return response.output_text\n",
    "    \n",
    "    # if not openai, use normal pipeline\n",
    "    messages = [\n",
    "        {\"role\": \"user\", \"content\": prompt},\n",
    "    ]\n",
    "\n",
    "    inputs = tokenizer.apply_chat_template(\n",
    "        messages,\n",
    "        add_generation_prompt=True,\n",
    "        tokenize=True,\n",
    "        return_tensors=\"pt\",\n",
    "        return_dict=True,\n",
    "    ).to(model.device)\n",
    "\n",
    "    with torch.no_grad():\n",
    "        outputs = model.generate(\n",
    "            **inputs,\n",
    "            max_new_tokens=MAX_SEQ_LEN,\n",
    "            temperature=0.7,\n",
    "            top_p=0.9,\n",
    "            do_sample=True,\n",
    "            repetition_penalty=1.1,\n",
    "        )\n",
    "    \n",
    "    # Extract the generated text and parse the post format\n",
    "    generated_text = tokenizer.decode(outputs[0][inputs[\"input_ids\"].shape[-1]:])\n",
    "    \n",
    "    # Initialize the post object\n",
    "    post_obj = {\n",
    "        \"title\": \"\",\n",
    "        \"self_text\": \"\",\n",
    "        \"subreddit\": \"\"\n",
    "    }\n",
    "    \n",
    "    # Parse fields with multiline regex so sections may span multiple lines\n",
    "    # Falls back to line-by-line parsing if regex fails to find any\n",
    "    import re\n",
    "    pattern = re.compile(\n",
    "        r\"\"\"(?imsx)\n",
    "        ^\\s*title:\\s*(?P<title>.*?)\n",
    "        (?=^\\s*(?:self_text|subreddit)\\s*:|\\Z)\n",
    "        |\n",
    "        ^\\s*self_text:\\s*(?P<self_text>.*?)\n",
    "        (?=^\\s*(?:title|subreddit)\\s*:|\\Z)\n",
    "        |\n",
    "        ^\\s*subreddit:\\s*(?P<subreddit>.*?)\n",
    "        (?=^\\s*(?:title|self_text)\\s*:|\\Z)\n",
    "        \"\"\",\n",
    "        re.DOTALL | re.MULTILINE | re.IGNORECASE,\n",
    "    )\n",
    "\n",
    "    found_any = False\n",
    "    for m in pattern.finditer(generated_text):\n",
    "        for key in (\"title\", \"self_text\", \"subreddit\"):\n",
    "            val = m.groupdict().get(key)\n",
    "            if val is not None:\n",
    "                post_obj[key] = val.strip()\n",
    "                found_any = True\n",
    "\n",
    "    if not found_any:\n",
    "        # Fallback: multiline-aware parsing by accumulating lines until next field\n",
    "        lines = generated_text.strip().split('\\n')\n",
    "        current_key = None\n",
    "        buffer = []\n",
    "        for line in lines:\n",
    "            if line.lower().startswith(\"title:\"):\n",
    "                if current_key and buffer:\n",
    "                    post_obj[current_key] = \"\\n\".join(buffer).strip()\n",
    "                current_key = \"title\"\n",
    "                buffer = [line.split(\":\", 1)[1].strip()]\n",
    "            elif line.lower().startswith(\"self_text:\"):\n",
    "                if current_key and buffer:\n",
    "                    post_obj[current_key] = \"\\n\".join(buffer).strip()\n",
    "                current_key = \"self_text\"\n",
    "                buffer = [line.split(\":\", 1)[1].strip()]\n",
    "            elif line.lower().startswith(\"subreddit:\"):\n",
    "                if current_key and buffer:\n",
    "                    post_obj[current_key] = \"\\n\".join(buffer).strip()\n",
    "                current_key = \"subreddit\"\n",
    "                buffer = [line.split(\":\", 1)[1].strip()]\n",
    "            else:\n",
    "                if current_key is not None:\n",
    "                    buffer.append(line)\n",
    "        if current_key and buffer:\n",
    "            post_obj[current_key] = \"\\n\".join(buffer).strip()\n",
    "\n",
    "    return post_obj\n"
   ]
  },
  {
   "cell_type": "markdown",
   "id": "f41960fb",
   "metadata": {},
   "source": [
    "## Judge LLM"
   ]
  },
  {
   "cell_type": "code",
   "execution_count": 10,
   "id": "d3ddc01a",
   "metadata": {},
   "outputs": [],
   "source": [
    "# judge whether each generated post adheres to dataset category, heuristic based on word content and llm judge\n",
    "\n",
    "def judge_post_gpt5(post, dataset):\n",
    "    JUDGE_PROMPTS = {\n",
    "        \"nerdy\": \"Please judge whether the following post is nerdy. \\n\\npost: {post}\\n\\n\",\n",
    "        \"personal\": \"Please judge whether the following post is personal. \\n\\npost: {post}\\n\\n\",\n",
    "        \"alike 3\": \"Please judge whether the following post is similar to the 3 posts below. \\n\\npost: {post}\\n\\n\",\n",
    "        \"unalike 3\": \"Please judge whether the following post is not similar to the 3 posts below. \\n\\npost: {post}\\n\\n\",\n",
    "        \"format specific\": \"Please judge whether the following post is formatted correctly. \\n\\npost: {post}\\n\\n\",\n",
    "        \"college student\": \"Please judge whether the following post is college student. \\n\\npost: {post}\\n\\n\",\n",
    "        \"new mother\": \"Please judge whether the following post is new mother. \\n\\npost: {post}\\n\\n\",\n",
    "        \"creative gen alpha\": \"Please judge whether the following post is creative gen alpha. \\n\\npost: {post}\\n\\n\",\n",
    "    }\n",
    "    \n",
    "\n",
    "def judge_post_heuristic(post, dataset):\n",
    "    KEYWORDS = {\n",
    "        \"nerdy\": [],\n",
    "        \"personal\": [],\n",
    "        \"alike 3\": [],\n",
    "        \"unalike 3\": [],\n",
    "        \"format specific\": [],\n",
    "        \"college student\": [],\n",
    "        \"new mother\": [],\n",
    "        \"creative gen alpha\": [],\n",
    "    }"
   ]
  },
  {
   "cell_type": "markdown",
   "id": "caad1c6b",
   "metadata": {},
   "source": [
    "## Run Pipeline"
   ]
  },
  {
   "cell_type": "code",
   "execution_count": 11,
   "id": "2d853c86",
   "metadata": {},
   "outputs": [],
   "source": [
    "# JSON output helpers\n",
    "from pathlib import Path\n",
    "import json\n",
    "import tqdm\n",
    "\n",
    "def ensure_parent_dir(path_str: str) -> Path:\n",
    "    path = Path(path_str)\n",
    "    path.parent.mkdir(parents=True, exist_ok=True)\n",
    "    return path\n",
    "\n",
    "def collect_posts(n: int, prompt: str, model, tokenizer) -> list:\n",
    "    posts = []\n",
    "    for i in tqdm(range(n), desc=\"Generating posts\"):\n",
    "        post = generate_post(prompt, model, tokenizer)\n",
    "        # print(f\"generated post {i}\")\n",
    "        posts.append(post)\n",
    "    return posts\n",
    "\n",
    "def write_posts_json(path_str: str, posts: list) -> None:\n",
    "    path = ensure_parent_dir(path_str)\n",
    "    with open(path, \"w\", encoding=\"utf-8\") as f:\n",
    "        json.dump(posts, f, ensure_ascii=False, indent=2)\n"
   ]
  },
  {
   "cell_type": "code",
   "execution_count": 12,
   "id": "fdddbe34",
   "metadata": {},
   "outputs": [],
   "source": [
    "MODELS = [\n",
    "    \"google/gemma-3-4b-it\",\n",
    "    \"google/gemma-3-27b-it\",\n",
    "    \"gpt-5\"\n",
    "]\n",
    "\n",
    "\n",
    "# Load dataset categories from JSON file\n",
    "DATASET1_NAMES = [\n",
    "    \"minecraft\",\n",
    "    \"ucla\",\n",
    "    \"nostupidquestions\",\n",
    "    \"copypasta\",\n",
    "    \"varietypack\",\n",
    "]\n",
    "DATASETS1 = [\n",
    "    {\n",
    "        \"minecraft\": 1,  \n",
    "    },\n",
    "    {\n",
    "        \"ucla\": 1,  \n",
    "    },\n",
    "    {\n",
    "        \"nostupidquestions\": 1,  \n",
    "    },\n",
    "    {\n",
    "        \"copypasta\": 1,  \n",
    "    },\n",
    "    {\n",
    "        \"nerdy\": 1,  \n",
    "        \"personal\": 1,\n",
    "        \"amitheasshole\": 1,\n",
    "        \"tech\": 1,\n",
    "        \"pop\": 1,\n",
    "        \"animals\": 1, \n",
    "        \"boomerhumor\": 1,\n",
    "        \"copypasta\": 1,\n",
    "        \"creative\": 1,\n",
    "        \"food\": 1,\n",
    "        \"nba\": 1,\n",
    "        \"religion\": 1,\n",
    "        \"school\": 1,\n",
    "        \"ucla\": 1,\n",
    "    },\n",
    "]\n",
    "\n",
    "DATASET2_NAMES = [\n",
    "    \"nerdy\",\n",
    "    \"personal\",\n",
    "    \"unalike\",\n",
    "    \"alike\",\n",
    "    \"formatspecific\",\n",
    "    \"college\",\n",
    "    \"newmother\",\n",
    "]\n",
    "DATASETS2 = [\n",
    "    {\n",
    "        \"nerdy\": 1,  \n",
    "    },\n",
    "    {\n",
    "        \"personal\": 1,  \n",
    "    },\n",
    "    { # unalike\n",
    "        \"pop\": 1,  \n",
    "        \"religion\": 1,\n",
    "        \"tech\": 1\n",
    "    },\n",
    "    { # alike\n",
    "        \"tech\": 1,\n",
    "        \"nerdy\": 1,\n",
    "        \"finance\": 1,\n",
    "    },\n",
    "    { # format specific\n",
    "        \"copypasta\": 1,\n",
    "        \"nostupidquestions\": 1,\n",
    "        \"amitheasshole\": 1,\n",
    "    },\n",
    "    { # college student\n",
    "        \"ucla\": 1,\n",
    "        \"nerdy\": 1,\n",
    "        \"okbuddy\": 1,\n",
    "        # \"copypasta\": 1,\n",
    "        \"pop\": 1,\n",
    "        \"food\": 1,\n",
    "        \"animals\": 1,\n",
    "    },\n",
    "    { # new mother\n",
    "        \"pregnancy\": 1,\n",
    "        \"parenting\": 1,\n",
    "        \"baby\": 1,\n",
    "        \"food\": 1,\n",
    "        \"amitheasshole\": 1,\n",
    "        \"pop\": 1,\n",
    "        \"boomerhumor\": 1,\n",
    "    },\n",
    "]\n",
    "\n",
    "TRAIN_SIZES = [\n",
    "    10, 20, 50, 100, 250, 500, 1000,2000\n",
    "]\n",
    "\n",
    "EXPERIMENTS = [\n",
    "    \"self defined\",\n",
    "    \"summary\",\n",
    "    \"like history\",\n",
    "    # \"fine tune\",\n",
    "    \"soft prompt\",\n",
    "]\n",
    "\n",
    "PROMPT_TOKENS = 64\n",
    "MICRO_BATCH_SIZE = 1\n",
    "GRAD_ACCUM_STEPS = 1\n",
    "LEARNING_RATE = 0.2\n",
    "NUM_TRAIN_STEPS = 1000  \n",
    "MAX_SEQ_LEN = 2048\n",
    "\n",
    "MODEL_OUTPUT_DIR = \"models\"\n",
    "GENERATED_OUTPUT_DIR = \"generated\""
   ]
  },
  {
   "cell_type": "code",
   "execution_count": 13,
   "id": "6006704d",
   "metadata": {},
   "outputs": [],
   "source": [
    "\n",
    "PROMPTS = {\n",
    "    \"self defined\": {\n",
    "        # user defines their own interests. e.g. a bio of interests\n",
    "        \"nerdy\": \"Please generate one reddit post. Here are some topics of interest: gaming, pcs, tech, mmos, rpgs, anime. Pick exactly ONE topic per post. It is critical that you stick to this exact format. DO NOT ADD ANYTHING ELSE. \\n\\ntitle: {title}\\n self_text: {self_text}\\n subreddit: {subreddit}\\n\",\n",
    "        \"personal\": \"Please generate one reddit post. Here are some topics of interest: relationship advice, social issues, depression, anxiety, pregnancy, parenting, dreams. Pick exactly ONE topic per post. It is critical that you stick to this exact format. DO NOT ADD ANYTHING ELSE. \\n\\ntitle: {title}\\n self_text: {self_text}\\n subreddit: {subreddit}\\n\", \n",
    "        \"alike\": \"Please generate one reddit post. Here are some topics of interest: gaming, pcs, tech, mmos, rpgs, anime, pc building, investment advice, stocks, personal finance. Pick exactly ONE topic per post. It is critical that you stick to this exact format. DO NOT ADD ANYTHING ELSE. \\n\\ntitle: {title}\\n self_text: {self_text}\\n subreddit: {subreddit}\\n\",\n",
    "        \"unalike\": \"Please generate one reddit post. Here are some topics of interest: popular tv shows, movies, religion and spirituality, building pcs, consumer technology. Pick exactly ONE topic per post. It is critical that you stick to this exact format. DO NOT ADD ANYTHING ELSE. \\n\\ntitle: {title}\\n self_text: {self_text}\\n subreddit: {subreddit}\\n\",\n",
    "        \"formatspecific\": \"Please generate one reddit post. Here are some topics of interest: silly questions, relationship advice (am I the asshole?), humorous, often nonsensical stories designed to be copy pasted as a joke. Pick exactly ONE topic per post. It is critical that you stick to this exact format. DO NOT ADD ANYTHING ELSE. \\n\\ntitle: {title}\\n self_text: {self_text}\\n subreddit: {subreddit}\\n\",\n",
    "        \"college\": \"Please generate one reddit post. Here are some topics of interest: ucla, college life, relationships, gen z humor, popular tv shows, movies, gaming, pcs, tech, mmos, rpgs, anime, cooking, food, cats, dogs, pets. Pick exactly ONE topic per post. It is critical that you stick to this exact format. DO NOT ADD ANYTHING ELSE. \\n\\ntitle: {title}\\n self_text: {self_text}\\n subreddit: {subreddit}\\n\",\n",
    "        \"newmother\": \"Please generate one reddit post. Here are some topics of interest: pregnancy, parenting, babies, cooking, food, personal relationships, popular tv shows, movies, jokes, puns. Pick exactly ONE topic per post. It is critical that you stick to this exact format. DO NOT ADD ANYTHING ELSE. \\n\\ntitle: {title}\\n self_text: {self_text}\\n subreddit: {subreddit}\\n\",\n",
    "    },\n",
    "    \"fine tune\": \"Please generate one reddit post. Use this format. \\n\\ntitle: {title}\\n self_text: {self_text}\\n subreddit: {subreddit}\\n\",\n",
    "    \"soft prompt\": \"Please generate one reddit post. Use this format. \\n\\ntitle: {title}\\n self_text: {self_text}\\n subreddit: {subreddit}\\n\",\n",
    "    \"summary\": \"Error\",\n",
    "    \"like history\": \"Error\",\n",
    "}"
   ]
  },
  {
   "cell_type": "code",
   "execution_count": 14,
   "id": "c396dbae",
   "metadata": {},
   "outputs": [],
   "source": [
    "\n",
    "def __load_posts(dataset):\n",
    "    posts = load_datasets_proportional_objects(dataset, 100)\n",
    "    posts_str = \"\"\n",
    "    for post in posts:\n",
    "        posts_str += f\"title: {post['title']}\\nself_text: {post['self_text']}\\nsubreddit: {post['subreddit']}\\n\\n\"\n",
    "    return posts_str\n",
    "\n",
    "def generate_summarized_prompt(client, dataset):   \n",
    "    # read in 100 posts from json dataset\n",
    "    posts_str = __load_posts(dataset)\n",
    "        \n",
    "    summary_prompt = f\"\"\"Based on the following posts that a user has liked, generate a summary of the user's interests.\n",
    "    {posts_str}\n",
    "    \"\"\"\n",
    "    \n",
    "    # summarize posts\n",
    "    response = client.responses.create(\n",
    "        model=\"gpt-5\",\n",
    "        input=summary_prompt\n",
    "    )\n",
    "    \n",
    "    summary = response.output_text\n",
    "    \n",
    "    prompt = f\"Please generate one reddit post. Here is a summary of the user's interests:{summary}\\n Pick exactly ONE topic per post.\\n \"\n",
    "    \n",
    "    prompt += \"It is critical that you stick to this exact format. DO NOT ADD ANYTHING ELSE. \\n\\ntitle: {title}\\n self_text: {self_text}\\n subreddit: {subreddit}\\n\"\n",
    "    \n",
    "    return prompt\n",
    "\n",
    "def generate_like_history_prompt(client, dataset):\n",
    "    posts_str = __load_posts(dataset)\n",
    "    \n",
    "    prompt = f\"Please generate one reddit post similar to the following posts:\\n{posts_str}\\n Pick exactly ONE topic per post.\"\n",
    "    \n",
    "    prompt += \"It is critical that you stick to this exact format. DO NOT ADD ANYTHING ELSE. \\n\\ntitle: {title}\\n self_text: {self_text}\\n subreddit: {subreddit}\\n\"\n",
    "    \n",
    "    return prompt"
   ]
  },
  {
   "cell_type": "markdown",
   "id": "cf6f9a65",
   "metadata": {},
   "source": [
    "### testing..."
   ]
  },
  {
   "cell_type": "code",
   "execution_count": 15,
   "id": "7a9f9210",
   "metadata": {},
   "outputs": [],
   "source": [
    "# # single test\n",
    "\n",
    "# model_name = MODELS[0]\n",
    "# dataset_name = DATASET1_NAMES[0]\n",
    "# dataset_dict = DATASETS1[0]\n",
    "# train_size = TRAIN_SIZES[3]\n",
    "# print(model_name, dataset_name, train_size)\n",
    "\n",
    "# # load data + model\n",
    "# login()\n",
    "# model, tokenizer = load_model(model_name)\n",
    "# examples = load_datasets_proportional(dataset_dict, train_size, PROMPTS[\"soft prompt\"]) \n",
    "# train_ds = preprocess_dataset(examples, tokenizer)"
   ]
  },
  {
   "cell_type": "code",
   "execution_count": 16,
   "id": "90ef0daf",
   "metadata": {},
   "outputs": [],
   "source": [
    "# soft_output_dir = f\"{MODEL_OUTPUT_DIR}/soft_prompts/soft_prompt_{model_name}_{dataset_name}_{train_size}\" \n",
    "\n",
    "# # initialize peft model\n",
    "# peft_model = init_peft_model(model, model_name)\n"
   ]
  },
  {
   "cell_type": "code",
   "execution_count": 17,
   "id": "08a8fc88",
   "metadata": {},
   "outputs": [],
   "source": [
    "\n",
    "# # train soft prompt\n",
    "# train_soft_prompt(peft_model, tokenizer, train_ds, NUM_TRAIN_STEPS, soft_output_dir)"
   ]
  },
  {
   "cell_type": "code",
   "execution_count": 18,
   "id": "c4e54cf6",
   "metadata": {},
   "outputs": [],
   "source": [
    "# # generate posts\n",
    "\n",
    "# from pathlib import Path\n",
    "\n",
    "# soft_output_dir = f\"{MODEL_OUTPUT_DIR}/soft_prompts/soft_prompt_{model_name}_{dataset_name}_{train_size}\" \n",
    "\n",
    "# # load peft model\n",
    "# peft_model = apply_peft_adapter(model, soft_output_dir)\n",
    "\n",
    "# out_path = Path(f\"{GENERATED_OUTPUT_DIR}/train_size_ablation/{model_name}_{dataset_name}_{train_size}.json\")\n",
    "# out_path.parent.mkdir(parents=True, exist_ok=True)\n",
    "\n",
    "# posts = collect_posts(1, PROMPTS[\"soft prompt\"], peft_model, tokenizer)\n",
    "# print(posts)\n",
    "# # write_posts_json(out_path, posts)"
   ]
  },
  {
   "cell_type": "code",
   "execution_count": 19,
   "id": "41774609",
   "metadata": {},
   "outputs": [],
   "source": [
    "# # test unload \n",
    "# model = peft_model.unload()\n",
    "# posts = collect_posts(1, PROMPTS[\"soft prompt\"], model, tokenizer)\n",
    "# print(posts)\n"
   ]
  },
  {
   "cell_type": "code",
   "execution_count": 20,
   "id": "67fe6a91",
   "metadata": {},
   "outputs": [],
   "source": [
    "# test summary prompt\n",
    "# from openai import OpenAI\n",
    "# import os\n",
    "# import dotenv\n",
    "\n",
    "# dotenv.load_dotenv()\n",
    "\n",
    "# client = OpenAI()\n",
    "# prompt = generate_summarized_prompt(client, DATASETS2[5])\n",
    "# print(prompt)\n",
    "\n"
   ]
  },
  {
   "cell_type": "code",
   "execution_count": 21,
   "id": "ee7eb6db",
   "metadata": {},
   "outputs": [],
   "source": [
    "# prompt = generate_like_history_prompt(client, DATASETS2[5])\n",
    "# print(prompt)"
   ]
  },
  {
   "cell_type": "code",
   "execution_count": 22,
   "id": "85eb4aad",
   "metadata": {},
   "outputs": [],
   "source": [
    "# # test self defined prompt\n",
    "# from openai import OpenAI\n",
    "# import os, dotenv\n",
    "\n",
    "# dotenv.load_dotenv()\n",
    "\n",
    "# client = OpenAI()\n",
    "# model, tokenizer = load_model(MODELS[0])\n"
   ]
  },
  {
   "cell_type": "code",
   "execution_count": 23,
   "id": "af1da846",
   "metadata": {},
   "outputs": [],
   "source": [
    "# prompt = generate_like_history_prompt(client, DATASETS2[5])\n",
    "# print(prompt)"
   ]
  },
  {
   "cell_type": "code",
   "execution_count": 24,
   "id": "23e5e495",
   "metadata": {},
   "outputs": [],
   "source": [
    "# post = generate_post(prompt, model, tokenizer)\n",
    "# print(post)"
   ]
  },
  {
   "cell_type": "markdown",
   "id": "0f7c7088",
   "metadata": {},
   "source": [
    "### Pipelines"
   ]
  },
  {
   "cell_type": "code",
   "execution_count": null,
   "id": "ffd32687",
   "metadata": {},
   "outputs": [],
   "source": [
    "from tqdm.auto import tqdm\n",
    "\n",
    "login()\n",
    "\n",
    "# training size ablation\n",
    "for model_name in tqdm(MODELS, desc=\"Models\"):\n",
    "    if model_name == \"gpt-5\":\n",
    "        continue\n",
    "    \n",
    "    model, tokenizer = load_model(model_name)\n",
    "\n",
    "    for dataset_name, dataset_dict in tqdm(zip(DATASET1_NAMES, DATASETS1), total=len(DATASETS1), desc=\"Datasets1\"):\n",
    "        for train_size in tqdm(TRAIN_SIZES, desc=\"Train sizes\"):\n",
    "            soft_output_dir = f\"{MODEL_OUTPUT_DIR}/soft_prompts/{model_name}/{dataset_name}/{train_size}\"\n",
    "            \n",
    "            # check if soft prompt exists\n",
    "            if not os.path.exists(soft_output_dir):\n",
    "                examples = load_datasets_proportional(dataset_dict, train_size, PROMPTS[\"soft prompt\"])\n",
    "                train_ds = preprocess_dataset(examples, tokenizer)\n",
    "                \n",
    "                peft_model = init_peft_model(model, model_name)\n",
    "                train_soft_prompt(peft_model, tokenizer, train_ds, NUM_TRAIN_STEPS, soft_output_dir)\n",
    "            else:\n",
    "                print(f\"Soft prompt {soft_output_dir} exists, skipping training\")\n",
    "\n",
    "            # apply soft prompt to model\n",
    "            peft_model = apply_peft_adapter(model, soft_output_dir)\n",
    "            \n",
    "            # generate posts\n",
    "            out_path = f\"{GENERATED_OUTPUT_DIR}/train_size_ablation/{model_name}/{dataset_name}/{train_size}.json\"\n",
    "            \n",
    "            # Check if output file already exists and has posts\n",
    "            out_path_obj = Path(out_path)\n",
    "            out_path_obj.parent.mkdir(parents=True, exist_ok=True)\n",
    "            \n",
    "            if out_path_obj.exists():\n",
    "                try:\n",
    "                    with open(out_path_obj, 'r') as f:\n",
    "                        existing_posts = json.load(f)\n",
    "                    if existing_posts:  # Skip if file has posts\n",
    "                        print(f\"Output file {out_path} already exists with posts, skipping generation\")\n",
    "                        continue\n",
    "                except (json.JSONDecodeError, Exception):\n",
    "                    print(f\"Could not read existing file {out_path}, regenerating\")\n",
    "            \n",
    "            posts = collect_posts(100, PROMPTS[\"soft prompt\"], peft_model, tokenizer)\n",
    "            write_posts_json(out_path_obj, posts)\n",
    "        \n",
    "    \n",
    "    # unload model\n",
    "    del model\n",
    "    del tokenizer\n",
    "    torch.cuda.empty_cache()\n"
   ]
  },
  {
   "cell_type": "code",
   "execution_count": null,
   "id": "76ac63a7",
   "metadata": {},
   "outputs": [
    {
     "name": "stderr",
     "output_type": "stream",
     "text": [
      "Note: Environment variable`HF_TOKEN` is set and is the current active token independently from the token you've just configured.\n"
     ]
    },
    {
     "data": {
      "application/vnd.jupyter.widget-view+json": {
       "model_id": "122427bc77584be096a06f0f264eca14",
       "version_major": 2,
       "version_minor": 0
      },
      "text/plain": [
       "Models:   0%|          | 0/3 [00:00<?, ?it/s]"
      ]
     },
     "metadata": {},
     "output_type": "display_data"
    },
    {
     "name": "stderr",
     "output_type": "stream",
     "text": [
      "`torch_dtype` is deprecated! Use `dtype` instead!\n"
     ]
    },
    {
     "data": {
      "application/vnd.jupyter.widget-view+json": {
       "model_id": "b3851c6cd80141c2b46745d54c8c1ca5",
       "version_major": 2,
       "version_minor": 0
      },
      "text/plain": [
       "Loading checkpoint shards:   0%|          | 0/2 [00:00<?, ?it/s]"
      ]
     },
     "metadata": {},
     "output_type": "display_data"
    },
    {
     "name": "stdout",
     "output_type": "stream",
     "text": [
      "Loaded google/gemma-3-4b-it model and tokenizer\n"
     ]
    },
    {
     "data": {
      "application/vnd.jupyter.widget-view+json": {
       "model_id": "1da57d6b486e47c99a379090518d06b0",
       "version_major": 2,
       "version_minor": 0
      },
      "text/plain": [
       "Datasets2:   0%|          | 0/7 [00:00<?, ?it/s]"
      ]
     },
     "metadata": {},
     "output_type": "display_data"
    },
    {
     "data": {
      "application/vnd.jupyter.widget-view+json": {
       "model_id": "9eaf453aaef147e08b68308e398d36c0",
       "version_major": 2,
       "version_minor": 0
      },
      "text/plain": [
       "Experiments:   0%|          | 0/4 [00:00<?, ?it/s]"
      ]
     },
     "metadata": {},
     "output_type": "display_data"
    },
    {
     "name": "stdout",
     "output_type": "stream",
     "text": [
      "Output file generated/experiment_ablation/google/gemma-3-4b-it/nerdy/self defined.json already exists with posts, skipping generation\n",
      "Output file generated/experiment_ablation/google/gemma-3-4b-it/nerdy/summary.json already exists with posts, skipping generation\n",
      "Output file generated/experiment_ablation/google/gemma-3-4b-it/nerdy/like history.json already exists with posts, skipping generation\n",
      "Output file generated/experiment_ablation/google/gemma-3-4b-it/nerdy/soft prompt.json already exists with posts, skipping generation\n"
     ]
    },
    {
     "data": {
      "application/vnd.jupyter.widget-view+json": {
       "model_id": "65bf36e573ee4310aa83cc2eecc97ad5",
       "version_major": 2,
       "version_minor": 0
      },
      "text/plain": [
       "Experiments:   0%|          | 0/4 [00:00<?, ?it/s]"
      ]
     },
     "metadata": {},
     "output_type": "display_data"
    },
    {
     "name": "stdout",
     "output_type": "stream",
     "text": [
      "Output file generated/experiment_ablation/google/gemma-3-4b-it/personal/self defined.json already exists with posts, skipping generation\n",
      "Output file generated/experiment_ablation/google/gemma-3-4b-it/personal/summary.json already exists with posts, skipping generation\n",
      "Output file generated/experiment_ablation/google/gemma-3-4b-it/personal/like history.json already exists with posts, skipping generation\n",
      "Output file generated/experiment_ablation/google/gemma-3-4b-it/personal/soft prompt.json already exists with posts, skipping generation\n"
     ]
    },
    {
     "data": {
      "application/vnd.jupyter.widget-view+json": {
       "model_id": "f68b7365a14a4734a3a6221dfdb5e6e4",
       "version_major": 2,
       "version_minor": 0
      },
      "text/plain": [
       "Experiments:   0%|          | 0/4 [00:00<?, ?it/s]"
      ]
     },
     "metadata": {},
     "output_type": "display_data"
    },
    {
     "name": "stdout",
     "output_type": "stream",
     "text": [
      "Output file generated/experiment_ablation/google/gemma-3-4b-it/unalike/self defined.json already exists with posts, skipping generation\n",
      "Output file generated/experiment_ablation/google/gemma-3-4b-it/unalike/summary.json already exists with posts, skipping generation\n",
      "Output file generated/experiment_ablation/google/gemma-3-4b-it/unalike/like history.json already exists with posts, skipping generation\n",
      "Output file generated/experiment_ablation/google/gemma-3-4b-it/unalike/soft prompt.json already exists with posts, skipping generation\n"
     ]
    },
    {
     "data": {
      "application/vnd.jupyter.widget-view+json": {
       "model_id": "5f78790dd1ae48c48cd8aa030f67d64f",
       "version_major": 2,
       "version_minor": 0
      },
      "text/plain": [
       "Experiments:   0%|          | 0/4 [00:00<?, ?it/s]"
      ]
     },
     "metadata": {},
     "output_type": "display_data"
    },
    {
     "name": "stdout",
     "output_type": "stream",
     "text": [
      "Output file generated/experiment_ablation/google/gemma-3-4b-it/alike/self defined.json already exists with posts, skipping generation\n",
      "Output file generated/experiment_ablation/google/gemma-3-4b-it/alike/summary.json already exists with posts, skipping generation\n",
      "Output file generated/experiment_ablation/google/gemma-3-4b-it/alike/like history.json already exists with posts, skipping generation\n",
      "Output file generated/experiment_ablation/google/gemma-3-4b-it/alike/soft prompt.json already exists with posts, skipping generation\n"
     ]
    },
    {
     "data": {
      "application/vnd.jupyter.widget-view+json": {
       "model_id": "86fef9cf9e5d449f97efff4579c9fa24",
       "version_major": 2,
       "version_minor": 0
      },
      "text/plain": [
       "Experiments:   0%|          | 0/4 [00:00<?, ?it/s]"
      ]
     },
     "metadata": {},
     "output_type": "display_data"
    },
    {
     "name": "stdout",
     "output_type": "stream",
     "text": [
      "Output file generated/experiment_ablation/google/gemma-3-4b-it/formatspecific/self defined.json already exists with posts, skipping generation\n",
      "Output file generated/experiment_ablation/google/gemma-3-4b-it/formatspecific/summary.json already exists with posts, skipping generation\n",
      "Output file generated/experiment_ablation/google/gemma-3-4b-it/formatspecific/like history.json already exists with posts, skipping generation\n",
      "Output file generated/experiment_ablation/google/gemma-3-4b-it/formatspecific/soft prompt.json already exists with posts, skipping generation\n"
     ]
    },
    {
     "data": {
      "application/vnd.jupyter.widget-view+json": {
       "model_id": "359f65d0442d4a56822d3b2634ae6dfb",
       "version_major": 2,
       "version_minor": 0
      },
      "text/plain": [
       "Experiments:   0%|          | 0/4 [00:00<?, ?it/s]"
      ]
     },
     "metadata": {},
     "output_type": "display_data"
    },
    {
     "name": "stdout",
     "output_type": "stream",
     "text": [
      "Output file generated/experiment_ablation/google/gemma-3-4b-it/college/self defined.json already exists with posts, skipping generation\n",
      "Output file generated/experiment_ablation/google/gemma-3-4b-it/college/summary.json already exists with posts, skipping generation\n",
      "Output file generated/experiment_ablation/google/gemma-3-4b-it/college/like history.json already exists with posts, skipping generation\n",
      "Output file generated/experiment_ablation/google/gemma-3-4b-it/college/soft prompt.json already exists with posts, skipping generation\n"
     ]
    },
    {
     "data": {
      "application/vnd.jupyter.widget-view+json": {
       "model_id": "5fc7801b90c945dcb5e442d4d8d87f30",
       "version_major": 2,
       "version_minor": 0
      },
      "text/plain": [
       "Experiments:   0%|          | 0/4 [00:00<?, ?it/s]"
      ]
     },
     "metadata": {},
     "output_type": "display_data"
    },
    {
     "name": "stdout",
     "output_type": "stream",
     "text": [
      "Output file generated/experiment_ablation/google/gemma-3-4b-it/newmother/self defined.json already exists with posts, skipping generation\n",
      "Output file generated/experiment_ablation/google/gemma-3-4b-it/newmother/summary.json already exists with posts, skipping generation\n",
      "Output file generated/experiment_ablation/google/gemma-3-4b-it/newmother/like history.json already exists with posts, skipping generation\n",
      "Output file generated/experiment_ablation/google/gemma-3-4b-it/newmother/soft prompt.json already exists with posts, skipping generation\n"
     ]
    },
    {
     "data": {
      "application/vnd.jupyter.widget-view+json": {
       "model_id": "17b918a77bdb456ca07472655152774e",
       "version_major": 2,
       "version_minor": 0
      },
      "text/plain": [
       "Loading checkpoint shards:   0%|          | 0/12 [00:00<?, ?it/s]"
      ]
     },
     "metadata": {},
     "output_type": "display_data"
    },
    {
     "name": "stdout",
     "output_type": "stream",
     "text": [
      "Loaded google/gemma-3-27b-it model and tokenizer\n"
     ]
    },
    {
     "data": {
      "application/vnd.jupyter.widget-view+json": {
       "model_id": "599f7b65edc84416ae843d37cd6fed14",
       "version_major": 2,
       "version_minor": 0
      },
      "text/plain": [
       "Datasets2:   0%|          | 0/7 [00:00<?, ?it/s]"
      ]
     },
     "metadata": {},
     "output_type": "display_data"
    },
    {
     "data": {
      "application/vnd.jupyter.widget-view+json": {
       "model_id": "a79a3c390f72410e8a62a015b550d0ca",
       "version_major": 2,
       "version_minor": 0
      },
      "text/plain": [
       "Experiments:   0%|          | 0/4 [00:00<?, ?it/s]"
      ]
     },
     "metadata": {},
     "output_type": "display_data"
    },
    {
     "name": "stdout",
     "output_type": "stream",
     "text": [
      "Output file generated/experiment_ablation/google/gemma-3-27b-it/nerdy/self defined.json already exists with posts, skipping generation\n",
      "Output file generated/experiment_ablation/google/gemma-3-27b-it/nerdy/summary.json already exists with posts, skipping generation\n",
      "Output file generated/experiment_ablation/google/gemma-3-27b-it/nerdy/like history.json already exists with posts, skipping generation\n",
      "Output file generated/experiment_ablation/google/gemma-3-27b-it/nerdy/soft prompt.json already exists with posts, skipping generation\n"
     ]
    },
    {
     "data": {
      "application/vnd.jupyter.widget-view+json": {
       "model_id": "378636fbda174ccc84282c4a4e2c1385",
       "version_major": 2,
       "version_minor": 0
      },
      "text/plain": [
       "Experiments:   0%|          | 0/4 [00:00<?, ?it/s]"
      ]
     },
     "metadata": {},
     "output_type": "display_data"
    },
    {
     "name": "stdout",
     "output_type": "stream",
     "text": [
      "Output file generated/experiment_ablation/google/gemma-3-27b-it/personal/self defined.json already exists with posts, skipping generation\n",
      "Output file generated/experiment_ablation/google/gemma-3-27b-it/personal/summary.json already exists with posts, skipping generation\n",
      "Output file generated/experiment_ablation/google/gemma-3-27b-it/personal/like history.json already exists with posts, skipping generation\n",
      "Output file generated/experiment_ablation/google/gemma-3-27b-it/personal/soft prompt.json already exists with posts, skipping generation\n"
     ]
    },
    {
     "data": {
      "application/vnd.jupyter.widget-view+json": {
       "model_id": "6f99f86a70234b4ca5eddf5e81cec510",
       "version_major": 2,
       "version_minor": 0
      },
      "text/plain": [
       "Experiments:   0%|          | 0/4 [00:00<?, ?it/s]"
      ]
     },
     "metadata": {},
     "output_type": "display_data"
    },
    {
     "name": "stdout",
     "output_type": "stream",
     "text": [
      "Output file generated/experiment_ablation/google/gemma-3-27b-it/unalike/self defined.json already exists with posts, skipping generation\n",
      "Output file generated/experiment_ablation/google/gemma-3-27b-it/unalike/summary.json already exists with posts, skipping generation\n",
      "Output file generated/experiment_ablation/google/gemma-3-27b-it/unalike/like history.json already exists with posts, skipping generation\n",
      "Output file generated/experiment_ablation/google/gemma-3-27b-it/unalike/soft prompt.json already exists with posts, skipping generation\n"
     ]
    },
    {
     "data": {
      "application/vnd.jupyter.widget-view+json": {
       "model_id": "7bddbde50e8b4a619ace08d74a811dde",
       "version_major": 2,
       "version_minor": 0
      },
      "text/plain": [
       "Experiments:   0%|          | 0/4 [00:00<?, ?it/s]"
      ]
     },
     "metadata": {},
     "output_type": "display_data"
    },
    {
     "data": {
      "application/vnd.jupyter.widget-view+json": {
       "model_id": "a3b8d5611b954bf9a7bbb2623e52a76c",
       "version_major": 2,
       "version_minor": 0
      },
      "text/plain": [
       "Generating posts:   0%|          | 0/100 [00:00<?, ?it/s]"
      ]
     },
     "metadata": {},
     "output_type": "display_data"
    }
   ],
   "source": [
    "from tqdm.auto import tqdm\n",
    "from openai import OpenAI\n",
    "import os, dotenv, gc\n",
    "\n",
    "dotenv.load_dotenv()\n",
    "\n",
    "login()\n",
    "\n",
    "client = OpenAI()\n",
    "\n",
    "# experiment ablation\n",
    "for model_name in tqdm(MODELS, desc=\"Models\"):\n",
    "    if model_name == \"gpt-5\": # reload model everytime to prevent softprompt leakage\n",
    "        model = client  \n",
    "        tokenizer = None         \n",
    "    else: \n",
    "        model, tokenizer = load_model(model_name)\n",
    "    for dataset_name, dataset_dict in tqdm(zip(DATASET2_NAMES, DATASETS2), total=len(DATASETS2), desc=\"Datasets2\"):\n",
    "        for experiment in tqdm(EXPERIMENTS, desc=\"Experiments\"):\n",
    "            prompt = PROMPTS[experiment]\n",
    "            \n",
    "            out_path = f\"{GENERATED_OUTPUT_DIR}/experiment_ablation/{model_name}/{dataset_name}/{experiment}.json\"\n",
    "            \n",
    "            # Check if output file already exists and has posts\n",
    "            out_path_obj = Path(out_path)\n",
    "            out_path_obj.parent.mkdir(parents=True, exist_ok=True)\n",
    "            \n",
    "            if out_path_obj.exists():\n",
    "                try:\n",
    "                    with open(out_path_obj, 'r') as f:\n",
    "                        existing_posts = json.load(f)\n",
    "                    if existing_posts:  # Skip if file has posts\n",
    "                        print(f\"Output file {out_path} already exists with posts, skipping generation\")\n",
    "                        continue\n",
    "                except (json.JSONDecodeError, Exception):\n",
    "                    print(f\"Could not read existing file {out_path}, regenerating\")\n",
    "                    \n",
    "            \n",
    "            if experiment == \"soft prompt\":\n",
    "                if model_name == \"gpt-5\": continue\n",
    "\n",
    "                soft_output_dir = f\"{MODEL_OUTPUT_DIR}/soft_prompts/soft_prompt_{model_name}_{dataset_name}_exp\"\n",
    "                \n",
    "                # check if soft prompt exists\n",
    "                if not os.path.exists(soft_output_dir):\n",
    "                    # reset model (to avoid error)\n",
    "                    del model\n",
    "                    del tokenizer \n",
    "                    torch.cuda.empty_cache()\n",
    "                    model, tokenizer = load_model(model_name)\n",
    "                    \n",
    "                    examples = load_datasets_proportional(dataset_dict, 100, prompt)\n",
    "                    train_ds = preprocess_dataset(examples, tokenizer)\n",
    "                    peft_model = init_peft_model(model, model_name)\n",
    "                    train_soft_prompt(peft_model, tokenizer, train_ds, NUM_TRAIN_STEPS, soft_output_dir)\n",
    "                else:\n",
    "                    print(f\"Soft prompt {soft_output_dir} exists, skipping training\")\n",
    "                model = apply_peft_adapter(model, soft_output_dir)\n",
    "            elif experiment == \"fine tune\":\n",
    "                break  # skip fine tuning\n",
    "            elif experiment == \"summary\":\n",
    "                prompt = generate_summarized_prompt(client, dataset_dict)\n",
    "            elif experiment == \"like history\":\n",
    "                prompt = generate_like_history_prompt(client, dataset_dict)\n",
    "            elif experiment == \"self defined\":\n",
    "                prompt = prompt[dataset_name]\n",
    "                # print(prompt)\n",
    "\n",
    "            # generate posts\n",
    "            posts = collect_posts(100, prompt, model, tokenizer)\n",
    "            write_posts_json(out_path_obj, posts)\n",
    "            \n",
    "            if experiment == \"soft prompt\" and model_name != \"gpt-5\": # reload model to prevent softprompt leakage\n",
    "                model.to(\"cpu\")\n",
    "                del model\n",
    "                del tokenizer\n",
    "                torch.cuda.empty_cache()\n",
    "                gc.collect()\n",
    "                model, tokenizer = load_model(model_name)\n",
    "                    \n",
    "    # unload model\n",
    "    model.to(\"cpu\")\n",
    "    del model\n",
    "    del tokenizer\n",
    "    torch.cuda.empty_cache()\n",
    "    gc.collect()\n"
   ]
  },
  {
   "cell_type": "code",
   "execution_count": null,
   "id": "aecc4b43",
   "metadata": {},
   "outputs": [],
   "source": [
    "from tqdm.auto import tqdm\n",
    "\n",
    "# judging \n",
    "for model_name in tqdm(MODELS, desc=\"Models\"):\n",
    "    for dataset in tqdm(DATASETS1, desc=\"Datasets1\"):\n",
    "        for train_size in tqdm(TRAIN_SIZES, desc=\"Train sizes\"):\n",
    "            with open(f\"{GENERATED_OUTPUT_DIR}/train_size_ablation/{model_name}_{dataset}_{train_size}.json\", \"r\") as f:\n",
    "                lines = f.readlines()\n",
    "                for i in tqdm(range(0, len(lines), 3), desc=\"Posts\"):\n",
    "                    post_lines = lines[i:i+3]\n",
    "                    post = ''.join(line.strip() for line in post_lines)\n",
    "                    if post:\n",
    "                        gpt_judgement = judge_post_gpt5(post, dataset)\n",
    "                        heuristic_judgement = judge_post_heuristic(post, dataset)\n",
    "                        print(post)\n",
    "                        break\n"
   ]
  },
  {
   "cell_type": "code",
   "execution_count": null,
   "id": "d0ae4c5f",
   "metadata": {},
   "outputs": [],
   "source": [
    "from tqdm.auto import tqdm\n",
    "\n",
    "# judging \n",
    "for model_name in tqdm(MODELS, desc=\"Models\"):   \n",
    "    for dataset in tqdm(DATASETS2, desc=\"Datasets2\"):\n",
    "        for experiment in tqdm(EXPERIMENTS, desc=\"Experiments\"):\n",
    "            with open(f\"{GENERATED_OUTPUT_DIR}/experiment_ablation/{model_name}_{dataset}_{experiment}.json\", \"r\") as f:\n",
    "                lines = f.readlines()\n",
    "                for i in tqdm(range(0, len(lines), 3), desc=\"Posts\"):\n",
    "                    post_lines = lines[i:i+3]\n",
    "                    post = ''.join(line.strip() for line in post_lines)\n",
    "                    if post:\n",
    "                        gpt_judgement = judge_post_gpt5(post, dataset)\n",
    "                        heuristic_judgement = judge_post_heuristic(post, dataset)\n",
    "                        print(post)\n",
    "                        break\n"
   ]
  }
 ],
 "metadata": {
  "kernelspec": {
   "display_name": "Python 3",
   "language": "python",
   "name": "python3"
  },
  "language_info": {
   "codemirror_mode": {
    "name": "ipython",
    "version": 3
   },
   "file_extension": ".py",
   "mimetype": "text/x-python",
   "name": "python",
   "nbconvert_exporter": "python",
   "pygments_lexer": "ipython3",
   "version": "3.11.11"
  }
 },
 "nbformat": 4,
 "nbformat_minor": 5
}
