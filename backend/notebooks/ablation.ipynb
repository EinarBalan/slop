{
 "cells": [
  {
   "cell_type": "code",
   "execution_count": null,
   "id": "cb8f03ea",
   "metadata": {},
   "outputs": [],
   "source": [
    "# test unload \n",
    "# Correct way to remove a PEFT soft prompt adapter and use base model\n",
    "# If you want to keep using the PEFT-wrapped object without the adapter:\n",
    "# peft_model.disable_adapter()  # temporarily disable active adapter\n",
    "# peft_model.set_adapter(None)  # clear active adapter selection\n",
    "\n",
    "# If you want the underlying base model (non-PEFT) back:\n",
    "# model = peft_model.unload()\n",
    "# posts = collect_posts(1, PROMPTS[\"soft prompt\"], model, tokenizer)\n",
    "# print(posts)\n",
    "\n"
   ]
  },
  {
   "cell_type": "markdown",
   "id": "dc8a0981",
   "metadata": {},
   "source": [
    "# Ablation Study Results\n",
    "\n",
    "Axes\n",
    "- model (gemma-3-4b-it, gemma-3-27b-it, gpt-5)\n",
    "- manual vs judge\n",
    "- experiment (base, subreddit, summary, liked posts list, fine tuned, soft prompt (100), soft prompt(500))\n",
    "- dataset (circlejerk, jokes + puns, gaming, animals, sports, etc.)\n",
    "\n",
    "Dataset selection:\n",
    "- small\n",
    "    - okbuddy\n",
    "    - boomerhumor\n",
    "    - animals\n",
    "    - creative\n",
    "    - food\n",
    "    - religion\n",
    "- medium\n",
    "    - finance\n",
    "    - school\n",
    "    - pop\n",
    "- varied but focused: \n",
    "    - nerdy\n",
    "    - personal\n",
    "    - ucla\n",
    "    - tech\n",
    "    - school\n",
    "    - ucla\n",
    "- ultra specific: \n",
    "    - minecraft\n",
    "    - nba\n",
    "- format specific:\n",
    "    - copypasta,\n",
    "    - no stupid questions\n",
    "    - am i the asshole\n",
    "- 3 test (unalike)\n",
    "    - pop\n",
    "    - religion\n",
    "    - tech\n",
    "- 3 test (alike)\n",
    "    - tech\n",
    "    - nerdy\n",
    "    - finance\n",
    "- college student\n",
    "    - ucla\n",
    "    - nerdy\n",
    "    - okbuddy\n",
    "    - copypasta\n",
    "    - pop\n",
    "    - food\n",
    "    - animals\n",
    "- new mother\n",
    "    - pregnancy\n",
    "    - parenting\n",
    "    - baby\n",
    "    - food\n",
    "    - am i the asshole\n",
    "    - pop\n",
    "    - boomerhumor\n",
    "- creative gen alpha\n",
    "    - minecraft\n",
    "    - creative\n",
    "    - food\n",
    "    - school\n",
    "    - nba\n",
    "\n",
    "### gemma-3-4b-it\n",
    "|                   | Self Defined | Summary | Like History | Fine Tune | Soft Prompt (100) | Soft Prompt (500) |\n",
    "|-------------------|-----------|---------|--------------|-----------|-------------------|-------------------|\n",
    "| Circlejerk        |           |         |              |           |                   |                   |\n",
    "| Jokes             |           |         |              |           |                   |                   |\n",
    "| Gaming            |           |         |              |           |                   |                   |\n",
    "| Animals           |           |         |              |           |                   |                   |\n",
    "| Personal          |           |         |              |           |                   |                   |\n",
    "| Personal + Gaming |           |         |              |           |                   |                   |\n",
    "\n",
    "### gemma-3-27b-it\n",
    "|                   | Self Defined | Summary | Like History | Fine Tune | Soft Prompt (100) | Soft Prompt (500) |\n",
    "|-------------------|-----------|---------|--------------|-----------|-------------------|-------------------|\n",
    "| Circlejerk        |           |         |              |           |                   |                   |\n",
    "| Jokes             |           |         |              |           |                   |                   |\n",
    "| Gaming            |           |         |              |           |                   |                   |\n",
    "| Animals           |           |         |              |           |                   |                   |\n",
    "| Personal          |           |         |              |           |                   |                   |\n",
    "| Personal + Gaming |           |         |              |           |                   |                   |\n",
    "\n",
    "### gpt-5\n",
    "|                   | Self Defined | Summary | Like History | Fine Tune | Soft Prompt (100) | Soft Prompt (500) |\n",
    "|-------------------|-----------|---------|--------------|-----------|-------------------|-------------------|\n",
    "| Circlejerk        |           |         |              |           |                   |                   |\n",
    "| Jokes             |           |         |              |           |                   |                   |\n",
    "| Gaming            |           |         |              |           |                   |                   |\n",
    "| Animals           |           |         |              |           |                   |                   |\n",
    "| Personal          |           |         |              |           |                   |                   |\n",
    "| Personal + Gaming |           |         |              |           |                   |                   |\n"
   ]
  },
  {
   "cell_type": "markdown",
   "id": "cfb2e1e5",
   "metadata": {},
   "source": [
    "## Notes during testing\n",
    "- very good alignment on tech (92)\n",
    "- very good alignment on personal (180)\n",
    "- very good alignment on nerdy (204)\n",
    "- very good alignmenton school (93)\n",
    "- bad alignment on interesting (35)\n",
    "- bad alignment on finance (57)\n",
    "- decent alignment on interesting + finance (on the finance side) (92)\n",
    "- for hyper targeted like minecraft, even 10 examples is good enough for alignment, but post topic variety goes down. ~100 is best to balance quality and training time\n",
    "- 50/50 minecraft + ucla works REALLY well\n",
    "\n",
    "it seems like ~100 samples is good enough for gemma 4b\n",
    "\n",
    "\n",
    "- 100 liked post history is much slower at inference time compared to soft prompt w/ comparable or even worse quality"
   ]
  },
  {
   "cell_type": "code",
   "execution_count": 1,
   "id": "cae67d34",
   "metadata": {},
   "outputs": [
    {
     "name": "stdout",
     "output_type": "stream",
     "text": [
      "\u001b[33mWARNING: Running pip as the 'root' user can result in broken permissions and conflicting behaviour with the system package manager, possibly rendering your system unusable. It is recommended to use a virtual environment instead: https://pip.pypa.io/warnings/venv. Use the --root-user-action option if you know what you are doing and want to suppress this warning.\u001b[0m\u001b[33m\n",
      "\u001b[0m\n",
      "\u001b[1m[\u001b[0m\u001b[34;49mnotice\u001b[0m\u001b[1;39;49m]\u001b[0m\u001b[39;49m A new release of pip is available: \u001b[0m\u001b[31;49m25.0.1\u001b[0m\u001b[39;49m -> \u001b[0m\u001b[32;49m25.2\u001b[0m\n",
      "\u001b[1m[\u001b[0m\u001b[34;49mnotice\u001b[0m\u001b[1;39;49m]\u001b[0m\u001b[39;49m To update, run: \u001b[0m\u001b[32;49mpython -m pip install --upgrade pip\u001b[0m\n",
      "Note: you may need to restart the kernel to use updated packages.\n"
     ]
    }
   ],
   "source": [
    "%pip install -qU transformers peft accelerate datasets trl einops sentencepiece bitsandbytes jinja2>=3.1.0 dotenv openai"
   ]
  },
  {
   "cell_type": "code",
   "execution_count": 2,
   "id": "baf9bfc4",
   "metadata": {},
   "outputs": [],
   "source": [
    "MODELS = [\n",
    "    \"google/gemma-3-4b-it\",\n",
    "    \"google/gemma-3-27b-it\",\n",
    "    \"gpt-5\"\n",
    "]\n",
    "\n",
    "# Load dataset categories from JSON file\n",
    "DATASETS1 = [\n",
    "    {\n",
    "    \"minecraft\": 1,  \n",
    "    },\n",
    "    {\n",
    "    \"ucla\": 1,  \n",
    "    },\n",
    "    {\n",
    "    \"nostupidquestions\": 1,  \n",
    "    },\n",
    "    {\n",
    "    \"copypasta\": 1,  \n",
    "    },\n",
    "]\n",
    "\n",
    "DATASETS2 = [\n",
    "    {\n",
    "    \"nerdy\": 1,  \n",
    "    },\n",
    "    {\n",
    "    \"personal\": 1,  \n",
    "    },\n",
    "    { # unalike\n",
    "    \"pop\": 1,  \n",
    "    \"religion\": 1,\n",
    "    \"tech\": 1\n",
    "    },\n",
    "    { # alike\n",
    "        \"tech\": 1,\n",
    "        \"nerdy\": 1,\n",
    "        \"finance\": 1,\n",
    "    },\n",
    "    { # format specific\n",
    "        \"copypasta\": 1,\n",
    "        \"nostupidquestions\": 1,\n",
    "        \"amitheasshole\": 1,\n",
    "    },\n",
    "    { # college student\n",
    "        \"ucla\": 1,\n",
    "        \"nerdy\": 1,\n",
    "        \"okbuddy\": 1,\n",
    "        \"copypasta\": 1,\n",
    "        \"pop\": 1,\n",
    "        \"food\": 1,\n",
    "        \"animals\": 1,\n",
    "    },\n",
    "    { # new mother\n",
    "        \"pregnancy\": 1,\n",
    "        \"parenting\": 1,\n",
    "        \"baby\": 1,\n",
    "        \"food\": 1,\n",
    "        \"amitheasshole\": 1,\n",
    "        \"pop\": 1,\n",
    "        \"boomerhumor\": 1,\n",
    "    },\n",
    "]\n",
    "\n",
    "TRAIN_SIZES = [\n",
    "    10, 20, 50, 100, 250, 500, 1000, 2000\n",
    "]\n",
    "\n",
    "EXPERIMENTS = [\n",
    "    \"self defined\",\n",
    "    \"summary\",\n",
    "    \"like history\",\n",
    "    \"fine tune\",\n",
    "    \"soft prompt\",\n",
    "]\n",
    "\n",
    "PROMPT_TOKENS = 64\n",
    "MICRO_BATCH_SIZE = 1\n",
    "GRAD_ACCUM_STEPS = 1\n",
    "LEARNING_RATE = 0.2\n",
    "NUM_TRAIN_STEPS = 1000  \n",
    "MAX_SEQ_LEN = 2048\n",
    "\n",
    "MODEL_OUTPUT_DIR = \"models\"\n",
    "GENERATED_OUTPUT_DIR = \"generated\""
   ]
  },
  {
   "cell_type": "markdown",
   "id": "94dabf1f",
   "metadata": {},
   "source": [
    "## Dataset Loading"
   ]
  },
  {
   "cell_type": "code",
   "execution_count": 3,
   "id": "c1f1bc1a",
   "metadata": {},
   "outputs": [],
   "source": [
    "# write a generator to lazily load dataset from json file based on dataset argument\n",
    "\n",
    "\"\"\"\n",
    "choice for sample ablation:\n",
    "    - make sure to increase max number of training steps as you go\n",
    "    - do some testing beforehand for 1000, 5000 to find good number of steps\n",
    "    - 10, 20, 50, 100, 250, 500, 1000, 5000\n",
    "    - minecraft\n",
    "    - ucla\n",
    "    - nostupidquestions   \n",
    "    - copypasta\n",
    "    - 4 * 8 = 32 soft prompts\n",
    "    \n",
    "choice (for 100 samples, or optimal from above):\n",
    "    - nerdy\n",
    "    - personal \n",
    "    - alike 3\n",
    "    - unalike 3\n",
    "    - format specific\n",
    "    - college student \n",
    "    - new mother \n",
    "    - creative gen alpha \n",
    "\"\"\"\n",
    "\n",
    "from typing import List, Dict\n",
    "import json\n",
    "import re\n",
    "import random, math\n",
    "\n",
    "def load_datasets_proportional_objects(datasets_dict: Dict[str, float], total_posts: int) -> List[dict]:\n",
    "    examples: List[dict] = []\n",
    "    \n",
    "    # Get total of all values in datasets_dict\n",
    "    total_proportion = sum(datasets_dict.values())\n",
    "    for dataset_name, proportion in datasets_dict.items():\n",
    "        # Calculate number of posts for this dataset\n",
    "        factor = proportion / total_proportion\n",
    "        target_count = math.ceil(total_posts * factor)\n",
    "        print(f\"Loading {target_count} posts from {dataset_name} dataset ({factor*100:.1f}%)\")\n",
    "        \n",
    "        # Load sampled Reddit posts from JSON created by sample-posts.py\n",
    "        # Each item is a dict with keys: title, subreddit, self_text\n",
    "        try:\n",
    "            with open(f\"../../datasets/{dataset_name}.json\", \"r\", encoding=\"utf-8\") as f:\n",
    "                reddit_posts: List[dict] = json.load(f)\n",
    "        except FileNotFoundError:\n",
    "            print(f\"Warning: Could not find dataset file for {dataset_name}\")\n",
    "            continue\n",
    "        \n",
    "        # Filter valid posts (must have self_text and no image_url)\n",
    "        valid_posts = []\n",
    "        for p in reddit_posts:\n",
    "            title = p.get(\"title\", \"\")\n",
    "            self_text = p.get(\"self_text\", \"\")\n",
    "            image_url = p.get(\"image_url\", \"\")\n",
    "            \n",
    "            if self_text and not image_url:\n",
    "                valid_posts.append(p)\n",
    "        \n",
    "        print(f\"Found {len(valid_posts)} valid posts in {dataset_name}\")\n",
    "        \n",
    "        # Sample the target number of posts\n",
    "        if len(valid_posts) >= target_count:\n",
    "            # Randomly sample target_count posts\n",
    "            sampled_posts = random.sample(valid_posts, target_count)\n",
    "        else:\n",
    "            # Use all available posts if we don't have enough\n",
    "            print(f\"Warning: Only {len(valid_posts)} posts available, using all\")\n",
    "            sampled_posts = valid_posts\n",
    "        \n",
    "        examples.extend(sampled_posts)\n",
    "    \n",
    "    # Shuffle the final dataset to mix posts from different datasets\n",
    "    random.shuffle(examples)\n",
    "    \n",
    "    print(f\"Loaded dataset {datasets_dict} with {total_posts} posts\")\n",
    "    return examples\n",
    "\n",
    "def load_datasets_proportional(datasets_dict: Dict[str, float], total_posts: int, prompt: str) -> List[dict]:\n",
    "    \"\"\"\n",
    "    Load datasets with proportional sampling.\n",
    "    \n",
    "    Args:\n",
    "        datasets_dict: Dictionary mapping dataset names to their proportions, e.g. {\"minecraft\": 1, \"ucla\": 1} will load half minecraft, half ucla\n",
    "        total_posts: Total number of posts desired across all datasets\n",
    "    \n",
    "    Returns:\n",
    "        List of examples in the format: {\"instruction\": PROMPT, \"output\": post}\n",
    "    \"\"\"\n",
    "    \n",
    "    examples: List[dict] = []\n",
    "    \n",
    "    # Get total of all values in datasets_dict\n",
    "    total_proportion = sum(datasets_dict.values())\n",
    "    for dataset_name, proportion in datasets_dict.items():\n",
    "        # Calculate number of posts for this dataset\n",
    "        factor = proportion / total_proportion\n",
    "        target_count = math.ceil(total_posts * factor)\n",
    "        print(f\"Loading {target_count} posts from {dataset_name} dataset ({factor*100:.1f}%)\")\n",
    "        \n",
    "        # Load sampled Reddit posts from JSON created by sample-posts.py\n",
    "        # Each item is a dict with keys: title, subreddit, self_text\n",
    "        try:\n",
    "            with open(f\"../../datasets/{dataset_name}.json\", \"r\", encoding=\"utf-8\") as f:\n",
    "                reddit_posts: List[dict] = json.load(f)\n",
    "        except FileNotFoundError:\n",
    "            print(f\"Warning: Could not find dataset file for {dataset_name}\")\n",
    "            continue\n",
    "        \n",
    "        # Filter valid posts (must have self_text and no image_url)\n",
    "        valid_posts = []\n",
    "        for p in reddit_posts:\n",
    "            title = p.get(\"title\", \"\")\n",
    "            self_text = p.get(\"self_text\", \"\")\n",
    "            image_url = p.get(\"image_url\", \"\")\n",
    "            \n",
    "            if self_text and not image_url:\n",
    "                subreddit = p.get(\"subreddit\", \"\")\n",
    "                subreddit = re.sub(r\"\\s*(/)?r/\", \"r/\", subreddit)\n",
    "                post = f\"title: {title}\\nself_text: {self_text}\\nsubreddit: {subreddit}\"\n",
    "                valid_posts.append({\"instruction\": prompt, \"output\": post})\n",
    "        \n",
    "        print(f\"Found {len(valid_posts)} valid posts in {dataset_name}\")\n",
    "        \n",
    "        # Sample the target number of posts\n",
    "        if len(valid_posts) >= target_count:\n",
    "            # Randomly sample target_count posts\n",
    "            sampled_posts = random.sample(valid_posts, target_count)\n",
    "        else:\n",
    "            # Use all available posts if we don't have enough\n",
    "            print(f\"Warning: Only {len(valid_posts)} posts available, using all\")\n",
    "            sampled_posts = valid_posts\n",
    "        \n",
    "        examples.extend(sampled_posts)\n",
    "    \n",
    "    # Shuffle the final dataset to mix posts from different datasets\n",
    "    random.shuffle(examples)\n",
    "    \n",
    "    print(f\"Loaded dataset {datasets_dict} with {total_posts} posts\")\n",
    "    return examples\n",
    "\n",
    "# Example usage - modify these values as needed\n",
    "# datasets_dict = {\n",
    "#     \"ucla\": 0.5,  # 100% minecraft posts\n",
    "#     \"minecraft\": 0.5,  \n",
    "# }\n",
    "# total_posts = 100  # Total number of posts desired\n",
    "\n",
    "# examples = load_datasets_proportional(datasets_dict, total_posts, \"prompt\")\n",
    "\n",
    "# print(f\"Total number of examples loaded: {len(examples)}\")\n",
    "# if examples:\n",
    "#     print(\"Sample example:\")\n",
    "#     print(examples[0])\n"
   ]
  },
  {
   "cell_type": "code",
   "execution_count": 4,
   "id": "e5b9c0e7",
   "metadata": {},
   "outputs": [],
   "source": [
    "# Preprocess instruction/output dataset\n",
    "from datasets import Dataset\n",
    "\n",
    "def preprocess_dataset(examples, tokenizer):\n",
    "    # Build HF dataset from examples [{\"instruction\", \"output\"}]\n",
    "    dataset = Dataset.from_list(examples)\n",
    "\n",
    "    # Tokenize instruction with chat template, and supervise only the output tokens\n",
    "    def tokenize_io(sample):\n",
    "        # Build chat prompt prefix for the user instruction\n",
    "        messages = [{\"role\": \"user\", \"content\": sample[\"instruction\"]}]\n",
    "        prompt_text = tokenizer.apply_chat_template(\n",
    "            messages,\n",
    "            tokenize=False,\n",
    "            add_generation_prompt=True,\n",
    "        )\n",
    "\n",
    "        prompt_ids = tokenizer(prompt_text, add_special_tokens=False)[\"input_ids\"]\n",
    "        output_ids = tokenizer(sample[\"output\"], add_special_tokens=False)[\"input_ids\"]\n",
    "        eos_id = tokenizer.eos_token_id\n",
    "\n",
    "        input_ids = prompt_ids + output_ids + ([eos_id] if eos_id is not None else [])\n",
    "        labels = ([-100] * len(prompt_ids)) + output_ids + ([eos_id] if eos_id is not None else [])\n",
    "        attention_mask = [1] * len(input_ids)\n",
    "\n",
    "        # Truncate from the left if too long, keeping alignment between inputs and labels\n",
    "        if len(input_ids) > MAX_SEQ_LEN:\n",
    "            input_ids = input_ids[-MAX_SEQ_LEN:]\n",
    "            labels = labels[-MAX_SEQ_LEN:]\n",
    "            attention_mask = attention_mask[-MAX_SEQ_LEN:]\n",
    "\n",
    "        return {\n",
    "            \"input_ids\": input_ids,\n",
    "            \"attention_mask\": attention_mask,\n",
    "            \"labels\": labels,\n",
    "        }\n",
    "\n",
    "    train_ds = dataset.map(tokenize_io, remove_columns=dataset.column_names)\n",
    "    print(\"Preprocessed dataset...\")\n",
    "    return train_ds\n"
   ]
  },
  {
   "cell_type": "markdown",
   "id": "30a47b18",
   "metadata": {},
   "source": [
    "## Model Loading"
   ]
  },
  {
   "cell_type": "code",
   "execution_count": 5,
   "id": "ef940c71",
   "metadata": {},
   "outputs": [],
   "source": [
    "from huggingface_hub import login as huggingface_login\n",
    "import torch\n",
    "from transformers import AutoTokenizer, AutoModelForCausalLM\n",
    "import dotenv, os\n",
    "from peft import PeftModel, PromptTuningConfig, PromptTuningInit, get_peft_model, TaskType\n",
    "\n",
    "def login():\n",
    "    dotenv.load_dotenv()\n",
    "    huggingface_login(token=os.getenv(\"HUGGING_FACE_HUB_TOKEN\"))\n",
    "\n",
    "def load_model(model_name: str):\n",
    "    bf16 = torch.cuda.is_available() and torch.cuda.get_device_capability(0)[0] >= 8\n",
    "    tokenizer = AutoTokenizer.from_pretrained(model_name, use_fast=True)\n",
    "    if tokenizer.pad_token is None:\n",
    "        tokenizer.pad_token = tokenizer.eos_token\n",
    "\n",
    "    model = AutoModelForCausalLM.from_pretrained(\n",
    "        model_name,\n",
    "        torch_dtype=torch.bfloat16 if bf16 else torch.float16,\n",
    "        device_map=\"auto\",\n",
    "        low_cpu_mem_usage=True,\n",
    "    )\n",
    "    \n",
    "    print(f\"Loaded {model_name} model and tokenizer\")\n",
    "    return model, tokenizer\n",
    "\n",
    "def init_peft_model(model, model_name: str):\n",
    "    config = PromptTuningConfig(\n",
    "        task_type=TaskType.CAUSAL_LM,\n",
    "        prompt_tuning_init=PromptTuningInit.TEXT,\n",
    "        num_virtual_tokens=PROMPT_TOKENS,\n",
    "        prompt_tuning_init_text=\"Generate a reddit post.\",\n",
    "        tokenizer_name_or_path=model_name,\n",
    "    )\n",
    "    return get_peft_model(model, config)\n",
    "\n",
    "def apply_peft_adapter(base_model, adapter_name: str):\n",
    "    model = PeftModel.from_pretrained(base_model, adapter_name)\n",
    "    model.eval()\n",
    "    return model\n",
    "\n"
   ]
  },
  {
   "cell_type": "markdown",
   "id": "79ad76af",
   "metadata": {},
   "source": [
    "## Soft Prompt Training"
   ]
  },
  {
   "cell_type": "code",
   "execution_count": 6,
   "id": "59fb50db",
   "metadata": {},
   "outputs": [],
   "source": [
    "# iterate through models, datasets, and dataset sizes to create soft prompt adapters for each \n",
    "# 4 * 8 = 32 soft prompts\n",
    "# 2 * 8 = 16 adapters\n",
    "# take note of training time, adapter size\n",
    "\n",
    "import math\n",
    "from torch.utils.data import DataLoader\n",
    "from transformers import get_linear_schedule_with_warmup\n",
    "from torch.optim import AdamW\n",
    "\n",
    "def train_soft_prompt(model, tokenizer, train_ds, train_steps, output_dir):\n",
    "    def collate_fn(features):\n",
    "        pad_id = tokenizer.pad_token_id\n",
    "        batch_size = len(features)\n",
    "        seq_lens = [len(f[\"input_ids\"]) for f in features]\n",
    "        max_len = max(seq_lens)\n",
    "\n",
    "        input_ids = torch.full((batch_size, max_len), pad_id, dtype=torch.long)\n",
    "        attention_mask = torch.zeros((batch_size, max_len), dtype=torch.long)\n",
    "        labels = torch.full((batch_size, max_len), -100, dtype=torch.long)\n",
    "\n",
    "        for i, f in enumerate(features):\n",
    "            ids = torch.tensor(f[\"input_ids\"], dtype=torch.long)\n",
    "            attn = torch.tensor(f[\"attention_mask\"], dtype=torch.long)\n",
    "            labs = torch.tensor(f[\"labels\"], dtype=torch.long)\n",
    "            L = ids.size(0)\n",
    "            input_ids[i, :L] = ids\n",
    "            attention_mask[i, :L] = attn\n",
    "            labels[i, :L] = labs\n",
    "\n",
    "        return {\"input_ids\": input_ids, \"attention_mask\": attention_mask, \"labels\": labels}\n",
    "\n",
    "\n",
    "    train_loader = DataLoader(\n",
    "        train_ds,\n",
    "        batch_size=MICRO_BATCH_SIZE,\n",
    "        shuffle=True,\n",
    "        collate_fn=collate_fn,\n",
    "    )\n",
    "\n",
    "    optimizer = AdamW(model.parameters(), lr=LEARNING_RATE)\n",
    "    # Total optimizer steps we intend to take\n",
    "    total_optim_steps = train_steps\n",
    "    num_warmup_steps = max(1, int(0.1 * total_optim_steps))\n",
    "    scheduler = get_linear_schedule_with_warmup(\n",
    "        optimizer,\n",
    "        num_warmup_steps=num_warmup_steps,\n",
    "        num_training_steps=total_optim_steps,\n",
    "    )\n",
    "\n",
    "    model.train()\n",
    "\n",
    "\n",
    "    device = torch.device(\"cuda:0\" if torch.cuda.is_available() else \"cpu\")\n",
    "    model = model.to(device)\n",
    "    model_device = device\n",
    "\n",
    "    print(f\"Training on device: {device}\")\n",
    "\n",
    "    optimizer.zero_grad()\n",
    "    optim_step = 0\n",
    "    accumulated = 0\n",
    "    running_loss = 0.0\n",
    "    for epoch in range(10):  # repeat over dataset until reaching desired steps\n",
    "        for batch in train_loader:\n",
    "            batch = {k: v.to(model_device) for k, v in batch.items()}\n",
    "            outputs = model(**batch)\n",
    "            loss = outputs.loss\n",
    "            (loss / GRAD_ACCUM_STEPS).backward()\n",
    "            running_loss += loss.item()\n",
    "            accumulated += 1\n",
    "            if accumulated % GRAD_ACCUM_STEPS == 0:\n",
    "                optimizer.step()\n",
    "                scheduler.step()\n",
    "                optimizer.zero_grad()\n",
    "                if optim_step % 10 == 0:\n",
    "                    print(f\"step {optim_step} loss {running_loss / GRAD_ACCUM_STEPS:.4f}\")\n",
    "                running_loss = 0.0\n",
    "                optim_step += 1\n",
    "                if optim_step >= total_optim_steps:\n",
    "                    break\n",
    "        if optim_step >= total_optim_steps:\n",
    "            break\n",
    "\n",
    "    model.save_pretrained(output_dir)\n",
    "    print(\"Saved prompt adapter to:\", output_dir)"
   ]
  },
  {
   "cell_type": "markdown",
   "id": "656d588b",
   "metadata": {},
   "source": [
    "## Fine Tuning"
   ]
  },
  {
   "cell_type": "code",
   "execution_count": 7,
   "id": "8bb228af",
   "metadata": {},
   "outputs": [],
   "source": [
    "# iterate through models, datasets \n",
    "# 2 * 8 = 16 LORA fine tuned models\n",
    "# take note of training time, model size\n",
    "\n",
    "def train_fine_tune_lora(model, tokenizer, train_ds, train_steps, output_dir):\n",
    "    pass\n"
   ]
  },
  {
   "cell_type": "markdown",
   "id": "eb66d8d1",
   "metadata": {},
   "source": [
    "## Generate posts"
   ]
  },
  {
   "cell_type": "code",
   "execution_count": null,
   "id": "b2d20ea7",
   "metadata": {},
   "outputs": [],
   "source": [
    "# 100 posts per cell \n",
    "# look into inference parallelism\n",
    "# iterate through models, experiments, datasets\n",
    "# write each generated post to json file indicating model, experiment, dataset\n",
    "from openai import OpenAI\n",
    "\n",
    "def generate_post(prompt, model, tokenizer):\n",
    "    if isinstance(model, OpenAI):\n",
    "        response = model.responses.create(\n",
    "            model=\"gpt-5\",\n",
    "            input=prompt\n",
    "        )\n",
    "        return response.output_text\n",
    "    \n",
    "    # if not openai, use normal pipeline\n",
    "    messages = [\n",
    "        {\"role\": \"user\", \"content\": prompt},\n",
    "    ]\n",
    "\n",
    "    inputs = tokenizer.apply_chat_template(\n",
    "        messages,\n",
    "        add_generation_prompt=True,\n",
    "        tokenize=True,\n",
    "        return_tensors=\"pt\",\n",
    "        return_dict=True,\n",
    "    ).to(model.device)\n",
    "\n",
    "    with torch.no_grad():\n",
    "        outputs = model.generate(\n",
    "            **inputs,\n",
    "            max_new_tokens=MAX_SEQ_LEN,\n",
    "            temperature=0.7,\n",
    "            top_p=0.9,\n",
    "            do_sample=True,\n",
    "            repetition_penalty=1.1,\n",
    "        )\n",
    "    \n",
    "    # Extract the generated text and parse the post format\n",
    "    generated_text = tokenizer.decode(outputs[0][inputs[\"input_ids\"].shape[-1]:])\n",
    "    \n",
    "    # Initialize the post object\n",
    "    post_obj = {\n",
    "        \"title\": \"\",\n",
    "        \"self_text\": \"\",\n",
    "        \"subreddit\": \"\"\n",
    "    }\n",
    "    \n",
    "    # Parse fields with multiline regex so sections may span multiple lines\n",
    "    # Falls back to line-by-line parsing if regex fails to find any\n",
    "    import re\n",
    "    pattern = re.compile(\n",
    "        r\"\"\"(?imsx)\n",
    "        ^\\s*title:\\s*(?P<title>.*?)\n",
    "        (?=^\\s*(?:self_text|subreddit)\\s*:|\\Z)\n",
    "        |\n",
    "        ^\\s*self_text:\\s*(?P<self_text>.*?)\n",
    "        (?=^\\s*(?:title|subreddit)\\s*:|\\Z)\n",
    "        |\n",
    "        ^\\s*subreddit:\\s*(?P<subreddit>.*?)\n",
    "        (?=^\\s*(?:title|self_text)\\s*:|\\Z)\n",
    "        \"\"\",\n",
    "        re.DOTALL | re.MULTILINE | re.IGNORECASE,\n",
    "    )\n",
    "\n",
    "    found_any = False\n",
    "    for m in pattern.finditer(generated_text):\n",
    "        for key in (\"title\", \"self_text\", \"subreddit\"):\n",
    "            val = m.groupdict().get(key)\n",
    "            if val is not None:\n",
    "                post_obj[key] = val.strip()\n",
    "                found_any = True\n",
    "\n",
    "    if not found_any:\n",
    "        # Fallback: multiline-aware parsing by accumulating lines until next field\n",
    "        lines = generated_text.strip().split('\\n')\n",
    "        current_key = None\n",
    "        buffer = []\n",
    "        for line in lines:\n",
    "            if line.lower().startswith(\"title:\"):\n",
    "                if current_key and buffer:\n",
    "                    post_obj[current_key] = \"\\n\".join(buffer).strip()\n",
    "                current_key = \"title\"\n",
    "                buffer = [line.split(\":\", 1)[1].strip()]\n",
    "            elif line.lower().startswith(\"self_text:\"):\n",
    "                if current_key and buffer:\n",
    "                    post_obj[current_key] = \"\\n\".join(buffer).strip()\n",
    "                current_key = \"self_text\"\n",
    "                buffer = [line.split(\":\", 1)[1].strip()]\n",
    "            elif line.lower().startswith(\"subreddit:\"):\n",
    "                if current_key and buffer:\n",
    "                    post_obj[current_key] = \"\\n\".join(buffer).strip()\n",
    "                current_key = \"subreddit\"\n",
    "                buffer = [line.split(\":\", 1)[1].strip()]\n",
    "            else:\n",
    "                if current_key is not None:\n",
    "                    buffer.append(line)\n",
    "        if current_key and buffer:\n",
    "            post_obj[current_key] = \"\\n\".join(buffer).strip()\n",
    "\n",
    "    return post_obj\n"
   ]
  },
  {
   "cell_type": "markdown",
   "id": "f41960fb",
   "metadata": {},
   "source": [
    "## Judge LLM"
   ]
  },
  {
   "cell_type": "code",
   "execution_count": 9,
   "id": "d3ddc01a",
   "metadata": {},
   "outputs": [],
   "source": [
    "# judge whether each generated post adheres to dataset category, heuristic based on word content and llm judge\n",
    "\n",
    "def judge_post_gpt5(post, dataset):\n",
    "    JUDGE_PROMPTS = {\n",
    "        \"nerdy\": \"Please judge whether the following post is nerdy. \\n\\npost: {post}\\n\\n\",\n",
    "        \"personal\": \"Please judge whether the following post is personal. \\n\\npost: {post}\\n\\n\",\n",
    "        \"alike 3\": \"Please judge whether the following post is similar to the 3 posts below. \\n\\npost: {post}\\n\\n\",\n",
    "        \"unalike 3\": \"Please judge whether the following post is not similar to the 3 posts below. \\n\\npost: {post}\\n\\n\",\n",
    "        \"format specific\": \"Please judge whether the following post is formatted correctly. \\n\\npost: {post}\\n\\n\",\n",
    "        \"college student\": \"Please judge whether the following post is college student. \\n\\npost: {post}\\n\\n\",\n",
    "        \"new mother\": \"Please judge whether the following post is new mother. \\n\\npost: {post}\\n\\n\",\n",
    "        \"creative gen alpha\": \"Please judge whether the following post is creative gen alpha. \\n\\npost: {post}\\n\\n\",\n",
    "    }\n",
    "    \n",
    "\n",
    "def judge_post_heuristic(post, dataset):\n",
    "    KEYWORDS = {\n",
    "        \"nerdy\": [],\n",
    "        \"personal\": [],\n",
    "        \"alike 3\": [],\n",
    "        \"unalike 3\": [],\n",
    "        \"format specific\": [],\n",
    "        \"college student\": [],\n",
    "        \"new mother\": [],\n",
    "        \"creative gen alpha\": [],\n",
    "    }"
   ]
  },
  {
   "cell_type": "markdown",
   "id": "caad1c6b",
   "metadata": {},
   "source": [
    "## Run Pipeline"
   ]
  },
  {
   "cell_type": "code",
   "execution_count": 98,
   "id": "2d853c86",
   "metadata": {},
   "outputs": [],
   "source": [
    "# JSON output helpers\n",
    "from pathlib import Path\n",
    "import json\n",
    "import tqdm\n",
    "\n",
    "def ensure_parent_dir(path_str: str) -> Path:\n",
    "    path = Path(path_str)\n",
    "    path.parent.mkdir(parents=True, exist_ok=True)\n",
    "    return path\n",
    "\n",
    "def collect_posts(n: int, prompt: str, model, tokenizer) -> list:\n",
    "    posts = []\n",
    "    for i in tqdm(range(n), desc=\"Generating posts\"):\n",
    "        post = generate_post(prompt, model, tokenizer)\n",
    "        # print(f\"generated post {i}\")\n",
    "        posts.append(post)\n",
    "    return posts\n",
    "\n",
    "def write_posts_json(path_str: str, posts: list) -> None:\n",
    "    path = ensure_parent_dir(path_str)\n",
    "    with open(path, \"w\", encoding=\"utf-8\") as f:\n",
    "        json.dump(posts, f, ensure_ascii=False, indent=2)\n"
   ]
  },
  {
   "cell_type": "code",
   "execution_count": 19,
   "id": "fdddbe34",
   "metadata": {},
   "outputs": [],
   "source": [
    "MODELS = [\n",
    "    \"google/gemma-3-4b-it\",\n",
    "    \"google/gemma-3-27b-it\",\n",
    "    \"gpt-5\"\n",
    "]\n",
    "\n",
    "\n",
    "# Load dataset categories from JSON file\n",
    "DATASET1_NAMES = [\n",
    "    \"minecraft\",\n",
    "    \"ucla\",\n",
    "    \"nostupidquestions\",\n",
    "    \"copypasta\",\n",
    "    \"varietypack\",\n",
    "]\n",
    "DATASETS1 = [\n",
    "    {\n",
    "        \"minecraft\": 1,  \n",
    "    },\n",
    "    {\n",
    "        \"ucla\": 1,  \n",
    "    },\n",
    "    {\n",
    "        \"nostupidquestions\": 1,  \n",
    "    },\n",
    "    {\n",
    "        \"copypasta\": 1,  \n",
    "    },\n",
    "    {\n",
    "        \"nerdy\": 1,  \n",
    "        \"personal\": 1,\n",
    "        \"amitheasshole\": 1,\n",
    "        \"tech\": 1,\n",
    "        \"pop\": 1,\n",
    "        \"animals\": 1, \n",
    "        \"boomerhumor\": 1,\n",
    "        \"copypasta\": 1,\n",
    "        \"creative\": 1,\n",
    "        \"food\": 1,\n",
    "        \"nba\": 1,\n",
    "        \"religion\": 1,\n",
    "        \"school\": 1,\n",
    "        \"ucla\": 1,\n",
    "    },\n",
    "]\n",
    "\n",
    "DATASET2_NAMES = [\n",
    "    \"nerdy\",\n",
    "    \"personal\",\n",
    "    \"unalike\",\n",
    "    \"alike\",\n",
    "    \"formatspecific\",\n",
    "    \"college\",\n",
    "    \"newmother\",\n",
    "]\n",
    "DATASETS2 = [\n",
    "    {\n",
    "        \"nerdy\": 1,  \n",
    "    },\n",
    "    {\n",
    "        \"personal\": 1,  \n",
    "    },\n",
    "    { # unalike\n",
    "        \"pop\": 1,  \n",
    "        \"religion\": 1,\n",
    "        \"tech\": 1\n",
    "    },\n",
    "    { # alike\n",
    "        \"tech\": 1,\n",
    "        \"nerdy\": 1,\n",
    "        \"finance\": 1,\n",
    "    },\n",
    "    { # format specific\n",
    "        \"copypasta\": 1,\n",
    "        \"nostupidquestions\": 1,\n",
    "        \"amitheasshole\": 1,\n",
    "    },\n",
    "    { # college student\n",
    "        \"ucla\": 1,\n",
    "        \"nerdy\": 1,\n",
    "        \"okbuddy\": 1,\n",
    "        # \"copypasta\": 1,\n",
    "        \"pop\": 1,\n",
    "        \"food\": 1,\n",
    "        \"animals\": 1,\n",
    "    },\n",
    "    { # new mother\n",
    "        \"pregnancy\": 1,\n",
    "        \"parenting\": 1,\n",
    "        \"baby\": 1,\n",
    "        \"food\": 1,\n",
    "        \"amitheasshole\": 1,\n",
    "        \"pop\": 1,\n",
    "        \"boomerhumor\": 1,\n",
    "    },\n",
    "]\n",
    "\n",
    "TRAIN_SIZES = [\n",
    "    10, 20, 50, 100, 250, 500, 1000,2000\n",
    "]\n",
    "\n",
    "EXPERIMENTS = [\n",
    "    \"self defined\",\n",
    "    \"summary\",\n",
    "    \"like history\",\n",
    "    # \"fine tune\",\n",
    "    \"soft prompt\",\n",
    "]\n",
    "\n",
    "PROMPT_TOKENS = 64\n",
    "MICRO_BATCH_SIZE = 1\n",
    "GRAD_ACCUM_STEPS = 1\n",
    "LEARNING_RATE = 0.2\n",
    "NUM_TRAIN_STEPS = 1000  \n",
    "MAX_SEQ_LEN = 2048\n",
    "\n",
    "MODEL_OUTPUT_DIR = \"models\"\n",
    "GENERATED_OUTPUT_DIR = \"generated\""
   ]
  },
  {
   "cell_type": "code",
   "execution_count": 99,
   "id": "6006704d",
   "metadata": {},
   "outputs": [],
   "source": [
    "\n",
    "PROMPTS = {\n",
    "    \"self defined\": {\n",
    "        # user defines their own interests. e.g. a bio of interests\n",
    "        \"nerdy\": \"Please generate one reddit post. Here are some topics of interest: gaming, pcs, tech, mmos, rpgs, anime. Pick exactly ONE topic per post. It is critical that you stick to this exact format. DO NOT ADD ANYTHING ELSE. \\n\\ntitle: {title}\\n self_text: {self_text}\\n subreddit: {subreddit}\\n\",\n",
    "        \"personal\": \"Please generate one reddit post. Here are some topics of interest: relationship advice, social issues, depression, anxiety, pregnancy, parenting, dreams. Pick exactly ONE topic per post. It is critical that you stick to this exact format. DO NOT ADD ANYTHING ELSE. \\n\\ntitle: {title}\\n self_text: {self_text}\\n subreddit: {subreddit}\\n\", \n",
    "        \"alike\": \"Please generate one reddit post. Here are some topics of interest: gaming, pcs, tech, mmos, rpgs, anime, pc building, investment advice, stocks, personal finance. Pick exactly ONE topic per post. It is critical that you stick to this exact format. DO NOT ADD ANYTHING ELSE. \\n\\ntitle: {title}\\n self_text: {self_text}\\n subreddit: {subreddit}\\n\",\n",
    "        \"unalike\": \"Please generate one reddit post. Here are some topics of interest: popular tv shows, movies, religion and spirituality, building pcs, consumer technology. Pick exactly ONE topic per post. It is critical that you stick to this exact format. DO NOT ADD ANYTHING ELSE. \\n\\ntitle: {title}\\n self_text: {self_text}\\n subreddit: {subreddit}\\n\",\n",
    "        \"formatspecific\": \"Please generate one reddit post. Here are some topics of interest: silly questions, relationship advice (am I the asshole?), humorous, often nonsensical stories designed to be copy pasted as a joke. Pick exactly ONE topic per post. It is critical that you stick to this exact format. DO NOT ADD ANYTHING ELSE. \\n\\ntitle: {title}\\n self_text: {self_text}\\n subreddit: {subreddit}\\n\",\n",
    "        \"college\": \"Please generate one reddit post. Here are some topics of interest: ucla, college life, relationships, gen z humor, popular tv shows, movies, gaming, pcs, tech, mmos, rpgs, anime, cooking, food, cats, dogs, pets. Pick exactly ONE topic per post. It is critical that you stick to this exact format. DO NOT ADD ANYTHING ELSE. \\n\\ntitle: {title}\\n self_text: {self_text}\\n subreddit: {subreddit}\\n\",\n",
    "        \"newmother\": \"Please generate one reddit post. Here are some topics of interest: pregnancy, parenting, babies, cooking, food, personal relationships, popular tv shows, movies, jokes, puns. Pick exactly ONE topic per post. It is critical that you stick to this exact format. DO NOT ADD ANYTHING ELSE. \\n\\ntitle: {title}\\n self_text: {self_text}\\n subreddit: {subreddit}\\n\",\n",
    "    },\n",
    "    \"fine tune\": \"Please generate one reddit post. Use this format. \\n\\ntitle: {title}\\n self_text: {self_text}\\n subreddit: {subreddit}\\n\",\n",
    "    \"soft prompt\": \"Please generate one reddit post. Use this format. \\n\\ntitle: {title}\\n self_text: {self_text}\\n subreddit: {subreddit}\\n\",\n",
    "    \"summary\": \"Error\",\n",
    "    \"like history\": \"Error\",\n",
    "}"
   ]
  },
  {
   "cell_type": "code",
   "execution_count": 100,
   "id": "c396dbae",
   "metadata": {},
   "outputs": [],
   "source": [
    "\n",
    "def __load_posts(dataset):\n",
    "    posts = load_datasets_proportional_objects(dataset, 100)\n",
    "    posts_str = \"\"\n",
    "    for post in posts:\n",
    "        posts_str += f\"title: {post['title']}\\nself_text: {post['self_text']}\\nsubreddit: {post['subreddit']}\\n\\n\"\n",
    "    return posts_str\n",
    "\n",
    "def generate_summarized_prompt(client, dataset):   \n",
    "    # read in 100 posts from json dataset\n",
    "    posts_str = __load_posts(dataset)\n",
    "        \n",
    "    summary_prompt = f\"\"\"Based on the following posts that a user has liked, generate a summary of the user's interests.\n",
    "    {posts_str}\n",
    "    \"\"\"\n",
    "    \n",
    "    # summarize posts\n",
    "    response = client.responses.create(\n",
    "        model=\"gpt-5\",\n",
    "        input=summary_prompt\n",
    "    )\n",
    "    \n",
    "    summary = response.output_text\n",
    "    \n",
    "    prompt = f\"Please generate one reddit post. Here is a summary of the user's interests:{summary}\\n Pick exactly ONE topic per post.\\n \"\n",
    "    \n",
    "    prompt += \"It is critical that you stick to this exact format. DO NOT ADD ANYTHING ELSE. \\n\\ntitle: {title}\\n self_text: {self_text}\\n subreddit: {subreddit}\\n\"\n",
    "    \n",
    "    return prompt\n",
    "\n",
    "def generate_like_history_prompt(client, dataset):\n",
    "    posts_str = __load_posts(dataset)\n",
    "    \n",
    "    prompt = f\"Please generate one reddit post similar to the following posts:\\n{posts_str}\\n Pick exactly ONE topic per post.\"\n",
    "    \n",
    "    prompt += \"It is critical that you stick to this exact format. DO NOT ADD ANYTHING ELSE. \\n\\ntitle: {title}\\n self_text: {self_text}\\n subreddit: {subreddit}\\n\"\n",
    "    \n",
    "    return prompt"
   ]
  },
  {
   "cell_type": "markdown",
   "id": "cf6f9a65",
   "metadata": {},
   "source": [
    "### testing..."
   ]
  },
  {
   "cell_type": "code",
   "execution_count": null,
   "id": "7a9f9210",
   "metadata": {},
   "outputs": [
    {
     "name": "stderr",
     "output_type": "stream",
     "text": [
      "Note: Environment variable`HF_TOKEN` is set and is the current active token independently from the token you've just configured.\n"
     ]
    },
    {
     "name": "stdout",
     "output_type": "stream",
     "text": [
      "google/gemma-3-4b-it minecraft 100\n"
     ]
    },
    {
     "data": {
      "application/vnd.jupyter.widget-view+json": {
       "model_id": "449c7a58f4054f0496fce8d1f29901ff",
       "version_major": 2,
       "version_minor": 0
      },
      "text/plain": [
       "Loading checkpoint shards:   0%|          | 0/2 [00:00<?, ?it/s]"
      ]
     },
     "metadata": {},
     "output_type": "display_data"
    },
    {
     "name": "stdout",
     "output_type": "stream",
     "text": [
      "Loaded google/gemma-3-4b-it model and tokenizer\n",
      "Loading 100 posts from minecraft dataset (100.0%)\n",
      "Found 2000 valid posts in minecraft\n",
      "Loaded dataset {'minecraft': 1} with 100 posts\n"
     ]
    },
    {
     "data": {
      "application/vnd.jupyter.widget-view+json": {
       "model_id": "b7ffd83905f74fc98b22f772c8a0d865",
       "version_major": 2,
       "version_minor": 0
      },
      "text/plain": [
       "Map:   0%|          | 0/100 [00:00<?, ? examples/s]"
      ]
     },
     "metadata": {},
     "output_type": "display_data"
    },
    {
     "name": "stdout",
     "output_type": "stream",
     "text": [
      "Preprocessed dataset...\n"
     ]
    }
   ],
   "source": [
    "# # single test\n",
    "\n",
    "# model_name = MODELS[0]\n",
    "# dataset_name = DATASET1_NAMES[0]\n",
    "# dataset_dict = DATASETS1[0]\n",
    "# train_size = TRAIN_SIZES[3]\n",
    "# print(model_name, dataset_name, train_size)\n",
    "\n",
    "# # load data + model\n",
    "# login()\n",
    "# model, tokenizer = load_model(model_name)\n",
    "# examples = load_datasets_proportional(dataset_dict, train_size, PROMPTS[\"soft prompt\"]) \n",
    "# train_ds = preprocess_dataset(examples, tokenizer)"
   ]
  },
  {
   "cell_type": "code",
   "execution_count": null,
   "id": "90ef0daf",
   "metadata": {},
   "outputs": [],
   "source": [
    "# soft_output_dir = f\"{MODEL_OUTPUT_DIR}/soft_prompts/soft_prompt_{model_name}_{dataset_name}_{train_size}\" \n",
    "\n",
    "# # initialize peft model\n",
    "# peft_model = init_peft_model(model, model_name)\n"
   ]
  },
  {
   "cell_type": "code",
   "execution_count": null,
   "id": "08a8fc88",
   "metadata": {},
   "outputs": [],
   "source": [
    "\n",
    "# # train soft prompt\n",
    "# train_soft_prompt(peft_model, tokenizer, train_ds, NUM_TRAIN_STEPS, soft_output_dir)"
   ]
  },
  {
   "cell_type": "code",
   "execution_count": null,
   "id": "c4e54cf6",
   "metadata": {},
   "outputs": [
    {
     "data": {
      "application/vnd.jupyter.widget-view+json": {
       "model_id": "c368235141b84dc2b72714594c4a97f3",
       "version_major": 2,
       "version_minor": 0
      },
      "text/plain": [
       "Generating posts:   0%|          | 0/1 [00:00<?, ?it/s]"
      ]
     },
     "metadata": {},
     "output_type": "display_data"
    },
    {
     "name": "stderr",
     "output_type": "stream",
     "text": [
      "/usr/local/lib/python3.11/dist-packages/peft/peft_model.py:2066: UserWarning: Position ids are not supported for parameter efficient tuning. Ignoring position ids.\n",
      "  warnings.warn(\"Position ids are not supported for parameter efficient tuning. Ignoring position ids.\")\n"
     ]
    },
    {
     "name": "stdout",
     "output_type": "stream",
     "text": [
      "[{'title': 'I want to make a super cute mob farm for my villagers', 'self_text': 'So i have been trying to make a nice little mob farm with my villagers but they wont let me make them new items so i dont know how to fix it', 'subreddit': 'Minecraft<eos>'}]\n"
     ]
    }
   ],
   "source": [
    "# # generate posts\n",
    "\n",
    "# from pathlib import Path\n",
    "\n",
    "# soft_output_dir = f\"{MODEL_OUTPUT_DIR}/soft_prompts/soft_prompt_{model_name}_{dataset_name}_{train_size}\" \n",
    "\n",
    "# # load peft model\n",
    "# peft_model = apply_peft_adapter(model, soft_output_dir)\n",
    "\n",
    "# out_path = Path(f\"{GENERATED_OUTPUT_DIR}/train_size_ablation/{model_name}_{dataset_name}_{train_size}.json\")\n",
    "# out_path.parent.mkdir(parents=True, exist_ok=True)\n",
    "\n",
    "# posts = collect_posts(1, PROMPTS[\"soft prompt\"], peft_model, tokenizer)\n",
    "# print(posts)\n",
    "# # write_posts_json(out_path, posts)"
   ]
  },
  {
   "cell_type": "code",
   "execution_count": null,
   "id": "41774609",
   "metadata": {},
   "outputs": [],
   "source": [
    "# # test unload \n",
    "# model = peft_model.unload()\n",
    "# posts = collect_posts(1, PROMPTS[\"soft prompt\"], model, tokenizer)\n",
    "# print(posts)\n"
   ]
  },
  {
   "cell_type": "code",
   "execution_count": null,
   "id": "67fe6a91",
   "metadata": {},
   "outputs": [],
   "source": [
    "# test summary prompt\n",
    "# from openai import OpenAI\n",
    "# import os\n",
    "# import dotenv\n",
    "\n",
    "# dotenv.load_dotenv()\n",
    "\n",
    "# client = OpenAI()\n",
    "# prompt = generate_summarized_prompt(client, DATASETS2[5])\n",
    "# print(prompt)\n",
    "\n"
   ]
  },
  {
   "cell_type": "code",
   "execution_count": null,
   "id": "ee7eb6db",
   "metadata": {},
   "outputs": [],
   "source": [
    "# prompt = generate_like_history_prompt(client, DATASETS2[5])\n",
    "# print(prompt)"
   ]
  },
  {
   "cell_type": "code",
   "execution_count": null,
   "id": "85eb4aad",
   "metadata": {},
   "outputs": [
    {
     "data": {
      "application/vnd.jupyter.widget-view+json": {
       "model_id": "aa3ef360218e4b2ba7660fd78532c175",
       "version_major": 2,
       "version_minor": 0
      },
      "text/plain": [
       "Loading checkpoint shards:   0%|          | 0/2 [00:00<?, ?it/s]"
      ]
     },
     "metadata": {},
     "output_type": "display_data"
    },
    {
     "name": "stdout",
     "output_type": "stream",
     "text": [
      "Loaded google/gemma-3-4b-it model and tokenizer\n"
     ]
    }
   ],
   "source": [
    "# # test self defined prompt\n",
    "# from openai import OpenAI\n",
    "# import os, dotenv\n",
    "\n",
    "# dotenv.load_dotenv()\n",
    "\n",
    "# client = OpenAI()\n",
    "# model, tokenizer = load_model(MODELS[0])\n"
   ]
  },
  {
   "cell_type": "code",
   "execution_count": null,
   "id": "af1da846",
   "metadata": {},
   "outputs": [],
   "source": [
    "# prompt = generate_like_history_prompt(client, DATASETS2[5])\n",
    "# print(prompt)"
   ]
  },
  {
   "cell_type": "code",
   "execution_count": null,
   "id": "23e5e495",
   "metadata": {},
   "outputs": [
    {
     "name": "stdout",
     "output_type": "stream",
     "text": [
      "{'title': \"What's the best way to train a reactive dog?\", 'self_text': \"My dog barks and lunges at strangers and other dogs. I'm looking for advice on how to manage this behavior effectively.\", 'subreddit': 'puppy101<end_of_turn>'}\n"
     ]
    }
   ],
   "source": [
    "# post = generate_post(prompt, model, tokenizer)\n",
    "# print(post)"
   ]
  },
  {
   "cell_type": "markdown",
   "id": "0f7c7088",
   "metadata": {},
   "source": [
    "### Pipelines"
   ]
  },
  {
   "cell_type": "code",
   "execution_count": null,
   "id": "ffd32687",
   "metadata": {},
   "outputs": [],
   "source": [
    "from tqdm.auto import tqdm\n",
    "\n",
    "login()\n",
    "\n",
    "# training size ablation\n",
    "for model_name in tqdm(MODELS, desc=\"Models\"):\n",
    "    if model_name == \"gpt-5\":\n",
    "        continue\n",
    "    \n",
    "    model, tokenizer = load_model(model_name)\n",
    "\n",
    "    for dataset_name, dataset_dict in tqdm(zip(DATASET1_NAMES, DATASETS1), total=len(DATASETS1), desc=\"Datasets1\"):\n",
    "        for train_size in tqdm(TRAIN_SIZES, desc=\"Train sizes\"):\n",
    "            soft_output_dir = f\"{MODEL_OUTPUT_DIR}/soft_prompts/{model_name}/{dataset_name}/{train_size}\"\n",
    "            \n",
    "            # check if soft prompt exists\n",
    "            if not os.path.exists(soft_output_dir):\n",
    "                examples = load_datasets_proportional(dataset_dict, train_size, PROMPTS[\"soft prompt\"])\n",
    "                train_ds = preprocess_dataset(examples, tokenizer)\n",
    "                \n",
    "                peft_model = init_peft_model(model, model_name)\n",
    "                train_soft_prompt(peft_model, tokenizer, train_ds, NUM_TRAIN_STEPS, soft_output_dir)\n",
    "            else:\n",
    "                print(f\"Soft prompt {soft_output_dir} exists, skipping training\")\n",
    "\n",
    "            # apply soft prompt to model\n",
    "            peft_model = apply_peft_adapter(model, soft_output_dir)\n",
    "            \n",
    "            # generate posts\n",
    "            out_path = f\"{GENERATED_OUTPUT_DIR}/train_size_ablation/{model_name}/{dataset_name}/{train_size}.json\"\n",
    "            \n",
    "            # Check if output file already exists and has posts\n",
    "            out_path_obj = Path(out_path)\n",
    "            out_path_obj.parent.mkdir(parents=True, exist_ok=True)\n",
    "            \n",
    "            if out_path_obj.exists():\n",
    "                try:\n",
    "                    with open(out_path_obj, 'r') as f:\n",
    "                        existing_posts = json.load(f)\n",
    "                    if existing_posts:  # Skip if file has posts\n",
    "                        print(f\"Output file {out_path} already exists with posts, skipping generation\")\n",
    "                        continue\n",
    "                except (json.JSONDecodeError, Exception):\n",
    "                    print(f\"Could not read existing file {out_path}, regenerating\")\n",
    "            \n",
    "            posts = collect_posts(100, PROMPTS[\"soft prompt\"], peft_model, tokenizer)\n",
    "            write_posts_json(out_path_obj, posts)\n",
    "        \n",
    "    \n",
    "    # unload model\n",
    "    del model\n",
    "    del tokenizer\n",
    "    torch.cuda.empty_cache()\n"
   ]
  },
  {
   "cell_type": "code",
   "execution_count": null,
   "id": "76ac63a7",
   "metadata": {},
   "outputs": [
    {
     "name": "stderr",
     "output_type": "stream",
     "text": [
      "Note: Environment variable`HF_TOKEN` is set and is the current active token independently from the token you've just configured.\n"
     ]
    },
    {
     "data": {
      "application/vnd.jupyter.widget-view+json": {
       "model_id": "8a0eda48fd9b4f299da245c303b2d3c4",
       "version_major": 2,
       "version_minor": 0
      },
      "text/plain": [
       "Models:   0%|          | 0/3 [00:00<?, ?it/s]"
      ]
     },
     "metadata": {},
     "output_type": "display_data"
    },
    {
     "data": {
      "application/vnd.jupyter.widget-view+json": {
       "model_id": "bda45be49ff943c294d9aae24a283ad5",
       "version_major": 2,
       "version_minor": 0
      },
      "text/plain": [
       "Loading checkpoint shards:   0%|          | 0/2 [00:00<?, ?it/s]"
      ]
     },
     "metadata": {},
     "output_type": "display_data"
    },
    {
     "name": "stdout",
     "output_type": "stream",
     "text": [
      "Loaded google/gemma-3-4b-it model and tokenizer\n"
     ]
    },
    {
     "data": {
      "application/vnd.jupyter.widget-view+json": {
       "model_id": "8e05ed480a0e4d8998198e201d62998d",
       "version_major": 2,
       "version_minor": 0
      },
      "text/plain": [
       "Datasets2:   0%|          | 0/7 [00:00<?, ?it/s]"
      ]
     },
     "metadata": {},
     "output_type": "display_data"
    },
    {
     "data": {
      "application/vnd.jupyter.widget-view+json": {
       "model_id": "e849dadfc488432d8ffbc848e7644572",
       "version_major": 2,
       "version_minor": 0
      },
      "text/plain": [
       "Experiments:   0%|          | 0/4 [00:00<?, ?it/s]"
      ]
     },
     "metadata": {},
     "output_type": "display_data"
    },
    {
     "name": "stdout",
     "output_type": "stream",
     "text": [
      "Output file generated/experiment_ablation/google/gemma-3-4b-it/nerdy/self defined.json already exists with posts, skipping generation\n",
      "Output file generated/experiment_ablation/google/gemma-3-4b-it/nerdy/summary.json already exists with posts, skipping generation\n",
      "Output file generated/experiment_ablation/google/gemma-3-4b-it/nerdy/like history.json already exists with posts, skipping generation\n",
      "Output file generated/experiment_ablation/google/gemma-3-4b-it/nerdy/soft prompt.json already exists with posts, skipping generation\n"
     ]
    },
    {
     "data": {
      "application/vnd.jupyter.widget-view+json": {
       "model_id": "d1587cfd19a84f27bc7fe00e3d5ca932",
       "version_major": 2,
       "version_minor": 0
      },
      "text/plain": [
       "Experiments:   0%|          | 0/4 [00:00<?, ?it/s]"
      ]
     },
     "metadata": {},
     "output_type": "display_data"
    },
    {
     "name": "stdout",
     "output_type": "stream",
     "text": [
      "Output file generated/experiment_ablation/google/gemma-3-4b-it/personal/self defined.json already exists with posts, skipping generation\n",
      "Output file generated/experiment_ablation/google/gemma-3-4b-it/personal/summary.json already exists with posts, skipping generation\n",
      "Output file generated/experiment_ablation/google/gemma-3-4b-it/personal/like history.json already exists with posts, skipping generation\n",
      "Output file generated/experiment_ablation/google/gemma-3-4b-it/personal/soft prompt.json already exists with posts, skipping generation\n"
     ]
    },
    {
     "data": {
      "application/vnd.jupyter.widget-view+json": {
       "model_id": "ee61f5fc95b047ed9f016410235cb7a3",
       "version_major": 2,
       "version_minor": 0
      },
      "text/plain": [
       "Experiments:   0%|          | 0/4 [00:00<?, ?it/s]"
      ]
     },
     "metadata": {},
     "output_type": "display_data"
    },
    {
     "name": "stdout",
     "output_type": "stream",
     "text": [
      "Output file generated/experiment_ablation/google/gemma-3-4b-it/unalike/self defined.json already exists with posts, skipping generation\n",
      "Loading 34 posts from pop dataset (33.3%)\n",
      "Found 47 valid posts in pop\n",
      "Loading 34 posts from religion dataset (33.3%)\n",
      "Found 28 valid posts in religion\n",
      "Warning: Only 28 posts available, using all\n",
      "Loading 34 posts from tech dataset (33.3%)\n",
      "Found 150 valid posts in tech\n",
      "Loaded dataset {'pop': 1, 'religion': 1, 'tech': 1} with 100 posts\n"
     ]
    },
    {
     "data": {
      "application/vnd.jupyter.widget-view+json": {
       "model_id": "48a07e8c5bca43fa924ba19ed8ee79e6",
       "version_major": 2,
       "version_minor": 0
      },
      "text/plain": [
       "Generating posts:   0%|          | 0/100 [00:00<?, ?it/s]"
      ]
     },
     "metadata": {},
     "output_type": "display_data"
    },
    {
     "name": "stdout",
     "output_type": "stream",
     "text": [
      "Loading 34 posts from pop dataset (33.3%)\n",
      "Found 47 valid posts in pop\n",
      "Loading 34 posts from religion dataset (33.3%)\n",
      "Found 28 valid posts in religion\n",
      "Warning: Only 28 posts available, using all\n",
      "Loading 34 posts from tech dataset (33.3%)\n",
      "Found 150 valid posts in tech\n",
      "Loaded dataset {'pop': 1, 'religion': 1, 'tech': 1} with 100 posts\n"
     ]
    },
    {
     "data": {
      "application/vnd.jupyter.widget-view+json": {
       "model_id": "cf163127d06a4d94b25a42e13ee28f62",
       "version_major": 2,
       "version_minor": 0
      },
      "text/plain": [
       "Generating posts:   0%|          | 0/100 [00:00<?, ?it/s]"
      ]
     },
     "metadata": {},
     "output_type": "display_data"
    },
    {
     "name": "stdout",
     "output_type": "stream",
     "text": [
      "Soft prompt models/soft_prompts/soft_prompt_google/gemma-3-4b-it_unalike_exp exists, skipping training\n"
     ]
    },
    {
     "data": {
      "application/vnd.jupyter.widget-view+json": {
       "model_id": "797a3fa486964e16b7d2184129874f3a",
       "version_major": 2,
       "version_minor": 0
      },
      "text/plain": [
       "Generating posts:   0%|          | 0/100 [00:00<?, ?it/s]"
      ]
     },
     "metadata": {},
     "output_type": "display_data"
    },
    {
     "name": "stderr",
     "output_type": "stream",
     "text": [
      "/usr/local/lib/python3.11/dist-packages/peft/peft_model.py:2066: UserWarning: Position ids are not supported for parameter efficient tuning. Ignoring position ids.\n",
      "  warnings.warn(\"Position ids are not supported for parameter efficient tuning. Ignoring position ids.\")\n"
     ]
    },
    {
     "data": {
      "application/vnd.jupyter.widget-view+json": {
       "model_id": "a6a741d42abd4e00bc9248bf71416a76",
       "version_major": 2,
       "version_minor": 0
      },
      "text/plain": [
       "Loading checkpoint shards:   0%|          | 0/2 [00:00<?, ?it/s]"
      ]
     },
     "metadata": {},
     "output_type": "display_data"
    },
    {
     "name": "stdout",
     "output_type": "stream",
     "text": [
      "Loaded google/gemma-3-4b-it model and tokenizer\n"
     ]
    },
    {
     "data": {
      "application/vnd.jupyter.widget-view+json": {
       "model_id": "73cc0b53f41049f3a2cc31febe3f4adb",
       "version_major": 2,
       "version_minor": 0
      },
      "text/plain": [
       "Experiments:   0%|          | 0/4 [00:00<?, ?it/s]"
      ]
     },
     "metadata": {},
     "output_type": "display_data"
    },
    {
     "data": {
      "application/vnd.jupyter.widget-view+json": {
       "model_id": "7d4438be3e2b405ca9edabe1ba43f508",
       "version_major": 2,
       "version_minor": 0
      },
      "text/plain": [
       "Generating posts:   0%|          | 0/100 [00:00<?, ?it/s]"
      ]
     },
     "metadata": {},
     "output_type": "display_data"
    },
    {
     "name": "stdout",
     "output_type": "stream",
     "text": [
      "Loading 34 posts from tech dataset (33.3%)\n",
      "Found 150 valid posts in tech\n",
      "Loading 34 posts from nerdy dataset (33.3%)\n",
      "Found 271 valid posts in nerdy\n",
      "Loading 34 posts from finance dataset (33.3%)\n",
      "Found 76 valid posts in finance\n",
      "Loaded dataset {'tech': 1, 'nerdy': 1, 'finance': 1} with 100 posts\n"
     ]
    },
    {
     "data": {
      "application/vnd.jupyter.widget-view+json": {
       "model_id": "e63e172a3eb7412e836621e02d070d1f",
       "version_major": 2,
       "version_minor": 0
      },
      "text/plain": [
       "Generating posts:   0%|          | 0/100 [00:00<?, ?it/s]"
      ]
     },
     "metadata": {},
     "output_type": "display_data"
    },
    {
     "name": "stdout",
     "output_type": "stream",
     "text": [
      "Loading 34 posts from tech dataset (33.3%)\n",
      "Found 150 valid posts in tech\n",
      "Loading 34 posts from nerdy dataset (33.3%)\n",
      "Found 271 valid posts in nerdy\n",
      "Loading 34 posts from finance dataset (33.3%)\n",
      "Found 76 valid posts in finance\n",
      "Loaded dataset {'tech': 1, 'nerdy': 1, 'finance': 1} with 100 posts\n"
     ]
    },
    {
     "data": {
      "application/vnd.jupyter.widget-view+json": {
       "model_id": "afd321d8621d4f30bcecfb620bb1f08d",
       "version_major": 2,
       "version_minor": 0
      },
      "text/plain": [
       "Generating posts:   0%|          | 0/100 [00:00<?, ?it/s]"
      ]
     },
     "metadata": {},
     "output_type": "display_data"
    },
    {
     "name": "stdout",
     "output_type": "stream",
     "text": [
      "Soft prompt models/soft_prompts/soft_prompt_google/gemma-3-4b-it_alike_exp exists, skipping training\n"
     ]
    },
    {
     "data": {
      "application/vnd.jupyter.widget-view+json": {
       "model_id": "450ef94e0d5448b0a3a5b3b44c71c37d",
       "version_major": 2,
       "version_minor": 0
      },
      "text/plain": [
       "Generating posts:   0%|          | 0/100 [00:00<?, ?it/s]"
      ]
     },
     "metadata": {},
     "output_type": "display_data"
    },
    {
     "data": {
      "application/vnd.jupyter.widget-view+json": {
       "model_id": "6e6196d589684f2495747f3c4458c552",
       "version_major": 2,
       "version_minor": 0
      },
      "text/plain": [
       "Loading checkpoint shards:   0%|          | 0/2 [00:00<?, ?it/s]"
      ]
     },
     "metadata": {},
     "output_type": "display_data"
    },
    {
     "name": "stdout",
     "output_type": "stream",
     "text": [
      "Loaded google/gemma-3-4b-it model and tokenizer\n"
     ]
    },
    {
     "data": {
      "application/vnd.jupyter.widget-view+json": {
       "model_id": "cdbbcd2ad7764b278c1d835a82d6700c",
       "version_major": 2,
       "version_minor": 0
      },
      "text/plain": [
       "Experiments:   0%|          | 0/4 [00:00<?, ?it/s]"
      ]
     },
     "metadata": {},
     "output_type": "display_data"
    },
    {
     "data": {
      "application/vnd.jupyter.widget-view+json": {
       "model_id": "5c23aecd971c4daca95dbfd34e2bfee5",
       "version_major": 2,
       "version_minor": 0
      },
      "text/plain": [
       "Generating posts:   0%|          | 0/100 [00:00<?, ?it/s]"
      ]
     },
     "metadata": {},
     "output_type": "display_data"
    },
    {
     "name": "stdout",
     "output_type": "stream",
     "text": [
      "Loading 34 posts from copypasta dataset (33.3%)\n",
      "Found 2000 valid posts in copypasta\n",
      "Loading 34 posts from nostupidquestions dataset (33.3%)\n",
      "Found 2000 valid posts in nostupidquestions\n",
      "Loading 34 posts from amitheasshole dataset (33.3%)\n",
      "Found 2000 valid posts in amitheasshole\n",
      "Loaded dataset {'copypasta': 1, 'nostupidquestions': 1, 'amitheasshole': 1} with 100 posts\n"
     ]
    },
    {
     "data": {
      "application/vnd.jupyter.widget-view+json": {
       "model_id": "e98131513909464893aa9ef9632f81f2",
       "version_major": 2,
       "version_minor": 0
      },
      "text/plain": [
       "Generating posts:   0%|          | 0/100 [00:00<?, ?it/s]"
      ]
     },
     "metadata": {},
     "output_type": "display_data"
    },
    {
     "name": "stdout",
     "output_type": "stream",
     "text": [
      "Loading 34 posts from copypasta dataset (33.3%)\n",
      "Found 2000 valid posts in copypasta\n",
      "Loading 34 posts from nostupidquestions dataset (33.3%)\n",
      "Found 2000 valid posts in nostupidquestions\n",
      "Loading 34 posts from amitheasshole dataset (33.3%)\n",
      "Found 2000 valid posts in amitheasshole\n",
      "Loaded dataset {'copypasta': 1, 'nostupidquestions': 1, 'amitheasshole': 1} with 100 posts\n"
     ]
    },
    {
     "data": {
      "application/vnd.jupyter.widget-view+json": {
       "model_id": "d928b9b180dd44979db16313e8eb6e3b",
       "version_major": 2,
       "version_minor": 0
      },
      "text/plain": [
       "Generating posts:   0%|          | 0/100 [00:00<?, ?it/s]"
      ]
     },
     "metadata": {},
     "output_type": "display_data"
    },
    {
     "name": "stdout",
     "output_type": "stream",
     "text": [
      "Soft prompt models/soft_prompts/soft_prompt_google/gemma-3-4b-it_formatspecific_exp exists, skipping training\n"
     ]
    },
    {
     "data": {
      "application/vnd.jupyter.widget-view+json": {
       "model_id": "ac53511fe3bc448f99132208099d0d1b",
       "version_major": 2,
       "version_minor": 0
      },
      "text/plain": [
       "Generating posts:   0%|          | 0/100 [00:00<?, ?it/s]"
      ]
     },
     "metadata": {},
     "output_type": "display_data"
    },
    {
     "data": {
      "application/vnd.jupyter.widget-view+json": {
       "model_id": "73eb4a91c17a4893a084fb7a71fbdf57",
       "version_major": 2,
       "version_minor": 0
      },
      "text/plain": [
       "Loading checkpoint shards:   0%|          | 0/2 [00:00<?, ?it/s]"
      ]
     },
     "metadata": {},
     "output_type": "display_data"
    },
    {
     "name": "stdout",
     "output_type": "stream",
     "text": [
      "Loaded google/gemma-3-4b-it model and tokenizer\n"
     ]
    },
    {
     "data": {
      "application/vnd.jupyter.widget-view+json": {
       "model_id": "295de906521a48d49894994e769c35a9",
       "version_major": 2,
       "version_minor": 0
      },
      "text/plain": [
       "Experiments:   0%|          | 0/4 [00:00<?, ?it/s]"
      ]
     },
     "metadata": {},
     "output_type": "display_data"
    },
    {
     "data": {
      "application/vnd.jupyter.widget-view+json": {
       "model_id": "adbe449b123c4c118e8d372f5848aa38",
       "version_major": 2,
       "version_minor": 0
      },
      "text/plain": [
       "Generating posts:   0%|          | 0/100 [00:00<?, ?it/s]"
      ]
     },
     "metadata": {},
     "output_type": "display_data"
    },
    {
     "name": "stdout",
     "output_type": "stream",
     "text": [
      "Loading 17 posts from ucla dataset (16.7%)\n",
      "Found 1516 valid posts in ucla\n",
      "Loading 17 posts from nerdy dataset (16.7%)\n",
      "Found 271 valid posts in nerdy\n",
      "Loading 17 posts from okbuddy dataset (16.7%)\n",
      "Found 14 valid posts in okbuddy\n",
      "Warning: Only 14 posts available, using all\n",
      "Loading 17 posts from pop dataset (16.7%)\n",
      "Found 47 valid posts in pop\n",
      "Loading 17 posts from food dataset (16.7%)\n",
      "Found 10 valid posts in food\n",
      "Warning: Only 10 posts available, using all\n",
      "Loading 17 posts from animals dataset (16.7%)\n",
      "Found 43 valid posts in animals\n",
      "Loaded dataset {'ucla': 1, 'nerdy': 1, 'okbuddy': 1, 'pop': 1, 'food': 1, 'animals': 1} with 100 posts\n"
     ]
    },
    {
     "data": {
      "application/vnd.jupyter.widget-view+json": {
       "model_id": "8d1f6e3635804cafb61786730b8cbac9",
       "version_major": 2,
       "version_minor": 0
      },
      "text/plain": [
       "Generating posts:   0%|          | 0/100 [00:00<?, ?it/s]"
      ]
     },
     "metadata": {},
     "output_type": "display_data"
    },
    {
     "name": "stdout",
     "output_type": "stream",
     "text": [
      "Loading 17 posts from ucla dataset (16.7%)\n",
      "Found 1516 valid posts in ucla\n",
      "Loading 17 posts from nerdy dataset (16.7%)\n",
      "Found 271 valid posts in nerdy\n",
      "Loading 17 posts from okbuddy dataset (16.7%)\n",
      "Found 14 valid posts in okbuddy\n",
      "Warning: Only 14 posts available, using all\n",
      "Loading 17 posts from pop dataset (16.7%)\n",
      "Found 47 valid posts in pop\n",
      "Loading 17 posts from food dataset (16.7%)\n",
      "Found 10 valid posts in food\n",
      "Warning: Only 10 posts available, using all\n",
      "Loading 17 posts from animals dataset (16.7%)\n",
      "Found 43 valid posts in animals\n",
      "Loaded dataset {'ucla': 1, 'nerdy': 1, 'okbuddy': 1, 'pop': 1, 'food': 1, 'animals': 1} with 100 posts\n"
     ]
    },
    {
     "data": {
      "application/vnd.jupyter.widget-view+json": {
       "model_id": "054916e54536403897167a3b50c059fc",
       "version_major": 2,
       "version_minor": 0
      },
      "text/plain": [
       "Generating posts:   0%|          | 0/100 [00:00<?, ?it/s]"
      ]
     },
     "metadata": {},
     "output_type": "display_data"
    },
    {
     "data": {
      "application/vnd.jupyter.widget-view+json": {
       "model_id": "a68b6cc38ccf410685590eaec7f22b78",
       "version_major": 2,
       "version_minor": 0
      },
      "text/plain": [
       "Loading checkpoint shards:   0%|          | 0/2 [00:00<?, ?it/s]"
      ]
     },
     "metadata": {},
     "output_type": "display_data"
    },
    {
     "name": "stdout",
     "output_type": "stream",
     "text": [
      "Loaded google/gemma-3-4b-it model and tokenizer\n",
      "Loading 17 posts from ucla dataset (16.7%)\n",
      "Found 1516 valid posts in ucla\n",
      "Loading 17 posts from nerdy dataset (16.7%)\n",
      "Found 271 valid posts in nerdy\n",
      "Loading 17 posts from okbuddy dataset (16.7%)\n",
      "Found 14 valid posts in okbuddy\n",
      "Warning: Only 14 posts available, using all\n",
      "Loading 17 posts from pop dataset (16.7%)\n",
      "Found 47 valid posts in pop\n",
      "Loading 17 posts from food dataset (16.7%)\n",
      "Found 10 valid posts in food\n",
      "Warning: Only 10 posts available, using all\n",
      "Loading 17 posts from animals dataset (16.7%)\n",
      "Found 43 valid posts in animals\n",
      "Loaded dataset {'ucla': 1, 'nerdy': 1, 'okbuddy': 1, 'pop': 1, 'food': 1, 'animals': 1} with 100 posts\n"
     ]
    },
    {
     "data": {
      "application/vnd.jupyter.widget-view+json": {
       "model_id": "e874943bbaef4c1a8c1645de399b9020",
       "version_major": 2,
       "version_minor": 0
      },
      "text/plain": [
       "Map:   0%|          | 0/92 [00:00<?, ? examples/s]"
      ]
     },
     "metadata": {},
     "output_type": "display_data"
    },
    {
     "name": "stdout",
     "output_type": "stream",
     "text": [
      "Preprocessed dataset...\n",
      "Training on device: cuda:0\n",
      "step 0 loss 8.3584\n",
      "step 10 loss 6.2317\n",
      "step 20 loss 4.3772\n",
      "step 30 loss 3.4408\n",
      "step 40 loss 3.6118\n",
      "step 50 loss 3.5408\n",
      "step 60 loss 3.3013\n",
      "step 70 loss 2.2919\n",
      "step 80 loss 2.5719\n",
      "step 90 loss 2.2063\n",
      "step 100 loss 2.4378\n",
      "step 110 loss 2.2992\n",
      "step 120 loss 2.8812\n",
      "step 130 loss 2.2007\n",
      "step 140 loss 3.7829\n",
      "step 150 loss 3.3059\n",
      "step 160 loss 1.0967\n",
      "step 170 loss 3.2440\n",
      "step 180 loss 3.4062\n",
      "step 190 loss 2.1511\n",
      "step 200 loss 3.1786\n",
      "step 210 loss 2.6015\n",
      "step 220 loss 4.6412\n",
      "step 230 loss 3.0518\n",
      "step 240 loss 2.2572\n",
      "step 250 loss 3.0021\n",
      "step 260 loss 2.1251\n",
      "step 270 loss 3.0603\n",
      "step 280 loss 2.9549\n",
      "step 290 loss 2.8439\n",
      "step 300 loss 3.3672\n",
      "step 310 loss 2.9309\n",
      "step 320 loss 3.2636\n",
      "step 330 loss 2.1237\n",
      "step 340 loss 2.6259\n",
      "step 350 loss 2.2843\n",
      "step 360 loss 2.4861\n",
      "step 370 loss 2.7908\n",
      "step 380 loss 2.0131\n",
      "step 390 loss 2.1824\n",
      "step 400 loss 2.6479\n",
      "step 410 loss 2.2231\n",
      "step 420 loss 2.0254\n",
      "step 430 loss 3.2754\n",
      "step 440 loss 2.6021\n",
      "step 450 loss 2.1930\n",
      "step 460 loss 2.9693\n",
      "step 470 loss 2.4098\n",
      "step 480 loss 2.9735\n",
      "step 490 loss 2.0948\n",
      "step 500 loss 3.2903\n",
      "step 510 loss 2.6161\n",
      "step 520 loss 2.1371\n",
      "step 530 loss 2.9739\n",
      "step 540 loss 3.1722\n",
      "step 550 loss 2.1158\n",
      "step 560 loss 1.4516\n",
      "step 570 loss 3.0754\n",
      "step 580 loss 3.1342\n",
      "step 590 loss 3.2136\n",
      "step 600 loss 1.8096\n",
      "step 610 loss 2.3210\n",
      "step 620 loss 1.8596\n",
      "step 630 loss 2.1662\n",
      "step 640 loss 2.2591\n",
      "step 650 loss 3.1584\n",
      "step 660 loss 2.0502\n",
      "step 670 loss 2.0711\n",
      "step 680 loss 2.1910\n",
      "step 690 loss 1.7622\n",
      "step 700 loss 2.5504\n",
      "step 710 loss 2.4802\n",
      "step 720 loss 2.6501\n",
      "step 730 loss 3.5274\n",
      "step 740 loss 2.5351\n",
      "step 750 loss 2.0946\n",
      "step 760 loss 1.9993\n",
      "step 770 loss 2.1184\n",
      "step 780 loss 1.7452\n",
      "step 790 loss 2.7280\n",
      "step 800 loss 1.7075\n",
      "step 810 loss 3.3101\n",
      "step 820 loss 2.0134\n",
      "step 830 loss 2.5354\n",
      "step 840 loss 2.4227\n",
      "step 850 loss 2.8423\n",
      "step 860 loss 2.8894\n",
      "step 870 loss 2.6645\n",
      "step 880 loss 2.4101\n",
      "step 890 loss 2.4194\n",
      "step 900 loss 1.8760\n",
      "step 910 loss 2.7685\n",
      "Saved prompt adapter to: models/soft_prompts/soft_prompt_google/gemma-3-4b-it_college_exp\n"
     ]
    },
    {
     "data": {
      "application/vnd.jupyter.widget-view+json": {
       "model_id": "6280fa60f1f74ab5924ba37f7351109f",
       "version_major": 2,
       "version_minor": 0
      },
      "text/plain": [
       "Generating posts:   0%|          | 0/100 [00:00<?, ?it/s]"
      ]
     },
     "metadata": {},
     "output_type": "display_data"
    },
    {
     "data": {
      "application/vnd.jupyter.widget-view+json": {
       "model_id": "32e06b579b754638a711af331eb16aac",
       "version_major": 2,
       "version_minor": 0
      },
      "text/plain": [
       "Loading checkpoint shards:   0%|          | 0/2 [00:00<?, ?it/s]"
      ]
     },
     "metadata": {},
     "output_type": "display_data"
    },
    {
     "name": "stdout",
     "output_type": "stream",
     "text": [
      "Loaded google/gemma-3-4b-it model and tokenizer\n"
     ]
    },
    {
     "data": {
      "application/vnd.jupyter.widget-view+json": {
       "model_id": "5c83fec55a3b45a79070c93f89cf8a54",
       "version_major": 2,
       "version_minor": 0
      },
      "text/plain": [
       "Experiments:   0%|          | 0/4 [00:00<?, ?it/s]"
      ]
     },
     "metadata": {},
     "output_type": "display_data"
    },
    {
     "data": {
      "application/vnd.jupyter.widget-view+json": {
       "model_id": "fc0a60afe1d54cd6a207fa7fb3a401ae",
       "version_major": 2,
       "version_minor": 0
      },
      "text/plain": [
       "Generating posts:   0%|          | 0/100 [00:00<?, ?it/s]"
      ]
     },
     "metadata": {},
     "output_type": "display_data"
    },
    {
     "name": "stdout",
     "output_type": "stream",
     "text": [
      "Loading 15 posts from pregnancy dataset (14.3%)\n",
      "Warning: Could not find dataset file for pregnancy\n",
      "Loading 15 posts from parenting dataset (14.3%)\n",
      "Found 2000 valid posts in parenting\n",
      "Loading 15 posts from baby dataset (14.3%)\n",
      "Warning: Could not find dataset file for baby\n",
      "Loading 15 posts from food dataset (14.3%)\n",
      "Found 10 valid posts in food\n",
      "Warning: Only 10 posts available, using all\n",
      "Loading 15 posts from amitheasshole dataset (14.3%)\n",
      "Found 2000 valid posts in amitheasshole\n",
      "Loading 15 posts from pop dataset (14.3%)\n",
      "Found 47 valid posts in pop\n",
      "Loading 15 posts from boomerhumor dataset (14.3%)\n",
      "Found 23 valid posts in boomerhumor\n",
      "Loaded dataset {'pregnancy': 1, 'parenting': 1, 'baby': 1, 'food': 1, 'amitheasshole': 1, 'pop': 1, 'boomerhumor': 1} with 100 posts\n"
     ]
    },
    {
     "data": {
      "application/vnd.jupyter.widget-view+json": {
       "model_id": "891aa699f4ab49a2a67618360c5550a2",
       "version_major": 2,
       "version_minor": 0
      },
      "text/plain": [
       "Generating posts:   0%|          | 0/100 [00:00<?, ?it/s]"
      ]
     },
     "metadata": {},
     "output_type": "display_data"
    },
    {
     "name": "stdout",
     "output_type": "stream",
     "text": [
      "Loading 15 posts from pregnancy dataset (14.3%)\n",
      "Warning: Could not find dataset file for pregnancy\n",
      "Loading 15 posts from parenting dataset (14.3%)\n",
      "Found 2000 valid posts in parenting\n",
      "Loading 15 posts from baby dataset (14.3%)\n",
      "Warning: Could not find dataset file for baby\n",
      "Loading 15 posts from food dataset (14.3%)\n",
      "Found 10 valid posts in food\n",
      "Warning: Only 10 posts available, using all\n",
      "Loading 15 posts from amitheasshole dataset (14.3%)\n",
      "Found 2000 valid posts in amitheasshole\n",
      "Loading 15 posts from pop dataset (14.3%)\n",
      "Found 47 valid posts in pop\n",
      "Loading 15 posts from boomerhumor dataset (14.3%)\n",
      "Found 23 valid posts in boomerhumor\n",
      "Loaded dataset {'pregnancy': 1, 'parenting': 1, 'baby': 1, 'food': 1, 'amitheasshole': 1, 'pop': 1, 'boomerhumor': 1} with 100 posts\n"
     ]
    },
    {
     "data": {
      "application/vnd.jupyter.widget-view+json": {
       "model_id": "463d1ae05e1248bc8170dc570fc6813a",
       "version_major": 2,
       "version_minor": 0
      },
      "text/plain": [
       "Generating posts:   0%|          | 0/100 [00:00<?, ?it/s]"
      ]
     },
     "metadata": {},
     "output_type": "display_data"
    },
    {
     "data": {
      "application/vnd.jupyter.widget-view+json": {
       "model_id": "62a1e51f16f34465a62c93de8b4237db",
       "version_major": 2,
       "version_minor": 0
      },
      "text/plain": [
       "Loading checkpoint shards:   0%|          | 0/2 [00:00<?, ?it/s]"
      ]
     },
     "metadata": {},
     "output_type": "display_data"
    },
    {
     "name": "stdout",
     "output_type": "stream",
     "text": [
      "Loaded google/gemma-3-4b-it model and tokenizer\n",
      "Loading 15 posts from pregnancy dataset (14.3%)\n",
      "Warning: Could not find dataset file for pregnancy\n",
      "Loading 15 posts from parenting dataset (14.3%)\n",
      "Found 2000 valid posts in parenting\n",
      "Loading 15 posts from baby dataset (14.3%)\n",
      "Warning: Could not find dataset file for baby\n",
      "Loading 15 posts from food dataset (14.3%)\n",
      "Found 10 valid posts in food\n",
      "Warning: Only 10 posts available, using all\n",
      "Loading 15 posts from amitheasshole dataset (14.3%)\n",
      "Found 2000 valid posts in amitheasshole\n",
      "Loading 15 posts from pop dataset (14.3%)\n",
      "Found 47 valid posts in pop\n",
      "Loading 15 posts from boomerhumor dataset (14.3%)\n",
      "Found 23 valid posts in boomerhumor\n",
      "Loaded dataset {'pregnancy': 1, 'parenting': 1, 'baby': 1, 'food': 1, 'amitheasshole': 1, 'pop': 1, 'boomerhumor': 1} with 100 posts\n"
     ]
    },
    {
     "data": {
      "application/vnd.jupyter.widget-view+json": {
       "model_id": "8caae896c80541b7b2a23e15978d0f34",
       "version_major": 2,
       "version_minor": 0
      },
      "text/plain": [
       "Map:   0%|          | 0/70 [00:00<?, ? examples/s]"
      ]
     },
     "metadata": {},
     "output_type": "display_data"
    },
    {
     "name": "stdout",
     "output_type": "stream",
     "text": [
      "Preprocessed dataset...\n",
      "Training on device: cuda:0\n",
      "step 0 loss 5.1275\n",
      "step 10 loss 6.9043\n",
      "step 20 loss 5.8862\n",
      "step 30 loss 3.4572\n",
      "step 40 loss 3.2198\n",
      "step 50 loss 2.5415\n",
      "step 60 loss 2.6503\n",
      "step 70 loss 1.8654\n",
      "step 80 loss 2.7469\n",
      "step 90 loss 3.1365\n",
      "step 100 loss 2.7472\n",
      "step 110 loss 2.6374\n",
      "step 120 loss 2.4128\n",
      "step 130 loss 2.7368\n",
      "step 140 loss 3.1977\n",
      "step 150 loss 2.0119\n",
      "step 160 loss 2.3946\n",
      "step 170 loss 2.6164\n",
      "step 180 loss 2.6994\n",
      "step 190 loss 2.5595\n",
      "step 200 loss 2.5501\n",
      "step 210 loss 2.5878\n",
      "step 220 loss 2.8368\n",
      "step 230 loss 1.9652\n",
      "step 240 loss 2.3030\n",
      "step 250 loss 2.9264\n",
      "step 260 loss 2.2478\n",
      "step 270 loss 2.7482\n",
      "step 280 loss 2.3039\n",
      "step 290 loss 2.3794\n",
      "step 300 loss 2.6920\n",
      "step 310 loss 1.2102\n",
      "step 320 loss 1.8240\n",
      "step 330 loss 2.6473\n",
      "step 340 loss 2.3588\n",
      "step 350 loss 2.8889\n",
      "step 360 loss 2.9076\n",
      "step 370 loss 2.4627\n",
      "step 380 loss 2.5617\n",
      "step 390 loss 2.1633\n",
      "step 400 loss 2.7172\n",
      "step 410 loss 2.2495\n",
      "step 420 loss 2.7676\n",
      "step 430 loss 1.8200\n",
      "step 440 loss 2.5662\n",
      "step 450 loss 2.8160\n",
      "step 460 loss 1.5265\n",
      "step 470 loss 2.1860\n",
      "step 480 loss 4.2852\n",
      "step 490 loss 2.2313\n",
      "step 500 loss 2.5223\n",
      "step 510 loss 2.6409\n",
      "step 520 loss 2.6020\n",
      "step 530 loss 2.4695\n",
      "step 540 loss 2.0630\n",
      "step 550 loss 2.0626\n",
      "step 560 loss 2.5212\n",
      "step 570 loss 2.5114\n",
      "step 580 loss 2.1196\n",
      "step 590 loss 2.1496\n",
      "step 600 loss 2.4234\n",
      "step 610 loss 1.9941\n",
      "step 620 loss 2.2456\n",
      "step 630 loss 2.6301\n",
      "step 640 loss 2.4674\n",
      "step 650 loss 2.4866\n",
      "step 660 loss 3.0993\n",
      "step 670 loss 0.7116\n",
      "step 680 loss 2.2927\n",
      "step 690 loss 1.1612\n",
      "Saved prompt adapter to: models/soft_prompts/soft_prompt_google/gemma-3-4b-it_newmother_exp\n"
     ]
    },
    {
     "data": {
      "application/vnd.jupyter.widget-view+json": {
       "model_id": "ae8699b5684e4de9bd522da7e7615b98",
       "version_major": 2,
       "version_minor": 0
      },
      "text/plain": [
       "Generating posts:   0%|          | 0/100 [00:00<?, ?it/s]"
      ]
     },
     "metadata": {},
     "output_type": "display_data"
    },
    {
     "data": {
      "application/vnd.jupyter.widget-view+json": {
       "model_id": "c9f0a0f3eca34dd9a30752721adb89cf",
       "version_major": 2,
       "version_minor": 0
      },
      "text/plain": [
       "Loading checkpoint shards:   0%|          | 0/2 [00:00<?, ?it/s]"
      ]
     },
     "metadata": {},
     "output_type": "display_data"
    },
    {
     "name": "stdout",
     "output_type": "stream",
     "text": [
      "Loaded google/gemma-3-4b-it model and tokenizer\n"
     ]
    },
    {
     "data": {
      "application/vnd.jupyter.widget-view+json": {
       "model_id": "913ee2b0da5e4ae9a791e7ffa266bfda",
       "version_major": 2,
       "version_minor": 0
      },
      "text/plain": [
       "tokenizer_config.json:   0%|          | 0.00/1.16M [00:00<?, ?B/s]"
      ]
     },
     "metadata": {},
     "output_type": "display_data"
    },
    {
     "data": {
      "application/vnd.jupyter.widget-view+json": {
       "model_id": "e309c8cf640446668c2b45bf481a980f",
       "version_major": 2,
       "version_minor": 0
      },
      "text/plain": [
       "tokenizer.model:   0%|          | 0.00/4.69M [00:00<?, ?B/s]"
      ]
     },
     "metadata": {},
     "output_type": "display_data"
    },
    {
     "data": {
      "application/vnd.jupyter.widget-view+json": {
       "model_id": "60eaa6e875ec4a30a82c94d45d3c120d",
       "version_major": 2,
       "version_minor": 0
      },
      "text/plain": [
       "tokenizer.json:   0%|          | 0.00/33.4M [00:00<?, ?B/s]"
      ]
     },
     "metadata": {},
     "output_type": "display_data"
    },
    {
     "data": {
      "application/vnd.jupyter.widget-view+json": {
       "model_id": "f9ee0508e0194e2b8eefc8ae4ec3dc56",
       "version_major": 2,
       "version_minor": 0
      },
      "text/plain": [
       "added_tokens.json:   0%|          | 0.00/35.0 [00:00<?, ?B/s]"
      ]
     },
     "metadata": {},
     "output_type": "display_data"
    },
    {
     "data": {
      "application/vnd.jupyter.widget-view+json": {
       "model_id": "be72f353e58f412a92446c4eca17bc9a",
       "version_major": 2,
       "version_minor": 0
      },
      "text/plain": [
       "special_tokens_map.json:   0%|          | 0.00/662 [00:00<?, ?B/s]"
      ]
     },
     "metadata": {},
     "output_type": "display_data"
    },
    {
     "data": {
      "application/vnd.jupyter.widget-view+json": {
       "model_id": "b4235df76acb44c18d7834cffe48f13b",
       "version_major": 2,
       "version_minor": 0
      },
      "text/plain": [
       "config.json:   0%|          | 0.00/972 [00:00<?, ?B/s]"
      ]
     },
     "metadata": {},
     "output_type": "display_data"
    },
    {
     "data": {
      "application/vnd.jupyter.widget-view+json": {
       "model_id": "bef320cbeb204cc7a9fb8d69c1d6cc04",
       "version_major": 2,
       "version_minor": 0
      },
      "text/plain": [
       "model.safetensors.index.json:   0%|          | 0.00/127k [00:00<?, ?B/s]"
      ]
     },
     "metadata": {},
     "output_type": "display_data"
    },
    {
     "data": {
      "application/vnd.jupyter.widget-view+json": {
       "model_id": "cde846c071504e92a6337af7f1d101f7",
       "version_major": 2,
       "version_minor": 0
      },
      "text/plain": [
       "Fetching 12 files:   0%|          | 0/12 [00:00<?, ?it/s]"
      ]
     },
     "metadata": {},
     "output_type": "display_data"
    },
    {
     "data": {
      "application/vnd.jupyter.widget-view+json": {
       "model_id": "540cf3dee4e74c9a82b9ea1a18b20207",
       "version_major": 2,
       "version_minor": 0
      },
      "text/plain": [
       "model-00005-of-00012.safetensors:   0%|          | 0.00/4.95G [00:00<?, ?B/s]"
      ]
     },
     "metadata": {},
     "output_type": "display_data"
    },
    {
     "data": {
      "application/vnd.jupyter.widget-view+json": {
       "model_id": "42b079e4687a462bb9c9406ed576d508",
       "version_major": 2,
       "version_minor": 0
      },
      "text/plain": [
       "model-00008-of-00012.safetensors:   0%|          | 0.00/4.95G [00:00<?, ?B/s]"
      ]
     },
     "metadata": {},
     "output_type": "display_data"
    },
    {
     "data": {
      "application/vnd.jupyter.widget-view+json": {
       "model_id": "c07b0741b0f341b080a447d11f647e7c",
       "version_major": 2,
       "version_minor": 0
      },
      "text/plain": [
       "model-00004-of-00012.safetensors:   0%|          | 0.00/4.95G [00:00<?, ?B/s]"
      ]
     },
     "metadata": {},
     "output_type": "display_data"
    },
    {
     "data": {
      "application/vnd.jupyter.widget-view+json": {
       "model_id": "6e45158539564ea59e268988aff92190",
       "version_major": 2,
       "version_minor": 0
      },
      "text/plain": [
       "model-00003-of-00012.safetensors:   0%|          | 0.00/4.95G [00:00<?, ?B/s]"
      ]
     },
     "metadata": {},
     "output_type": "display_data"
    },
    {
     "data": {
      "application/vnd.jupyter.widget-view+json": {
       "model_id": "1ba4774de30c4b18bcb9d9265444e3b1",
       "version_major": 2,
       "version_minor": 0
      },
      "text/plain": [
       "model-00006-of-00012.safetensors:   0%|          | 0.00/4.95G [00:00<?, ?B/s]"
      ]
     },
     "metadata": {},
     "output_type": "display_data"
    },
    {
     "data": {
      "application/vnd.jupyter.widget-view+json": {
       "model_id": "d22ac4665bf84d3080ad2064bfa16797",
       "version_major": 2,
       "version_minor": 0
      },
      "text/plain": [
       "model-00002-of-00012.safetensors:   0%|          | 0.00/4.95G [00:00<?, ?B/s]"
      ]
     },
     "metadata": {},
     "output_type": "display_data"
    },
    {
     "data": {
      "application/vnd.jupyter.widget-view+json": {
       "model_id": "1f8a3f78d5254b33a673b739f044275b",
       "version_major": 2,
       "version_minor": 0
      },
      "text/plain": [
       "model-00001-of-00012.safetensors:   0%|          | 0.00/4.85G [00:00<?, ?B/s]"
      ]
     },
     "metadata": {},
     "output_type": "display_data"
    },
    {
     "data": {
      "application/vnd.jupyter.widget-view+json": {
       "model_id": "601674c5133d4a7d99f3dc236077fd39",
       "version_major": 2,
       "version_minor": 0
      },
      "text/plain": [
       "model-00007-of-00012.safetensors:   0%|          | 0.00/4.95G [00:00<?, ?B/s]"
      ]
     },
     "metadata": {},
     "output_type": "display_data"
    },
    {
     "data": {
      "application/vnd.jupyter.widget-view+json": {
       "model_id": "30a108a828fb402c8793fedc8abb18f5",
       "version_major": 2,
       "version_minor": 0
      },
      "text/plain": [
       "model-00009-of-00012.safetensors:   0%|          | 0.00/4.95G [00:00<?, ?B/s]"
      ]
     },
     "metadata": {},
     "output_type": "display_data"
    },
    {
     "data": {
      "application/vnd.jupyter.widget-view+json": {
       "model_id": "cf10d5a7da9d4cf5ac7529d93f27291a",
       "version_major": 2,
       "version_minor": 0
      },
      "text/plain": [
       "model-00010-of-00012.safetensors:   0%|          | 0.00/4.95G [00:00<?, ?B/s]"
      ]
     },
     "metadata": {},
     "output_type": "display_data"
    },
    {
     "data": {
      "application/vnd.jupyter.widget-view+json": {
       "model_id": "50e3bd8ccb6e4aca9ebb2bab6bed5d51",
       "version_major": 2,
       "version_minor": 0
      },
      "text/plain": [
       "model-00011-of-00012.safetensors:   0%|          | 0.00/4.95G [00:00<?, ?B/s]"
      ]
     },
     "metadata": {},
     "output_type": "display_data"
    },
    {
     "data": {
      "application/vnd.jupyter.widget-view+json": {
       "model_id": "a9a3a0bfff8e43feab2b56a96747c65c",
       "version_major": 2,
       "version_minor": 0
      },
      "text/plain": [
       "model-00012-of-00012.safetensors:   0%|          | 0.00/462M [00:00<?, ?B/s]"
      ]
     },
     "metadata": {},
     "output_type": "display_data"
    },
    {
     "data": {
      "application/vnd.jupyter.widget-view+json": {
       "model_id": "83963accfd314500b210f2479aa6f4e0",
       "version_major": 2,
       "version_minor": 0
      },
      "text/plain": [
       "Loading checkpoint shards:   0%|          | 0/12 [00:00<?, ?it/s]"
      ]
     },
     "metadata": {},
     "output_type": "display_data"
    },
    {
     "data": {
      "application/vnd.jupyter.widget-view+json": {
       "model_id": "84c437484ad9460ea5d512d657508c60",
       "version_major": 2,
       "version_minor": 0
      },
      "text/plain": [
       "generation_config.json:   0%|          | 0.00/215 [00:00<?, ?B/s]"
      ]
     },
     "metadata": {},
     "output_type": "display_data"
    },
    {
     "name": "stdout",
     "output_type": "stream",
     "text": [
      "Loaded google/gemma-3-27b-it model and tokenizer\n"
     ]
    },
    {
     "data": {
      "application/vnd.jupyter.widget-view+json": {
       "model_id": "4a85380dfab7459b98d92344d10e092f",
       "version_major": 2,
       "version_minor": 0
      },
      "text/plain": [
       "Datasets2:   0%|          | 0/7 [00:00<?, ?it/s]"
      ]
     },
     "metadata": {},
     "output_type": "display_data"
    },
    {
     "data": {
      "application/vnd.jupyter.widget-view+json": {
       "model_id": "2a3e083f089b46c39cc8d628e32529dc",
       "version_major": 2,
       "version_minor": 0
      },
      "text/plain": [
       "Experiments:   0%|          | 0/4 [00:00<?, ?it/s]"
      ]
     },
     "metadata": {},
     "output_type": "display_data"
    },
    {
     "data": {
      "application/vnd.jupyter.widget-view+json": {
       "model_id": "15b29491e6b74a019c9348991f7bd5f9",
       "version_major": 2,
       "version_minor": 0
      },
      "text/plain": [
       "Generating posts:   0%|          | 0/100 [00:00<?, ?it/s]"
      ]
     },
     "metadata": {},
     "output_type": "display_data"
    },
    {
     "name": "stdout",
     "output_type": "stream",
     "text": [
      "Loading 100 posts from nerdy dataset (100.0%)\n",
      "Found 271 valid posts in nerdy\n",
      "Loaded dataset {'nerdy': 1} with 100 posts\n"
     ]
    },
    {
     "data": {
      "application/vnd.jupyter.widget-view+json": {
       "model_id": "c28ed0af18cb4f989eb54446d824e00e",
       "version_major": 2,
       "version_minor": 0
      },
      "text/plain": [
       "Generating posts:   0%|          | 0/100 [00:00<?, ?it/s]"
      ]
     },
     "metadata": {},
     "output_type": "display_data"
    },
    {
     "name": "stdout",
     "output_type": "stream",
     "text": [
      "Loading 100 posts from nerdy dataset (100.0%)\n",
      "Found 271 valid posts in nerdy\n",
      "Loaded dataset {'nerdy': 1} with 100 posts\n"
     ]
    },
    {
     "data": {
      "application/vnd.jupyter.widget-view+json": {
       "model_id": "98594430f43f47dab0a15624c221f446",
       "version_major": 2,
       "version_minor": 0
      },
      "text/plain": [
       "Generating posts:   0%|          | 0/100 [00:00<?, ?it/s]"
      ]
     },
     "metadata": {},
     "output_type": "display_data"
    },
    {
     "data": {
      "application/vnd.jupyter.widget-view+json": {
       "model_id": "6dcf9b65c82d414c85dfc5fbfcdacc31",
       "version_major": 2,
       "version_minor": 0
      },
      "text/plain": [
       "Loading checkpoint shards:   0%|          | 0/12 [00:00<?, ?it/s]"
      ]
     },
     "metadata": {},
     "output_type": "display_data"
    },
    {
     "name": "stdout",
     "output_type": "stream",
     "text": [
      "Loaded google/gemma-3-27b-it model and tokenizer\n",
      "Loading 100 posts from nerdy dataset (100.0%)\n",
      "Found 271 valid posts in nerdy\n",
      "Loaded dataset {'nerdy': 1} with 100 posts\n"
     ]
    },
    {
     "data": {
      "application/vnd.jupyter.widget-view+json": {
       "model_id": "4188e5f5e5bf41009bdfb51b125a78cb",
       "version_major": 2,
       "version_minor": 0
      },
      "text/plain": [
       "Map:   0%|          | 0/100 [00:00<?, ? examples/s]"
      ]
     },
     "metadata": {},
     "output_type": "display_data"
    },
    {
     "name": "stdout",
     "output_type": "stream",
     "text": [
      "Preprocessed dataset...\n",
      "Training on device: cuda:0\n",
      "step 0 loss 6.2086\n",
      "step 10 loss 4.9158\n",
      "step 20 loss 4.4351\n",
      "step 30 loss 4.2084\n",
      "step 40 loss 2.8738\n",
      "step 50 loss 2.7409\n",
      "step 60 loss 2.2592\n",
      "step 70 loss 3.0076\n",
      "step 80 loss 2.9198\n",
      "step 90 loss 2.8821\n",
      "step 100 loss 2.9079\n",
      "step 110 loss 1.7935\n",
      "step 120 loss 1.9939\n",
      "step 130 loss 2.9927\n",
      "step 140 loss 2.2530\n",
      "step 150 loss 2.6985\n",
      "step 160 loss 2.5306\n",
      "step 170 loss 2.5900\n",
      "step 180 loss 2.9103\n",
      "step 190 loss 1.9403\n",
      "step 200 loss 3.1438\n",
      "step 210 loss 3.2561\n",
      "step 220 loss 2.4625\n",
      "step 230 loss 2.5307\n",
      "step 240 loss 3.0365\n",
      "step 250 loss 2.8075\n",
      "step 260 loss 2.8624\n",
      "step 270 loss 2.2138\n",
      "step 280 loss 2.4657\n",
      "step 290 loss 3.1817\n",
      "step 300 loss 2.5692\n",
      "step 310 loss 3.0065\n",
      "step 320 loss 2.4923\n",
      "step 330 loss 2.9052\n",
      "step 340 loss 2.3335\n",
      "step 350 loss 2.1612\n",
      "step 360 loss 2.2207\n",
      "step 370 loss 2.5772\n",
      "step 380 loss 2.6102\n",
      "step 390 loss 2.0079\n",
      "step 400 loss 3.6557\n",
      "step 410 loss 2.9422\n",
      "step 420 loss 1.7302\n",
      "step 430 loss 2.1340\n",
      "step 440 loss 2.4163\n",
      "step 450 loss 2.5826\n",
      "step 460 loss 2.3007\n",
      "step 470 loss 2.6314\n",
      "step 480 loss 2.7280\n",
      "step 490 loss 3.5942\n",
      "step 500 loss 2.4579\n",
      "step 510 loss 2.7941\n",
      "step 520 loss 3.0199\n",
      "step 530 loss 3.0580\n",
      "step 540 loss 2.1370\n",
      "step 550 loss 2.8000\n",
      "step 560 loss 2.7781\n",
      "step 570 loss 2.2731\n",
      "step 580 loss 2.2221\n",
      "step 590 loss 2.2514\n",
      "step 600 loss 2.9532\n",
      "step 610 loss 2.2076\n",
      "step 620 loss 3.1841\n",
      "step 630 loss 2.3535\n",
      "step 640 loss 2.2042\n",
      "step 650 loss 2.7646\n",
      "step 660 loss 3.0298\n",
      "step 670 loss 2.2196\n",
      "step 680 loss 2.7775\n",
      "step 690 loss 2.9597\n",
      "step 700 loss 2.4850\n",
      "step 710 loss 2.4554\n",
      "step 720 loss 2.3541\n",
      "step 730 loss 3.1714\n",
      "step 740 loss 2.5109\n",
      "step 750 loss 2.8199\n",
      "step 760 loss 1.9339\n",
      "step 770 loss 2.7553\n",
      "step 780 loss 2.4093\n",
      "step 790 loss 2.9352\n",
      "step 800 loss 1.8347\n",
      "step 810 loss 3.0189\n",
      "step 820 loss 2.0960\n",
      "step 830 loss 1.6338\n",
      "step 840 loss 2.6601\n",
      "step 850 loss 2.2937\n",
      "step 860 loss 2.6800\n",
      "step 870 loss 1.9046\n",
      "step 880 loss 1.4756\n",
      "step 890 loss 2.4598\n",
      "step 900 loss 2.3628\n",
      "step 910 loss 2.2605\n",
      "step 920 loss 2.2081\n",
      "step 930 loss 1.7353\n",
      "step 940 loss 2.4682\n",
      "step 950 loss 1.9930\n",
      "step 960 loss 1.8802\n",
      "step 970 loss 2.3568\n",
      "step 980 loss 2.9638\n",
      "step 990 loss 1.9099\n",
      "Saved prompt adapter to: models/soft_prompts/soft_prompt_google/gemma-3-27b-it_nerdy_exp\n"
     ]
    },
    {
     "data": {
      "application/vnd.jupyter.widget-view+json": {
       "model_id": "7de56409d5604bd28f9400ef487d8598",
       "version_major": 2,
       "version_minor": 0
      },
      "text/plain": [
       "Generating posts:   0%|          | 0/100 [00:00<?, ?it/s]"
      ]
     },
     "metadata": {},
     "output_type": "display_data"
    },
    {
     "data": {
      "application/vnd.jupyter.widget-view+json": {
       "model_id": "d5ae7957439b41b68db8fa16e6cb48d2",
       "version_major": 2,
       "version_minor": 0
      },
      "text/plain": [
       "Loading checkpoint shards:   0%|          | 0/12 [00:00<?, ?it/s]"
      ]
     },
     "metadata": {},
     "output_type": "display_data"
    },
    {
     "name": "stdout",
     "output_type": "stream",
     "text": [
      "Loaded google/gemma-3-27b-it model and tokenizer\n"
     ]
    },
    {
     "data": {
      "application/vnd.jupyter.widget-view+json": {
       "model_id": "a2ece46a4fcf4999abce25a4fdbfd3cf",
       "version_major": 2,
       "version_minor": 0
      },
      "text/plain": [
       "Experiments:   0%|          | 0/4 [00:00<?, ?it/s]"
      ]
     },
     "metadata": {},
     "output_type": "display_data"
    },
    {
     "data": {
      "application/vnd.jupyter.widget-view+json": {
       "model_id": "c0dbf1245ac5435e97d9c3ca047d5fa0",
       "version_major": 2,
       "version_minor": 0
      },
      "text/plain": [
       "Generating posts:   0%|          | 0/100 [00:00<?, ?it/s]"
      ]
     },
     "metadata": {},
     "output_type": "display_data"
    },
    {
     "name": "stdout",
     "output_type": "stream",
     "text": [
      "Loading 100 posts from personal dataset (100.0%)\n",
      "Found 251 valid posts in personal\n",
      "Loaded dataset {'personal': 1} with 100 posts\n"
     ]
    },
    {
     "data": {
      "application/vnd.jupyter.widget-view+json": {
       "model_id": "67564c9c9af942a99c9be08b80b2ace4",
       "version_major": 2,
       "version_minor": 0
      },
      "text/plain": [
       "Generating posts:   0%|          | 0/100 [00:00<?, ?it/s]"
      ]
     },
     "metadata": {},
     "output_type": "display_data"
    }
   ],
   "source": [
    "from tqdm.auto import tqdm\n",
    "from openai import OpenAI\n",
    "import os, dotenv\n",
    "\n",
    "dotenv.load_dotenv()\n",
    "\n",
    "login()\n",
    "\n",
    "client = OpenAI()\n",
    "\n",
    "# experiment ablation\n",
    "for model_name in tqdm(MODELS, desc=\"Models\"):\n",
    "    if model_name == \"gpt-5\": # reload model everytime to prevent softprompt leakage\n",
    "        model = client  \n",
    "        tokenizer = None         \n",
    "    else: \n",
    "        model, tokenizer = load_model(model_name)\n",
    "    for dataset_name, dataset_dict in tqdm(zip(DATASET2_NAMES, DATASETS2), total=len(DATASETS2), desc=\"Datasets2\"):\n",
    "        for experiment in tqdm(EXPERIMENTS, desc=\"Experiments\"):\n",
    "            prompt = PROMPTS[experiment]\n",
    "            \n",
    "            out_path = f\"{GENERATED_OUTPUT_DIR}/experiment_ablation/{model_name}/{dataset_name}/{experiment}.json\"\n",
    "            \n",
    "            # Check if output file already exists and has posts\n",
    "            out_path_obj = Path(out_path)\n",
    "            out_path_obj.parent.mkdir(parents=True, exist_ok=True)\n",
    "            \n",
    "            if out_path_obj.exists():\n",
    "                try:\n",
    "                    with open(out_path_obj, 'r') as f:\n",
    "                        existing_posts = json.load(f)\n",
    "                    if existing_posts:  # Skip if file has posts\n",
    "                        print(f\"Output file {out_path} already exists with posts, skipping generation\")\n",
    "                        continue\n",
    "                except (json.JSONDecodeError, Exception):\n",
    "                    print(f\"Could not read existing file {out_path}, regenerating\")\n",
    "                    \n",
    "            \n",
    "            if experiment == \"soft prompt\":\n",
    "                if model_name == \"gpt-5\": continue\n",
    "\n",
    "                soft_output_dir = f\"{MODEL_OUTPUT_DIR}/soft_prompts/soft_prompt_{model_name}_{dataset_name}_exp\"\n",
    "                \n",
    "                # check if soft prompt exists\n",
    "                if not os.path.exists(soft_output_dir):\n",
    "                    # reset model (to avoid error)\n",
    "                    del model\n",
    "                    del tokenizer \n",
    "                    torch.cuda.empty_cache()\n",
    "                    model, tokenizer = load_model(model_name)\n",
    "                    \n",
    "                    examples = load_datasets_proportional(dataset_dict, 100, prompt)\n",
    "                    train_ds = preprocess_dataset(examples, tokenizer)\n",
    "                    peft_model = init_peft_model(model, model_name)\n",
    "                    train_soft_prompt(peft_model, tokenizer, train_ds, NUM_TRAIN_STEPS, soft_output_dir)\n",
    "                else:\n",
    "                    print(f\"Soft prompt {soft_output_dir} exists, skipping training\")\n",
    "                model = apply_peft_adapter(model, soft_output_dir)\n",
    "            elif experiment == \"fine tune\":\n",
    "                break  # skip fine tuning\n",
    "            elif experiment == \"summary\":\n",
    "                prompt = generate_summarized_prompt(client, dataset_dict)\n",
    "            elif experiment == \"like history\":\n",
    "                prompt = generate_like_history_prompt(client, dataset_dict)\n",
    "            elif experiment == \"self defined\":\n",
    "                prompt = prompt[dataset_name]\n",
    "                # print(prompt)\n",
    "\n",
    "            # generate posts\n",
    "            posts = collect_posts(100, prompt, model, tokenizer)\n",
    "            write_posts_json(out_path_obj, posts)\n",
    "            \n",
    "            if experiment == \"soft prompt\" and model_name != \"gpt-5\": # reload model to prevent softprompt leakage\n",
    "                del model\n",
    "                del tokenizer\n",
    "                torch.cuda.empty_cache()\n",
    "                model, tokenizer = load_model(model_name)\n",
    "                    \n",
    "    # unload model\n",
    "    del model\n",
    "    del tokenizer\n",
    "    torch.cuda.empty_cache()\n"
   ]
  },
  {
   "cell_type": "code",
   "execution_count": null,
   "id": "aecc4b43",
   "metadata": {},
   "outputs": [],
   "source": [
    "from tqdm.auto import tqdm\n",
    "\n",
    "# judging \n",
    "for model_name in tqdm(MODELS, desc=\"Models\"):\n",
    "    for dataset in tqdm(DATASETS1, desc=\"Datasets1\"):\n",
    "        for train_size in tqdm(TRAIN_SIZES, desc=\"Train sizes\"):\n",
    "            with open(f\"{GENERATED_OUTPUT_DIR}/train_size_ablation/{model_name}_{dataset}_{train_size}.json\", \"r\") as f:\n",
    "                lines = f.readlines()\n",
    "                for i in tqdm(range(0, len(lines), 3), desc=\"Posts\"):\n",
    "                    post_lines = lines[i:i+3]\n",
    "                    post = ''.join(line.strip() for line in post_lines)\n",
    "                    if post:\n",
    "                        gpt_judgement = judge_post_gpt5(post, dataset)\n",
    "                        heuristic_judgement = judge_post_heuristic(post, dataset)\n",
    "                        print(post)\n",
    "                        break\n"
   ]
  },
  {
   "cell_type": "code",
   "execution_count": null,
   "id": "d0ae4c5f",
   "metadata": {},
   "outputs": [],
   "source": [
    "from tqdm.auto import tqdm\n",
    "\n",
    "# judging \n",
    "for model_name in tqdm(MODELS, desc=\"Models\"):   \n",
    "    for dataset in tqdm(DATASETS2, desc=\"Datasets2\"):\n",
    "        for experiment in tqdm(EXPERIMENTS, desc=\"Experiments\"):\n",
    "            with open(f\"{GENERATED_OUTPUT_DIR}/experiment_ablation/{model_name}_{dataset}_{experiment}.json\", \"r\") as f:\n",
    "                lines = f.readlines()\n",
    "                for i in tqdm(range(0, len(lines), 3), desc=\"Posts\"):\n",
    "                    post_lines = lines[i:i+3]\n",
    "                    post = ''.join(line.strip() for line in post_lines)\n",
    "                    if post:\n",
    "                        gpt_judgement = judge_post_gpt5(post, dataset)\n",
    "                        heuristic_judgement = judge_post_heuristic(post, dataset)\n",
    "                        print(post)\n",
    "                        break\n"
   ]
  }
 ],
 "metadata": {
  "kernelspec": {
   "display_name": "Python 3",
   "language": "python",
   "name": "python3"
  },
  "language_info": {
   "codemirror_mode": {
    "name": "ipython",
    "version": 3
   },
   "file_extension": ".py",
   "mimetype": "text/x-python",
   "name": "python",
   "nbconvert_exporter": "python",
   "pygments_lexer": "ipython3",
   "version": "3.11.11"
  }
 },
 "nbformat": 4,
 "nbformat_minor": 5
}
