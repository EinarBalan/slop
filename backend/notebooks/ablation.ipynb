{
 "cells": [
  {
   "cell_type": "markdown",
   "id": "dc8a0981",
   "metadata": {},
   "source": [
    "# Ablation Study Results\n",
    "\n",
    "Axes\n",
    "- model (gemma-3-4b-it, gemma-3-27b-it, gpt-5)\n",
    "- manual vs judge\n",
    "- experiment (base, subreddit, summary, liked posts list, fine tuned, soft prompt (100), soft prompt(500))\n",
    "- dataset (circlejerk, jokes + puns, gaming, animals, sports, etc.)\n",
    "\n",
    "Dataset selection:\n",
    "- small\n",
    "    - okbuddy\n",
    "    - boomerhumor\n",
    "    - animals\n",
    "    - creative\n",
    "    - food\n",
    "    - religion\n",
    "- medium\n",
    "    - finance\n",
    "    - school\n",
    "    - pop\n",
    "- varied but focused: \n",
    "    - nerdy\n",
    "    - personal\n",
    "    - ucla\n",
    "    - tech\n",
    "    - school\n",
    "    - ucla\n",
    "- ultra specific: \n",
    "    - minecraft\n",
    "    - nba\n",
    "- format specific:\n",
    "    - copypasta,\n",
    "    - no stupid questions\n",
    "    - am i the asshole\n",
    "- 3 test (unalike)\n",
    "    - pop\n",
    "    - religion\n",
    "    - tech\n",
    "- 3 test (alike)\n",
    "    - tech\n",
    "    - nerdy\n",
    "    - finance\n",
    "- college student\n",
    "    - ucla\n",
    "    - nerdy\n",
    "    - okbuddy\n",
    "    - copypasta\n",
    "    - pop\n",
    "    - food\n",
    "    - animals\n",
    "- new mother\n",
    "    - pregnancy\n",
    "    - parenting\n",
    "    - baby\n",
    "    - food\n",
    "    - am i the asshole\n",
    "    - pop\n",
    "    - boomerhumor\n",
    "- creative gen alpha\n",
    "    - minecraft\n",
    "    - creative\n",
    "    - food\n",
    "    - school\n",
    "    - nba\n",
    "\n",
    "### gemma-3-4b-it\n",
    "|                   | Self Defined | Summary | Like History | Fine Tune | Soft Prompt (100) | Soft Prompt (500) |\n",
    "|-------------------|-----------|---------|--------------|-----------|-------------------|-------------------|\n",
    "| Circlejerk        |           |         |              |           |                   |                   |\n",
    "| Jokes             |           |         |              |           |                   |                   |\n",
    "| Gaming            |           |         |              |           |                   |                   |\n",
    "| Animals           |           |         |              |           |                   |                   |\n",
    "| Personal          |           |         |              |           |                   |                   |\n",
    "| Personal + Gaming |           |         |              |           |                   |                   |\n",
    "\n",
    "### gemma-3-27b-it\n",
    "|                   | Self Defined | Summary | Like History | Fine Tune | Soft Prompt (100) | Soft Prompt (500) |\n",
    "|-------------------|-----------|---------|--------------|-----------|-------------------|-------------------|\n",
    "| Circlejerk        |           |         |              |           |                   |                   |\n",
    "| Jokes             |           |         |              |           |                   |                   |\n",
    "| Gaming            |           |         |              |           |                   |                   |\n",
    "| Animals           |           |         |              |           |                   |                   |\n",
    "| Personal          |           |         |              |           |                   |                   |\n",
    "| Personal + Gaming |           |         |              |           |                   |                   |\n",
    "\n",
    "### gpt-5\n",
    "|                   | Self Defined | Summary | Like History | Fine Tune | Soft Prompt (100) | Soft Prompt (500) |\n",
    "|-------------------|-----------|---------|--------------|-----------|-------------------|-------------------|\n",
    "| Circlejerk        |           |         |              |           |                   |                   |\n",
    "| Jokes             |           |         |              |           |                   |                   |\n",
    "| Gaming            |           |         |              |           |                   |                   |\n",
    "| Animals           |           |         |              |           |                   |                   |\n",
    "| Personal          |           |         |              |           |                   |                   |\n",
    "| Personal + Gaming |           |         |              |           |                   |                   |\n"
   ]
  },
  {
   "cell_type": "markdown",
   "id": "cfb2e1e5",
   "metadata": {},
   "source": [
    "## Notes during testing\n",
    "- very good alignment on tech (92)\n",
    "- very good alignment on personal (180)\n",
    "- very good alignment on nerdy (204)\n",
    "- very good alignmenton school (93)\n",
    "- bad alignment on interesting (35)\n",
    "- bad alignment on finance (57)\n",
    "- decent alignment on interesting + finance (on the finance side) (92)\n",
    "- for hyper targeted like minecraft, even 10 examples is good enough for alignment, but post topic variety goes down. ~100 is best to balance quality and training time\n",
    "- 50/50 minecraft + ucla works REALLY well\n",
    "\n",
    "it seems like ~100 samples is good enough for gemma 4b"
   ]
  },
  {
   "cell_type": "code",
   "execution_count": 1,
   "id": "cae67d34",
   "metadata": {},
   "outputs": [
    {
     "name": "stdout",
     "output_type": "stream",
     "text": [
      "\u001b[33mWARNING: Running pip as the 'root' user can result in broken permissions and conflicting behaviour with the system package manager, possibly rendering your system unusable. It is recommended to use a virtual environment instead: https://pip.pypa.io/warnings/venv. Use the --root-user-action option if you know what you are doing and want to suppress this warning.\u001b[0m\u001b[33m\n",
      "\u001b[0m\n",
      "\u001b[1m[\u001b[0m\u001b[34;49mnotice\u001b[0m\u001b[1;39;49m]\u001b[0m\u001b[39;49m A new release of pip is available: \u001b[0m\u001b[31;49m25.0.1\u001b[0m\u001b[39;49m -> \u001b[0m\u001b[32;49m25.2\u001b[0m\n",
      "\u001b[1m[\u001b[0m\u001b[34;49mnotice\u001b[0m\u001b[1;39;49m]\u001b[0m\u001b[39;49m To update, run: \u001b[0m\u001b[32;49mpython -m pip install --upgrade pip\u001b[0m\n",
      "Note: you may need to restart the kernel to use updated packages.\n"
     ]
    }
   ],
   "source": [
    "%pip install -qU transformers peft accelerate datasets trl einops sentencepiece bitsandbytes jinja2>=3.1.0 dotenv"
   ]
  },
  {
   "cell_type": "code",
   "execution_count": 2,
   "id": "baf9bfc4",
   "metadata": {},
   "outputs": [],
   "source": [
    "MODELS = [\n",
    "    \"google/gemma-3-4b-it\",\n",
    "    \"google/gemma-3-27b-it\",\n",
    "    \"gpt-5\"\n",
    "]\n",
    "\n",
    "# Load dataset categories from JSON file\n",
    "DATASETS1 = [\n",
    "    {\n",
    "    \"minecraft\": 1,  \n",
    "    },\n",
    "    {\n",
    "    \"ucla\": 1,  \n",
    "    },\n",
    "    {\n",
    "    \"nostupidquestions\": 1,  \n",
    "    },\n",
    "    {\n",
    "    \"copypasta\": 1,  \n",
    "    },\n",
    "]\n",
    "\n",
    "DATASETS2 = [\n",
    "    {\n",
    "    \"nerdy\": 1,  \n",
    "    },\n",
    "    {\n",
    "    \"personal\": 1,  \n",
    "    },\n",
    "    { # unalike\n",
    "    \"pop\": 1,  \n",
    "    \"religion\": 1,\n",
    "    \"tech\": 1\n",
    "    },\n",
    "    { # alike\n",
    "        \"tech\": 1,\n",
    "        \"nerdy\": 1,\n",
    "        \"finance\": 1,\n",
    "    },\n",
    "    { # format specific\n",
    "        \"copypasta\": 1,\n",
    "        \"nostupidquestions\": 1,\n",
    "        \"amitheasshole\": 1,\n",
    "    },\n",
    "    { # college student\n",
    "        \"ucla\": 1,\n",
    "        \"nerdy\": 1,\n",
    "        \"okbuddy\": 1,\n",
    "        \"copypasta\": 1,\n",
    "        \"pop\": 1,\n",
    "        \"food\": 1,\n",
    "        \"animals\": 1,\n",
    "    },\n",
    "    { # new mother\n",
    "        \"pregnancy\": 1,\n",
    "        \"parenting\": 1,\n",
    "        \"baby\": 1,\n",
    "        \"food\": 1,\n",
    "        \"amitheasshole\": 1,\n",
    "        \"pop\": 1,\n",
    "        \"boomerhumor\": 1,\n",
    "    },\n",
    "]\n",
    "\n",
    "TRAIN_SIZES = [\n",
    "    10, 20, 50, 100, 250, 500, 1000, 2000\n",
    "]\n",
    "\n",
    "EXPERIMENTS = [\n",
    "    \"self defined\",\n",
    "    \"summary\",\n",
    "    \"like history\",\n",
    "    \"fine tune\",\n",
    "    \"soft prompt\",\n",
    "]\n",
    "\n",
    "PROMPT_TOKENS = 64\n",
    "MICRO_BATCH_SIZE = 1\n",
    "GRAD_ACCUM_STEPS = 1\n",
    "LEARNING_RATE = 0.2\n",
    "NUM_TRAIN_STEPS = 1000  \n",
    "MAX_SEQ_LEN = 2048\n",
    "\n",
    "MODEL_OUTPUT_DIR = \"models\"\n",
    "GENERATED_OUTPUT_DIR = \"generated\""
   ]
  },
  {
   "cell_type": "markdown",
   "id": "94dabf1f",
   "metadata": {},
   "source": [
    "## Dataset Loading"
   ]
  },
  {
   "cell_type": "code",
   "execution_count": 3,
   "id": "c1f1bc1a",
   "metadata": {},
   "outputs": [],
   "source": [
    "# write a generator to lazily load dataset from json file based on dataset argument\n",
    "\n",
    "\"\"\"\n",
    "choice for sample ablation:\n",
    "    - make sure to increase max number of training steps as you go\n",
    "    - do some testing beforehand for 1000, 5000 to find good number of steps\n",
    "    - 10, 20, 50, 100, 250, 500, 1000, 5000\n",
    "    - minecraft\n",
    "    - ucla\n",
    "    - nostupidquestions   \n",
    "    - copypasta\n",
    "    - 4 * 8 = 32 soft prompts\n",
    "    \n",
    "choice (for 100 samples, or optimal from above):\n",
    "    - nerdy\n",
    "    - personal \n",
    "    - alike 3\n",
    "    - unalike 3\n",
    "    - format specific\n",
    "    - college student \n",
    "    - new mother \n",
    "    - creative gen alpha \n",
    "\"\"\"\n",
    "\n",
    "from typing import List, Dict\n",
    "import json\n",
    "import re\n",
    "import random, math\n",
    "\n",
    "def load_datasets_proportional(datasets_dict: Dict[str, float], total_posts: int, prompt: str) -> List[dict]:\n",
    "    \"\"\"\n",
    "    Load datasets with proportional sampling.\n",
    "    \n",
    "    Args:\n",
    "        datasets_dict: Dictionary mapping dataset names to their proportions, e.g. {\"minecraft\": 1, \"ucla\": 1} will load half minecraft, half ucla\n",
    "        total_posts: Total number of posts desired across all datasets\n",
    "    \n",
    "    Returns:\n",
    "        List of examples in the format: {\"instruction\": PROMPT, \"output\": post}\n",
    "    \"\"\"\n",
    "    \n",
    "    examples: List[dict] = []\n",
    "    \n",
    "    # Get total of all values in datasets_dict\n",
    "    total_proportion = sum(datasets_dict.values())\n",
    "    for dataset_name, proportion in datasets_dict.items():\n",
    "        # Calculate number of posts for this dataset\n",
    "        factor = proportion / total_proportion\n",
    "        target_count = math.ceil(total_posts * factor)\n",
    "        print(f\"Loading {target_count} posts from {dataset_name} dataset ({factor*100:.1f}%)\")\n",
    "        \n",
    "        # Load sampled Reddit posts from JSON created by sample-posts.py\n",
    "        # Each item is a dict with keys: title, subreddit, self_text\n",
    "        try:\n",
    "            with open(f\"../../datasets/{dataset_name}.json\", \"r\", encoding=\"utf-8\") as f:\n",
    "                reddit_posts: List[dict] = json.load(f)\n",
    "        except FileNotFoundError:\n",
    "            print(f\"Warning: Could not find dataset file for {dataset_name}\")\n",
    "            continue\n",
    "        \n",
    "        # Filter valid posts (must have self_text and no image_url)\n",
    "        valid_posts = []\n",
    "        for p in reddit_posts:\n",
    "            title = p.get(\"title\", \"\")\n",
    "            self_text = p.get(\"self_text\", \"\")\n",
    "            image_url = p.get(\"image_url\", \"\")\n",
    "            \n",
    "            if self_text and not image_url:\n",
    "                subreddit = p.get(\"subreddit\", \"\")\n",
    "                subreddit = re.sub(r\"\\s*(/)?r/\", \"r/\", subreddit)\n",
    "                post = f\"title: {title}\\nself_text: {self_text}\\nsubreddit: {subreddit}\"\n",
    "                valid_posts.append({\"instruction\": prompt, \"output\": post})\n",
    "        \n",
    "        print(f\"Found {len(valid_posts)} valid posts in {dataset_name}\")\n",
    "        \n",
    "        # Sample the target number of posts\n",
    "        if len(valid_posts) >= target_count:\n",
    "            # Randomly sample target_count posts\n",
    "            sampled_posts = random.sample(valid_posts, target_count)\n",
    "        else:\n",
    "            # Use all available posts if we don't have enough\n",
    "            print(f\"Warning: Only {len(valid_posts)} posts available, using all\")\n",
    "            sampled_posts = valid_posts\n",
    "        \n",
    "        examples.extend(sampled_posts)\n",
    "    \n",
    "    # Shuffle the final dataset to mix posts from different datasets\n",
    "    random.shuffle(examples)\n",
    "    \n",
    "    print(f\"Loaded dataset {datasets_dict} with {total_posts} posts\")\n",
    "    return examples\n",
    "\n",
    "# Example usage - modify these values as needed\n",
    "# datasets_dict = {\n",
    "#     \"ucla\": 0.5,  # 100% minecraft posts\n",
    "#     \"minecraft\": 0.5,  \n",
    "# }\n",
    "# total_posts = 100  # Total number of posts desired\n",
    "\n",
    "# examples = load_datasets_proportional(datasets_dict, total_posts, \"prompt\")\n",
    "\n",
    "# print(f\"Total number of examples loaded: {len(examples)}\")\n",
    "# if examples:\n",
    "#     print(\"Sample example:\")\n",
    "#     print(examples[0])\n"
   ]
  },
  {
   "cell_type": "code",
   "execution_count": 4,
   "id": "e5b9c0e7",
   "metadata": {},
   "outputs": [],
   "source": [
    "# Preprocess instruction/output dataset\n",
    "from datasets import Dataset\n",
    "\n",
    "def preprocess_dataset(examples, tokenizer):\n",
    "    # Build HF dataset from examples [{\"instruction\", \"output\"}]\n",
    "    dataset = Dataset.from_list(examples)\n",
    "\n",
    "    # Tokenize instruction with chat template, and supervise only the output tokens\n",
    "    def tokenize_io(sample):\n",
    "        # Build chat prompt prefix for the user instruction\n",
    "        messages = [{\"role\": \"user\", \"content\": sample[\"instruction\"]}]\n",
    "        prompt_text = tokenizer.apply_chat_template(\n",
    "            messages,\n",
    "            tokenize=False,\n",
    "            add_generation_prompt=True,\n",
    "        )\n",
    "\n",
    "        prompt_ids = tokenizer(prompt_text, add_special_tokens=False)[\"input_ids\"]\n",
    "        output_ids = tokenizer(sample[\"output\"], add_special_tokens=False)[\"input_ids\"]\n",
    "        eos_id = tokenizer.eos_token_id\n",
    "\n",
    "        input_ids = prompt_ids + output_ids + ([eos_id] if eos_id is not None else [])\n",
    "        labels = ([-100] * len(prompt_ids)) + output_ids + ([eos_id] if eos_id is not None else [])\n",
    "        attention_mask = [1] * len(input_ids)\n",
    "\n",
    "        # Truncate from the left if too long, keeping alignment between inputs and labels\n",
    "        if len(input_ids) > MAX_SEQ_LEN:\n",
    "            input_ids = input_ids[-MAX_SEQ_LEN:]\n",
    "            labels = labels[-MAX_SEQ_LEN:]\n",
    "            attention_mask = attention_mask[-MAX_SEQ_LEN:]\n",
    "\n",
    "        return {\n",
    "            \"input_ids\": input_ids,\n",
    "            \"attention_mask\": attention_mask,\n",
    "            \"labels\": labels,\n",
    "        }\n",
    "\n",
    "    train_ds = dataset.map(tokenize_io, remove_columns=dataset.column_names)\n",
    "    print(\"Preprocessed dataset...\")\n",
    "    return train_ds\n"
   ]
  },
  {
   "cell_type": "markdown",
   "id": "30a47b18",
   "metadata": {},
   "source": [
    "## Model Loading"
   ]
  },
  {
   "cell_type": "code",
   "execution_count": 5,
   "id": "ef940c71",
   "metadata": {},
   "outputs": [],
   "source": [
    "from huggingface_hub import login as huggingface_login\n",
    "import torch\n",
    "from transformers import AutoTokenizer, AutoModelForCausalLM\n",
    "import dotenv, os\n",
    "from peft import PeftModel, PromptTuningConfig, PromptTuningInit, get_peft_model, TaskType\n",
    "\n",
    "def login():\n",
    "    dotenv.load_dotenv()\n",
    "    huggingface_login(token=os.getenv(\"HUGGING_FACE_HUB_TOKEN\"))\n",
    "\n",
    "def load_model(model_name: str):\n",
    "    bf16 = torch.cuda.is_available() and torch.cuda.get_device_capability(0)[0] >= 8\n",
    "    tokenizer = AutoTokenizer.from_pretrained(model_name, use_fast=True)\n",
    "    if tokenizer.pad_token is None:\n",
    "        tokenizer.pad_token = tokenizer.eos_token\n",
    "\n",
    "    model = AutoModelForCausalLM.from_pretrained(\n",
    "        model_name,\n",
    "        torch_dtype=torch.bfloat16 if bf16 else torch.float16,\n",
    "        device_map=\"auto\",\n",
    "        low_cpu_mem_usage=True,\n",
    "    )\n",
    "    \n",
    "    print(f\"Loaded {model_name} model and tokenizer\")\n",
    "    return model, tokenizer\n",
    "\n",
    "def init_peft_model(model, model_name: str):\n",
    "    config = PromptTuningConfig(\n",
    "        task_type=TaskType.CAUSAL_LM,\n",
    "        prompt_tuning_init=PromptTuningInit.TEXT,\n",
    "        num_virtual_tokens=PROMPT_TOKENS,\n",
    "        prompt_tuning_init_text=\"Generate a reddit post.\",\n",
    "        tokenizer_name_or_path=model_name,\n",
    "    )\n",
    "    return get_peft_model(model, config)\n",
    "\n",
    "def apply_peft_adapter(base_model, adapter_name: str):\n",
    "    model = PeftModel.from_pretrained(base_model, adapter_name)\n",
    "    model.eval()\n",
    "    return model\n",
    "\n"
   ]
  },
  {
   "cell_type": "markdown",
   "id": "79ad76af",
   "metadata": {},
   "source": [
    "## Soft Prompt Training"
   ]
  },
  {
   "cell_type": "code",
   "execution_count": 6,
   "id": "59fb50db",
   "metadata": {},
   "outputs": [],
   "source": [
    "# iterate through models, datasets, and dataset sizes to create soft prompt adapters for each \n",
    "# 4 * 8 = 32 soft prompts\n",
    "# 2 * 8 = 16 adapters\n",
    "# take note of training time, adapter size\n",
    "\n",
    "import math\n",
    "from torch.utils.data import DataLoader\n",
    "from transformers import get_linear_schedule_with_warmup\n",
    "from torch.optim import AdamW\n",
    "\n",
    "def train_soft_prompt(model, tokenizer, train_ds, train_steps, output_dir):\n",
    "    def collate_fn(features):\n",
    "        pad_id = tokenizer.pad_token_id\n",
    "        batch_size = len(features)\n",
    "        seq_lens = [len(f[\"input_ids\"]) for f in features]\n",
    "        max_len = max(seq_lens)\n",
    "\n",
    "        input_ids = torch.full((batch_size, max_len), pad_id, dtype=torch.long)\n",
    "        attention_mask = torch.zeros((batch_size, max_len), dtype=torch.long)\n",
    "        labels = torch.full((batch_size, max_len), -100, dtype=torch.long)\n",
    "\n",
    "        for i, f in enumerate(features):\n",
    "            ids = torch.tensor(f[\"input_ids\"], dtype=torch.long)\n",
    "            attn = torch.tensor(f[\"attention_mask\"], dtype=torch.long)\n",
    "            labs = torch.tensor(f[\"labels\"], dtype=torch.long)\n",
    "            L = ids.size(0)\n",
    "            input_ids[i, :L] = ids\n",
    "            attention_mask[i, :L] = attn\n",
    "            labels[i, :L] = labs\n",
    "\n",
    "        return {\"input_ids\": input_ids, \"attention_mask\": attention_mask, \"labels\": labels}\n",
    "\n",
    "\n",
    "    train_loader = DataLoader(\n",
    "        train_ds,\n",
    "        batch_size=MICRO_BATCH_SIZE,\n",
    "        shuffle=True,\n",
    "        collate_fn=collate_fn,\n",
    "    )\n",
    "\n",
    "    optimizer = AdamW(model.parameters(), lr=LEARNING_RATE)\n",
    "    # Total optimizer steps we intend to take\n",
    "    total_optim_steps = train_steps\n",
    "    num_warmup_steps = max(1, int(0.1 * total_optim_steps))\n",
    "    scheduler = get_linear_schedule_with_warmup(\n",
    "        optimizer,\n",
    "        num_warmup_steps=num_warmup_steps,\n",
    "        num_training_steps=total_optim_steps,\n",
    "    )\n",
    "\n",
    "    model.train()\n",
    "\n",
    "\n",
    "    device = torch.device(\"cuda:0\" if torch.cuda.is_available() else \"cpu\")\n",
    "    model = model.to(device)\n",
    "    model_device = device\n",
    "\n",
    "    print(f\"Training on device: {device}\")\n",
    "\n",
    "    optimizer.zero_grad()\n",
    "    optim_step = 0\n",
    "    accumulated = 0\n",
    "    running_loss = 0.0\n",
    "    for epoch in range(10):  # repeat over dataset until reaching desired steps\n",
    "        for batch in train_loader:\n",
    "            batch = {k: v.to(model_device) for k, v in batch.items()}\n",
    "            outputs = model(**batch)\n",
    "            loss = outputs.loss\n",
    "            (loss / GRAD_ACCUM_STEPS).backward()\n",
    "            running_loss += loss.item()\n",
    "            accumulated += 1\n",
    "            if accumulated % GRAD_ACCUM_STEPS == 0:\n",
    "                optimizer.step()\n",
    "                scheduler.step()\n",
    "                optimizer.zero_grad()\n",
    "                if optim_step % 10 == 0:\n",
    "                    print(f\"step {optim_step} loss {running_loss / GRAD_ACCUM_STEPS:.4f}\")\n",
    "                running_loss = 0.0\n",
    "                optim_step += 1\n",
    "                if optim_step >= total_optim_steps:\n",
    "                    break\n",
    "        if optim_step >= total_optim_steps:\n",
    "            break\n",
    "\n",
    "    model.save_pretrained(output_dir)\n",
    "    print(\"Saved prompt adapter to:\", output_dir)"
   ]
  },
  {
   "cell_type": "markdown",
   "id": "656d588b",
   "metadata": {},
   "source": [
    "## Fine Tuning"
   ]
  },
  {
   "cell_type": "code",
   "execution_count": 7,
   "id": "8bb228af",
   "metadata": {},
   "outputs": [],
   "source": [
    "# iterate through models, datasets \n",
    "# 2 * 8 = 16 LORA fine tuned models\n",
    "# take note of training time, model size\n",
    "\n",
    "def train_fine_tune_lora(model, tokenizer, train_ds, train_steps, output_dir):\n",
    "    pass\n"
   ]
  },
  {
   "cell_type": "markdown",
   "id": "eb66d8d1",
   "metadata": {},
   "source": [
    "## Generate posts"
   ]
  },
  {
   "cell_type": "code",
   "execution_count": 8,
   "id": "b2d20ea7",
   "metadata": {},
   "outputs": [],
   "source": [
    "# 100 posts per cell \n",
    "# look into inference parallelism\n",
    "# iterate through models, experiments, datasets\n",
    "# write each generated post to json file indicating model, experiment, dataset\n",
    "\n",
    "def generate_post(prompt, model, tokenizer):\n",
    "\n",
    "    messages = [\n",
    "        {\"role\": \"user\", \"content\": prompt},\n",
    "    ]\n",
    "\n",
    "    inputs = tokenizer.apply_chat_template(\n",
    "        messages,\n",
    "        add_generation_prompt=True,\n",
    "        tokenize=True,\n",
    "        return_tensors=\"pt\",\n",
    "        return_dict=True,\n",
    "    ).to(model.device)\n",
    "\n",
    "    with torch.no_grad():\n",
    "        outputs = model.generate(\n",
    "            **inputs,\n",
    "            max_new_tokens=MAX_SEQ_LEN,\n",
    "            temperature=0.7,\n",
    "            top_p=0.9,\n",
    "            do_sample=True,\n",
    "            repetition_penalty=1.1,\n",
    "        )\n",
    "    \n",
    "    # Extract the generated text and parse the post format\n",
    "    generated_text = tokenizer.decode(outputs[0][inputs[\"input_ids\"].shape[-1]:])\n",
    "    \n",
    "    # Initialize the post object\n",
    "    post_obj = {\n",
    "        \"title\": \"\",\n",
    "        \"self_text\": \"\",\n",
    "        \"subreddit\": \"\"\n",
    "    }\n",
    "    \n",
    "    # Split by lines and parse each field\n",
    "    lines = generated_text.strip().split('\\n')\n",
    "    \n",
    "    for line in lines:\n",
    "        line = line.strip()\n",
    "        if line.startswith(\"title: \"):\n",
    "            post_obj[\"title\"] = line[7:]  # Remove \"title: \" prefix\n",
    "        elif line.startswith(\"self_text: \"):\n",
    "            post_obj[\"self_text\"] = line[11:]  # Remove \"self_text: \" prefix\n",
    "        elif line.startswith(\"subreddit: \"):\n",
    "            post_obj[\"subreddit\"] = line[11:]  # Remove \"subreddit: \" prefix\n",
    "    \n",
    "    return post_obj\n"
   ]
  },
  {
   "cell_type": "markdown",
   "id": "f41960fb",
   "metadata": {},
   "source": [
    "## Judge LLM"
   ]
  },
  {
   "cell_type": "code",
   "execution_count": 9,
   "id": "d3ddc01a",
   "metadata": {},
   "outputs": [],
   "source": [
    "# judge whether each generated post adheres to dataset category, heuristic based on word content and llm judge\n",
    "\n",
    "def judge_post_gpt5(post, dataset):\n",
    "    JUDGE_PROMPTS = {\n",
    "        \"nerdy\": \"Please judge whether the following post is nerdy. \\n\\npost: {post}\\n\\n\",\n",
    "        \"personal\": \"Please judge whether the following post is personal. \\n\\npost: {post}\\n\\n\",\n",
    "        \"alike 3\": \"Please judge whether the following post is similar to the 3 posts below. \\n\\npost: {post}\\n\\n\",\n",
    "        \"unalike 3\": \"Please judge whether the following post is not similar to the 3 posts below. \\n\\npost: {post}\\n\\n\",\n",
    "        \"format specific\": \"Please judge whether the following post is formatted correctly. \\n\\npost: {post}\\n\\n\",\n",
    "        \"college student\": \"Please judge whether the following post is college student. \\n\\npost: {post}\\n\\n\",\n",
    "        \"new mother\": \"Please judge whether the following post is new mother. \\n\\npost: {post}\\n\\n\",\n",
    "        \"creative gen alpha\": \"Please judge whether the following post is creative gen alpha. \\n\\npost: {post}\\n\\n\",\n",
    "    }\n",
    "    \n",
    "\n",
    "def judge_post_heuristic(post, dataset):\n",
    "    KEYWORDS = {\n",
    "        \"nerdy\": [],\n",
    "        \"personal\": [],\n",
    "        \"alike 3\": [],\n",
    "        \"unalike 3\": [],\n",
    "        \"format specific\": [],\n",
    "        \"college student\": [],\n",
    "        \"new mother\": [],\n",
    "        \"creative gen alpha\": [],\n",
    "    }"
   ]
  },
  {
   "cell_type": "markdown",
   "id": "caad1c6b",
   "metadata": {},
   "source": [
    "## Run Pipeline"
   ]
  },
  {
   "cell_type": "code",
   "execution_count": 10,
   "id": "2d853c86",
   "metadata": {},
   "outputs": [],
   "source": [
    "# JSON output helpers\n",
    "from pathlib import Path\n",
    "import json\n",
    "import tqdm\n",
    "\n",
    "def ensure_parent_dir(path_str: str) -> Path:\n",
    "    path = Path(path_str)\n",
    "    path.parent.mkdir(parents=True, exist_ok=True)\n",
    "    return path\n",
    "\n",
    "def collect_posts(n: int, prompt: str, model, tokenizer) -> list:\n",
    "    posts = []\n",
    "    for i in tqdm(range(n), desc=\"Generating posts\"):\n",
    "        post = generate_post(prompt, model, tokenizer)\n",
    "        # print(f\"generated post {i}\")\n",
    "        posts.append(post)\n",
    "    return posts\n",
    "\n",
    "def write_posts_json(path_str: str, posts: list) -> None:\n",
    "    path = ensure_parent_dir(path_str)\n",
    "    with open(path, \"w\", encoding=\"utf-8\") as f:\n",
    "        json.dump(posts, f, ensure_ascii=False, indent=2)\n"
   ]
  },
  {
   "cell_type": "code",
   "execution_count": 11,
   "id": "fdddbe34",
   "metadata": {},
   "outputs": [],
   "source": [
    "MODELS = [\n",
    "    \"google/gemma-3-4b-it\",\n",
    "    \"google/gemma-3-27b-it\",\n",
    "    \"gpt-5\"\n",
    "]\n",
    "\n",
    "\n",
    "# Load dataset categories from JSON file\n",
    "DATASET1_NAMES = [\n",
    "    \"minecraft\",\n",
    "    \"ucla\",\n",
    "    \"nostupidquestions\",\n",
    "    \"copypasta\",\n",
    "    \"varietypack\",\n",
    "]\n",
    "DATASETS1 = [\n",
    "    {\n",
    "        \"minecraft\": 1,  \n",
    "    },\n",
    "    {\n",
    "        \"ucla\": 1,  \n",
    "    },\n",
    "    {\n",
    "        \"nostupidquestions\": 1,  \n",
    "    },\n",
    "    {\n",
    "        \"copypasta\": 1,  \n",
    "    },\n",
    "    {\n",
    "        \"nerdy\": 1,  \n",
    "        \"personal\": 1,\n",
    "        \"amitheasshole\": 1,\n",
    "        \"tech\": 1,\n",
    "        \"pop\": 1,\n",
    "        \"animals\": 1, \n",
    "        \"boomerhumor\": 1,\n",
    "        \"copypasta\": 1,\n",
    "        \"creative\": 1,\n",
    "        \"food\": 1,\n",
    "        \"nba\": 1,\n",
    "        \"religion\": 1,\n",
    "        \"school\": 1,\n",
    "        \"ucla\": 1,\n",
    "    },\n",
    "]\n",
    "\n",
    "DATASET2_NAMES = [\n",
    "    \"nerdy\",\n",
    "    \"personal\",\n",
    "    \"unalike\",\n",
    "    \"alike\",\n",
    "    \"formatspecific\",\n",
    "    \"college\",\n",
    "    \"newmother\",\n",
    "]\n",
    "DATASETS2 = [\n",
    "    {\n",
    "        \"nerdy\": 1,  \n",
    "    },\n",
    "    {\n",
    "        \"personal\": 1,  \n",
    "    },\n",
    "    { # unalike\n",
    "        \"pop\": 1,  \n",
    "        \"religion\": 1,\n",
    "        \"tech\": 1\n",
    "    },\n",
    "    { # alike\n",
    "        \"tech\": 1,\n",
    "        \"nerdy\": 1,\n",
    "        \"finance\": 1,\n",
    "    },\n",
    "    { # format specific\n",
    "        \"copypasta\": 1,\n",
    "        \"nostupidquestions\": 1,\n",
    "        \"amitheasshole\": 1,\n",
    "    },\n",
    "    { # college student\n",
    "        \"ucla\": 1,\n",
    "        \"nerdy\": 1,\n",
    "        \"okbuddy\": 1,\n",
    "        \"copypasta\": 1,\n",
    "        \"pop\": 1,\n",
    "        \"food\": 1,\n",
    "        \"animals\": 1,\n",
    "    },\n",
    "    { # new mother\n",
    "        \"pregnancy\": 1,\n",
    "        \"parenting\": 1,\n",
    "        \"baby\": 1,\n",
    "        \"food\": 1,\n",
    "        \"amitheasshole\": 1,\n",
    "        \"pop\": 1,\n",
    "        \"boomerhumor\": 1,\n",
    "    },\n",
    "]\n",
    "\n",
    "TRAIN_SIZES = [\n",
    "    10, 20, 50, 100, 250, 500, 1000,2000\n",
    "]\n",
    "\n",
    "EXPERIMENTS = [\n",
    "    \"self defined\",\n",
    "    \"summary\",\n",
    "    \"like history\",\n",
    "    \"fine tune\",\n",
    "    \"soft prompt\",\n",
    "]\n",
    "\n",
    "PROMPT_TOKENS = 64\n",
    "MICRO_BATCH_SIZE = 1\n",
    "GRAD_ACCUM_STEPS = 1\n",
    "LEARNING_RATE = 0.2\n",
    "NUM_TRAIN_STEPS = 1000  \n",
    "MAX_SEQ_LEN = 2048\n",
    "\n",
    "MODEL_OUTPUT_DIR = \"models\"\n",
    "GENERATED_OUTPUT_DIR = \"generated\""
   ]
  },
  {
   "cell_type": "code",
   "execution_count": 12,
   "id": "6006704d",
   "metadata": {},
   "outputs": [],
   "source": [
    "PROMPTS = {\n",
    "    \"self defined\": {\n",
    "        # user defines their own interests. e.g. a bio of interests\n",
    "        \"nerdy\": \"Please generate one reddit post. Use this format. \\n\\ntitle: {title}\\n self_text: {self_text}\\n subreddit: {subreddit}\\n\",\n",
    "        \"personal\": \"Please generate one reddit post. Use this format. \\n\\ntitle: {title}\\n self_text: {self_text}\\n subreddit: {subreddit}\\n\", \n",
    "        \"alike 3\": \"Please generate one reddit post. Use this format. \\n\\ntitle: {title}\\n self_text: {self_text}\\n subreddit: {subreddit}\\n\",\n",
    "        \"unalike 3\": \"Please generate one reddit post. Use this format. \\n\\ntitle: {title}\\n self_text: {self_text}\\n subreddit: {subreddit}\\n\",\n",
    "        \"format specific\": \"Please generate one reddit post. Use this format. \\n\\ntitle: {title}\\n self_text: {self_text}\\n subreddit: {subreddit}\\n\",\n",
    "        \"college student\": \"Please generate one reddit post. Use this format. \\n\\ntitle: {title}\\n self_text: {self_text}\\n subreddit: {subreddit}\\n\",\n",
    "        \"new mother\": \"Please generate one reddit post. Use this format. \\n\\ntitle: {title}\\n self_text: {self_text}\\n subreddit: {subreddit}\\n\",\n",
    "        \"creative gen alpha\": \"Please generate one reddit post. Use this format. \\n\\ntitle: {title}\\n self_text: {self_text}\\n subreddit: {subreddit}\\n\",\n",
    "    },\n",
    "    \"fine tune\": \"Please generate one reddit post. Use this format. \\n\\ntitle: {title}\\n self_text: {self_text}\\n subreddit: {subreddit}\\n\",\n",
    "    \"soft prompt\": \"Please generate one reddit post. Use this format. \\n\\ntitle: {title}\\n self_text: {self_text}\\n subreddit: {subreddit}\\n\",\n",
    "}"
   ]
  },
  {
   "cell_type": "code",
   "execution_count": 13,
   "id": "c396dbae",
   "metadata": {},
   "outputs": [],
   "source": [
    "def generate_summarized_prompt(dataset):\n",
    "    return \"\"\n",
    "\n",
    "def generate_like_history_prompt(dataset):\n",
    "    return \"\""
   ]
  },
  {
   "cell_type": "markdown",
   "id": "cf6f9a65",
   "metadata": {},
   "source": [
    "### testing..."
   ]
  },
  {
   "cell_type": "code",
   "execution_count": 14,
   "id": "7a9f9210",
   "metadata": {},
   "outputs": [],
   "source": [
    "# # single test\n",
    "\n",
    "# model_name = MODELS[0]\n",
    "# dataset_name = DATASET1_NAMES[0]\n",
    "# dataset_dict = DATASETS1[0]\n",
    "# train_size = TRAIN_SIZES[3]\n",
    "# print(model_name, dataset_name, train_size)\n",
    "\n",
    "# # load data + model\n",
    "# login()\n",
    "# model, tokenizer = load_model(model_name)\n",
    "# examples = load_datasets_proportional(dataset_dict, train_size, PROMPTS[\"soft prompt\"]) \n",
    "# train_ds = preprocess_dataset(examples, tokenizer)"
   ]
  },
  {
   "cell_type": "code",
   "execution_count": 15,
   "id": "90ef0daf",
   "metadata": {},
   "outputs": [],
   "source": [
    "# soft_output_dir = f\"{MODEL_OUTPUT_DIR}/soft_prompts/soft_prompt_{model_name}_{dataset_name}_{train_size}\" \n",
    "\n",
    "# # initialize peft model\n",
    "# peft_model = init_peft_model(model, model_name)\n",
    "\n",
    "# # train soft prompt\n",
    "# train_soft_prompt(peft_model, tokenizer, train_ds, NUM_TRAIN_STEPS, soft_output_dir)"
   ]
  },
  {
   "cell_type": "code",
   "execution_count": 16,
   "id": "c4e54cf6",
   "metadata": {},
   "outputs": [],
   "source": [
    "# # generate posts\n",
    "\n",
    "# from pathlib import Path\n",
    "\n",
    "# soft_output_dir = f\"{MODEL_OUTPUT_DIR}/soft_prompts/soft_prompt_{model_name}_{dataset_name}_{train_size}\" \n",
    "\n",
    "# # load peft model\n",
    "# peft_model = apply_peft_adapter(model, soft_output_dir)\n",
    "\n",
    "# out_path = Path(f\"{GENERATED_OUTPUT_DIR}/train_size_ablation/{model_name}_{dataset_name}_{train_size}.json\")\n",
    "# out_path.parent.mkdir(parents=True, exist_ok=True)\n",
    "\n",
    "# posts = collect_posts(5, PROMPTS[\"soft prompt\"], peft_model, tokenizer)\n",
    "# write_posts_json(out_path, posts)"
   ]
  },
  {
   "cell_type": "markdown",
   "id": "0f7c7088",
   "metadata": {},
   "source": [
    "### Pipelines"
   ]
  },
  {
   "cell_type": "code",
   "execution_count": 18,
   "id": "ffd32687",
   "metadata": {},
   "outputs": [
    {
     "name": "stderr",
     "output_type": "stream",
     "text": [
      "Note: Environment variable`HF_TOKEN` is set and is the current active token independently from the token you've just configured.\n"
     ]
    },
    {
     "data": {
      "application/vnd.jupyter.widget-view+json": {
       "model_id": "c8b9b21b34bf40b5b07c27b0d209c45b",
       "version_major": 2,
       "version_minor": 0
      },
      "text/plain": [
       "Models:   0%|          | 0/3 [00:00<?, ?it/s]"
      ]
     },
     "metadata": {},
     "output_type": "display_data"
    },
    {
     "data": {
      "application/vnd.jupyter.widget-view+json": {
       "model_id": "61f003c607e445908cbd625e42df3593",
       "version_major": 2,
       "version_minor": 0
      },
      "text/plain": [
       "Loading checkpoint shards:   0%|          | 0/2 [00:00<?, ?it/s]"
      ]
     },
     "metadata": {},
     "output_type": "display_data"
    },
    {
     "name": "stdout",
     "output_type": "stream",
     "text": [
      "Loaded google/gemma-3-4b-it model and tokenizer\n"
     ]
    },
    {
     "data": {
      "application/vnd.jupyter.widget-view+json": {
       "model_id": "e9b34df4c4de406eac064533c95d0256",
       "version_major": 2,
       "version_minor": 0
      },
      "text/plain": [
       "Datasets1:   0%|          | 0/5 [00:00<?, ?it/s]"
      ]
     },
     "metadata": {},
     "output_type": "display_data"
    },
    {
     "data": {
      "application/vnd.jupyter.widget-view+json": {
       "model_id": "e2d25d120d214f999df0e5724e29fb45",
       "version_major": 2,
       "version_minor": 0
      },
      "text/plain": [
       "Train sizes:   0%|          | 0/8 [00:00<?, ?it/s]"
      ]
     },
     "metadata": {},
     "output_type": "display_data"
    },
    {
     "name": "stdout",
     "output_type": "stream",
     "text": [
      "Soft prompt models/soft_prompts/google/gemma-3-4b-it/minecraft/10 exists, skipping training\n",
      "Output file generated/train_size_ablation/google/gemma-3-4b-it/minecraft/10.json already exists with posts, skipping generation\n",
      "Soft prompt models/soft_prompts/google/gemma-3-4b-it/minecraft/20 exists, skipping training\n",
      "Output file generated/train_size_ablation/google/gemma-3-4b-it/minecraft/20.json already exists with posts, skipping generation\n",
      "Soft prompt models/soft_prompts/google/gemma-3-4b-it/minecraft/50 exists, skipping training\n",
      "Output file generated/train_size_ablation/google/gemma-3-4b-it/minecraft/50.json already exists with posts, skipping generation\n",
      "Soft prompt models/soft_prompts/google/gemma-3-4b-it/minecraft/100 exists, skipping training\n",
      "Output file generated/train_size_ablation/google/gemma-3-4b-it/minecraft/100.json already exists with posts, skipping generation\n",
      "Soft prompt models/soft_prompts/google/gemma-3-4b-it/minecraft/250 exists, skipping training\n",
      "Output file generated/train_size_ablation/google/gemma-3-4b-it/minecraft/250.json already exists with posts, skipping generation\n",
      "Soft prompt models/soft_prompts/google/gemma-3-4b-it/minecraft/500 exists, skipping training\n",
      "Output file generated/train_size_ablation/google/gemma-3-4b-it/minecraft/500.json already exists with posts, skipping generation\n",
      "Soft prompt models/soft_prompts/google/gemma-3-4b-it/minecraft/1000 exists, skipping training\n",
      "Output file generated/train_size_ablation/google/gemma-3-4b-it/minecraft/1000.json already exists with posts, skipping generation\n",
      "Soft prompt models/soft_prompts/google/gemma-3-4b-it/minecraft/2000 exists, skipping training\n",
      "Output file generated/train_size_ablation/google/gemma-3-4b-it/minecraft/2000.json already exists with posts, skipping generation\n"
     ]
    },
    {
     "data": {
      "application/vnd.jupyter.widget-view+json": {
       "model_id": "648a1f35810a4ca6a5e21ce5ed53cd9c",
       "version_major": 2,
       "version_minor": 0
      },
      "text/plain": [
       "Train sizes:   0%|          | 0/8 [00:00<?, ?it/s]"
      ]
     },
     "metadata": {},
     "output_type": "display_data"
    },
    {
     "name": "stdout",
     "output_type": "stream",
     "text": [
      "Soft prompt models/soft_prompts/google/gemma-3-4b-it/ucla/10 exists, skipping training\n",
      "Output file generated/train_size_ablation/google/gemma-3-4b-it/ucla/10.json already exists with posts, skipping generation\n",
      "Soft prompt models/soft_prompts/google/gemma-3-4b-it/ucla/20 exists, skipping training\n",
      "Output file generated/train_size_ablation/google/gemma-3-4b-it/ucla/20.json already exists with posts, skipping generation\n",
      "Soft prompt models/soft_prompts/google/gemma-3-4b-it/ucla/50 exists, skipping training\n",
      "Output file generated/train_size_ablation/google/gemma-3-4b-it/ucla/50.json already exists with posts, skipping generation\n",
      "Soft prompt models/soft_prompts/google/gemma-3-4b-it/ucla/100 exists, skipping training\n",
      "Output file generated/train_size_ablation/google/gemma-3-4b-it/ucla/100.json already exists with posts, skipping generation\n",
      "Soft prompt models/soft_prompts/google/gemma-3-4b-it/ucla/250 exists, skipping training\n",
      "Output file generated/train_size_ablation/google/gemma-3-4b-it/ucla/250.json already exists with posts, skipping generation\n",
      "Soft prompt models/soft_prompts/google/gemma-3-4b-it/ucla/500 exists, skipping training\n",
      "Output file generated/train_size_ablation/google/gemma-3-4b-it/ucla/500.json already exists with posts, skipping generation\n",
      "Soft prompt models/soft_prompts/google/gemma-3-4b-it/ucla/1000 exists, skipping training\n",
      "Output file generated/train_size_ablation/google/gemma-3-4b-it/ucla/1000.json already exists with posts, skipping generation\n",
      "Soft prompt models/soft_prompts/google/gemma-3-4b-it/ucla/2000 exists, skipping training\n",
      "Output file generated/train_size_ablation/google/gemma-3-4b-it/ucla/2000.json already exists with posts, skipping generation\n"
     ]
    },
    {
     "data": {
      "application/vnd.jupyter.widget-view+json": {
       "model_id": "7c384347c8f24f06b919222373d4e71d",
       "version_major": 2,
       "version_minor": 0
      },
      "text/plain": [
       "Train sizes:   0%|          | 0/8 [00:00<?, ?it/s]"
      ]
     },
     "metadata": {},
     "output_type": "display_data"
    },
    {
     "name": "stdout",
     "output_type": "stream",
     "text": [
      "Soft prompt models/soft_prompts/google/gemma-3-4b-it/nostupidquestions/10 exists, skipping training\n",
      "Output file generated/train_size_ablation/google/gemma-3-4b-it/nostupidquestions/10.json already exists with posts, skipping generation\n",
      "Soft prompt models/soft_prompts/google/gemma-3-4b-it/nostupidquestions/20 exists, skipping training\n",
      "Output file generated/train_size_ablation/google/gemma-3-4b-it/nostupidquestions/20.json already exists with posts, skipping generation\n",
      "Soft prompt models/soft_prompts/google/gemma-3-4b-it/nostupidquestions/50 exists, skipping training\n",
      "Output file generated/train_size_ablation/google/gemma-3-4b-it/nostupidquestions/50.json already exists with posts, skipping generation\n",
      "Soft prompt models/soft_prompts/google/gemma-3-4b-it/nostupidquestions/100 exists, skipping training\n",
      "Output file generated/train_size_ablation/google/gemma-3-4b-it/nostupidquestions/100.json already exists with posts, skipping generation\n",
      "Soft prompt models/soft_prompts/google/gemma-3-4b-it/nostupidquestions/250 exists, skipping training\n",
      "Output file generated/train_size_ablation/google/gemma-3-4b-it/nostupidquestions/250.json already exists with posts, skipping generation\n",
      "Soft prompt models/soft_prompts/google/gemma-3-4b-it/nostupidquestions/500 exists, skipping training\n",
      "Output file generated/train_size_ablation/google/gemma-3-4b-it/nostupidquestions/500.json already exists with posts, skipping generation\n",
      "Soft prompt models/soft_prompts/google/gemma-3-4b-it/nostupidquestions/1000 exists, skipping training\n",
      "Output file generated/train_size_ablation/google/gemma-3-4b-it/nostupidquestions/1000.json already exists with posts, skipping generation\n",
      "Soft prompt models/soft_prompts/google/gemma-3-4b-it/nostupidquestions/2000 exists, skipping training\n",
      "Output file generated/train_size_ablation/google/gemma-3-4b-it/nostupidquestions/2000.json already exists with posts, skipping generation\n"
     ]
    },
    {
     "data": {
      "application/vnd.jupyter.widget-view+json": {
       "model_id": "955aa9e3ffab4a028d7176cb37f24a08",
       "version_major": 2,
       "version_minor": 0
      },
      "text/plain": [
       "Train sizes:   0%|          | 0/8 [00:00<?, ?it/s]"
      ]
     },
     "metadata": {},
     "output_type": "display_data"
    },
    {
     "name": "stdout",
     "output_type": "stream",
     "text": [
      "Soft prompt models/soft_prompts/google/gemma-3-4b-it/copypasta/10 exists, skipping training\n",
      "Output file generated/train_size_ablation/google/gemma-3-4b-it/copypasta/10.json already exists with posts, skipping generation\n",
      "Soft prompt models/soft_prompts/google/gemma-3-4b-it/copypasta/20 exists, skipping training\n",
      "Output file generated/train_size_ablation/google/gemma-3-4b-it/copypasta/20.json already exists with posts, skipping generation\n",
      "Soft prompt models/soft_prompts/google/gemma-3-4b-it/copypasta/50 exists, skipping training\n",
      "Output file generated/train_size_ablation/google/gemma-3-4b-it/copypasta/50.json already exists with posts, skipping generation\n",
      "Soft prompt models/soft_prompts/google/gemma-3-4b-it/copypasta/100 exists, skipping training\n",
      "Output file generated/train_size_ablation/google/gemma-3-4b-it/copypasta/100.json already exists with posts, skipping generation\n",
      "Soft prompt models/soft_prompts/google/gemma-3-4b-it/copypasta/250 exists, skipping training\n",
      "Output file generated/train_size_ablation/google/gemma-3-4b-it/copypasta/250.json already exists with posts, skipping generation\n",
      "Soft prompt models/soft_prompts/google/gemma-3-4b-it/copypasta/500 exists, skipping training\n",
      "Output file generated/train_size_ablation/google/gemma-3-4b-it/copypasta/500.json already exists with posts, skipping generation\n",
      "Soft prompt models/soft_prompts/google/gemma-3-4b-it/copypasta/1000 exists, skipping training\n",
      "Output file generated/train_size_ablation/google/gemma-3-4b-it/copypasta/1000.json already exists with posts, skipping generation\n",
      "Soft prompt models/soft_prompts/google/gemma-3-4b-it/copypasta/2000 exists, skipping training\n",
      "Output file generated/train_size_ablation/google/gemma-3-4b-it/copypasta/2000.json already exists with posts, skipping generation\n"
     ]
    },
    {
     "data": {
      "application/vnd.jupyter.widget-view+json": {
       "model_id": "9fa575d86d8b4c42b994fe0fffc1afd4",
       "version_major": 2,
       "version_minor": 0
      },
      "text/plain": [
       "Train sizes:   0%|          | 0/8 [00:00<?, ?it/s]"
      ]
     },
     "metadata": {},
     "output_type": "display_data"
    },
    {
     "name": "stdout",
     "output_type": "stream",
     "text": [
      "Soft prompt models/soft_prompts/google/gemma-3-4b-it/varietypack/10 exists, skipping training\n",
      "Output file generated/train_size_ablation/google/gemma-3-4b-it/varietypack/10.json already exists with posts, skipping generation\n",
      "Soft prompt models/soft_prompts/google/gemma-3-4b-it/varietypack/20 exists, skipping training\n",
      "Output file generated/train_size_ablation/google/gemma-3-4b-it/varietypack/20.json already exists with posts, skipping generation\n",
      "Soft prompt models/soft_prompts/google/gemma-3-4b-it/varietypack/50 exists, skipping training\n",
      "Output file generated/train_size_ablation/google/gemma-3-4b-it/varietypack/50.json already exists with posts, skipping generation\n",
      "Soft prompt models/soft_prompts/google/gemma-3-4b-it/varietypack/100 exists, skipping training\n",
      "Output file generated/train_size_ablation/google/gemma-3-4b-it/varietypack/100.json already exists with posts, skipping generation\n",
      "Soft prompt models/soft_prompts/google/gemma-3-4b-it/varietypack/250 exists, skipping training\n",
      "Output file generated/train_size_ablation/google/gemma-3-4b-it/varietypack/250.json already exists with posts, skipping generation\n",
      "Soft prompt models/soft_prompts/google/gemma-3-4b-it/varietypack/500 exists, skipping training\n",
      "Output file generated/train_size_ablation/google/gemma-3-4b-it/varietypack/500.json already exists with posts, skipping generation\n",
      "Soft prompt models/soft_prompts/google/gemma-3-4b-it/varietypack/1000 exists, skipping training\n",
      "Output file generated/train_size_ablation/google/gemma-3-4b-it/varietypack/1000.json already exists with posts, skipping generation\n",
      "Soft prompt models/soft_prompts/google/gemma-3-4b-it/varietypack/2000 exists, skipping training\n",
      "Output file generated/train_size_ablation/google/gemma-3-4b-it/varietypack/2000.json already exists with posts, skipping generation\n"
     ]
    },
    {
     "data": {
      "application/vnd.jupyter.widget-view+json": {
       "model_id": "09f59a9892794f41ab2c6703025bda09",
       "version_major": 2,
       "version_minor": 0
      },
      "text/plain": [
       "Fetching 12 files:   0%|          | 0/12 [00:00<?, ?it/s]"
      ]
     },
     "metadata": {},
     "output_type": "display_data"
    },
    {
     "data": {
      "application/vnd.jupyter.widget-view+json": {
       "model_id": "48b6199ac8114efbb625f484c9c24979",
       "version_major": 2,
       "version_minor": 0
      },
      "text/plain": [
       "model-00006-of-00012.safetensors:   0%|          | 0.00/4.95G [00:00<?, ?B/s]"
      ]
     },
     "metadata": {},
     "output_type": "display_data"
    },
    {
     "data": {
      "application/vnd.jupyter.widget-view+json": {
       "model_id": "8eaa21f2c1014e1e920e493d68033bfa",
       "version_major": 2,
       "version_minor": 0
      },
      "text/plain": [
       "model-00007-of-00012.safetensors:   0%|          | 0.00/4.95G [00:00<?, ?B/s]"
      ]
     },
     "metadata": {},
     "output_type": "display_data"
    },
    {
     "data": {
      "application/vnd.jupyter.widget-view+json": {
       "model_id": "058d453c76d047ec9417fd78e34fc0d0",
       "version_major": 2,
       "version_minor": 0
      },
      "text/plain": [
       "model-00010-of-00012.safetensors:   0%|          | 0.00/4.95G [00:00<?, ?B/s]"
      ]
     },
     "metadata": {},
     "output_type": "display_data"
    },
    {
     "data": {
      "application/vnd.jupyter.widget-view+json": {
       "model_id": "7eded75ae2be403fa18ad647d960dd34",
       "version_major": 2,
       "version_minor": 0
      },
      "text/plain": [
       "model-00009-of-00012.safetensors:   0%|          | 0.00/4.95G [00:00<?, ?B/s]"
      ]
     },
     "metadata": {},
     "output_type": "display_data"
    },
    {
     "data": {
      "application/vnd.jupyter.widget-view+json": {
       "model_id": "92002bc8d5834d4285aa4abc1f1ca6f4",
       "version_major": 2,
       "version_minor": 0
      },
      "text/plain": [
       "model-00011-of-00012.safetensors:   0%|          | 0.00/4.95G [00:00<?, ?B/s]"
      ]
     },
     "metadata": {},
     "output_type": "display_data"
    },
    {
     "data": {
      "application/vnd.jupyter.widget-view+json": {
       "model_id": "92808a3704e449fd9c402ed6a3306511",
       "version_major": 2,
       "version_minor": 0
      },
      "text/plain": [
       "model-00003-of-00012.safetensors:   0%|          | 0.00/4.95G [00:00<?, ?B/s]"
      ]
     },
     "metadata": {},
     "output_type": "display_data"
    },
    {
     "data": {
      "application/vnd.jupyter.widget-view+json": {
       "model_id": "9a6ac1aedd6c464390547cf320909c30",
       "version_major": 2,
       "version_minor": 0
      },
      "text/plain": [
       "model-00008-of-00012.safetensors:   0%|          | 0.00/4.95G [00:00<?, ?B/s]"
      ]
     },
     "metadata": {},
     "output_type": "display_data"
    },
    {
     "data": {
      "application/vnd.jupyter.widget-view+json": {
       "model_id": "154e35391d18460c9fd3f672910cc4d5",
       "version_major": 2,
       "version_minor": 0
      },
      "text/plain": [
       "model-00004-of-00012.safetensors:   0%|          | 0.00/4.95G [00:00<?, ?B/s]"
      ]
     },
     "metadata": {},
     "output_type": "display_data"
    },
    {
     "data": {
      "application/vnd.jupyter.widget-view+json": {
       "model_id": "57f55a5455ae48e1a5f0c46f18787c4c",
       "version_major": 2,
       "version_minor": 0
      },
      "text/plain": [
       "Loading checkpoint shards:   0%|          | 0/12 [00:00<?, ?it/s]"
      ]
     },
     "metadata": {},
     "output_type": "display_data"
    },
    {
     "data": {
      "application/vnd.jupyter.widget-view+json": {
       "model_id": "622b25f36c064df6b2312140f629c228",
       "version_major": 2,
       "version_minor": 0
      },
      "text/plain": [
       "generation_config.json:   0%|          | 0.00/215 [00:00<?, ?B/s]"
      ]
     },
     "metadata": {},
     "output_type": "display_data"
    },
    {
     "name": "stdout",
     "output_type": "stream",
     "text": [
      "Loaded google/gemma-3-27b-it model and tokenizer\n"
     ]
    },
    {
     "data": {
      "application/vnd.jupyter.widget-view+json": {
       "model_id": "a0aa46a511cd4c3a8fba4eab685ee829",
       "version_major": 2,
       "version_minor": 0
      },
      "text/plain": [
       "Datasets1:   0%|          | 0/5 [00:00<?, ?it/s]"
      ]
     },
     "metadata": {},
     "output_type": "display_data"
    },
    {
     "data": {
      "application/vnd.jupyter.widget-view+json": {
       "model_id": "7338c5c809ff407b9d31d9bbd89834c1",
       "version_major": 2,
       "version_minor": 0
      },
      "text/plain": [
       "Train sizes:   0%|          | 0/8 [00:00<?, ?it/s]"
      ]
     },
     "metadata": {},
     "output_type": "display_data"
    },
    {
     "name": "stdout",
     "output_type": "stream",
     "text": [
      "Soft prompt models/soft_prompts/google/gemma-3-27b-it/minecraft/10 exists, skipping training\n",
      "Output file generated/train_size_ablation/google/gemma-3-27b-it/minecraft/10.json already exists with posts, skipping generation\n",
      "Soft prompt models/soft_prompts/google/gemma-3-27b-it/minecraft/20 exists, skipping training\n",
      "Output file generated/train_size_ablation/google/gemma-3-27b-it/minecraft/20.json already exists with posts, skipping generation\n",
      "Soft prompt models/soft_prompts/google/gemma-3-27b-it/minecraft/50 exists, skipping training\n",
      "Output file generated/train_size_ablation/google/gemma-3-27b-it/minecraft/50.json already exists with posts, skipping generation\n",
      "Soft prompt models/soft_prompts/google/gemma-3-27b-it/minecraft/100 exists, skipping training\n",
      "Output file generated/train_size_ablation/google/gemma-3-27b-it/minecraft/100.json already exists with posts, skipping generation\n",
      "Soft prompt models/soft_prompts/google/gemma-3-27b-it/minecraft/250 exists, skipping training\n",
      "Output file generated/train_size_ablation/google/gemma-3-27b-it/minecraft/250.json already exists with posts, skipping generation\n",
      "Soft prompt models/soft_prompts/google/gemma-3-27b-it/minecraft/500 exists, skipping training\n",
      "Output file generated/train_size_ablation/google/gemma-3-27b-it/minecraft/500.json already exists with posts, skipping generation\n",
      "Soft prompt models/soft_prompts/google/gemma-3-27b-it/minecraft/1000 exists, skipping training\n",
      "Output file generated/train_size_ablation/google/gemma-3-27b-it/minecraft/1000.json already exists with posts, skipping generation\n",
      "Soft prompt models/soft_prompts/google/gemma-3-27b-it/minecraft/2000 exists, skipping training\n",
      "Output file generated/train_size_ablation/google/gemma-3-27b-it/minecraft/2000.json already exists with posts, skipping generation\n"
     ]
    },
    {
     "data": {
      "application/vnd.jupyter.widget-view+json": {
       "model_id": "5c7b41064c4e4e8e9074948f734dabde",
       "version_major": 2,
       "version_minor": 0
      },
      "text/plain": [
       "Train sizes:   0%|          | 0/8 [00:00<?, ?it/s]"
      ]
     },
     "metadata": {},
     "output_type": "display_data"
    },
    {
     "name": "stdout",
     "output_type": "stream",
     "text": [
      "Soft prompt models/soft_prompts/google/gemma-3-27b-it/ucla/10 exists, skipping training\n",
      "Output file generated/train_size_ablation/google/gemma-3-27b-it/ucla/10.json already exists with posts, skipping generation\n",
      "Soft prompt models/soft_prompts/google/gemma-3-27b-it/ucla/20 exists, skipping training\n",
      "Output file generated/train_size_ablation/google/gemma-3-27b-it/ucla/20.json already exists with posts, skipping generation\n",
      "Soft prompt models/soft_prompts/google/gemma-3-27b-it/ucla/50 exists, skipping training\n",
      "Output file generated/train_size_ablation/google/gemma-3-27b-it/ucla/50.json already exists with posts, skipping generation\n",
      "Soft prompt models/soft_prompts/google/gemma-3-27b-it/ucla/100 exists, skipping training\n",
      "Output file generated/train_size_ablation/google/gemma-3-27b-it/ucla/100.json already exists with posts, skipping generation\n",
      "Soft prompt models/soft_prompts/google/gemma-3-27b-it/ucla/250 exists, skipping training\n",
      "Output file generated/train_size_ablation/google/gemma-3-27b-it/ucla/250.json already exists with posts, skipping generation\n",
      "Soft prompt models/soft_prompts/google/gemma-3-27b-it/ucla/500 exists, skipping training\n",
      "Output file generated/train_size_ablation/google/gemma-3-27b-it/ucla/500.json already exists with posts, skipping generation\n",
      "Soft prompt models/soft_prompts/google/gemma-3-27b-it/ucla/1000 exists, skipping training\n",
      "Output file generated/train_size_ablation/google/gemma-3-27b-it/ucla/1000.json already exists with posts, skipping generation\n",
      "Soft prompt models/soft_prompts/google/gemma-3-27b-it/ucla/2000 exists, skipping training\n",
      "Output file generated/train_size_ablation/google/gemma-3-27b-it/ucla/2000.json already exists with posts, skipping generation\n"
     ]
    },
    {
     "data": {
      "application/vnd.jupyter.widget-view+json": {
       "model_id": "b648c0ab4f374a139d5ee1f7360a393d",
       "version_major": 2,
       "version_minor": 0
      },
      "text/plain": [
       "Train sizes:   0%|          | 0/8 [00:00<?, ?it/s]"
      ]
     },
     "metadata": {},
     "output_type": "display_data"
    },
    {
     "name": "stdout",
     "output_type": "stream",
     "text": [
      "Soft prompt models/soft_prompts/google/gemma-3-27b-it/nostupidquestions/10 exists, skipping training\n",
      "Output file generated/train_size_ablation/google/gemma-3-27b-it/nostupidquestions/10.json already exists with posts, skipping generation\n",
      "Soft prompt models/soft_prompts/google/gemma-3-27b-it/nostupidquestions/20 exists, skipping training\n",
      "Output file generated/train_size_ablation/google/gemma-3-27b-it/nostupidquestions/20.json already exists with posts, skipping generation\n",
      "Soft prompt models/soft_prompts/google/gemma-3-27b-it/nostupidquestions/50 exists, skipping training\n",
      "Output file generated/train_size_ablation/google/gemma-3-27b-it/nostupidquestions/50.json already exists with posts, skipping generation\n",
      "Soft prompt models/soft_prompts/google/gemma-3-27b-it/nostupidquestions/100 exists, skipping training\n",
      "Output file generated/train_size_ablation/google/gemma-3-27b-it/nostupidquestions/100.json already exists with posts, skipping generation\n",
      "Soft prompt models/soft_prompts/google/gemma-3-27b-it/nostupidquestions/250 exists, skipping training\n",
      "Output file generated/train_size_ablation/google/gemma-3-27b-it/nostupidquestions/250.json already exists with posts, skipping generation\n",
      "Soft prompt models/soft_prompts/google/gemma-3-27b-it/nostupidquestions/500 exists, skipping training\n",
      "Output file generated/train_size_ablation/google/gemma-3-27b-it/nostupidquestions/500.json already exists with posts, skipping generation\n",
      "Soft prompt models/soft_prompts/google/gemma-3-27b-it/nostupidquestions/1000 exists, skipping training\n",
      "Output file generated/train_size_ablation/google/gemma-3-27b-it/nostupidquestions/1000.json already exists with posts, skipping generation\n",
      "Soft prompt models/soft_prompts/google/gemma-3-27b-it/nostupidquestions/2000 exists, skipping training\n",
      "Output file generated/train_size_ablation/google/gemma-3-27b-it/nostupidquestions/2000.json already exists with posts, skipping generation\n"
     ]
    },
    {
     "data": {
      "application/vnd.jupyter.widget-view+json": {
       "model_id": "a9fcf5b280974b15935ea9b624bf36a4",
       "version_major": 2,
       "version_minor": 0
      },
      "text/plain": [
       "Train sizes:   0%|          | 0/8 [00:00<?, ?it/s]"
      ]
     },
     "metadata": {},
     "output_type": "display_data"
    },
    {
     "name": "stdout",
     "output_type": "stream",
     "text": [
      "Soft prompt models/soft_prompts/google/gemma-3-27b-it/copypasta/10 exists, skipping training\n",
      "Output file generated/train_size_ablation/google/gemma-3-27b-it/copypasta/10.json already exists with posts, skipping generation\n",
      "Soft prompt models/soft_prompts/google/gemma-3-27b-it/copypasta/20 exists, skipping training\n",
      "Output file generated/train_size_ablation/google/gemma-3-27b-it/copypasta/20.json already exists with posts, skipping generation\n",
      "Soft prompt models/soft_prompts/google/gemma-3-27b-it/copypasta/50 exists, skipping training\n"
     ]
    },
    {
     "data": {
      "application/vnd.jupyter.widget-view+json": {
       "model_id": "4efd06699e8d41289a7f71e7f91d38df",
       "version_major": 2,
       "version_minor": 0
      },
      "text/plain": [
       "Generating posts:   0%|          | 0/100 [00:00<?, ?it/s]"
      ]
     },
     "metadata": {},
     "output_type": "display_data"
    },
    {
     "name": "stderr",
     "output_type": "stream",
     "text": [
      "/usr/local/lib/python3.11/dist-packages/peft/peft_model.py:2066: UserWarning: Position ids are not supported for parameter efficient tuning. Ignoring position ids.\n",
      "  warnings.warn(\"Position ids are not supported for parameter efficient tuning. Ignoring position ids.\")\n"
     ]
    },
    {
     "name": "stdout",
     "output_type": "stream",
     "text": [
      "Loading 100 posts from copypasta dataset (100.0%)\n",
      "Found 2000 valid posts in copypasta\n",
      "Loaded dataset {'copypasta': 1} with 100 posts\n"
     ]
    },
    {
     "data": {
      "application/vnd.jupyter.widget-view+json": {
       "model_id": "f9f2ae20094d48e0a588053b6e0ae445",
       "version_major": 2,
       "version_minor": 0
      },
      "text/plain": [
       "Map:   0%|          | 0/100 [00:00<?, ? examples/s]"
      ]
     },
     "metadata": {},
     "output_type": "display_data"
    },
    {
     "name": "stdout",
     "output_type": "stream",
     "text": [
      "Preprocessed dataset...\n",
      "Training on device: cuda:0\n",
      "step 0 loss 2.8692\n",
      "step 10 loss 3.8739\n",
      "step 20 loss 2.5918\n",
      "step 30 loss 4.5100\n",
      "step 40 loss 2.6087\n",
      "step 50 loss 2.8515\n",
      "step 60 loss 2.4806\n",
      "step 70 loss 3.5275\n",
      "step 80 loss 1.1778\n",
      "step 90 loss 1.8285\n",
      "step 100 loss 2.3040\n",
      "step 110 loss 2.1249\n",
      "step 120 loss 2.2960\n",
      "step 130 loss 1.9229\n",
      "step 140 loss 2.6640\n",
      "step 150 loss 2.0900\n",
      "step 160 loss 1.6821\n",
      "step 170 loss 1.9286\n",
      "step 180 loss 2.4345\n",
      "step 190 loss 3.3174\n",
      "step 200 loss 2.2873\n",
      "step 210 loss 2.4278\n",
      "step 220 loss 2.1152\n",
      "step 230 loss 2.1543\n",
      "step 240 loss 1.8466\n",
      "step 250 loss 2.2514\n",
      "step 260 loss 2.1462\n",
      "step 270 loss 2.6600\n",
      "step 280 loss 2.2969\n",
      "step 290 loss 1.9283\n",
      "step 300 loss 2.9675\n",
      "step 310 loss 3.5966\n",
      "step 320 loss 2.7966\n",
      "step 330 loss 3.4463\n",
      "step 340 loss 2.5314\n",
      "step 350 loss 2.7612\n",
      "step 360 loss 3.5738\n",
      "step 370 loss 2.1458\n",
      "step 380 loss 3.2276\n",
      "step 390 loss 3.0773\n",
      "step 400 loss 1.8279\n",
      "step 410 loss 3.0690\n",
      "step 420 loss 2.5152\n",
      "step 430 loss 3.2561\n",
      "step 440 loss 2.5656\n",
      "step 450 loss 2.7558\n",
      "step 460 loss 1.8321\n",
      "step 470 loss 2.3639\n",
      "step 480 loss 2.1670\n",
      "step 490 loss 2.7789\n",
      "step 500 loss 2.8001\n",
      "step 510 loss 4.2210\n",
      "step 520 loss 2.0702\n",
      "step 530 loss 2.8440\n",
      "step 540 loss 2.1933\n",
      "step 550 loss 2.1881\n",
      "step 560 loss 2.6957\n",
      "step 570 loss 1.6008\n",
      "step 580 loss 2.6485\n",
      "step 590 loss 2.0325\n",
      "step 600 loss 3.2256\n",
      "step 610 loss 2.5316\n",
      "step 620 loss 1.9329\n",
      "step 630 loss 2.4193\n",
      "step 640 loss 2.3638\n",
      "step 650 loss 2.8309\n",
      "step 660 loss 2.8210\n",
      "step 670 loss 3.6423\n",
      "step 680 loss 2.2173\n",
      "step 690 loss 2.1846\n",
      "step 700 loss 3.5927\n",
      "step 710 loss 3.5132\n",
      "step 720 loss 1.8356\n",
      "step 730 loss 3.4944\n",
      "step 740 loss 2.6066\n",
      "step 750 loss 2.3504\n",
      "step 760 loss 2.7625\n",
      "step 770 loss 3.9612\n",
      "step 780 loss 2.7106\n",
      "step 790 loss 3.1682\n",
      "step 800 loss 2.1398\n",
      "step 810 loss 2.1830\n",
      "step 820 loss 2.5161\n",
      "step 830 loss 3.1670\n",
      "step 840 loss 2.5133\n",
      "step 850 loss 3.2073\n",
      "step 860 loss 2.8300\n",
      "step 870 loss 1.2764\n",
      "step 880 loss 2.3959\n",
      "step 890 loss 3.3239\n",
      "step 900 loss 4.2132\n",
      "step 910 loss 3.4858\n",
      "step 920 loss 2.3284\n",
      "step 930 loss 1.9933\n",
      "step 940 loss 1.7769\n",
      "step 950 loss 2.3612\n",
      "step 960 loss 2.4803\n",
      "step 970 loss 2.4157\n",
      "step 980 loss 2.4583\n",
      "step 990 loss 2.0921\n",
      "Saved prompt adapter to: models/soft_prompts/google/gemma-3-27b-it/copypasta/100\n"
     ]
    },
    {
     "data": {
      "application/vnd.jupyter.widget-view+json": {
       "model_id": "e549cfc259ae4988aa7f1c8c70bece43",
       "version_major": 2,
       "version_minor": 0
      },
      "text/plain": [
       "Generating posts:   0%|          | 0/100 [00:00<?, ?it/s]"
      ]
     },
     "metadata": {},
     "output_type": "display_data"
    },
    {
     "name": "stdout",
     "output_type": "stream",
     "text": [
      "Loading 250 posts from copypasta dataset (100.0%)\n",
      "Found 2000 valid posts in copypasta\n",
      "Loaded dataset {'copypasta': 1} with 250 posts\n"
     ]
    },
    {
     "data": {
      "application/vnd.jupyter.widget-view+json": {
       "model_id": "c4f7bab43c3248aea7013c31df45e2ed",
       "version_major": 2,
       "version_minor": 0
      },
      "text/plain": [
       "Map:   0%|          | 0/250 [00:00<?, ? examples/s]"
      ]
     },
     "metadata": {},
     "output_type": "display_data"
    },
    {
     "name": "stdout",
     "output_type": "stream",
     "text": [
      "Preprocessed dataset...\n",
      "Training on device: cuda:0\n",
      "step 0 loss 4.3785\n",
      "step 10 loss 3.9100\n",
      "step 20 loss 3.0483\n",
      "step 30 loss 4.8559\n",
      "step 40 loss 4.1198\n",
      "step 50 loss 3.7511\n",
      "step 60 loss 3.6082\n",
      "step 70 loss 3.4013\n",
      "step 80 loss 1.2714\n",
      "step 90 loss 1.9395\n",
      "step 100 loss 3.2633\n",
      "step 110 loss 2.4752\n",
      "step 120 loss 2.7609\n",
      "step 130 loss 2.6595\n",
      "step 140 loss 2.6953\n",
      "step 150 loss 2.2515\n",
      "step 160 loss 2.8054\n",
      "step 170 loss 1.4429\n",
      "step 180 loss 2.8976\n",
      "step 190 loss 2.8433\n",
      "step 200 loss 3.0676\n",
      "step 210 loss 2.4351\n",
      "step 220 loss 1.1348\n",
      "step 230 loss 3.4817\n",
      "step 240 loss 2.1309\n",
      "step 250 loss 3.1397\n",
      "step 260 loss 2.2371\n",
      "step 270 loss 2.6413\n",
      "step 280 loss 2.5554\n",
      "step 290 loss 3.3061\n",
      "step 300 loss 2.8137\n",
      "step 310 loss 3.6984\n",
      "step 320 loss 2.4052\n",
      "step 330 loss 2.8415\n",
      "step 340 loss 2.3893\n",
      "step 350 loss 2.7402\n",
      "step 360 loss 2.1701\n",
      "step 370 loss 3.5067\n",
      "step 380 loss 2.4280\n",
      "step 390 loss 2.8981\n",
      "step 400 loss 2.3584\n",
      "step 410 loss 2.4458\n",
      "step 420 loss 3.1196\n",
      "step 430 loss 2.4903\n",
      "step 440 loss 2.8293\n",
      "step 450 loss 3.8600\n",
      "step 460 loss 2.6675\n",
      "step 470 loss 2.7465\n",
      "step 480 loss 2.8519\n",
      "step 490 loss 3.1807\n",
      "step 500 loss 3.2993\n",
      "step 510 loss 2.4356\n",
      "step 520 loss 3.0354\n",
      "step 530 loss 2.5310\n",
      "step 540 loss 3.5593\n",
      "step 550 loss 2.5819\n",
      "step 560 loss 2.3682\n",
      "step 570 loss 3.0279\n",
      "step 580 loss 1.3823\n",
      "step 590 loss 3.6382\n",
      "step 600 loss 2.1864\n",
      "step 610 loss 1.1886\n",
      "step 620 loss 2.3950\n",
      "step 630 loss 2.5330\n",
      "step 640 loss 2.4634\n",
      "step 650 loss 2.4694\n",
      "step 660 loss 3.3897\n",
      "step 670 loss 2.3828\n",
      "step 680 loss 1.8530\n",
      "step 690 loss 1.8656\n",
      "step 700 loss 2.1495\n",
      "step 710 loss 1.9623\n",
      "step 720 loss 3.4075\n",
      "step 730 loss 1.4361\n",
      "step 740 loss 2.0512\n",
      "step 750 loss 2.4660\n",
      "step 760 loss 2.6708\n",
      "step 770 loss 2.0619\n",
      "step 780 loss 2.3486\n",
      "step 790 loss 2.6510\n",
      "step 800 loss 0.6274\n",
      "step 810 loss 2.8401\n",
      "step 820 loss 2.1335\n",
      "step 830 loss 2.3811\n",
      "step 840 loss 2.9243\n",
      "step 850 loss 2.2863\n",
      "step 860 loss 2.8996\n",
      "step 870 loss 2.0139\n",
      "step 880 loss 2.5807\n",
      "step 890 loss 1.3786\n",
      "step 900 loss 1.4528\n",
      "step 910 loss 0.0492\n",
      "step 920 loss 1.3844\n",
      "step 930 loss 3.2828\n",
      "step 940 loss 2.3524\n",
      "step 950 loss 2.1354\n",
      "step 960 loss 2.7559\n",
      "step 970 loss 2.0137\n",
      "step 980 loss 2.9588\n",
      "step 990 loss 2.3929\n",
      "Saved prompt adapter to: models/soft_prompts/google/gemma-3-27b-it/copypasta/250\n"
     ]
    },
    {
     "data": {
      "application/vnd.jupyter.widget-view+json": {
       "model_id": "5fbb6eff670c4dbe8e14232de715d4c9",
       "version_major": 2,
       "version_minor": 0
      },
      "text/plain": [
       "Generating posts:   0%|          | 0/100 [00:00<?, ?it/s]"
      ]
     },
     "metadata": {},
     "output_type": "display_data"
    },
    {
     "name": "stdout",
     "output_type": "stream",
     "text": [
      "Loading 500 posts from copypasta dataset (100.0%)\n",
      "Found 2000 valid posts in copypasta\n",
      "Loaded dataset {'copypasta': 1} with 500 posts\n"
     ]
    },
    {
     "data": {
      "application/vnd.jupyter.widget-view+json": {
       "model_id": "d241e8de363747efa738cecc105fd90b",
       "version_major": 2,
       "version_minor": 0
      },
      "text/plain": [
       "Map:   0%|          | 0/500 [00:00<?, ? examples/s]"
      ]
     },
     "metadata": {},
     "output_type": "display_data"
    },
    {
     "name": "stdout",
     "output_type": "stream",
     "text": [
      "Preprocessed dataset...\n",
      "Training on device: cuda:0\n",
      "step 0 loss 5.0171\n",
      "step 10 loss 4.4713\n",
      "step 20 loss 3.5051\n",
      "step 30 loss 3.9609\n",
      "step 40 loss 3.7152\n",
      "step 50 loss 3.5598\n",
      "step 60 loss 3.0595\n",
      "step 70 loss 2.9516\n",
      "step 80 loss 2.6150\n",
      "step 90 loss 3.9459\n",
      "step 100 loss 2.9930\n",
      "step 110 loss 4.3754\n",
      "step 120 loss 1.9702\n",
      "step 130 loss 2.2845\n",
      "step 140 loss 2.7689\n",
      "step 150 loss 2.2452\n",
      "step 160 loss 3.4520\n",
      "step 170 loss 1.2091\n",
      "step 180 loss 3.3403\n",
      "step 190 loss 2.9380\n",
      "step 200 loss 4.6604\n",
      "step 210 loss 2.8594\n",
      "step 220 loss 1.8196\n",
      "step 230 loss 2.6580\n",
      "step 240 loss 2.9175\n",
      "step 250 loss 2.2632\n",
      "step 260 loss 2.2711\n",
      "step 270 loss 2.7542\n",
      "step 280 loss 2.8482\n",
      "step 290 loss 2.6750\n",
      "step 300 loss 2.4201\n",
      "step 310 loss 2.3206\n",
      "step 320 loss 3.3114\n",
      "step 330 loss 0.0354\n",
      "step 340 loss 2.8380\n",
      "step 350 loss 0.0631\n",
      "step 360 loss 2.9221\n",
      "step 370 loss 0.0423\n",
      "step 380 loss 2.9389\n",
      "step 390 loss 2.4154\n",
      "step 400 loss 2.4554\n",
      "step 410 loss 5.3351\n",
      "step 420 loss 2.6930\n",
      "step 430 loss 4.2152\n",
      "step 440 loss 2.6162\n",
      "step 450 loss 2.0390\n",
      "step 460 loss 2.6830\n",
      "step 470 loss 2.4233\n",
      "step 480 loss 2.5593\n",
      "step 490 loss 2.6903\n",
      "step 500 loss 2.4548\n",
      "step 510 loss 2.6190\n",
      "step 520 loss 1.1467\n",
      "step 530 loss 2.8936\n",
      "step 540 loss 2.8461\n",
      "step 550 loss 2.3717\n",
      "step 560 loss 2.7101\n",
      "step 570 loss 3.2909\n",
      "step 580 loss 2.9036\n",
      "step 590 loss 3.2596\n",
      "step 600 loss 0.9741\n",
      "step 610 loss 2.8258\n",
      "step 620 loss 0.6265\n",
      "step 630 loss 2.0407\n",
      "step 640 loss 3.2981\n",
      "step 650 loss 3.1097\n",
      "step 660 loss 3.0307\n",
      "step 670 loss 2.1086\n",
      "step 680 loss 4.0937\n",
      "step 690 loss 3.8974\n",
      "step 700 loss 2.7921\n",
      "step 710 loss 2.0528\n",
      "step 720 loss 5.1406\n",
      "step 730 loss 3.4950\n",
      "step 740 loss 2.5000\n",
      "step 750 loss 2.6364\n",
      "step 760 loss 2.7671\n",
      "step 770 loss 2.8384\n",
      "step 780 loss 2.2061\n",
      "step 790 loss 2.6580\n",
      "step 800 loss 1.1801\n",
      "step 810 loss 2.2745\n",
      "step 820 loss 2.1862\n",
      "step 830 loss 1.8691\n",
      "step 840 loss 3.2400\n",
      "step 850 loss 3.1628\n",
      "step 860 loss 2.7709\n",
      "step 870 loss 2.4920\n",
      "step 880 loss 1.9458\n",
      "step 890 loss 2.3577\n",
      "step 900 loss 2.7063\n",
      "step 910 loss 1.3229\n",
      "step 920 loss 2.8123\n",
      "step 930 loss 2.6619\n",
      "step 940 loss 2.3710\n",
      "step 950 loss 2.3774\n",
      "step 960 loss 3.1454\n",
      "step 970 loss 3.2473\n",
      "step 980 loss 1.0991\n",
      "step 990 loss 2.5993\n",
      "Saved prompt adapter to: models/soft_prompts/google/gemma-3-27b-it/copypasta/500\n"
     ]
    },
    {
     "data": {
      "application/vnd.jupyter.widget-view+json": {
       "model_id": "6e7cd3378d2a4adf888bec4486ae7a88",
       "version_major": 2,
       "version_minor": 0
      },
      "text/plain": [
       "Generating posts:   0%|          | 0/100 [00:00<?, ?it/s]"
      ]
     },
     "metadata": {},
     "output_type": "display_data"
    },
    {
     "name": "stdout",
     "output_type": "stream",
     "text": [
      "Loading 1000 posts from copypasta dataset (100.0%)\n",
      "Found 2000 valid posts in copypasta\n",
      "Loaded dataset {'copypasta': 1} with 1000 posts\n"
     ]
    },
    {
     "data": {
      "application/vnd.jupyter.widget-view+json": {
       "model_id": "10648a184a8c446587887fbcb2d263a6",
       "version_major": 2,
       "version_minor": 0
      },
      "text/plain": [
       "Map:   0%|          | 0/1000 [00:00<?, ? examples/s]"
      ]
     },
     "metadata": {},
     "output_type": "display_data"
    },
    {
     "name": "stdout",
     "output_type": "stream",
     "text": [
      "Preprocessed dataset...\n",
      "Training on device: cuda:0\n",
      "step 0 loss 5.6265\n",
      "step 10 loss 6.7395\n",
      "step 20 loss 6.3673\n",
      "step 30 loss 2.9435\n",
      "step 40 loss 3.1359\n",
      "step 50 loss 4.0399\n",
      "step 60 loss 2.8082\n",
      "step 70 loss 4.0511\n",
      "step 80 loss 2.6946\n",
      "step 90 loss 2.5595\n",
      "step 100 loss 2.0734\n",
      "step 110 loss 2.3855\n",
      "step 120 loss 2.7043\n",
      "step 130 loss 3.4677\n",
      "step 140 loss 0.8714\n",
      "step 150 loss 2.6976\n",
      "step 160 loss 3.0786\n",
      "step 170 loss 2.7782\n",
      "step 180 loss 1.4065\n",
      "step 190 loss 2.9877\n",
      "step 200 loss 2.8371\n",
      "step 210 loss 3.0301\n",
      "step 220 loss 3.0764\n",
      "step 230 loss 2.4225\n",
      "step 240 loss 2.9338\n",
      "step 250 loss 2.6792\n",
      "step 260 loss 0.0811\n",
      "step 270 loss 2.1248\n",
      "step 280 loss 2.7967\n",
      "step 290 loss 2.5201\n",
      "step 300 loss 2.5465\n",
      "step 310 loss 2.6447\n",
      "step 320 loss 2.9475\n",
      "step 330 loss 3.0647\n",
      "step 340 loss 2.8474\n",
      "step 350 loss 3.1227\n",
      "step 360 loss 2.2742\n",
      "step 370 loss 2.3147\n",
      "step 380 loss 2.7013\n",
      "step 390 loss 3.2129\n",
      "step 400 loss 2.5243\n",
      "step 410 loss 2.0886\n",
      "step 420 loss 3.3639\n",
      "step 430 loss 3.2874\n",
      "step 440 loss 3.0487\n",
      "step 450 loss 2.4299\n",
      "step 460 loss 2.6799\n",
      "step 470 loss 2.8965\n",
      "step 480 loss 2.9861\n",
      "step 490 loss 3.5237\n",
      "step 500 loss 1.9493\n",
      "step 510 loss 2.3241\n",
      "step 520 loss 2.7657\n",
      "step 530 loss 3.4561\n",
      "step 540 loss 0.0357\n",
      "step 550 loss 2.7219\n",
      "step 560 loss 2.6409\n",
      "step 570 loss 2.2997\n",
      "step 580 loss 2.6342\n",
      "step 590 loss 2.8925\n",
      "step 600 loss 3.5714\n",
      "step 610 loss 3.2183\n",
      "step 620 loss 4.4295\n",
      "step 630 loss 0.7541\n",
      "step 640 loss 2.4293\n",
      "step 650 loss 3.4252\n",
      "step 660 loss 1.2991\n",
      "step 670 loss 2.3351\n",
      "step 680 loss 2.4867\n",
      "step 690 loss 2.4042\n",
      "step 700 loss 0.1922\n",
      "step 710 loss 2.4070\n",
      "step 720 loss 2.5749\n",
      "step 730 loss 3.3711\n",
      "step 740 loss 2.4523\n",
      "step 750 loss 2.1349\n",
      "step 760 loss 2.2941\n",
      "step 770 loss 1.5663\n",
      "step 780 loss 1.6307\n",
      "step 790 loss 2.2358\n",
      "step 800 loss 2.8599\n",
      "step 810 loss 2.4802\n",
      "step 820 loss 1.5645\n",
      "step 830 loss 2.6141\n",
      "step 840 loss 2.6169\n",
      "step 850 loss 3.1743\n",
      "step 860 loss 2.1370\n",
      "step 870 loss 2.5075\n",
      "step 880 loss 2.3315\n",
      "step 890 loss 2.7235\n",
      "step 900 loss 2.5425\n",
      "step 910 loss 2.3738\n",
      "step 920 loss 1.9301\n",
      "step 930 loss 2.3268\n",
      "step 940 loss 3.5760\n",
      "step 950 loss 3.5531\n",
      "step 960 loss 3.3389\n",
      "step 970 loss 1.8517\n",
      "step 980 loss 3.1370\n",
      "step 990 loss 2.9232\n",
      "Saved prompt adapter to: models/soft_prompts/google/gemma-3-27b-it/copypasta/1000\n"
     ]
    },
    {
     "data": {
      "application/vnd.jupyter.widget-view+json": {
       "model_id": "d30f8dafb9ec4fa3b54f82e0ad8a737c",
       "version_major": 2,
       "version_minor": 0
      },
      "text/plain": [
       "Generating posts:   0%|          | 0/100 [00:00<?, ?it/s]"
      ]
     },
     "metadata": {},
     "output_type": "display_data"
    },
    {
     "name": "stdout",
     "output_type": "stream",
     "text": [
      "Loading 2000 posts from copypasta dataset (100.0%)\n",
      "Found 2000 valid posts in copypasta\n",
      "Loaded dataset {'copypasta': 1} with 2000 posts\n"
     ]
    },
    {
     "data": {
      "application/vnd.jupyter.widget-view+json": {
       "model_id": "5b1d7d22fd7040e2b87e61729615f884",
       "version_major": 2,
       "version_minor": 0
      },
      "text/plain": [
       "Map:   0%|          | 0/2000 [00:00<?, ? examples/s]"
      ]
     },
     "metadata": {},
     "output_type": "display_data"
    },
    {
     "name": "stdout",
     "output_type": "stream",
     "text": [
      "Preprocessed dataset...\n",
      "Training on device: cuda:0\n",
      "step 0 loss 2.6366\n",
      "step 10 loss 4.0716\n",
      "step 20 loss 3.8318\n",
      "step 30 loss 3.8590\n",
      "step 40 loss 3.3496\n",
      "step 50 loss 3.2902\n",
      "step 60 loss 3.0387\n",
      "step 70 loss 1.3983\n",
      "step 80 loss 3.3628\n",
      "step 90 loss 0.5590\n",
      "step 100 loss 2.1676\n",
      "step 110 loss 0.8914\n",
      "step 120 loss 3.0736\n",
      "step 130 loss 3.5634\n",
      "step 140 loss 2.7887\n",
      "step 150 loss 2.9018\n",
      "step 160 loss 2.1363\n",
      "step 170 loss 2.3809\n",
      "step 180 loss 3.0033\n",
      "step 190 loss 3.9860\n",
      "step 200 loss 3.0551\n",
      "step 210 loss 2.4647\n",
      "step 220 loss 2.5598\n",
      "step 230 loss 2.5431\n",
      "step 240 loss 2.3781\n",
      "step 250 loss 2.6612\n",
      "step 260 loss 0.6630\n",
      "step 270 loss 0.6471\n",
      "step 280 loss 0.4744\n",
      "step 290 loss 3.6313\n",
      "step 300 loss 2.4037\n",
      "step 310 loss 2.4431\n",
      "step 320 loss 1.8245\n",
      "step 330 loss 1.3020\n",
      "step 340 loss 3.4472\n",
      "step 350 loss 0.9248\n",
      "step 360 loss 2.2571\n",
      "step 370 loss 3.1867\n",
      "step 380 loss 2.7155\n",
      "step 390 loss 3.5771\n",
      "step 400 loss 3.5824\n",
      "step 410 loss 2.4719\n",
      "step 420 loss 2.6036\n",
      "step 430 loss 2.5169\n",
      "step 440 loss 2.6868\n",
      "step 450 loss 2.5511\n",
      "step 460 loss 3.1393\n",
      "step 470 loss 2.9773\n",
      "step 480 loss 2.5569\n",
      "step 490 loss 3.1752\n",
      "step 500 loss 2.7803\n",
      "step 510 loss 1.8937\n",
      "step 520 loss 2.4658\n",
      "step 530 loss 3.1737\n",
      "step 540 loss 2.7711\n",
      "step 550 loss 2.5236\n",
      "step 560 loss 3.1454\n",
      "step 570 loss 2.3615\n",
      "step 580 loss 2.5165\n",
      "step 590 loss 0.3353\n",
      "step 600 loss 2.4068\n",
      "step 610 loss 2.7052\n",
      "step 620 loss 1.9749\n",
      "step 630 loss 1.2217\n",
      "step 640 loss 3.4387\n",
      "step 650 loss 2.6379\n",
      "step 660 loss 1.8514\n",
      "step 670 loss 2.0861\n",
      "step 680 loss 2.7908\n",
      "step 690 loss 3.0989\n",
      "step 700 loss 2.2851\n",
      "step 710 loss 3.2513\n",
      "step 720 loss 2.1045\n",
      "step 730 loss 3.3121\n",
      "step 740 loss 2.7487\n",
      "step 750 loss 2.3975\n",
      "step 760 loss 3.1910\n",
      "step 770 loss 4.3683\n",
      "step 780 loss 0.9486\n",
      "step 790 loss 3.0242\n",
      "step 800 loss 2.0693\n",
      "step 810 loss 2.1776\n",
      "step 820 loss 2.6467\n",
      "step 830 loss 2.4863\n",
      "step 840 loss 2.7776\n",
      "step 850 loss 2.2650\n",
      "step 860 loss 2.9801\n",
      "step 870 loss 2.7007\n",
      "step 880 loss 2.9233\n",
      "step 890 loss 2.8097\n",
      "step 900 loss 3.1526\n",
      "step 910 loss 2.5736\n",
      "step 920 loss 2.0335\n",
      "step 930 loss 3.0797\n",
      "step 940 loss 2.2693\n",
      "step 950 loss 2.1106\n",
      "step 960 loss 2.5692\n",
      "step 970 loss 2.5281\n",
      "step 980 loss 2.3420\n",
      "step 990 loss 2.3178\n",
      "Saved prompt adapter to: models/soft_prompts/google/gemma-3-27b-it/copypasta/2000\n"
     ]
    },
    {
     "data": {
      "application/vnd.jupyter.widget-view+json": {
       "model_id": "0ee505afe6154d7aaf5075cc0eb1ef9f",
       "version_major": 2,
       "version_minor": 0
      },
      "text/plain": [
       "Generating posts:   0%|          | 0/100 [00:00<?, ?it/s]"
      ]
     },
     "metadata": {},
     "output_type": "display_data"
    },
    {
     "data": {
      "application/vnd.jupyter.widget-view+json": {
       "model_id": "8514eb3801d8477ca5c366eb8c0483a6",
       "version_major": 2,
       "version_minor": 0
      },
      "text/plain": [
       "Train sizes:   0%|          | 0/8 [00:00<?, ?it/s]"
      ]
     },
     "metadata": {},
     "output_type": "display_data"
    },
    {
     "name": "stdout",
     "output_type": "stream",
     "text": [
      "Loading 1 posts from nerdy dataset (7.1%)\n",
      "Found 271 valid posts in nerdy\n",
      "Loading 1 posts from personal dataset (7.1%)\n",
      "Found 251 valid posts in personal\n",
      "Loading 1 posts from amitheasshole dataset (7.1%)\n",
      "Found 2000 valid posts in amitheasshole\n",
      "Loading 1 posts from tech dataset (7.1%)\n",
      "Found 150 valid posts in tech\n",
      "Loading 1 posts from pop dataset (7.1%)\n",
      "Found 47 valid posts in pop\n",
      "Loading 1 posts from animals dataset (7.1%)\n",
      "Found 43 valid posts in animals\n",
      "Loading 1 posts from boomerhumor dataset (7.1%)\n",
      "Found 23 valid posts in boomerhumor\n",
      "Loading 1 posts from copypasta dataset (7.1%)\n",
      "Found 2000 valid posts in copypasta\n",
      "Loading 1 posts from creative dataset (7.1%)\n",
      "Found 28 valid posts in creative\n",
      "Loading 1 posts from food dataset (7.1%)\n",
      "Found 10 valid posts in food\n",
      "Loading 1 posts from nba dataset (7.1%)\n",
      "Found 500 valid posts in nba\n",
      "Loading 1 posts from religion dataset (7.1%)\n",
      "Found 28 valid posts in religion\n",
      "Loading 1 posts from school dataset (7.1%)\n",
      "Found 130 valid posts in school\n",
      "Loading 1 posts from ucla dataset (7.1%)\n",
      "Found 1516 valid posts in ucla\n",
      "Loaded dataset {'nerdy': 1, 'personal': 1, 'amitheasshole': 1, 'tech': 1, 'pop': 1, 'animals': 1, 'boomerhumor': 1, 'copypasta': 1, 'creative': 1, 'food': 1, 'nba': 1, 'religion': 1, 'school': 1, 'ucla': 1} with 10 posts\n"
     ]
    },
    {
     "data": {
      "application/vnd.jupyter.widget-view+json": {
       "model_id": "d9e56b869a424ac6bfd02cdbc757a2e9",
       "version_major": 2,
       "version_minor": 0
      },
      "text/plain": [
       "Map:   0%|          | 0/14 [00:00<?, ? examples/s]"
      ]
     },
     "metadata": {},
     "output_type": "display_data"
    },
    {
     "name": "stdout",
     "output_type": "stream",
     "text": [
      "Preprocessed dataset...\n",
      "Training on device: cuda:0\n",
      "step 0 loss 5.2632\n",
      "step 10 loss 5.1591\n",
      "step 20 loss 3.2885\n"
     ]
    },
    {
     "ename": "KeyboardInterrupt",
     "evalue": "",
     "output_type": "error",
     "traceback": [
      "\u001b[31m---------------------------------------------------------------------------\u001b[39m",
      "\u001b[31mKeyboardInterrupt\u001b[39m                         Traceback (most recent call last)",
      "\u001b[36mCell\u001b[39m\u001b[36m \u001b[39m\u001b[32mIn[18]\u001b[39m\u001b[32m, line 22\u001b[39m\n\u001b[32m     19\u001b[39m     train_ds = preprocess_dataset(examples, tokenizer)\n\u001b[32m     21\u001b[39m     peft_model = init_peft_model(model, model_name)\n\u001b[32m---> \u001b[39m\u001b[32m22\u001b[39m     \u001b[43mtrain_soft_prompt\u001b[49m\u001b[43m(\u001b[49m\u001b[43mpeft_model\u001b[49m\u001b[43m,\u001b[49m\u001b[43m \u001b[49m\u001b[43mtokenizer\u001b[49m\u001b[43m,\u001b[49m\u001b[43m \u001b[49m\u001b[43mtrain_ds\u001b[49m\u001b[43m,\u001b[49m\u001b[43m \u001b[49m\u001b[43mNUM_TRAIN_STEPS\u001b[49m\u001b[43m,\u001b[49m\u001b[43m \u001b[49m\u001b[43msoft_output_dir\u001b[49m\u001b[43m)\u001b[49m\n\u001b[32m     23\u001b[39m \u001b[38;5;28;01melse\u001b[39;00m:\n\u001b[32m     24\u001b[39m     \u001b[38;5;28mprint\u001b[39m(\u001b[33mf\u001b[39m\u001b[33m\"\u001b[39m\u001b[33mSoft prompt \u001b[39m\u001b[38;5;132;01m{\u001b[39;00msoft_output_dir\u001b[38;5;132;01m}\u001b[39;00m\u001b[33m exists, skipping training\u001b[39m\u001b[33m\"\u001b[39m)\n",
      "\u001b[36mCell\u001b[39m\u001b[36m \u001b[39m\u001b[32mIn[6]\u001b[39m\u001b[32m, line 69\u001b[39m, in \u001b[36mtrain_soft_prompt\u001b[39m\u001b[34m(model, tokenizer, train_ds, train_steps, output_dir)\u001b[39m\n\u001b[32m     67\u001b[39m outputs = model(**batch)\n\u001b[32m     68\u001b[39m loss = outputs.loss\n\u001b[32m---> \u001b[39m\u001b[32m69\u001b[39m \u001b[43m(\u001b[49m\u001b[43mloss\u001b[49m\u001b[43m \u001b[49m\u001b[43m/\u001b[49m\u001b[43m \u001b[49m\u001b[43mGRAD_ACCUM_STEPS\u001b[49m\u001b[43m)\u001b[49m\u001b[43m.\u001b[49m\u001b[43mbackward\u001b[49m\u001b[43m(\u001b[49m\u001b[43m)\u001b[49m\n\u001b[32m     70\u001b[39m running_loss += loss.item()\n\u001b[32m     71\u001b[39m accumulated += \u001b[32m1\u001b[39m\n",
      "\u001b[36mFile \u001b[39m\u001b[32m/usr/local/lib/python3.11/dist-packages/torch/_tensor.py:648\u001b[39m, in \u001b[36mTensor.backward\u001b[39m\u001b[34m(self, gradient, retain_graph, create_graph, inputs)\u001b[39m\n\u001b[32m    638\u001b[39m \u001b[38;5;28;01mif\u001b[39;00m has_torch_function_unary(\u001b[38;5;28mself\u001b[39m):\n\u001b[32m    639\u001b[39m     \u001b[38;5;28;01mreturn\u001b[39;00m handle_torch_function(\n\u001b[32m    640\u001b[39m         Tensor.backward,\n\u001b[32m    641\u001b[39m         (\u001b[38;5;28mself\u001b[39m,),\n\u001b[32m   (...)\u001b[39m\u001b[32m    646\u001b[39m         inputs=inputs,\n\u001b[32m    647\u001b[39m     )\n\u001b[32m--> \u001b[39m\u001b[32m648\u001b[39m \u001b[43mtorch\u001b[49m\u001b[43m.\u001b[49m\u001b[43mautograd\u001b[49m\u001b[43m.\u001b[49m\u001b[43mbackward\u001b[49m\u001b[43m(\u001b[49m\n\u001b[32m    649\u001b[39m \u001b[43m    \u001b[49m\u001b[38;5;28;43mself\u001b[39;49m\u001b[43m,\u001b[49m\u001b[43m \u001b[49m\u001b[43mgradient\u001b[49m\u001b[43m,\u001b[49m\u001b[43m \u001b[49m\u001b[43mretain_graph\u001b[49m\u001b[43m,\u001b[49m\u001b[43m \u001b[49m\u001b[43mcreate_graph\u001b[49m\u001b[43m,\u001b[49m\u001b[43m \u001b[49m\u001b[43minputs\u001b[49m\u001b[43m=\u001b[49m\u001b[43minputs\u001b[49m\n\u001b[32m    650\u001b[39m \u001b[43m\u001b[49m\u001b[43m)\u001b[49m\n",
      "\u001b[36mFile \u001b[39m\u001b[32m/usr/local/lib/python3.11/dist-packages/torch/autograd/__init__.py:353\u001b[39m, in \u001b[36mbackward\u001b[39m\u001b[34m(tensors, grad_tensors, retain_graph, create_graph, grad_variables, inputs)\u001b[39m\n\u001b[32m    348\u001b[39m     retain_graph = create_graph\n\u001b[32m    350\u001b[39m \u001b[38;5;66;03m# The reason we repeat the same comment below is that\u001b[39;00m\n\u001b[32m    351\u001b[39m \u001b[38;5;66;03m# some Python versions print out the first line of a multi-line function\u001b[39;00m\n\u001b[32m    352\u001b[39m \u001b[38;5;66;03m# calls in the traceback and some print out the last line\u001b[39;00m\n\u001b[32m--> \u001b[39m\u001b[32m353\u001b[39m \u001b[43m_engine_run_backward\u001b[49m\u001b[43m(\u001b[49m\n\u001b[32m    354\u001b[39m \u001b[43m    \u001b[49m\u001b[43mtensors\u001b[49m\u001b[43m,\u001b[49m\n\u001b[32m    355\u001b[39m \u001b[43m    \u001b[49m\u001b[43mgrad_tensors_\u001b[49m\u001b[43m,\u001b[49m\n\u001b[32m    356\u001b[39m \u001b[43m    \u001b[49m\u001b[43mretain_graph\u001b[49m\u001b[43m,\u001b[49m\n\u001b[32m    357\u001b[39m \u001b[43m    \u001b[49m\u001b[43mcreate_graph\u001b[49m\u001b[43m,\u001b[49m\n\u001b[32m    358\u001b[39m \u001b[43m    \u001b[49m\u001b[43minputs\u001b[49m\u001b[43m,\u001b[49m\n\u001b[32m    359\u001b[39m \u001b[43m    \u001b[49m\u001b[43mallow_unreachable\u001b[49m\u001b[43m=\u001b[49m\u001b[38;5;28;43;01mTrue\u001b[39;49;00m\u001b[43m,\u001b[49m\n\u001b[32m    360\u001b[39m \u001b[43m    \u001b[49m\u001b[43maccumulate_grad\u001b[49m\u001b[43m=\u001b[49m\u001b[38;5;28;43;01mTrue\u001b[39;49;00m\u001b[43m,\u001b[49m\n\u001b[32m    361\u001b[39m \u001b[43m\u001b[49m\u001b[43m)\u001b[49m\n",
      "\u001b[36mFile \u001b[39m\u001b[32m/usr/local/lib/python3.11/dist-packages/torch/autograd/graph.py:824\u001b[39m, in \u001b[36m_engine_run_backward\u001b[39m\u001b[34m(t_outputs, *args, **kwargs)\u001b[39m\n\u001b[32m    822\u001b[39m     unregister_hooks = _register_logging_hooks_on_whole_graph(t_outputs)\n\u001b[32m    823\u001b[39m \u001b[38;5;28;01mtry\u001b[39;00m:\n\u001b[32m--> \u001b[39m\u001b[32m824\u001b[39m     \u001b[38;5;28;01mreturn\u001b[39;00m \u001b[43mVariable\u001b[49m\u001b[43m.\u001b[49m\u001b[43m_execution_engine\u001b[49m\u001b[43m.\u001b[49m\u001b[43mrun_backward\u001b[49m\u001b[43m(\u001b[49m\u001b[43m  \u001b[49m\u001b[38;5;66;43;03m# Calls into the C++ engine to run the backward pass\u001b[39;49;00m\n\u001b[32m    825\u001b[39m \u001b[43m        \u001b[49m\u001b[43mt_outputs\u001b[49m\u001b[43m,\u001b[49m\u001b[43m \u001b[49m\u001b[43m*\u001b[49m\u001b[43margs\u001b[49m\u001b[43m,\u001b[49m\u001b[43m \u001b[49m\u001b[43m*\u001b[49m\u001b[43m*\u001b[49m\u001b[43mkwargs\u001b[49m\n\u001b[32m    826\u001b[39m \u001b[43m    \u001b[49m\u001b[43m)\u001b[49m  \u001b[38;5;66;03m# Calls into the C++ engine to run the backward pass\u001b[39;00m\n\u001b[32m    827\u001b[39m \u001b[38;5;28;01mfinally\u001b[39;00m:\n\u001b[32m    828\u001b[39m     \u001b[38;5;28;01mif\u001b[39;00m attach_logging_hooks:\n",
      "\u001b[31mKeyboardInterrupt\u001b[39m: "
     ]
    }
   ],
   "source": [
    "from tqdm.auto import tqdm\n",
    "\n",
    "login()\n",
    "\n",
    "# training size ablation\n",
    "for model_name in tqdm(MODELS, desc=\"Models\"):\n",
    "    if model_name == \"gpt-5\":\n",
    "        continue\n",
    "\n",
    "    model, tokenizer = load_model(model_name)\n",
    "\n",
    "    for dataset_name, dataset_dict in tqdm(zip(DATASET1_NAMES, DATASETS1), total=len(DATASETS1), desc=\"Datasets1\"):\n",
    "        for train_size in tqdm(TRAIN_SIZES, desc=\"Train sizes\"):\n",
    "            soft_output_dir = f\"{MODEL_OUTPUT_DIR}/soft_prompts/{model_name}/{dataset_name}/{train_size}\"\n",
    "            \n",
    "            # check if soft prompt exists\n",
    "            if not os.path.exists(soft_output_dir):\n",
    "                examples = load_datasets_proportional(dataset_dict, train_size, PROMPTS[\"soft prompt\"])\n",
    "                train_ds = preprocess_dataset(examples, tokenizer)\n",
    "                \n",
    "                peft_model = init_peft_model(model, model_name)\n",
    "                train_soft_prompt(peft_model, tokenizer, train_ds, NUM_TRAIN_STEPS, soft_output_dir)\n",
    "            else:\n",
    "                print(f\"Soft prompt {soft_output_dir} exists, skipping training\")\n",
    "\n",
    "            # apply soft prompt to model\n",
    "            peft_model = apply_peft_adapter(model, soft_output_dir)\n",
    "            \n",
    "            # generate posts\n",
    "            out_path = f\"{GENERATED_OUTPUT_DIR}/train_size_ablation/{model_name}/{dataset_name}/{train_size}.json\"\n",
    "            \n",
    "            # Check if output file already exists and has posts\n",
    "            out_path_obj = Path(out_path)\n",
    "            out_path_obj.parent.mkdir(parents=True, exist_ok=True)\n",
    "            \n",
    "            if out_path_obj.exists():\n",
    "                try:\n",
    "                    with open(out_path_obj, 'r') as f:\n",
    "                        existing_posts = json.load(f)\n",
    "                    if existing_posts:  # Skip if file has posts\n",
    "                        print(f\"Output file {out_path} already exists with posts, skipping generation\")\n",
    "                        continue\n",
    "                except (json.JSONDecodeError, Exception):\n",
    "                    print(f\"Could not read existing file {out_path}, regenerating\")\n",
    "            \n",
    "            posts = collect_posts(100, PROMPTS[\"soft prompt\"], peft_model, tokenizer)\n",
    "            write_posts_json(out_path_obj, posts)\n",
    "    \n",
    "    # unload model\n",
    "    del model\n",
    "    del tokenizer\n",
    "    torch.cuda.empty_cache()\n"
   ]
  },
  {
   "cell_type": "code",
   "execution_count": null,
   "id": "76ac63a7",
   "metadata": {},
   "outputs": [],
   "source": [
    "from tqdm.auto import tqdm\n",
    "\n",
    "login()\n",
    "\n",
    "# experiment ablation\n",
    "for model_name in tqdm(MODELS, desc=\"Models\"):\n",
    "    if model_name == \"gpt-5\":\n",
    "        continue\n",
    "    model, tokenizer = load_model(model_name)\n",
    "    for dataset_name, dataset_dict in tqdm(zip(DATASET2_NAMES, DATASETS2), total=len(DATASETS2), desc=\"Datasets2\"):\n",
    "        for experiment in tqdm(EXPERIMENTS, desc=\"Experiments\"):\n",
    "            prompt = PROMPTS[experiment]\n",
    "            examples = load_datasets_proportional(dataset_dict, 100, prompt)\n",
    "            train_ds = preprocess_dataset(examples, tokenizer)\n",
    "\n",
    "            if experiment == \"soft prompt\":\n",
    "                soft_output_dir = f\"{MODEL_OUTPUT_DIR}/soft_prompts/soft_prompt_{model_name}_{dataset_name}_exp\"\n",
    "                \n",
    "                # check if soft prompt exists\n",
    "                if not os.path.exists(soft_output_dir):\n",
    "                    peft_model = init_peft_model(model, model_name)\n",
    "                    train_soft_prompt(peft_model, tokenizer, train_ds, NUM_TRAIN_STEPS, soft_output_dir)\n",
    "                else:\n",
    "                    print(f\"Soft prompt {soft_output_dir} exists, skipping training\")\n",
    "                model = apply_peft_adapter(model, soft_output_dir)\n",
    "            elif experiment == \"fine tune\":\n",
    "                break  # skip fine tuning\n",
    "            elif experiment == \"summary\":\n",
    "                prompt = PROMPTS[1]\n",
    "            elif experiment == \"like history\":\n",
    "                prompt = PROMPTS[2]\n",
    "            elif experiment == \"self defined\":\n",
    "                prompt = PROMPTS[3]\n",
    "\n",
    "            out_path = f\"{GENERATED_OUTPUT_DIR}/experiment_ablation/{model_name}_{dataset_name}_{experiment}.json\"\n",
    "            with open(out_path, \"w\") as f:\n",
    "                for _ in tqdm(range(100), desc=f\"Generate {dataset_name} {experiment}\"):\n",
    "                    post = generate_post(prompt, model, tokenizer)\n",
    "                    f.write(post + \"\\n\")\n",
    "                    \n",
    "    # unload model\n",
    "    del model\n",
    "    del tokenizer\n",
    "    torch.cuda.empty_cache()\n"
   ]
  },
  {
   "cell_type": "code",
   "execution_count": null,
   "id": "aecc4b43",
   "metadata": {},
   "outputs": [],
   "source": [
    "from tqdm.auto import tqdm\n",
    "\n",
    "# judging \n",
    "for model_name in tqdm(MODELS, desc=\"Models\"):\n",
    "    for dataset in tqdm(DATASETS1, desc=\"Datasets1\"):\n",
    "        for train_size in tqdm(TRAIN_SIZES, desc=\"Train sizes\"):\n",
    "            with open(f\"{GENERATED_OUTPUT_DIR}/train_size_ablation/{model_name}_{dataset}_{train_size}.json\", \"r\") as f:\n",
    "                lines = f.readlines()\n",
    "                for i in tqdm(range(0, len(lines), 3), desc=\"Posts\"):\n",
    "                    post_lines = lines[i:i+3]\n",
    "                    post = ''.join(line.strip() for line in post_lines)\n",
    "                    if post:\n",
    "                        gpt_judgement = judge_post_gpt5(post, dataset)\n",
    "                        heuristic_judgement = judge_post_heuristic(post, dataset)\n",
    "                        print(post)\n",
    "                        break\n"
   ]
  },
  {
   "cell_type": "code",
   "execution_count": null,
   "id": "d0ae4c5f",
   "metadata": {},
   "outputs": [],
   "source": [
    "from tqdm.auto import tqdm\n",
    "\n",
    "# judging \n",
    "for model_name in tqdm(MODELS, desc=\"Models\"):   \n",
    "    for dataset in tqdm(DATASETS2, desc=\"Datasets2\"):\n",
    "        for experiment in tqdm(EXPERIMENTS, desc=\"Experiments\"):\n",
    "            with open(f\"{GENERATED_OUTPUT_DIR}/experiment_ablation/{model_name}_{dataset}_{experiment}.json\", \"r\") as f:\n",
    "                lines = f.readlines()\n",
    "                for i in tqdm(range(0, len(lines), 3), desc=\"Posts\"):\n",
    "                    post_lines = lines[i:i+3]\n",
    "                    post = ''.join(line.strip() for line in post_lines)\n",
    "                    if post:\n",
    "                        gpt_judgement = judge_post_gpt5(post, dataset)\n",
    "                        heuristic_judgement = judge_post_heuristic(post, dataset)\n",
    "                        print(post)\n",
    "                        break\n"
   ]
  }
 ],
 "metadata": {
  "kernelspec": {
   "display_name": "Python 3",
   "language": "python",
   "name": "python3"
  },
  "language_info": {
   "codemirror_mode": {
    "name": "ipython",
    "version": 3
   },
   "file_extension": ".py",
   "mimetype": "text/x-python",
   "name": "python",
   "nbconvert_exporter": "python",
   "pygments_lexer": "ipython3",
   "version": "3.11.11"
  }
 },
 "nbformat": 4,
 "nbformat_minor": 5
}
